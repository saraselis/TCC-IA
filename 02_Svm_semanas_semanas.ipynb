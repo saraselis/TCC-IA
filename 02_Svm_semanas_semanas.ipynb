{
 "cells": [
  {
   "cell_type": "markdown",
   "metadata": {
    "id": "En7Do4r0UuR4"
   },
   "source": [
    "# <b style='color:magenta;'> SVM </b>\n",
    "\n",
    "* Este Jupyter tem como função treinar um `SVM` com os melhores parametros determinados por um `RandomSearch`.\n",
    "\n",
    "-> Dataset completo com voluntários femininos, sem outliers e sem a coluna de semanas e com pca."
   ]
  },
  {
   "cell_type": "markdown",
   "metadata": {
    "id": "h9MVyldFUuR7"
   },
   "source": [
    "---"
   ]
  },
  {
   "cell_type": "markdown",
   "metadata": {
    "id": "lcm1HTIzUuR9"
   },
   "source": [
    "Bibliotecas/Módulos"
   ]
  },
  {
   "cell_type": "code",
   "execution_count": 20,
   "metadata": {
    "id": "Wgg9-hcLUuR9",
    "outputId": "ec18af42-de41-42ef-c0ca-1b043b0d67b3"
   },
   "outputs": [],
   "source": [
    "import logging\n",
    "import matplotlib.pyplot as plt\n",
    "import numpy as np\n",
    "import pandas as pd\n",
    "import pickle as pkl\n",
    "import seaborn as sns\n",
    "import sys\n",
    "\n",
    "from sklearn.decomposition import PCA\n",
    "from sklearn.metrics import roc_auc_score, confusion_matrix, average_precision_score, accuracy_score, matthews_corrcoef, classification_report, f1_score\n",
    "from sklearn.model_selection import RandomizedSearchCV, train_test_split\n",
    "from sklearn.svm import SVC\n",
    "from sklearn.multiclass import OneVsRestClassifier"
   ]
  },
  {
   "cell_type": "markdown",
   "metadata": {
    "id": "VqbL0mvFUuR-"
   },
   "source": [
    "Configurações dos logs"
   ]
  },
  {
   "cell_type": "code",
   "execution_count": 21,
   "metadata": {
    "id": "-w3VfmYoUuR-"
   },
   "outputs": [],
   "source": [
    "logger = logging.getLogger(\"SVM\")\n",
    "logger.setLevel(logging.DEBUG)\n",
    "handler = logging.StreamHandler(sys.stderr)\n",
    "formatter = logging.Formatter('%(name)s - %(levelname)s - [+] ------- %(message)s -------') \n",
    "handler.setFormatter(formatter)\n",
    "logger.handlers = [handler]"
   ]
  },
  {
   "cell_type": "markdown",
   "metadata": {
    "id": "iCy3-VQxUuR-"
   },
   "source": [
    "Cores"
   ]
  },
  {
   "cell_type": "code",
   "execution_count": 22,
   "metadata": {
    "id": "pUPlBMrfUuR_"
   },
   "outputs": [],
   "source": [
    "RED = \"\\033[1;31m\"\n",
    "BLUE = \"\\033[1;34m\"\n",
    "GREEN = \"\\033[1;32m\"\n",
    "PINK = \"\\033[1;45m\"\n",
    "HEADER = '\\033[95m'\n",
    "OKBLUE = '\\033[94m'\n",
    "OKCYAN = '\\033[96m'\n",
    "OKGREEN = '\\033[92m'\n",
    "WARNING = '\\033[93m'\n",
    "FAIL = '\\033[91m'\n",
    "ENDC = '\\033[0m'\n",
    "BOLD = '\\033[1m'\n",
    "UNDERLINE = '\\033[4m'\n",
    "MAG = \"\\033[1;45m\""
   ]
  },
  {
   "cell_type": "markdown",
   "metadata": {
    "id": "d1CCfOv8UuR_"
   },
   "source": [
    "---"
   ]
  },
  {
   "cell_type": "markdown",
   "metadata": {},
   "source": [
    "## Preparando os dados"
   ]
  },
  {
   "cell_type": "code",
   "execution_count": 23,
   "metadata": {},
   "outputs": [],
   "source": [
    "df = pd.read_csv(\"dados_FEM_10_voluntarios_c_semanas_15_sinais_noout.csv\")"
   ]
  },
  {
   "cell_type": "code",
   "execution_count": 24,
   "metadata": {},
   "outputs": [
    {
     "data": {
      "text/html": [
       "<div>\n",
       "<style scoped>\n",
       "    .dataframe tbody tr th:only-of-type {\n",
       "        vertical-align: middle;\n",
       "    }\n",
       "\n",
       "    .dataframe tbody tr th {\n",
       "        vertical-align: top;\n",
       "    }\n",
       "\n",
       "    .dataframe thead th {\n",
       "        text-align: right;\n",
       "    }\n",
       "</style>\n",
       "<table border=\"1\" class=\"dataframe\">\n",
       "  <thead>\n",
       "    <tr style=\"text-align: right;\">\n",
       "      <th></th>\n",
       "      <th>0</th>\n",
       "      <th>1</th>\n",
       "      <th>2</th>\n",
       "      <th>3</th>\n",
       "      <th>4</th>\n",
       "      <th>5</th>\n",
       "      <th>6</th>\n",
       "      <th>7</th>\n",
       "      <th>8</th>\n",
       "      <th>9</th>\n",
       "      <th>...</th>\n",
       "      <th>1992</th>\n",
       "      <th>1993</th>\n",
       "      <th>1994</th>\n",
       "      <th>1995</th>\n",
       "      <th>1996</th>\n",
       "      <th>1997</th>\n",
       "      <th>1998</th>\n",
       "      <th>1999</th>\n",
       "      <th>label</th>\n",
       "      <th>semana</th>\n",
       "    </tr>\n",
       "  </thead>\n",
       "  <tbody>\n",
       "    <tr>\n",
       "      <th>6877</th>\n",
       "      <td>3</td>\n",
       "      <td>-3</td>\n",
       "      <td>1</td>\n",
       "      <td>-8</td>\n",
       "      <td>7</td>\n",
       "      <td>-3</td>\n",
       "      <td>8</td>\n",
       "      <td>9</td>\n",
       "      <td>-1</td>\n",
       "      <td>-6</td>\n",
       "      <td>...</td>\n",
       "      <td>15</td>\n",
       "      <td>2</td>\n",
       "      <td>-24</td>\n",
       "      <td>1</td>\n",
       "      <td>26</td>\n",
       "      <td>9</td>\n",
       "      <td>-20</td>\n",
       "      <td>31</td>\n",
       "      <td>0</td>\n",
       "      <td>4</td>\n",
       "    </tr>\n",
       "  </tbody>\n",
       "</table>\n",
       "<p>1 rows × 2002 columns</p>\n",
       "</div>"
      ],
      "text/plain": [
       "      0  1  2  3  4  5  6  7  8  9  ...  1992  1993  1994  1995  1996  1997  \\\n",
       "6877  3 -3  1 -8  7 -3  8  9 -1 -6  ...    15     2   -24     1    26     9   \n",
       "\n",
       "      1998  1999  label  semana  \n",
       "6877   -20    31      0       4  \n",
       "\n",
       "[1 rows x 2002 columns]"
      ]
     },
     "execution_count": 24,
     "metadata": {},
     "output_type": "execute_result"
    }
   ],
   "source": [
    "df.sample()"
   ]
  },
  {
   "cell_type": "markdown",
   "metadata": {},
   "source": [
    "* Seleção da variável target e das features"
   ]
  },
  {
   "cell_type": "code",
   "execution_count": 25,
   "metadata": {},
   "outputs": [],
   "source": [
    "y = df[\"semana\"]"
   ]
  },
  {
   "cell_type": "code",
   "execution_count": 26,
   "metadata": {},
   "outputs": [],
   "source": [
    "df = df.drop([\"semana\"], axis=1)"
   ]
  },
  {
   "cell_type": "markdown",
   "metadata": {},
   "source": [
    "#### PCA\n",
    "Aplicando o PCA para reduzir a dimensão dos dados."
   ]
  },
  {
   "cell_type": "code",
   "execution_count": 27,
   "metadata": {},
   "outputs": [],
   "source": [
    "pca = PCA(n_components=1000)"
   ]
  },
  {
   "cell_type": "code",
   "execution_count": 28,
   "metadata": {},
   "outputs": [
    {
     "data": {
      "text/html": [
       "<style>#sk-container-id-2 {color: black;background-color: white;}#sk-container-id-2 pre{padding: 0;}#sk-container-id-2 div.sk-toggleable {background-color: white;}#sk-container-id-2 label.sk-toggleable__label {cursor: pointer;display: block;width: 100%;margin-bottom: 0;padding: 0.3em;box-sizing: border-box;text-align: center;}#sk-container-id-2 label.sk-toggleable__label-arrow:before {content: \"▸\";float: left;margin-right: 0.25em;color: #696969;}#sk-container-id-2 label.sk-toggleable__label-arrow:hover:before {color: black;}#sk-container-id-2 div.sk-estimator:hover label.sk-toggleable__label-arrow:before {color: black;}#sk-container-id-2 div.sk-toggleable__content {max-height: 0;max-width: 0;overflow: hidden;text-align: left;background-color: #f0f8ff;}#sk-container-id-2 div.sk-toggleable__content pre {margin: 0.2em;color: black;border-radius: 0.25em;background-color: #f0f8ff;}#sk-container-id-2 input.sk-toggleable__control:checked~div.sk-toggleable__content {max-height: 200px;max-width: 100%;overflow: auto;}#sk-container-id-2 input.sk-toggleable__control:checked~label.sk-toggleable__label-arrow:before {content: \"▾\";}#sk-container-id-2 div.sk-estimator input.sk-toggleable__control:checked~label.sk-toggleable__label {background-color: #d4ebff;}#sk-container-id-2 div.sk-label input.sk-toggleable__control:checked~label.sk-toggleable__label {background-color: #d4ebff;}#sk-container-id-2 input.sk-hidden--visually {border: 0;clip: rect(1px 1px 1px 1px);clip: rect(1px, 1px, 1px, 1px);height: 1px;margin: -1px;overflow: hidden;padding: 0;position: absolute;width: 1px;}#sk-container-id-2 div.sk-estimator {font-family: monospace;background-color: #f0f8ff;border: 1px dotted black;border-radius: 0.25em;box-sizing: border-box;margin-bottom: 0.5em;}#sk-container-id-2 div.sk-estimator:hover {background-color: #d4ebff;}#sk-container-id-2 div.sk-parallel-item::after {content: \"\";width: 100%;border-bottom: 1px solid gray;flex-grow: 1;}#sk-container-id-2 div.sk-label:hover label.sk-toggleable__label {background-color: #d4ebff;}#sk-container-id-2 div.sk-serial::before {content: \"\";position: absolute;border-left: 1px solid gray;box-sizing: border-box;top: 0;bottom: 0;left: 50%;z-index: 0;}#sk-container-id-2 div.sk-serial {display: flex;flex-direction: column;align-items: center;background-color: white;padding-right: 0.2em;padding-left: 0.2em;position: relative;}#sk-container-id-2 div.sk-item {position: relative;z-index: 1;}#sk-container-id-2 div.sk-parallel {display: flex;align-items: stretch;justify-content: center;background-color: white;position: relative;}#sk-container-id-2 div.sk-item::before, #sk-container-id-2 div.sk-parallel-item::before {content: \"\";position: absolute;border-left: 1px solid gray;box-sizing: border-box;top: 0;bottom: 0;left: 50%;z-index: -1;}#sk-container-id-2 div.sk-parallel-item {display: flex;flex-direction: column;z-index: 1;position: relative;background-color: white;}#sk-container-id-2 div.sk-parallel-item:first-child::after {align-self: flex-end;width: 50%;}#sk-container-id-2 div.sk-parallel-item:last-child::after {align-self: flex-start;width: 50%;}#sk-container-id-2 div.sk-parallel-item:only-child::after {width: 0;}#sk-container-id-2 div.sk-dashed-wrapped {border: 1px dashed gray;margin: 0 0.4em 0.5em 0.4em;box-sizing: border-box;padding-bottom: 0.4em;background-color: white;}#sk-container-id-2 div.sk-label label {font-family: monospace;font-weight: bold;display: inline-block;line-height: 1.2em;}#sk-container-id-2 div.sk-label-container {text-align: center;}#sk-container-id-2 div.sk-container {/* jupyter's `normalize.less` sets `[hidden] { display: none; }` but bootstrap.min.css set `[hidden] { display: none !important; }` so we also need the `!important` here to be able to override the default hidden behavior on the sphinx rendered scikit-learn.org. See: https://github.com/scikit-learn/scikit-learn/issues/21755 */display: inline-block !important;position: relative;}#sk-container-id-2 div.sk-text-repr-fallback {display: none;}</style><div id=\"sk-container-id-2\" class=\"sk-top-container\"><div class=\"sk-text-repr-fallback\"><pre>PCA(n_components=1000)</pre><b>In a Jupyter environment, please rerun this cell to show the HTML representation or trust the notebook. <br />On GitHub, the HTML representation is unable to render, please try loading this page with nbviewer.org.</b></div><div class=\"sk-container\" hidden><div class=\"sk-item\"><div class=\"sk-estimator sk-toggleable\"><input class=\"sk-toggleable__control sk-hidden--visually\" id=\"sk-estimator-id-2\" type=\"checkbox\" checked><label for=\"sk-estimator-id-2\" class=\"sk-toggleable__label sk-toggleable__label-arrow\">PCA</label><div class=\"sk-toggleable__content\"><pre>PCA(n_components=1000)</pre></div></div></div></div></div>"
      ],
      "text/plain": [
       "PCA(n_components=1000)"
      ]
     },
     "execution_count": 28,
     "metadata": {},
     "output_type": "execute_result"
    }
   ],
   "source": [
    "pca.fit(df)"
   ]
  },
  {
   "cell_type": "code",
   "execution_count": 29,
   "metadata": {},
   "outputs": [
    {
     "name": "stdout",
     "output_type": "stream",
     "text": [
      "CPU times: user 13.9 s, sys: 0 ns, total: 13.9 s\n",
      "Wall time: 1.09 s\n"
     ]
    }
   ],
   "source": [
    "%%time\n",
    "\n",
    "pca_samples = pca.transform(df)"
   ]
  },
  {
   "cell_type": "code",
   "execution_count": 30,
   "metadata": {},
   "outputs": [
    {
     "data": {
      "text/html": [
       "<div>\n",
       "<style scoped>\n",
       "    .dataframe tbody tr th:only-of-type {\n",
       "        vertical-align: middle;\n",
       "    }\n",
       "\n",
       "    .dataframe tbody tr th {\n",
       "        vertical-align: top;\n",
       "    }\n",
       "\n",
       "    .dataframe thead th {\n",
       "        text-align: right;\n",
       "    }\n",
       "</style>\n",
       "<table border=\"1\" class=\"dataframe\">\n",
       "  <thead>\n",
       "    <tr style=\"text-align: right;\">\n",
       "      <th></th>\n",
       "      <th>0</th>\n",
       "      <th>1</th>\n",
       "      <th>2</th>\n",
       "      <th>3</th>\n",
       "      <th>4</th>\n",
       "      <th>5</th>\n",
       "      <th>6</th>\n",
       "      <th>7</th>\n",
       "      <th>8</th>\n",
       "      <th>9</th>\n",
       "      <th>...</th>\n",
       "      <th>990</th>\n",
       "      <th>991</th>\n",
       "      <th>992</th>\n",
       "      <th>993</th>\n",
       "      <th>994</th>\n",
       "      <th>995</th>\n",
       "      <th>996</th>\n",
       "      <th>997</th>\n",
       "      <th>998</th>\n",
       "      <th>999</th>\n",
       "    </tr>\n",
       "  </thead>\n",
       "  <tbody>\n",
       "    <tr>\n",
       "      <th>0</th>\n",
       "      <td>-31.426972</td>\n",
       "      <td>19.593266</td>\n",
       "      <td>66.149497</td>\n",
       "      <td>5.087693</td>\n",
       "      <td>-145.755438</td>\n",
       "      <td>-60.110903</td>\n",
       "      <td>-95.581629</td>\n",
       "      <td>8.489667</td>\n",
       "      <td>-73.231320</td>\n",
       "      <td>-43.579136</td>\n",
       "      <td>...</td>\n",
       "      <td>5.468757</td>\n",
       "      <td>-2.663963</td>\n",
       "      <td>-9.810332</td>\n",
       "      <td>1.662197</td>\n",
       "      <td>11.827076</td>\n",
       "      <td>9.822600</td>\n",
       "      <td>-9.668590</td>\n",
       "      <td>3.400646</td>\n",
       "      <td>5.212768</td>\n",
       "      <td>-24.916429</td>\n",
       "    </tr>\n",
       "    <tr>\n",
       "      <th>1</th>\n",
       "      <td>-67.161373</td>\n",
       "      <td>33.442037</td>\n",
       "      <td>43.310118</td>\n",
       "      <td>-14.236839</td>\n",
       "      <td>-144.593542</td>\n",
       "      <td>-12.403398</td>\n",
       "      <td>-98.242895</td>\n",
       "      <td>-2.547335</td>\n",
       "      <td>-69.538878</td>\n",
       "      <td>-37.210569</td>\n",
       "      <td>...</td>\n",
       "      <td>-8.333013</td>\n",
       "      <td>-9.078448</td>\n",
       "      <td>-8.621835</td>\n",
       "      <td>-13.381592</td>\n",
       "      <td>23.525468</td>\n",
       "      <td>-2.658485</td>\n",
       "      <td>1.435818</td>\n",
       "      <td>13.156601</td>\n",
       "      <td>-3.517392</td>\n",
       "      <td>-29.927835</td>\n",
       "    </tr>\n",
       "    <tr>\n",
       "      <th>2</th>\n",
       "      <td>-93.019930</td>\n",
       "      <td>35.557195</td>\n",
       "      <td>5.966039</td>\n",
       "      <td>-26.539077</td>\n",
       "      <td>-151.494378</td>\n",
       "      <td>32.550934</td>\n",
       "      <td>-112.608380</td>\n",
       "      <td>-15.639923</td>\n",
       "      <td>-59.108039</td>\n",
       "      <td>-28.130038</td>\n",
       "      <td>...</td>\n",
       "      <td>-14.951405</td>\n",
       "      <td>-18.272953</td>\n",
       "      <td>-6.149932</td>\n",
       "      <td>-19.423299</td>\n",
       "      <td>16.746207</td>\n",
       "      <td>-12.278881</td>\n",
       "      <td>10.489434</td>\n",
       "      <td>18.840943</td>\n",
       "      <td>-9.394554</td>\n",
       "      <td>-34.014346</td>\n",
       "    </tr>\n",
       "    <tr>\n",
       "      <th>3</th>\n",
       "      <td>-114.755784</td>\n",
       "      <td>34.779378</td>\n",
       "      <td>-10.552657</td>\n",
       "      <td>-39.481854</td>\n",
       "      <td>-145.625364</td>\n",
       "      <td>72.526742</td>\n",
       "      <td>-111.402247</td>\n",
       "      <td>-35.211066</td>\n",
       "      <td>-48.914545</td>\n",
       "      <td>-12.286798</td>\n",
       "      <td>...</td>\n",
       "      <td>-8.815110</td>\n",
       "      <td>-25.650863</td>\n",
       "      <td>-8.011198</td>\n",
       "      <td>-14.096027</td>\n",
       "      <td>11.708198</td>\n",
       "      <td>-17.276108</td>\n",
       "      <td>14.285039</td>\n",
       "      <td>14.198415</td>\n",
       "      <td>-21.348064</td>\n",
       "      <td>-30.897531</td>\n",
       "    </tr>\n",
       "    <tr>\n",
       "      <th>4</th>\n",
       "      <td>-111.867249</td>\n",
       "      <td>44.544022</td>\n",
       "      <td>-26.877515</td>\n",
       "      <td>-47.197607</td>\n",
       "      <td>-135.394425</td>\n",
       "      <td>97.920772</td>\n",
       "      <td>-85.358632</td>\n",
       "      <td>-53.932529</td>\n",
       "      <td>-39.548346</td>\n",
       "      <td>-1.877483</td>\n",
       "      <td>...</td>\n",
       "      <td>-1.287050</td>\n",
       "      <td>-32.338709</td>\n",
       "      <td>0.038467</td>\n",
       "      <td>-7.322151</td>\n",
       "      <td>1.239712</td>\n",
       "      <td>-14.236380</td>\n",
       "      <td>11.628854</td>\n",
       "      <td>16.359986</td>\n",
       "      <td>-23.990178</td>\n",
       "      <td>-18.960287</td>\n",
       "    </tr>\n",
       "  </tbody>\n",
       "</table>\n",
       "<p>5 rows × 1000 columns</p>\n",
       "</div>"
      ],
      "text/plain": [
       "          0          1          2          3           4          5    \\\n",
       "0  -31.426972  19.593266  66.149497   5.087693 -145.755438 -60.110903   \n",
       "1  -67.161373  33.442037  43.310118 -14.236839 -144.593542 -12.403398   \n",
       "2  -93.019930  35.557195   5.966039 -26.539077 -151.494378  32.550934   \n",
       "3 -114.755784  34.779378 -10.552657 -39.481854 -145.625364  72.526742   \n",
       "4 -111.867249  44.544022 -26.877515 -47.197607 -135.394425  97.920772   \n",
       "\n",
       "          6          7          8          9    ...        990        991  \\\n",
       "0  -95.581629   8.489667 -73.231320 -43.579136  ...   5.468757  -2.663963   \n",
       "1  -98.242895  -2.547335 -69.538878 -37.210569  ...  -8.333013  -9.078448   \n",
       "2 -112.608380 -15.639923 -59.108039 -28.130038  ... -14.951405 -18.272953   \n",
       "3 -111.402247 -35.211066 -48.914545 -12.286798  ...  -8.815110 -25.650863   \n",
       "4  -85.358632 -53.932529 -39.548346  -1.877483  ...  -1.287050 -32.338709   \n",
       "\n",
       "        992        993        994        995        996        997        998  \\\n",
       "0 -9.810332   1.662197  11.827076   9.822600  -9.668590   3.400646   5.212768   \n",
       "1 -8.621835 -13.381592  23.525468  -2.658485   1.435818  13.156601  -3.517392   \n",
       "2 -6.149932 -19.423299  16.746207 -12.278881  10.489434  18.840943  -9.394554   \n",
       "3 -8.011198 -14.096027  11.708198 -17.276108  14.285039  14.198415 -21.348064   \n",
       "4  0.038467  -7.322151   1.239712 -14.236380  11.628854  16.359986 -23.990178   \n",
       "\n",
       "         999  \n",
       "0 -24.916429  \n",
       "1 -29.927835  \n",
       "2 -34.014346  \n",
       "3 -30.897531  \n",
       "4 -18.960287  \n",
       "\n",
       "[5 rows x 1000 columns]"
      ]
     },
     "execution_count": 30,
     "metadata": {},
     "output_type": "execute_result"
    }
   ],
   "source": [
    "ps = pd.DataFrame(pca_samples)\n",
    "ps.head()"
   ]
  },
  {
   "cell_type": "code",
   "execution_count": 31,
   "metadata": {},
   "outputs": [
    {
     "data": {
      "text/plain": [
       "18000"
      ]
     },
     "execution_count": 31,
     "metadata": {},
     "output_type": "execute_result"
    }
   ],
   "source": [
    "len(ps)"
   ]
  },
  {
   "cell_type": "code",
   "execution_count": 32,
   "metadata": {},
   "outputs": [
    {
     "data": {
      "text/plain": [
       "1000"
      ]
     },
     "execution_count": 32,
     "metadata": {},
     "output_type": "execute_result"
    }
   ],
   "source": [
    "len(ps.columns)"
   ]
  },
  {
   "cell_type": "code",
   "execution_count": 33,
   "metadata": {},
   "outputs": [],
   "source": [
    "X = ps"
   ]
  },
  {
   "cell_type": "markdown",
   "metadata": {},
   "source": [
    "Separando os dados em dados de treino e teste"
   ]
  },
  {
   "cell_type": "code",
   "execution_count": 34,
   "metadata": {},
   "outputs": [],
   "source": [
    "x_treino, x_teste, y_treino, y_teste = train_test_split(X, y, test_size=0.2, random_state=7)"
   ]
  },
  {
   "cell_type": "markdown",
   "metadata": {},
   "source": [
    "---"
   ]
  },
  {
   "cell_type": "markdown",
   "metadata": {},
   "source": [
    "## Treinamento"
   ]
  },
  {
   "cell_type": "markdown",
   "metadata": {
    "id": "AQnI7VgAUuSD"
   },
   "source": [
    "### SVM"
   ]
  },
  {
   "cell_type": "code",
   "execution_count": 35,
   "metadata": {
    "id": "cXbS7zrFUuSD"
   },
   "outputs": [],
   "source": [
    "def classificador(x_treino, y_treino, x_teste, y_teste):\n",
    "    '''\n",
    "        Treina um classificador com os melhores parametros possíveis.\n",
    "        \n",
    "        Params\n",
    "        ------\n",
    "        :x_treino: dados de treino\n",
    "        :x_teste: dados de teste\n",
    "        :y_treino: dados de treino -labels\n",
    "        :y_teste: dados de treino - labels\n",
    "    \n",
    "        Return\n",
    "        ------\n",
    "        :SVM: Modelo SVM treinado\n",
    "        :resultados (matrix): métricas\n",
    "    '''\n",
    "    stats = {}\n",
    "    \n",
    "    logger.info('Instanciando SVM')\n",
    "    SVM = OneVsRestClassifier(SVC(kernel = 'poly', C= 100))\n",
    "    \n",
    "    logger.info('Treinando Random Forest')\n",
    "    SVM.fit(x_treino, y_treino)\n",
    "    \n",
    "    logger.info('Predict')\n",
    "    categorias = SVM.predict(x_teste)\n",
    "    \n",
    "    logger.info('Métricas: \\n \\n')\n",
    "    \n",
    "    logger.info('Acurácia')\n",
    "    acc = accuracy_score(y_teste, categorias)\n",
    "    print(OKCYAN, \"Acc \\n\" + str(acc) + \"\\n\")\n",
    "    \n",
    "    logger.info(\"Mcc\")\n",
    "    mcc = matthews_corrcoef(y_teste, categorias)\n",
    "    print(WARNING, \"Mcc \\n\" + str(mcc) + \"\\n\")\n",
    "    \n",
    "    logger.info(\"F1\")\n",
    "    f1 = f1_score(y_teste, categorias, average=\"weighted\")\n",
    "    print(GREEN, \"F1 \\n\" + str(f1) + \"\\n\")\n",
    "    \n",
    "    logger.info('Class Report')\n",
    "    resultados = classification_report(y_teste, categorias)\n",
    "    print(ENDC, \"Class Report \\n\" + resultados + \"\\n\")\n",
    "    \n",
    "    mat = confusion_matrix(y_teste, categorias)\n",
    "    sns.heatmap(mat.T, square=True, annot=True, fmt='d', cbar=False)\n",
    "    plt.xlabel('true label')\n",
    "    plt.ylabel('predicted label');\n",
    "    \n",
    "    return SVM, resultados"
   ]
  },
  {
   "cell_type": "code",
   "execution_count": 36,
   "metadata": {
    "id": "ZnJV_V1vUuSD",
    "outputId": "bcdf3678-ac01-4453-a76f-af4037335377"
   },
   "outputs": [
    {
     "name": "stderr",
     "output_type": "stream",
     "text": [
      "SVM - INFO - [+] ------- Instanciando SVM -------\n",
      "SVM - INFO - [+] ------- Treinando Random Forest -------\n",
      "SVM - INFO - [+] ------- Predict -------\n",
      "SVM - INFO - [+] ------- Métricas: \n",
      " \n",
      " -------\n",
      "SVM - INFO - [+] ------- Acurácia -------\n",
      "SVM - INFO - [+] ------- Mcc -------\n",
      "SVM - INFO - [+] ------- F1 -------\n",
      "SVM - INFO - [+] ------- Class Report -------\n",
      "SVM - INFO - [+] ------- Ok -------\n",
      "SVM - INFO - [+] ------- Treino finalizado -------\n"
     ]
    },
    {
     "name": "stdout",
     "output_type": "stream",
     "text": [
      "\u001b[96m Acc \n",
      "0.6247222222222222\n",
      "\n",
      "\u001b[93m Mcc \n",
      "0.5008225201372848\n",
      "\n",
      "\u001b[1;32m F1 \n",
      "0.6251518580178784\n",
      "\n",
      "\u001b[0m Class Report \n",
      "              precision    recall  f1-score   support\n",
      "\n",
      "           1       0.68      0.57      0.62       865\n",
      "           2       0.56      0.66      0.60       890\n",
      "           3       0.61      0.67      0.64       945\n",
      "           4       0.69      0.60      0.64       900\n",
      "\n",
      "    accuracy                           0.62      3600\n",
      "   macro avg       0.63      0.62      0.62      3600\n",
      "weighted avg       0.63      0.62      0.63      3600\n",
      "\n",
      "\n",
      "CPU times: user 7min 6s, sys: 0 ns, total: 7min 6s\n",
      "Wall time: 7min 6s\n"
     ]
    },
    {
     "data": {
      "image/png": "[encoded data removed]",
      "text/plain": [
       "<Figure size 432x288 with 1 Axes>"
      ]
     },
     "metadata": {
      "needs_background": "light"
     },
     "output_type": "display_data"
    }
   ],
   "source": [
    "%%time\n",
    "\n",
    "try:\n",
    "    SVM, resultados = classificador(x_treino,\n",
    "                        y_treino,\n",
    "                        x_teste,\n",
    "                        y_teste)\n",
    "\n",
    "except Exception as error:\n",
    "    logger.warning('Aconteceu algum problema...')\n",
    "    logger.critical(error)\n",
    "\n",
    "else:\n",
    "    logger.info('Ok')\n",
    "    \n",
    "finally:\n",
    "    logger.info('Treino finalizado')"
   ]
  },
  {
   "cell_type": "code",
   "execution_count": 37,
   "metadata": {},
   "outputs": [
    {
     "data": {
      "text/plain": [
       "'              precision    recall  f1-score   support\\n\\n           1       0.68      0.57      0.62       865\\n           2       0.56      0.66      0.60       890\\n           3       0.61      0.67      0.64       945\\n           4       0.69      0.60      0.64       900\\n\\n    accuracy                           0.62      3600\\n   macro avg       0.63      0.62      0.62      3600\\nweighted avg       0.63      0.62      0.63      3600\\n'"
      ]
     },
     "execution_count": 37,
     "metadata": {},
     "output_type": "execute_result"
    }
   ],
   "source": [
    "resultados"
   ]
  },
  {
   "cell_type": "markdown",
   "metadata": {
    "id": "6bLFkyIZUuSE"
   },
   "source": [
    "---"
   ]
  },
  {
   "cell_type": "markdown",
   "metadata": {
    "id": "Xrle_GmfUuSE"
   },
   "source": [
    "#### Exportando modelo"
   ]
  },
  {
   "cell_type": "code",
   "execution_count": 38,
   "metadata": {
    "id": "rfiDLuKuUuSE",
    "outputId": "42cc6129-9845-4c36-cb20-7f6980629e5d"
   },
   "outputs": [],
   "source": [
    "pkl.dump(SVM, open('modelos/svm_dados_FEM_10_voluntarios_c_semanas_15_sinais_noout.pkl', 'wb'))"
   ]
  },
  {
   "cell_type": "code",
   "execution_count": null,
   "metadata": {},
   "outputs": [],
   "source": []
  }
 ],
 "metadata": {
  "colab": {
   "name": "03 - Svm.ipynb",
   "provenance": []
  },
  "kernelspec": {
   "display_name": "Python 3 (ipykernel)",
   "language": "python",
   "name": "python3"
  },
  "language_info": {
   "codemirror_mode": {
    "name": "ipython",
    "version": 3
   },
   "file_extension": ".py",
   "mimetype": "text/x-python",
   "name": "python",
   "nbconvert_exporter": "python",
   "pygments_lexer": "ipython3",
   "version": "3.8.10"
  }
 },
 "nbformat": 4,
 "nbformat_minor": 4
}
