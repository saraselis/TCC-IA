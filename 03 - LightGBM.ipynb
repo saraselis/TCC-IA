{
 "cells": [
  {
   "cell_type": "markdown",
   "metadata": {},
   "source": [
    "# <b style='color:gold;'> LightLGBM </b>\n",
    "* Este Jupyter tem como função treinar um `LightLGBM` com os melhores parametros determinados por um `scikit-optimize`"
   ]
  },
  {
   "cell_type": "markdown",
   "metadata": {},
   "source": [
    "---"
   ]
  },
  {
   "cell_type": "markdown",
   "metadata": {},
   "source": [
    "Bibliotecas/Módulos"
   ]
  },
  {
   "cell_type": "markdown",
   "metadata": {},
   "source": [
    "<details>    \n",
    "<summary>\n",
    "    <font size=\"3\" color=\"magenta\"><b>Install</b></font>\n",
    "</summary>\n",
    "<p>\n",
    "<ul>\n",
    "    <li> !pip install lightgbm</li>\n",
    "    <li> !pip install scikit-optimize </li>\n",
    "\n",
    "</ul>\n",
    "</p>"
   ]
  },
  {
   "cell_type": "code",
   "execution_count": 1,
   "metadata": {},
   "outputs": [],
   "source": [
    "%%capture\n",
    "\n",
    "!pip install lightgbm scikit-optimize"
   ]
  },
  {
   "cell_type": "code",
   "execution_count": 2,
   "metadata": {},
   "outputs": [],
   "source": [
    "import logging\n",
    "import numpy as np\n",
    "import pandas as pd\n",
    "import sys\n",
    "from lightgbm import LGBMClassifier\n",
    "# from sklearn.externals import joblib\n",
    "from sklearn.metrics import roc_auc_score, average_precision_score, accuracy_score, matthews_corrcoef, classification_report, f1_score\n",
    "from skopt import forest_minimize\n",
    "from sklearn.model_selection import train_test_split\n",
    "from sklearn.multiclass import OneVsRestClassifier"
   ]
  },
  {
   "cell_type": "markdown",
   "metadata": {},
   "source": [
    "Configurações dos logs"
   ]
  },
  {
   "cell_type": "code",
   "execution_count": 3,
   "metadata": {},
   "outputs": [],
   "source": [
    "logger = logging.getLogger(\"SVM\")\n",
    "logger.setLevel(logging.DEBUG)\n",
    "handler = logging.StreamHandler(sys.stderr)\n",
    "formatter = logging.Formatter('%(name)s - %(levelname)s - [+] ------- %(message)s -------') \n",
    "handler.setFormatter(formatter)\n",
    "logger.handlers = [handler]"
   ]
  },
  {
   "cell_type": "markdown",
   "metadata": {},
   "source": [
    "Cores"
   ]
  },
  {
   "cell_type": "code",
   "execution_count": 4,
   "metadata": {},
   "outputs": [],
   "source": [
    "RED = \"\\033[1;31m\"\n",
    "BLUE = \"\\033[1;34m\"\n",
    "GREEN = \"\\033[1;32m\"\n",
    "PINK = \"\\033[1;45m\"\n",
    "HEADER = '\\033[95m'\n",
    "OKBLUE = '\\033[94m'\n",
    "OKCYAN = '\\033[96m'\n",
    "OKGREEN = '\\033[92m'\n",
    "WARNING = '\\033[93m'\n",
    "FAIL = '\\033[91m'\n",
    "ENDC = '\\033[0m'\n",
    "BOLD = '\\033[1m'\n",
    "UNDERLINE = '\\033[4m'\n",
    "MAG = \"\\033[1;45m\""
   ]
  },
  {
   "cell_type": "markdown",
   "metadata": {},
   "source": [
    "---"
   ]
  },
  {
   "cell_type": "code",
   "execution_count": 25,
   "metadata": {},
   "outputs": [],
   "source": [
    "df = pd.read_csv(\"dados_FEM_MAS_10_voluntarios_s_semanas_10_sinais.csv\")"
   ]
  },
  {
   "cell_type": "code",
   "execution_count": 26,
   "metadata": {},
   "outputs": [
    {
     "data": {
      "text/html": [
       "<div>\n",
       "<style scoped>\n",
       "    .dataframe tbody tr th:only-of-type {\n",
       "        vertical-align: middle;\n",
       "    }\n",
       "\n",
       "    .dataframe tbody tr th {\n",
       "        vertical-align: top;\n",
       "    }\n",
       "\n",
       "    .dataframe thead th {\n",
       "        text-align: right;\n",
       "    }\n",
       "</style>\n",
       "<table border=\"1\" class=\"dataframe\">\n",
       "  <thead>\n",
       "    <tr style=\"text-align: right;\">\n",
       "      <th></th>\n",
       "      <th>0</th>\n",
       "      <th>1</th>\n",
       "      <th>2</th>\n",
       "      <th>3</th>\n",
       "      <th>4</th>\n",
       "      <th>5</th>\n",
       "      <th>6</th>\n",
       "      <th>7</th>\n",
       "      <th>8</th>\n",
       "      <th>9</th>\n",
       "      <th>...</th>\n",
       "      <th>1991</th>\n",
       "      <th>1992</th>\n",
       "      <th>1993</th>\n",
       "      <th>1994</th>\n",
       "      <th>1995</th>\n",
       "      <th>1996</th>\n",
       "      <th>1997</th>\n",
       "      <th>1998</th>\n",
       "      <th>1999</th>\n",
       "      <th>label</th>\n",
       "    </tr>\n",
       "  </thead>\n",
       "  <tbody>\n",
       "    <tr>\n",
       "      <th>8841</th>\n",
       "      <td>185</td>\n",
       "      <td>186</td>\n",
       "      <td>-41</td>\n",
       "      <td>19</td>\n",
       "      <td>76</td>\n",
       "      <td>100</td>\n",
       "      <td>-18</td>\n",
       "      <td>-47</td>\n",
       "      <td>45</td>\n",
       "      <td>-74</td>\n",
       "      <td>...</td>\n",
       "      <td>-227</td>\n",
       "      <td>-4</td>\n",
       "      <td>-13</td>\n",
       "      <td>-63</td>\n",
       "      <td>-24</td>\n",
       "      <td>22</td>\n",
       "      <td>-50</td>\n",
       "      <td>47</td>\n",
       "      <td>-38</td>\n",
       "      <td>0</td>\n",
       "    </tr>\n",
       "  </tbody>\n",
       "</table>\n",
       "<p>1 rows × 2001 columns</p>\n",
       "</div>"
      ],
      "text/plain": [
       "        0    1   2   3   4    5   6   7   8   9  ...  1991  1992  1993  1994  \\\n",
       "8841  185  186 -41  19  76  100 -18 -47  45 -74  ...  -227    -4   -13   -63   \n",
       "\n",
       "      1995  1996  1997  1998  1999  label  \n",
       "8841   -24    22   -50    47   -38      0  \n",
       "\n",
       "[1 rows x 2001 columns]"
      ]
     },
     "execution_count": 26,
     "metadata": {},
     "output_type": "execute_result"
    }
   ],
   "source": [
    "df.sample()"
   ]
  },
  {
   "cell_type": "code",
   "execution_count": 27,
   "metadata": {},
   "outputs": [
    {
     "data": {
      "text/plain": [
       "17920"
      ]
     },
     "execution_count": 27,
     "metadata": {},
     "output_type": "execute_result"
    }
   ],
   "source": [
    "len(df)"
   ]
  },
  {
   "cell_type": "code",
   "execution_count": 28,
   "metadata": {},
   "outputs": [
    {
     "data": {
      "text/plain": [
       "2001"
      ]
     },
     "execution_count": 28,
     "metadata": {},
     "output_type": "execute_result"
    }
   ],
   "source": [
    "len(df.columns)"
   ]
  },
  {
   "cell_type": "markdown",
   "metadata": {},
   "source": [
    "---"
   ]
  },
  {
   "cell_type": "code",
   "execution_count": 29,
   "metadata": {},
   "outputs": [],
   "source": [
    "y = df[\"label\"]"
   ]
  },
  {
   "cell_type": "code",
   "execution_count": 30,
   "metadata": {},
   "outputs": [],
   "source": [
    "df = df.drop([\"label\"], axis=1)"
   ]
  },
  {
   "cell_type": "code",
   "execution_count": 31,
   "metadata": {},
   "outputs": [],
   "source": [
    "from sklearn.decomposition import PCA"
   ]
  },
  {
   "cell_type": "code",
   "execution_count": 32,
   "metadata": {},
   "outputs": [],
   "source": [
    "pca = PCA(n_components=1000)"
   ]
  },
  {
   "cell_type": "code",
   "execution_count": 33,
   "metadata": {},
   "outputs": [
    {
     "data": {
      "text/html": [
       "<style>#sk-container-id-3 {color: black;background-color: white;}#sk-container-id-3 pre{padding: 0;}#sk-container-id-3 div.sk-toggleable {background-color: white;}#sk-container-id-3 label.sk-toggleable__label {cursor: pointer;display: block;width: 100%;margin-bottom: 0;padding: 0.3em;box-sizing: border-box;text-align: center;}#sk-container-id-3 label.sk-toggleable__label-arrow:before {content: \"▸\";float: left;margin-right: 0.25em;color: #696969;}#sk-container-id-3 label.sk-toggleable__label-arrow:hover:before {color: black;}#sk-container-id-3 div.sk-estimator:hover label.sk-toggleable__label-arrow:before {color: black;}#sk-container-id-3 div.sk-toggleable__content {max-height: 0;max-width: 0;overflow: hidden;text-align: left;background-color: #f0f8ff;}#sk-container-id-3 div.sk-toggleable__content pre {margin: 0.2em;color: black;border-radius: 0.25em;background-color: #f0f8ff;}#sk-container-id-3 input.sk-toggleable__control:checked~div.sk-toggleable__content {max-height: 200px;max-width: 100%;overflow: auto;}#sk-container-id-3 input.sk-toggleable__control:checked~label.sk-toggleable__label-arrow:before {content: \"▾\";}#sk-container-id-3 div.sk-estimator input.sk-toggleable__control:checked~label.sk-toggleable__label {background-color: #d4ebff;}#sk-container-id-3 div.sk-label input.sk-toggleable__control:checked~label.sk-toggleable__label {background-color: #d4ebff;}#sk-container-id-3 input.sk-hidden--visually {border: 0;clip: rect(1px 1px 1px 1px);clip: rect(1px, 1px, 1px, 1px);height: 1px;margin: -1px;overflow: hidden;padding: 0;position: absolute;width: 1px;}#sk-container-id-3 div.sk-estimator {font-family: monospace;background-color: #f0f8ff;border: 1px dotted black;border-radius: 0.25em;box-sizing: border-box;margin-bottom: 0.5em;}#sk-container-id-3 div.sk-estimator:hover {background-color: #d4ebff;}#sk-container-id-3 div.sk-parallel-item::after {content: \"\";width: 100%;border-bottom: 1px solid gray;flex-grow: 1;}#sk-container-id-3 div.sk-label:hover label.sk-toggleable__label {background-color: #d4ebff;}#sk-container-id-3 div.sk-serial::before {content: \"\";position: absolute;border-left: 1px solid gray;box-sizing: border-box;top: 0;bottom: 0;left: 50%;z-index: 0;}#sk-container-id-3 div.sk-serial {display: flex;flex-direction: column;align-items: center;background-color: white;padding-right: 0.2em;padding-left: 0.2em;position: relative;}#sk-container-id-3 div.sk-item {position: relative;z-index: 1;}#sk-container-id-3 div.sk-parallel {display: flex;align-items: stretch;justify-content: center;background-color: white;position: relative;}#sk-container-id-3 div.sk-item::before, #sk-container-id-3 div.sk-parallel-item::before {content: \"\";position: absolute;border-left: 1px solid gray;box-sizing: border-box;top: 0;bottom: 0;left: 50%;z-index: -1;}#sk-container-id-3 div.sk-parallel-item {display: flex;flex-direction: column;z-index: 1;position: relative;background-color: white;}#sk-container-id-3 div.sk-parallel-item:first-child::after {align-self: flex-end;width: 50%;}#sk-container-id-3 div.sk-parallel-item:last-child::after {align-self: flex-start;width: 50%;}#sk-container-id-3 div.sk-parallel-item:only-child::after {width: 0;}#sk-container-id-3 div.sk-dashed-wrapped {border: 1px dashed gray;margin: 0 0.4em 0.5em 0.4em;box-sizing: border-box;padding-bottom: 0.4em;background-color: white;}#sk-container-id-3 div.sk-label label {font-family: monospace;font-weight: bold;display: inline-block;line-height: 1.2em;}#sk-container-id-3 div.sk-label-container {text-align: center;}#sk-container-id-3 div.sk-container {/* jupyter's `normalize.less` sets `[hidden] { display: none; }` but bootstrap.min.css set `[hidden] { display: none !important; }` so we also need the `!important` here to be able to override the default hidden behavior on the sphinx rendered scikit-learn.org. See: https://github.com/scikit-learn/scikit-learn/issues/21755 */display: inline-block !important;position: relative;}#sk-container-id-3 div.sk-text-repr-fallback {display: none;}</style><div id=\"sk-container-id-3\" class=\"sk-top-container\"><div class=\"sk-text-repr-fallback\"><pre>PCA(n_components=1000)</pre><b>In a Jupyter environment, please rerun this cell to show the HTML representation or trust the notebook. <br />On GitHub, the HTML representation is unable to render, please try loading this page with nbviewer.org.</b></div><div class=\"sk-container\" hidden><div class=\"sk-item\"><div class=\"sk-estimator sk-toggleable\"><input class=\"sk-toggleable__control sk-hidden--visually\" id=\"sk-estimator-id-3\" type=\"checkbox\" checked><label for=\"sk-estimator-id-3\" class=\"sk-toggleable__label sk-toggleable__label-arrow\">PCA</label><div class=\"sk-toggleable__content\"><pre>PCA(n_components=1000)</pre></div></div></div></div></div>"
      ],
      "text/plain": [
       "PCA(n_components=1000)"
      ]
     },
     "execution_count": 33,
     "metadata": {},
     "output_type": "execute_result"
    }
   ],
   "source": [
    "pca.fit(df)"
   ]
  },
  {
   "cell_type": "code",
   "execution_count": 34,
   "metadata": {},
   "outputs": [
    {
     "name": "stdout",
     "output_type": "stream",
     "text": [
      "CPU times: user 13.9 s, sys: 1.99 s, total: 15.9 s\n",
      "Wall time: 1.18 s\n"
     ]
    }
   ],
   "source": [
    "%%time\n",
    "\n",
    "pca_samples = pca.transform(df)"
   ]
  },
  {
   "cell_type": "code",
   "execution_count": 35,
   "metadata": {},
   "outputs": [
    {
     "data": {
      "text/html": [
       "<div>\n",
       "<style scoped>\n",
       "    .dataframe tbody tr th:only-of-type {\n",
       "        vertical-align: middle;\n",
       "    }\n",
       "\n",
       "    .dataframe tbody tr th {\n",
       "        vertical-align: top;\n",
       "    }\n",
       "\n",
       "    .dataframe thead th {\n",
       "        text-align: right;\n",
       "    }\n",
       "</style>\n",
       "<table border=\"1\" class=\"dataframe\">\n",
       "  <thead>\n",
       "    <tr style=\"text-align: right;\">\n",
       "      <th></th>\n",
       "      <th>0</th>\n",
       "      <th>1</th>\n",
       "      <th>2</th>\n",
       "      <th>3</th>\n",
       "      <th>4</th>\n",
       "      <th>5</th>\n",
       "      <th>6</th>\n",
       "      <th>7</th>\n",
       "      <th>8</th>\n",
       "      <th>9</th>\n",
       "      <th>...</th>\n",
       "      <th>990</th>\n",
       "      <th>991</th>\n",
       "      <th>992</th>\n",
       "      <th>993</th>\n",
       "      <th>994</th>\n",
       "      <th>995</th>\n",
       "      <th>996</th>\n",
       "      <th>997</th>\n",
       "      <th>998</th>\n",
       "      <th>999</th>\n",
       "    </tr>\n",
       "  </thead>\n",
       "  <tbody>\n",
       "    <tr>\n",
       "      <th>0</th>\n",
       "      <td>-897.608954</td>\n",
       "      <td>33.982896</td>\n",
       "      <td>0.004304</td>\n",
       "      <td>-53.764392</td>\n",
       "      <td>-7.444923</td>\n",
       "      <td>-175.937037</td>\n",
       "      <td>-81.112883</td>\n",
       "      <td>118.023585</td>\n",
       "      <td>-80.549260</td>\n",
       "      <td>28.846527</td>\n",
       "      <td>...</td>\n",
       "      <td>-17.781109</td>\n",
       "      <td>19.186073</td>\n",
       "      <td>14.947061</td>\n",
       "      <td>-24.648308</td>\n",
       "      <td>4.880926</td>\n",
       "      <td>-29.219868</td>\n",
       "      <td>10.019273</td>\n",
       "      <td>16.754146</td>\n",
       "      <td>-1.098009</td>\n",
       "      <td>9.293909</td>\n",
       "    </tr>\n",
       "    <tr>\n",
       "      <th>1</th>\n",
       "      <td>-899.464432</td>\n",
       "      <td>71.015366</td>\n",
       "      <td>17.799590</td>\n",
       "      <td>-83.367689</td>\n",
       "      <td>2.443263</td>\n",
       "      <td>-142.726944</td>\n",
       "      <td>-45.769773</td>\n",
       "      <td>121.941678</td>\n",
       "      <td>-46.318558</td>\n",
       "      <td>10.323928</td>\n",
       "      <td>...</td>\n",
       "      <td>-20.866480</td>\n",
       "      <td>4.859701</td>\n",
       "      <td>1.610689</td>\n",
       "      <td>-31.722632</td>\n",
       "      <td>14.348585</td>\n",
       "      <td>-16.792268</td>\n",
       "      <td>-4.280823</td>\n",
       "      <td>5.488711</td>\n",
       "      <td>-13.234726</td>\n",
       "      <td>7.566110</td>\n",
       "    </tr>\n",
       "    <tr>\n",
       "      <th>2</th>\n",
       "      <td>-913.400121</td>\n",
       "      <td>97.403993</td>\n",
       "      <td>31.376492</td>\n",
       "      <td>-119.715895</td>\n",
       "      <td>5.401714</td>\n",
       "      <td>-103.049353</td>\n",
       "      <td>-31.937180</td>\n",
       "      <td>123.864041</td>\n",
       "      <td>-10.768580</td>\n",
       "      <td>-0.491098</td>\n",
       "      <td>...</td>\n",
       "      <td>-24.774640</td>\n",
       "      <td>-5.919802</td>\n",
       "      <td>-8.265608</td>\n",
       "      <td>-32.504211</td>\n",
       "      <td>9.496170</td>\n",
       "      <td>-2.829562</td>\n",
       "      <td>-12.734673</td>\n",
       "      <td>2.613981</td>\n",
       "      <td>-23.179464</td>\n",
       "      <td>13.789089</td>\n",
       "    </tr>\n",
       "    <tr>\n",
       "      <th>3</th>\n",
       "      <td>-910.858586</td>\n",
       "      <td>119.481561</td>\n",
       "      <td>34.003806</td>\n",
       "      <td>-143.894382</td>\n",
       "      <td>-4.435768</td>\n",
       "      <td>-69.941088</td>\n",
       "      <td>-6.300342</td>\n",
       "      <td>115.486438</td>\n",
       "      <td>8.625186</td>\n",
       "      <td>-17.823369</td>\n",
       "      <td>...</td>\n",
       "      <td>-10.673778</td>\n",
       "      <td>-20.483178</td>\n",
       "      <td>-22.121767</td>\n",
       "      <td>-30.985782</td>\n",
       "      <td>5.655899</td>\n",
       "      <td>17.635593</td>\n",
       "      <td>-24.745747</td>\n",
       "      <td>-14.266163</td>\n",
       "      <td>-31.929582</td>\n",
       "      <td>13.762403</td>\n",
       "    </tr>\n",
       "    <tr>\n",
       "      <th>4</th>\n",
       "      <td>-885.288426</td>\n",
       "      <td>117.074564</td>\n",
       "      <td>48.482579</td>\n",
       "      <td>-155.122125</td>\n",
       "      <td>-1.253690</td>\n",
       "      <td>-32.133186</td>\n",
       "      <td>9.479085</td>\n",
       "      <td>115.676213</td>\n",
       "      <td>24.557022</td>\n",
       "      <td>-31.582391</td>\n",
       "      <td>...</td>\n",
       "      <td>-1.153732</td>\n",
       "      <td>-18.390297</td>\n",
       "      <td>-25.346063</td>\n",
       "      <td>-28.467946</td>\n",
       "      <td>12.811640</td>\n",
       "      <td>23.237554</td>\n",
       "      <td>-8.771087</td>\n",
       "      <td>-11.912600</td>\n",
       "      <td>-48.808655</td>\n",
       "      <td>7.212890</td>\n",
       "    </tr>\n",
       "  </tbody>\n",
       "</table>\n",
       "<p>5 rows × 1000 columns</p>\n",
       "</div>"
      ],
      "text/plain": [
       "          0           1          2           3         4           5    \\\n",
       "0 -897.608954   33.982896   0.004304  -53.764392 -7.444923 -175.937037   \n",
       "1 -899.464432   71.015366  17.799590  -83.367689  2.443263 -142.726944   \n",
       "2 -913.400121   97.403993  31.376492 -119.715895  5.401714 -103.049353   \n",
       "3 -910.858586  119.481561  34.003806 -143.894382 -4.435768  -69.941088   \n",
       "4 -885.288426  117.074564  48.482579 -155.122125 -1.253690  -32.133186   \n",
       "\n",
       "         6           7          8          9    ...        990        991  \\\n",
       "0 -81.112883  118.023585 -80.549260  28.846527  ... -17.781109  19.186073   \n",
       "1 -45.769773  121.941678 -46.318558  10.323928  ... -20.866480   4.859701   \n",
       "2 -31.937180  123.864041 -10.768580  -0.491098  ... -24.774640  -5.919802   \n",
       "3  -6.300342  115.486438   8.625186 -17.823369  ... -10.673778 -20.483178   \n",
       "4   9.479085  115.676213  24.557022 -31.582391  ...  -1.153732 -18.390297   \n",
       "\n",
       "         992        993        994        995        996        997  \\\n",
       "0  14.947061 -24.648308   4.880926 -29.219868  10.019273  16.754146   \n",
       "1   1.610689 -31.722632  14.348585 -16.792268  -4.280823   5.488711   \n",
       "2  -8.265608 -32.504211   9.496170  -2.829562 -12.734673   2.613981   \n",
       "3 -22.121767 -30.985782   5.655899  17.635593 -24.745747 -14.266163   \n",
       "4 -25.346063 -28.467946  12.811640  23.237554  -8.771087 -11.912600   \n",
       "\n",
       "         998        999  \n",
       "0  -1.098009   9.293909  \n",
       "1 -13.234726   7.566110  \n",
       "2 -23.179464  13.789089  \n",
       "3 -31.929582  13.762403  \n",
       "4 -48.808655   7.212890  \n",
       "\n",
       "[5 rows x 1000 columns]"
      ]
     },
     "execution_count": 35,
     "metadata": {},
     "output_type": "execute_result"
    }
   ],
   "source": [
    "ps = pd.DataFrame(pca_samples)\n",
    "ps.head()"
   ]
  },
  {
   "cell_type": "code",
   "execution_count": 36,
   "metadata": {},
   "outputs": [
    {
     "data": {
      "text/plain": [
       "17920"
      ]
     },
     "execution_count": 36,
     "metadata": {},
     "output_type": "execute_result"
    }
   ],
   "source": [
    "len(ps)"
   ]
  },
  {
   "cell_type": "code",
   "execution_count": 37,
   "metadata": {},
   "outputs": [
    {
     "data": {
      "text/plain": [
       "1000"
      ]
     },
     "execution_count": 37,
     "metadata": {},
     "output_type": "execute_result"
    }
   ],
   "source": [
    "len(ps.columns)"
   ]
  },
  {
   "cell_type": "code",
   "execution_count": 38,
   "metadata": {},
   "outputs": [],
   "source": [
    "X = ps"
   ]
  },
  {
   "cell_type": "code",
   "execution_count": 39,
   "metadata": {},
   "outputs": [],
   "source": [
    "x_treino, x_teste, y_treino, y_teste = train_test_split(X, y, test_size=0.2, random_state=7)"
   ]
  },
  {
   "cell_type": "markdown",
   "metadata": {},
   "source": [
    "---"
   ]
  },
  {
   "cell_type": "markdown",
   "metadata": {},
   "source": [
    "### LGBM"
   ]
  },
  {
   "cell_type": "markdown",
   "metadata": {},
   "source": [
    "Instanciando"
   ]
  },
  {
   "cell_type": "code",
   "execution_count": 40,
   "metadata": {},
   "outputs": [
    {
     "name": "stdout",
     "output_type": "stream",
     "text": [
      "CPU times: user 23.3 s, sys: 19.5 ms, total: 23.3 s\n",
      "Wall time: 11.9 s\n"
     ]
    },
    {
     "data": {
      "text/html": [
       "<style>#sk-container-id-4 {color: black;background-color: white;}#sk-container-id-4 pre{padding: 0;}#sk-container-id-4 div.sk-toggleable {background-color: white;}#sk-container-id-4 label.sk-toggleable__label {cursor: pointer;display: block;width: 100%;margin-bottom: 0;padding: 0.3em;box-sizing: border-box;text-align: center;}#sk-container-id-4 label.sk-toggleable__label-arrow:before {content: \"▸\";float: left;margin-right: 0.25em;color: #696969;}#sk-container-id-4 label.sk-toggleable__label-arrow:hover:before {color: black;}#sk-container-id-4 div.sk-estimator:hover label.sk-toggleable__label-arrow:before {color: black;}#sk-container-id-4 div.sk-toggleable__content {max-height: 0;max-width: 0;overflow: hidden;text-align: left;background-color: #f0f8ff;}#sk-container-id-4 div.sk-toggleable__content pre {margin: 0.2em;color: black;border-radius: 0.25em;background-color: #f0f8ff;}#sk-container-id-4 input.sk-toggleable__control:checked~div.sk-toggleable__content {max-height: 200px;max-width: 100%;overflow: auto;}#sk-container-id-4 input.sk-toggleable__control:checked~label.sk-toggleable__label-arrow:before {content: \"▾\";}#sk-container-id-4 div.sk-estimator input.sk-toggleable__control:checked~label.sk-toggleable__label {background-color: #d4ebff;}#sk-container-id-4 div.sk-label input.sk-toggleable__control:checked~label.sk-toggleable__label {background-color: #d4ebff;}#sk-container-id-4 input.sk-hidden--visually {border: 0;clip: rect(1px 1px 1px 1px);clip: rect(1px, 1px, 1px, 1px);height: 1px;margin: -1px;overflow: hidden;padding: 0;position: absolute;width: 1px;}#sk-container-id-4 div.sk-estimator {font-family: monospace;background-color: #f0f8ff;border: 1px dotted black;border-radius: 0.25em;box-sizing: border-box;margin-bottom: 0.5em;}#sk-container-id-4 div.sk-estimator:hover {background-color: #d4ebff;}#sk-container-id-4 div.sk-parallel-item::after {content: \"\";width: 100%;border-bottom: 1px solid gray;flex-grow: 1;}#sk-container-id-4 div.sk-label:hover label.sk-toggleable__label {background-color: #d4ebff;}#sk-container-id-4 div.sk-serial::before {content: \"\";position: absolute;border-left: 1px solid gray;box-sizing: border-box;top: 0;bottom: 0;left: 50%;z-index: 0;}#sk-container-id-4 div.sk-serial {display: flex;flex-direction: column;align-items: center;background-color: white;padding-right: 0.2em;padding-left: 0.2em;position: relative;}#sk-container-id-4 div.sk-item {position: relative;z-index: 1;}#sk-container-id-4 div.sk-parallel {display: flex;align-items: stretch;justify-content: center;background-color: white;position: relative;}#sk-container-id-4 div.sk-item::before, #sk-container-id-4 div.sk-parallel-item::before {content: \"\";position: absolute;border-left: 1px solid gray;box-sizing: border-box;top: 0;bottom: 0;left: 50%;z-index: -1;}#sk-container-id-4 div.sk-parallel-item {display: flex;flex-direction: column;z-index: 1;position: relative;background-color: white;}#sk-container-id-4 div.sk-parallel-item:first-child::after {align-self: flex-end;width: 50%;}#sk-container-id-4 div.sk-parallel-item:last-child::after {align-self: flex-start;width: 50%;}#sk-container-id-4 div.sk-parallel-item:only-child::after {width: 0;}#sk-container-id-4 div.sk-dashed-wrapped {border: 1px dashed gray;margin: 0 0.4em 0.5em 0.4em;box-sizing: border-box;padding-bottom: 0.4em;background-color: white;}#sk-container-id-4 div.sk-label label {font-family: monospace;font-weight: bold;display: inline-block;line-height: 1.2em;}#sk-container-id-4 div.sk-label-container {text-align: center;}#sk-container-id-4 div.sk-container {/* jupyter's `normalize.less` sets `[hidden] { display: none; }` but bootstrap.min.css set `[hidden] { display: none !important; }` so we also need the `!important` here to be able to override the default hidden behavior on the sphinx rendered scikit-learn.org. See: https://github.com/scikit-learn/scikit-learn/issues/21755 */display: inline-block !important;position: relative;}#sk-container-id-4 div.sk-text-repr-fallback {display: none;}</style><div id=\"sk-container-id-4\" class=\"sk-top-container\"><div class=\"sk-text-repr-fallback\"><pre>LGBMClassifier(class_weight=&#x27;balanced&#x27;, n_jobs=2, random_state=0)</pre><b>In a Jupyter environment, please rerun this cell to show the HTML representation or trust the notebook. <br />On GitHub, the HTML representation is unable to render, please try loading this page with nbviewer.org.</b></div><div class=\"sk-container\" hidden><div class=\"sk-item\"><div class=\"sk-estimator sk-toggleable\"><input class=\"sk-toggleable__control sk-hidden--visually\" id=\"sk-estimator-id-4\" type=\"checkbox\" checked><label for=\"sk-estimator-id-4\" class=\"sk-toggleable__label sk-toggleable__label-arrow\">LGBMClassifier</label><div class=\"sk-toggleable__content\"><pre>LGBMClassifier(class_weight=&#x27;balanced&#x27;, n_jobs=2, random_state=0)</pre></div></div></div></div></div>"
      ],
      "text/plain": [
       "LGBMClassifier(class_weight='balanced', n_jobs=2, random_state=0)"
      ]
     },
     "execution_count": 40,
     "metadata": {},
     "output_type": "execute_result"
    }
   ],
   "source": [
    "%%time\n",
    "\n",
    "mdl_lgbm = LGBMClassifier(random_state=0, class_weight=\"balanced\", n_jobs=2)\n",
    "mdl_lgbm.fit(x_treino, y_treino)"
   ]
  },
  {
   "cell_type": "markdown",
   "metadata": {},
   "source": [
    "Tuning do Lgbm"
   ]
  },
  {
   "cell_type": "code",
   "execution_count": 41,
   "metadata": {},
   "outputs": [],
   "source": [
    "def tune_lgbm(params):\n",
    "    print(params)\n",
    "    lr = params[0]\n",
    "    max_depth = params[1]\n",
    "    min_child_samples = params[2]\n",
    "    subsample = params[3]\n",
    "    colsample_bytree = params[4]\n",
    "    n_estimators = params[5]\n",
    "    \n",
    "    min_df = params[6]\n",
    "    ngram_range = (1, params[7])\n",
    "    \n",
    "    logger.info('Instanciando')\n",
    "    mdl_tune = LGBMClassifier(learning_rate=lr, num_leaves=2 ** max_depth, max_depth=max_depth, \n",
    "                         min_child_samples=min_child_samples, subsample=subsample,\n",
    "                         colsample_bytree=colsample_bytree, bagging_freq=1,n_estimators=n_estimators, random_state=0, \n",
    "                         class_weight=\"balanced\", n_jobs=2)\n",
    "    \n",
    "    logger.info('Treinando')\n",
    "    mdl_tune.fit(x_treino, y_treino)\n",
    "    \n",
    "    logger.info('Predict')\n",
    "    p = mdl_tune.predict_proba(x_teste)[:, 1]\n",
    "    categorias = mdl_tune.predict(x_teste)\n",
    "    \n",
    "    print('Métricas: \\n \\n')\n",
    "    \n",
    "    logger.info('Roc')\n",
    "    roc = roc_auc_score(y_teste, p)\n",
    "    print(OKBLUE, \"Roc \\n\" + str(roc) + \"\\n\")\n",
    "    \n",
    "    logger.info('Acurácia')\n",
    "    acc = accuracy_score(y_teste, categorias)\n",
    "    print(OKCYAN, \"Acc \\n\" + str(acc) + \"\\n\")\n",
    "    \n",
    "    logger.info(\"Mcc\")\n",
    "    mcc = matthews_corrcoef(y_teste, categorias)\n",
    "    print(WARNING, \"Mcc \\n\" + str(mcc) + \"\\n\")\n",
    "    \n",
    "    logger.info(\"F1\")\n",
    "    f1 = f1_score(y_teste, categorias, average=\"weighted\")\n",
    "    print(GREEN, \"F1 \\n\" + str(f1) + \"\\n\")\n",
    "    \n",
    "    logger.info('Class Report')\n",
    "    resultados = classification_report(y_teste, categorias)\n",
    "    print(ENDC, \"Class Report \\n\" + resultados + \"\\n\")\n",
    "    \n",
    "    return -accuracy_score(y_teste, categorias)\n"
   ]
  },
  {
   "cell_type": "code",
   "execution_count": 42,
   "metadata": {},
   "outputs": [],
   "source": [
    "space = [(1e-3, 1e-1, 'log-uniform'), # lr\n",
    "          (1, 10),                    # max_depth\n",
    "          (1, 20),                    # min_child_samples\n",
    "          (0.05, 1.),                 # subsample\n",
    "          (0.05, 1.),                 # colsample_bytree\n",
    "          (100,1000),                 # n_estimators\n",
    "          (1,5),                      # min_df\n",
    "          (1,5)]                      # ngram_range"
   ]
  },
  {
   "cell_type": "markdown",
   "metadata": {},
   "source": [
    "[0.009944912110647982, 5, 1, 0.4677107511929402, 0.49263223036174764, 272, 3, 1]"
   ]
  },
  {
   "cell_type": "code",
   "execution_count": null,
   "metadata": {
    "scrolled": true,
    "tags": []
   },
   "outputs": [
    {
     "name": "stderr",
     "output_type": "stream",
     "text": [
      "SVM - INFO - [+] ------- Instanciando -------\n",
      "SVM - INFO - [+] ------- Treinando -------\n"
     ]
    },
    {
     "name": "stdout",
     "output_type": "stream",
     "text": [
      "Iteration No: 1 started. Evaluating function at random point.\n",
      "[0.002848906260926589, 7, 4, 0.9793117522246534, 0.4828056676618013, 285, 1, 2]\n"
     ]
    },
    {
     "name": "stderr",
     "output_type": "stream",
     "text": [
      "SVM - INFO - [+] ------- Predict -------\n",
      "SVM - INFO - [+] ------- Roc -------\n",
      "SVM - INFO - [+] ------- Acurácia -------\n",
      "SVM - INFO - [+] ------- Mcc -------\n",
      "SVM - INFO - [+] ------- F1 -------\n",
      "SVM - INFO - [+] ------- Class Report -------\n",
      "SVM - INFO - [+] ------- Instanciando -------\n",
      "SVM - INFO - [+] ------- Treinando -------\n"
     ]
    },
    {
     "name": "stdout",
     "output_type": "stream",
     "text": [
      "Métricas: \n",
      " \n",
      "\n",
      "\u001b[94m Roc \n",
      "0.8601149036184239\n",
      "\n",
      "\u001b[96m Acc \n",
      "0.7321428571428571\n",
      "\n",
      "\u001b[93m Mcc \n",
      "0.5238984690016794\n",
      "\n",
      "\u001b[1;32m F1 \n",
      "0.7179444706055964\n",
      "\n",
      "\u001b[0m Class Report \n",
      "              precision    recall  f1-score   support\n",
      "\n",
      "           0       0.66      0.96      0.78      1777\n",
      "           1       0.93      0.51      0.66      1807\n",
      "\n",
      "    accuracy                           0.73      3584\n",
      "   macro avg       0.79      0.73      0.72      3584\n",
      "weighted avg       0.79      0.73      0.72      3584\n",
      "\n",
      "\n",
      "Iteration No: 1 ended. Evaluation done at random point.\n",
      "Time taken: 24.5481\n",
      "Function value obtained: -0.7321\n",
      "Current minimum: -0.7321\n",
      "Iteration No: 2 started. Evaluating function at random point.\n",
      "[0.0013934848991057577, 9, 8, 0.551376555079732, 0.8753613852974182, 491, 5, 1]\n",
      "[LightGBM] [Warning] bagging_freq is set=1, subsample_freq=0 will be ignored. Current value: bagging_freq=1\n"
     ]
    },
    {
     "name": "stderr",
     "output_type": "stream",
     "text": [
      "SVM - INFO - [+] ------- Predict -------\n",
      "SVM - INFO - [+] ------- Roc -------\n",
      "SVM - INFO - [+] ------- Acurácia -------\n",
      "SVM - INFO - [+] ------- Mcc -------\n",
      "SVM - INFO - [+] ------- F1 -------\n",
      "SVM - INFO - [+] ------- Class Report -------\n",
      "SVM - INFO - [+] ------- Instanciando -------\n",
      "SVM - INFO - [+] ------- Treinando -------\n"
     ]
    },
    {
     "name": "stdout",
     "output_type": "stream",
     "text": [
      "Métricas: \n",
      " \n",
      "\n",
      "\u001b[94m Roc \n",
      "0.8782060884343043\n",
      "\n",
      "\u001b[96m Acc \n",
      "0.759765625\n",
      "\n",
      "\u001b[93m Mcc \n",
      "0.5194841412385331\n",
      "\n",
      "\u001b[1;32m F1 \n",
      "0.7597482097378814\n",
      "\n",
      "\u001b[0m Class Report \n",
      "              precision    recall  f1-score   support\n",
      "\n",
      "           0       0.76      0.75      0.76      1777\n",
      "           1       0.76      0.77      0.76      1807\n",
      "\n",
      "    accuracy                           0.76      3584\n",
      "   macro avg       0.76      0.76      0.76      3584\n",
      "weighted avg       0.76      0.76      0.76      3584\n",
      "\n",
      "\n",
      "Iteration No: 2 ended. Evaluation done at random point.\n",
      "Time taken: 100.7205\n",
      "Function value obtained: -0.7598\n",
      "Current minimum: -0.7598\n",
      "Iteration No: 3 started. Evaluating function at random point.\n",
      "[0.0013547922193823181, 7, 20, 0.7093299966507859, 0.3786742894315553, 924, 1, 1]\n",
      "[LightGBM] [Warning] bagging_freq is set=1, subsample_freq=0 will be ignored. Current value: bagging_freq=1\n"
     ]
    },
    {
     "name": "stderr",
     "output_type": "stream",
     "text": [
      "SVM - INFO - [+] ------- Predict -------\n",
      "SVM - INFO - [+] ------- Roc -------\n",
      "SVM - INFO - [+] ------- Acurácia -------\n",
      "SVM - INFO - [+] ------- Mcc -------\n",
      "SVM - INFO - [+] ------- F1 -------\n",
      "SVM - INFO - [+] ------- Class Report -------\n",
      "SVM - INFO - [+] ------- Instanciando -------\n",
      "SVM - INFO - [+] ------- Treinando -------\n"
     ]
    },
    {
     "name": "stdout",
     "output_type": "stream",
     "text": [
      "Métricas: \n",
      " \n",
      "\n",
      "\u001b[94m Roc \n",
      "0.859236060353051\n",
      "\n",
      "\u001b[96m Acc \n",
      "0.7332589285714286\n",
      "\n",
      "\u001b[93m Mcc \n",
      "0.4745836880405494\n",
      "\n",
      "\u001b[1;32m F1 \n",
      "0.7313953939136526\n",
      "\n",
      "\u001b[0m Class Report \n",
      "              precision    recall  f1-score   support\n",
      "\n",
      "           0       0.70      0.82      0.75      1777\n",
      "           1       0.78      0.65      0.71      1807\n",
      "\n",
      "    accuracy                           0.73      3584\n",
      "   macro avg       0.74      0.73      0.73      3584\n",
      "weighted avg       0.74      0.73      0.73      3584\n",
      "\n",
      "\n",
      "Iteration No: 3 ended. Evaluation done at random point.\n",
      "Time taken: 41.8352\n",
      "Function value obtained: -0.7333\n",
      "Current minimum: -0.7598\n",
      "Iteration No: 4 started. Evaluating function at random point.\n",
      "[0.01588904645993246, 1, 3, 0.2687877350699166, 0.5710654232742289, 872, 2, 4]\n",
      "[LightGBM] [Warning] bagging_freq is set=1, subsample_freq=0 will be ignored. Current value: bagging_freq=1\n"
     ]
    },
    {
     "name": "stderr",
     "output_type": "stream",
     "text": [
      "SVM - INFO - [+] ------- Predict -------\n",
      "SVM - INFO - [+] ------- Roc -------\n",
      "SVM - INFO - [+] ------- Acurácia -------\n",
      "SVM - INFO - [+] ------- Mcc -------\n",
      "SVM - INFO - [+] ------- F1 -------\n",
      "SVM - INFO - [+] ------- Class Report -------\n",
      "SVM - INFO - [+] ------- Instanciando -------\n",
      "SVM - INFO - [+] ------- Treinando -------\n"
     ]
    },
    {
     "name": "stdout",
     "output_type": "stream",
     "text": [
      "Métricas: \n",
      " \n",
      "\n",
      "\u001b[94m Roc \n",
      "0.7487697907126012\n",
      "\n",
      "\u001b[96m Acc \n",
      "0.6495535714285714\n",
      "\n",
      "\u001b[93m Mcc \n",
      "0.29916239059191785\n",
      "\n",
      "\u001b[1;32m F1 \n",
      "0.649235184409454\n",
      "\n",
      "\u001b[0m Class Report \n",
      "              precision    recall  f1-score   support\n",
      "\n",
      "           0       0.65      0.62      0.64      1777\n",
      "           1       0.64      0.68      0.66      1807\n",
      "\n",
      "    accuracy                           0.65      3584\n",
      "   macro avg       0.65      0.65      0.65      3584\n",
      "weighted avg       0.65      0.65      0.65      3584\n",
      "\n",
      "\n",
      "Iteration No: 4 ended. Evaluation done at random point.\n",
      "Time taken: 4.3833\n",
      "Function value obtained: -0.6496\n",
      "Current minimum: -0.7598\n",
      "Iteration No: 5 started. Evaluating function at random point.\n",
      "[0.005878941395052321, 4, 17, 0.23368784222278904, 0.1454502731159823, 449, 5, 5]\n",
      "[LightGBM] [Warning] bagging_freq is set=1, subsample_freq=0 will be ignored. Current value: bagging_freq=1\n"
     ]
    },
    {
     "name": "stderr",
     "output_type": "stream",
     "text": [
      "SVM - INFO - [+] ------- Predict -------\n",
      "SVM - INFO - [+] ------- Roc -------\n",
      "SVM - INFO - [+] ------- Acurácia -------\n",
      "SVM - INFO - [+] ------- Mcc -------\n",
      "SVM - INFO - [+] ------- F1 -------\n",
      "SVM - INFO - [+] ------- Class Report -------\n",
      "SVM - INFO - [+] ------- Instanciando -------\n",
      "SVM - INFO - [+] ------- Treinando -------\n"
     ]
    },
    {
     "name": "stdout",
     "output_type": "stream",
     "text": [
      "Métricas: \n",
      " \n",
      "\n",
      "\u001b[94m Roc \n",
      "0.8407372193237143\n",
      "\n",
      "\u001b[96m Acc \n",
      "0.7229352678571429\n",
      "\n",
      "\u001b[93m Mcc \n",
      "0.44800760832819403\n",
      "\n",
      "\u001b[1;32m F1 \n",
      "0.722492276675381\n",
      "\n",
      "\u001b[0m Class Report \n",
      "              precision    recall  f1-score   support\n",
      "\n",
      "           0       0.70      0.77      0.73      1777\n",
      "           1       0.75      0.68      0.71      1807\n",
      "\n",
      "    accuracy                           0.72      3584\n",
      "   macro avg       0.72      0.72      0.72      3584\n",
      "weighted avg       0.72      0.72      0.72      3584\n",
      "\n",
      "\n",
      "Iteration No: 5 ended. Evaluation done at random point.\n",
      "Time taken: 3.6859\n",
      "Function value obtained: -0.7229\n",
      "Current minimum: -0.7598\n",
      "Iteration No: 6 started. Evaluating function at random point.\n",
      "[0.07989078485490929, 8, 11, 0.3126889723988033, 0.4741806002722317, 491, 5, 1]\n",
      "[LightGBM] [Warning] bagging_freq is set=1, subsample_freq=0 will be ignored. Current value: bagging_freq=1\n"
     ]
    },
    {
     "name": "stderr",
     "output_type": "stream",
     "text": [
      "SVM - INFO - [+] ------- Predict -------\n",
      "SVM - INFO - [+] ------- Roc -------\n",
      "SVM - INFO - [+] ------- Acurácia -------\n",
      "SVM - INFO - [+] ------- Mcc -------\n",
      "SVM - INFO - [+] ------- F1 -------\n",
      "SVM - INFO - [+] ------- Class Report -------\n",
      "SVM - INFO - [+] ------- Instanciando -------\n",
      "SVM - INFO - [+] ------- Treinando -------\n"
     ]
    },
    {
     "name": "stdout",
     "output_type": "stream",
     "text": [
      "Métricas: \n",
      " \n",
      "\n",
      "\u001b[94m Roc \n",
      "0.9128092184492309\n",
      "\n",
      "\u001b[96m Acc \n",
      "0.7999441964285714\n",
      "\n",
      "\u001b[93m Mcc \n",
      "0.5999654636780942\n",
      "\n",
      "\u001b[1;32m F1 \n",
      "0.7999461432495207\n",
      "\n",
      "\u001b[0m Class Report \n",
      "              precision    recall  f1-score   support\n",
      "\n",
      "           0       0.79      0.81      0.80      1777\n",
      "           1       0.81      0.79      0.80      1807\n",
      "\n",
      "    accuracy                           0.80      3584\n",
      "   macro avg       0.80      0.80      0.80      3584\n",
      "weighted avg       0.80      0.80      0.80      3584\n",
      "\n",
      "\n",
      "Iteration No: 6 ended. Evaluation done at random point.\n",
      "Time taken: 63.8843\n",
      "Function value obtained: -0.7999\n",
      "Current minimum: -0.7999\n",
      "Iteration No: 7 started. Evaluating function at random point.\n",
      "[0.003565316562441852, 4, 2, 0.38532944764717497, 0.6745294896407704, 119, 4, 5]\n",
      "[LightGBM] [Warning] bagging_freq is set=1, subsample_freq=0 will be ignored. Current value: bagging_freq=1\n"
     ]
    },
    {
     "name": "stderr",
     "output_type": "stream",
     "text": [
      "SVM - INFO - [+] ------- Predict -------\n",
      "SVM - INFO - [+] ------- Roc -------\n",
      "SVM - INFO - [+] ------- Acurácia -------\n",
      "SVM - INFO - [+] ------- Mcc -------\n",
      "SVM - INFO - [+] ------- F1 -------\n",
      "SVM - INFO - [+] ------- Class Report -------\n",
      "SVM - INFO - [+] ------- Instanciando -------\n",
      "SVM - INFO - [+] ------- Treinando -------\n"
     ]
    },
    {
     "name": "stdout",
     "output_type": "stream",
     "text": [
      "Métricas: \n",
      " \n",
      "\n",
      "\u001b[94m Roc \n",
      "0.807179389599441\n",
      "\n",
      "\u001b[96m Acc \n",
      "0.6858258928571429\n",
      "\n",
      "\u001b[93m Mcc \n",
      "0.37423147314645483\n",
      "\n",
      "\u001b[1;32m F1 \n",
      "0.6842570431525419\n",
      "\n",
      "\u001b[0m Class Report \n",
      "              precision    recall  f1-score   support\n",
      "\n",
      "           0       0.71      0.62      0.66      1777\n",
      "           1       0.67      0.75      0.71      1807\n",
      "\n",
      "    accuracy                           0.69      3584\n",
      "   macro avg       0.69      0.69      0.68      3584\n",
      "weighted avg       0.69      0.69      0.68      3584\n",
      "\n",
      "\n",
      "Iteration No: 7 ended. Evaluation done at random point.\n",
      "Time taken: 4.3382\n",
      "Function value obtained: -0.6858\n",
      "Current minimum: -0.7999\n",
      "Iteration No: 8 started. Evaluating function at random point.\n",
      "[0.007356721717486374, 10, 6, 0.803891498382606, 0.3761398464744011, 515, 3, 4]\n",
      "[LightGBM] [Warning] bagging_freq is set=1, subsample_freq=0 will be ignored. Current value: bagging_freq=1\n"
     ]
    },
    {
     "name": "stderr",
     "output_type": "stream",
     "text": [
      "SVM - INFO - [+] ------- Predict -------\n",
      "SVM - INFO - [+] ------- Roc -------\n",
      "SVM - INFO - [+] ------- Acurácia -------\n",
      "SVM - INFO - [+] ------- Mcc -------\n",
      "SVM - INFO - [+] ------- F1 -------\n",
      "SVM - INFO - [+] ------- Class Report -------\n",
      "SVM - INFO - [+] ------- Instanciando -------\n",
      "SVM - INFO - [+] ------- Treinando -------\n"
     ]
    },
    {
     "name": "stdout",
     "output_type": "stream",
     "text": [
      "Métricas: \n",
      " \n",
      "\n",
      "\u001b[94m Roc \n",
      "0.9100026502325259\n",
      "\n",
      "\u001b[96m Acc \n",
      "0.7907366071428571\n",
      "\n",
      "\u001b[93m Mcc \n",
      "0.5814380324028194\n",
      "\n",
      "\u001b[1;32m F1 \n",
      "0.7907225288852198\n",
      "\n",
      "\u001b[0m Class Report \n",
      "              precision    recall  f1-score   support\n",
      "\n",
      "           0       0.79      0.78      0.79      1777\n",
      "           1       0.79      0.80      0.79      1807\n",
      "\n",
      "    accuracy                           0.79      3584\n",
      "   macro avg       0.79      0.79      0.79      3584\n",
      "weighted avg       0.79      0.79      0.79      3584\n",
      "\n",
      "\n",
      "Iteration No: 8 ended. Evaluation done at random point.\n",
      "Time taken: 116.0192\n",
      "Function value obtained: -0.7907\n",
      "Current minimum: -0.7999\n",
      "Iteration No: 9 started. Evaluating function at random point.\n",
      "[0.007127006343867176, 6, 4, 0.29617898236320667, 0.4349391054463054, 624, 4, 2]\n",
      "[LightGBM] [Warning] bagging_freq is set=1, subsample_freq=0 will be ignored. Current value: bagging_freq=1\n"
     ]
    },
    {
     "name": "stderr",
     "output_type": "stream",
     "text": [
      "SVM - INFO - [+] ------- Predict -------\n",
      "SVM - INFO - [+] ------- Roc -------\n",
      "SVM - INFO - [+] ------- Acurácia -------\n",
      "SVM - INFO - [+] ------- Mcc -------\n",
      "SVM - INFO - [+] ------- F1 -------\n",
      "SVM - INFO - [+] ------- Class Report -------\n",
      "SVM - INFO - [+] ------- Instanciando -------\n",
      "SVM - INFO - [+] ------- Treinando -------\n"
     ]
    },
    {
     "name": "stdout",
     "output_type": "stream",
     "text": [
      "Métricas: \n",
      " \n",
      "\n",
      "\u001b[94m Roc \n",
      "0.8941868971382783\n",
      "\n",
      "\u001b[96m Acc \n",
      "0.7723214285714286\n",
      "\n",
      "\u001b[93m Mcc \n",
      "0.5445981574885095\n",
      "\n",
      "\u001b[1;32m F1 \n",
      "0.7723143376896152\n",
      "\n",
      "\u001b[0m Class Report \n",
      "              precision    recall  f1-score   support\n",
      "\n",
      "           0       0.77      0.77      0.77      1777\n",
      "           1       0.77      0.78      0.77      1807\n",
      "\n",
      "    accuracy                           0.77      3584\n",
      "   macro avg       0.77      0.77      0.77      3584\n",
      "weighted avg       0.77      0.77      0.77      3584\n",
      "\n",
      "\n",
      "Iteration No: 9 ended. Evaluation done at random point.\n",
      "Time taken: 26.6822\n",
      "Function value obtained: -0.7723\n",
      "Current minimum: -0.7999\n",
      "Iteration No: 10 started. Evaluating function at random point.\n",
      "[0.036599152349364894, 4, 15, 0.7498407416618981, 0.5149517197070134, 927, 4, 1]\n",
      "[LightGBM] [Warning] bagging_freq is set=1, subsample_freq=0 will be ignored. Current value: bagging_freq=1\n"
     ]
    },
    {
     "name": "stderr",
     "output_type": "stream",
     "text": [
      "SVM - INFO - [+] ------- Predict -------\n",
      "SVM - INFO - [+] ------- Roc -------\n",
      "SVM - INFO - [+] ------- Acurácia -------\n",
      "SVM - INFO - [+] ------- Mcc -------\n",
      "SVM - INFO - [+] ------- F1 -------\n",
      "SVM - INFO - [+] ------- Class Report -------\n",
      "SVM - INFO - [+] ------- Instanciando -------\n",
      "SVM - INFO - [+] ------- Treinando -------\n"
     ]
    },
    {
     "name": "stdout",
     "output_type": "stream",
     "text": [
      "Métricas: \n",
      " \n",
      "\n",
      "\u001b[94m Roc \n",
      "0.9016978616578621\n",
      "\n",
      "\u001b[96m Acc \n",
      "0.7862723214285714\n",
      "\n",
      "\u001b[93m Mcc \n",
      "0.5727372202615963\n",
      "\n",
      "\u001b[1;32m F1 \n",
      "0.786265665814381\n",
      "\n",
      "\u001b[0m Class Report \n",
      "              precision    recall  f1-score   support\n",
      "\n",
      "           0       0.78      0.80      0.79      1777\n",
      "           1       0.79      0.78      0.79      1807\n",
      "\n",
      "    accuracy                           0.79      3584\n",
      "   macro avg       0.79      0.79      0.79      3584\n",
      "weighted avg       0.79      0.79      0.79      3584\n",
      "\n",
      "\n",
      "Iteration No: 10 ended. Evaluation done at random point.\n",
      "Time taken: 19.8744\n",
      "Function value obtained: -0.7863\n",
      "Current minimum: -0.7999\n",
      "Iteration No: 11 started. Evaluating function at random point.\n",
      "[0.015317552398482514, 9, 12, 0.475509129881716, 0.6762716542833134, 139, 4, 5]\n",
      "[LightGBM] [Warning] bagging_freq is set=1, subsample_freq=0 will be ignored. Current value: bagging_freq=1\n"
     ]
    },
    {
     "name": "stderr",
     "output_type": "stream",
     "text": [
      "SVM - INFO - [+] ------- Predict -------\n",
      "SVM - INFO - [+] ------- Roc -------\n",
      "SVM - INFO - [+] ------- Acurácia -------\n",
      "SVM - INFO - [+] ------- Mcc -------\n",
      "SVM - INFO - [+] ------- F1 -------\n",
      "SVM - INFO - [+] ------- Class Report -------\n",
      "SVM - INFO - [+] ------- Instanciando -------\n",
      "SVM - INFO - [+] ------- Treinando -------\n"
     ]
    },
    {
     "name": "stdout",
     "output_type": "stream",
     "text": [
      "Métricas: \n",
      " \n",
      "\n",
      "\u001b[94m Roc \n",
      "0.8931053157560528\n",
      "\n",
      "\u001b[96m Acc \n",
      "0.7759486607142857\n",
      "\n",
      "\u001b[93m Mcc \n",
      "0.5519263432142718\n",
      "\n",
      "\u001b[1;32m F1 \n",
      "0.7759525155824509\n",
      "\n",
      "\u001b[0m Class Report \n",
      "              precision    recall  f1-score   support\n",
      "\n",
      "           0       0.77      0.78      0.78      1777\n",
      "           1       0.78      0.77      0.78      1807\n",
      "\n",
      "    accuracy                           0.78      3584\n",
      "   macro avg       0.78      0.78      0.78      3584\n",
      "weighted avg       0.78      0.78      0.78      3584\n",
      "\n",
      "\n",
      "Iteration No: 11 ended. Evaluation done at random point.\n",
      "Time taken: 22.5244\n",
      "Function value obtained: -0.7759\n",
      "Current minimum: -0.7999\n",
      "Iteration No: 12 started. Evaluating function at random point.\n",
      "[0.01161756706425952, 9, 7, 0.8089502193893043, 0.4322690600904249, 747, 2, 3]\n",
      "[LightGBM] [Warning] bagging_freq is set=1, subsample_freq=0 will be ignored. Current value: bagging_freq=1\n"
     ]
    },
    {
     "name": "stderr",
     "output_type": "stream",
     "text": [
      "SVM - INFO - [+] ------- Predict -------\n",
      "SVM - INFO - [+] ------- Roc -------\n",
      "SVM - INFO - [+] ------- Acurácia -------\n",
      "SVM - INFO - [+] ------- Mcc -------\n",
      "SVM - INFO - [+] ------- F1 -------\n",
      "SVM - INFO - [+] ------- Class Report -------\n",
      "SVM - INFO - [+] ------- Instanciando -------\n",
      "SVM - INFO - [+] ------- Treinando -------\n"
     ]
    },
    {
     "name": "stdout",
     "output_type": "stream",
     "text": [
      "Métricas: \n",
      " \n",
      "\n",
      "\u001b[94m Roc \n",
      "0.9164933842285938\n",
      "\n",
      "\u001b[96m Acc \n",
      "0.8005022321428571\n",
      "\n",
      "\u001b[93m Mcc \n",
      "0.6009680909800339\n",
      "\n",
      "\u001b[1;32m F1 \n",
      "0.8004935490115931\n",
      "\n",
      "\u001b[0m Class Report \n",
      "              precision    recall  f1-score   support\n",
      "\n",
      "           0       0.80      0.80      0.80      1777\n",
      "           1       0.80      0.81      0.80      1807\n",
      "\n",
      "    accuracy                           0.80      3584\n",
      "   macro avg       0.80      0.80      0.80      3584\n",
      "weighted avg       0.80      0.80      0.80      3584\n",
      "\n",
      "\n",
      "Iteration No: 12 ended. Evaluation done at random point.\n",
      "Time taken: 170.1290\n",
      "Function value obtained: -0.8005\n",
      "Current minimum: -0.8005\n",
      "Iteration No: 13 started. Evaluating function at random point.\n",
      "[0.006228100621704902, 5, 10, 0.4441566839445894, 0.4757146246275872, 864, 3, 5]\n",
      "[LightGBM] [Warning] bagging_freq is set=1, subsample_freq=0 will be ignored. Current value: bagging_freq=1\n"
     ]
    },
    {
     "name": "stderr",
     "output_type": "stream",
     "text": [
      "SVM - INFO - [+] ------- Predict -------\n",
      "SVM - INFO - [+] ------- Roc -------\n",
      "SVM - INFO - [+] ------- Acurácia -------\n",
      "SVM - INFO - [+] ------- Mcc -------\n",
      "SVM - INFO - [+] ------- F1 -------\n",
      "SVM - INFO - [+] ------- Class Report -------\n",
      "SVM - INFO - [+] ------- Instanciando -------\n",
      "SVM - INFO - [+] ------- Treinando -------\n"
     ]
    },
    {
     "name": "stdout",
     "output_type": "stream",
     "text": [
      "Métricas: \n",
      " \n",
      "\n",
      "\u001b[94m Roc \n",
      "0.8838949013076453\n",
      "\n",
      "\u001b[96m Acc \n",
      "0.7614397321428571\n",
      "\n",
      "\u001b[93m Mcc \n",
      "0.5228344185238964\n",
      "\n",
      "\u001b[1;32m F1 \n",
      "0.7614349214440777\n",
      "\n",
      "\u001b[0m Class Report \n",
      "              precision    recall  f1-score   support\n",
      "\n",
      "           0       0.76      0.76      0.76      1777\n",
      "           1       0.76      0.77      0.76      1807\n",
      "\n",
      "    accuracy                           0.76      3584\n",
      "   macro avg       0.76      0.76      0.76      3584\n",
      "weighted avg       0.76      0.76      0.76      3584\n",
      "\n",
      "\n",
      "Iteration No: 13 ended. Evaluation done at random point.\n",
      "Time taken: 23.7068\n",
      "Function value obtained: -0.7614\n",
      "Current minimum: -0.8005\n",
      "Iteration No: 14 started. Evaluating function at random point.\n",
      "[0.0016596291809140315, 3, 11, 0.8929245042600982, 0.6911728313734484, 586, 3, 2]\n",
      "[LightGBM] [Warning] bagging_freq is set=1, subsample_freq=0 will be ignored. Current value: bagging_freq=1\n"
     ]
    },
    {
     "name": "stderr",
     "output_type": "stream",
     "text": [
      "SVM - INFO - [+] ------- Predict -------\n",
      "SVM - INFO - [+] ------- Roc -------\n",
      "SVM - INFO - [+] ------- Acurácia -------\n",
      "SVM - INFO - [+] ------- Mcc -------\n",
      "SVM - INFO - [+] ------- F1 -------\n",
      "SVM - INFO - [+] ------- Class Report -------\n",
      "SVM - INFO - [+] ------- Instanciando -------\n",
      "SVM - INFO - [+] ------- Treinando -------\n"
     ]
    },
    {
     "name": "stdout",
     "output_type": "stream",
     "text": [
      "Métricas: \n",
      " \n",
      "\n",
      "\u001b[94m Roc \n",
      "0.7368832954068762\n",
      "\n",
      "\u001b[96m Acc \n",
      "0.64453125\n",
      "\n",
      "\u001b[93m Mcc \n",
      "0.33444096666346856\n",
      "\n",
      "\u001b[1;32m F1 \n",
      "0.6227051595619051\n",
      "\n",
      "\u001b[0m Class Report \n",
      "              precision    recall  f1-score   support\n",
      "\n",
      "           0       0.59      0.89      0.71      1777\n",
      "           1       0.79      0.40      0.53      1807\n",
      "\n",
      "    accuracy                           0.64      3584\n",
      "   macro avg       0.69      0.65      0.62      3584\n",
      "weighted avg       0.69      0.64      0.62      3584\n",
      "\n",
      "\n",
      "Iteration No: 14 ended. Evaluation done at random point.\n",
      "Time taken: 10.9014\n",
      "Function value obtained: -0.6445\n",
      "Current minimum: -0.8005\n",
      "Iteration No: 15 started. Evaluating function at random point.\n",
      "[0.002977669392913177, 2, 13, 0.3127349188285775, 0.5019762744530321, 787, 2, 5]\n",
      "[LightGBM] [Warning] bagging_freq is set=1, subsample_freq=0 will be ignored. Current value: bagging_freq=1\n"
     ]
    },
    {
     "name": "stderr",
     "output_type": "stream",
     "text": [
      "SVM - INFO - [+] ------- Predict -------\n",
      "SVM - INFO - [+] ------- Roc -------\n",
      "SVM - INFO - [+] ------- Acurácia -------\n",
      "SVM - INFO - [+] ------- Mcc -------\n",
      "SVM - INFO - [+] ------- F1 -------\n",
      "SVM - INFO - [+] ------- Class Report -------\n",
      "SVM - INFO - [+] ------- Instanciando -------\n",
      "SVM - INFO - [+] ------- Treinando -------\n"
     ]
    },
    {
     "name": "stdout",
     "output_type": "stream",
     "text": [
      "Métricas: \n",
      " \n",
      "\n",
      "\u001b[94m Roc \n",
      "0.7495869716935859\n",
      "\n",
      "\u001b[96m Acc \n",
      "0.6520647321428571\n",
      "\n",
      "\u001b[93m Mcc \n",
      "0.30984641121885986\n",
      "\n",
      "\u001b[1;32m F1 \n",
      "0.6496503304376652\n",
      "\n",
      "\u001b[0m Class Report \n",
      "              precision    recall  f1-score   support\n",
      "\n",
      "           0       0.63      0.74      0.68      1777\n",
      "           1       0.69      0.57      0.62      1807\n",
      "\n",
      "    accuracy                           0.65      3584\n",
      "   macro avg       0.66      0.65      0.65      3584\n",
      "weighted avg       0.66      0.65      0.65      3584\n",
      "\n",
      "\n",
      "Iteration No: 15 ended. Evaluation done at random point.\n",
      "Time taken: 5.6509\n",
      "Function value obtained: -0.6521\n",
      "Current minimum: -0.8005\n",
      "Iteration No: 16 started. Evaluating function at random point.\n",
      "[0.020772870702076368, 10, 12, 0.38921709693523504, 0.8221880726555211, 185, 4, 5]\n",
      "[LightGBM] [Warning] bagging_freq is set=1, subsample_freq=0 will be ignored. Current value: bagging_freq=1\n"
     ]
    },
    {
     "name": "stderr",
     "output_type": "stream",
     "text": [
      "SVM - INFO - [+] ------- Predict -------\n",
      "SVM - INFO - [+] ------- Roc -------\n",
      "SVM - INFO - [+] ------- Acurácia -------\n",
      "SVM - INFO - [+] ------- Mcc -------\n",
      "SVM - INFO - [+] ------- F1 -------\n",
      "SVM - INFO - [+] ------- Class Report -------\n",
      "SVM - INFO - [+] ------- Instanciando -------\n",
      "SVM - INFO - [+] ------- Treinando -------\n"
     ]
    },
    {
     "name": "stdout",
     "output_type": "stream",
     "text": [
      "Métricas: \n",
      " \n",
      "\n",
      "\u001b[94m Roc \n",
      "0.9085355238600342\n",
      "\n",
      "\u001b[96m Acc \n",
      "0.7946428571428571\n",
      "\n",
      "\u001b[93m Mcc \n",
      "0.5892569352162961\n",
      "\n",
      "\u001b[1;32m F1 \n",
      "0.7946428571428571\n",
      "\n",
      "\u001b[0m Class Report \n",
      "              precision    recall  f1-score   support\n",
      "\n",
      "           0       0.79      0.79      0.79      1777\n",
      "           1       0.80      0.80      0.80      1807\n",
      "\n",
      "    accuracy                           0.79      3584\n",
      "   macro avg       0.79      0.79      0.79      3584\n",
      "weighted avg       0.79      0.79      0.79      3584\n",
      "\n",
      "\n",
      "Iteration No: 16 ended. Evaluation done at random point.\n",
      "Time taken: 51.9717\n",
      "Function value obtained: -0.7946\n",
      "Current minimum: -0.8005\n",
      "Iteration No: 17 started. Evaluating function at random point.\n",
      "[0.028597137681187854, 8, 13, 0.05678611151504857, 0.44924399198890835, 185, 3, 2]\n",
      "[LightGBM] [Warning] bagging_freq is set=1, subsample_freq=0 will be ignored. Current value: bagging_freq=1\n"
     ]
    },
    {
     "name": "stderr",
     "output_type": "stream",
     "text": [
      "SVM - INFO - [+] ------- Predict -------\n",
      "SVM - INFO - [+] ------- Roc -------\n",
      "SVM - INFO - [+] ------- Acurácia -------\n",
      "SVM - INFO - [+] ------- Mcc -------\n",
      "SVM - INFO - [+] ------- F1 -------\n",
      "SVM - INFO - [+] ------- Class Report -------\n",
      "SVM - INFO - [+] ------- Instanciando -------\n",
      "SVM - INFO - [+] ------- Treinando -------\n"
     ]
    },
    {
     "name": "stdout",
     "output_type": "stream",
     "text": [
      "Métricas: \n",
      " \n",
      "\n",
      "\u001b[94m Roc \n",
      "0.8120409001572388\n",
      "\n",
      "\u001b[96m Acc \n",
      "0.7265625\n",
      "\n",
      "\u001b[93m Mcc \n",
      "0.45363667654534895\n",
      "\n",
      "\u001b[1;32m F1 \n",
      "0.7264981181421398\n",
      "\n",
      "\u001b[0m Class Report \n",
      "              precision    recall  f1-score   support\n",
      "\n",
      "           0       0.72      0.74      0.73      1777\n",
      "           1       0.74      0.71      0.72      1807\n",
      "\n",
      "    accuracy                           0.73      3584\n",
      "   macro avg       0.73      0.73      0.73      3584\n",
      "weighted avg       0.73      0.73      0.73      3584\n",
      "\n",
      "\n",
      "Iteration No: 17 ended. Evaluation done at random point.\n",
      "Time taken: 7.9254\n",
      "Function value obtained: -0.7266\n",
      "Current minimum: -0.8005\n",
      "Iteration No: 18 started. Evaluating function at random point.\n",
      "[0.002665858858303951, 3, 17, 0.22669894338950852, 0.8217063882865693, 729, 2, 1]\n",
      "[LightGBM] [Warning] bagging_freq is set=1, subsample_freq=0 will be ignored. Current value: bagging_freq=1\n"
     ]
    },
    {
     "name": "stderr",
     "output_type": "stream",
     "text": [
      "SVM - INFO - [+] ------- Predict -------\n",
      "SVM - INFO - [+] ------- Roc -------\n",
      "SVM - INFO - [+] ------- Acurácia -------\n",
      "SVM - INFO - [+] ------- Mcc -------\n",
      "SVM - INFO - [+] ------- F1 -------\n",
      "SVM - INFO - [+] ------- Class Report -------\n",
      "SVM - INFO - [+] ------- Instanciando -------\n",
      "SVM - INFO - [+] ------- Treinando -------\n"
     ]
    },
    {
     "name": "stdout",
     "output_type": "stream",
     "text": [
      "Métricas: \n",
      " \n",
      "\n",
      "\u001b[94m Roc \n",
      "0.8069724472359259\n",
      "\n",
      "\u001b[96m Acc \n",
      "0.6955915178571429\n",
      "\n",
      "\u001b[93m Mcc \n",
      "0.39118474605243037\n",
      "\n",
      "\u001b[1;32m F1 \n",
      "0.6954670002806171\n",
      "\n",
      "\u001b[0m Class Report \n",
      "              precision    recall  f1-score   support\n",
      "\n",
      "           0       0.70      0.68      0.69      1777\n",
      "           1       0.69      0.71      0.70      1807\n",
      "\n",
      "    accuracy                           0.70      3584\n",
      "   macro avg       0.70      0.70      0.70      3584\n",
      "weighted avg       0.70      0.70      0.70      3584\n",
      "\n",
      "\n",
      "Iteration No: 18 ended. Evaluation done at random point.\n",
      "Time taken: 10.4234\n",
      "Function value obtained: -0.6956\n",
      "Current minimum: -0.8005\n",
      "Iteration No: 19 started. Evaluating function at random point.\n",
      "[0.012261502944306644, 10, 11, 0.6995850389013204, 0.5136930252014882, 283, 3, 2]\n",
      "[LightGBM] [Warning] bagging_freq is set=1, subsample_freq=0 will be ignored. Current value: bagging_freq=1\n"
     ]
    },
    {
     "name": "stderr",
     "output_type": "stream",
     "text": [
      "SVM - INFO - [+] ------- Predict -------\n",
      "SVM - INFO - [+] ------- Roc -------\n",
      "SVM - INFO - [+] ------- Acurácia -------\n",
      "SVM - INFO - [+] ------- Mcc -------\n",
      "SVM - INFO - [+] ------- F1 -------\n",
      "SVM - INFO - [+] ------- Class Report -------\n",
      "SVM - INFO - [+] ------- Instanciando -------\n",
      "SVM - INFO - [+] ------- Treinando -------\n"
     ]
    },
    {
     "name": "stdout",
     "output_type": "stream",
     "text": [
      "Métricas: \n",
      " \n",
      "\n",
      "\u001b[94m Roc \n",
      "0.9085180840220253\n",
      "\n",
      "\u001b[96m Acc \n",
      "0.7924107142857143\n",
      "\n",
      "\u001b[93m Mcc \n",
      "0.585015631006103\n",
      "\n",
      "\u001b[1;32m F1 \n",
      "0.7924042498249341\n",
      "\n",
      "\u001b[0m Class Report \n",
      "              precision    recall  f1-score   support\n",
      "\n",
      "           0       0.78      0.80      0.79      1777\n",
      "           1       0.80      0.78      0.79      1807\n",
      "\n",
      "    accuracy                           0.79      3584\n",
      "   macro avg       0.79      0.79      0.79      3584\n",
      "weighted avg       0.79      0.79      0.79      3584\n",
      "\n",
      "\n",
      "Iteration No: 19 ended. Evaluation done at random point.\n",
      "Time taken: 63.6989\n",
      "Function value obtained: -0.7924\n",
      "Current minimum: -0.8005\n",
      "Iteration No: 20 started. Evaluating function at random point.\n",
      "[0.01109640278858081, 6, 12, 0.29987990975861256, 0.5509215014641425, 660, 2, 2]\n",
      "[LightGBM] [Warning] bagging_freq is set=1, subsample_freq=0 will be ignored. Current value: bagging_freq=1\n"
     ]
    },
    {
     "name": "stderr",
     "output_type": "stream",
     "text": [
      "SVM - INFO - [+] ------- Predict -------\n",
      "SVM - INFO - [+] ------- Roc -------\n",
      "SVM - INFO - [+] ------- Acurácia -------\n",
      "SVM - INFO - [+] ------- Mcc -------\n",
      "SVM - INFO - [+] ------- F1 -------\n",
      "SVM - INFO - [+] ------- Class Report -------\n",
      "SVM - INFO - [+] ------- Instanciando -------\n",
      "SVM - INFO - [+] ------- Treinando -------\n"
     ]
    },
    {
     "name": "stdout",
     "output_type": "stream",
     "text": [
      "Métricas: \n",
      " \n",
      "\n",
      "\u001b[94m Roc \n",
      "0.9002266867515469\n",
      "\n",
      "\u001b[96m Acc \n",
      "0.7857142857142857\n",
      "\n",
      "\u001b[93m Mcc \n",
      "0.571407973252887\n",
      "\n",
      "\u001b[1;32m F1 \n",
      "0.7857160207699511\n",
      "\n",
      "\u001b[0m Class Report \n",
      "              precision    recall  f1-score   support\n",
      "\n",
      "           0       0.78      0.79      0.78      1777\n",
      "           1       0.79      0.79      0.79      1807\n",
      "\n",
      "    accuracy                           0.79      3584\n",
      "   macro avg       0.79      0.79      0.79      3584\n",
      "weighted avg       0.79      0.79      0.79      3584\n",
      "\n",
      "\n",
      "Iteration No: 20 ended. Evaluation done at random point.\n",
      "Time taken: 34.4952\n",
      "Function value obtained: -0.7857\n",
      "Current minimum: -0.8005\n",
      "Iteration No: 21 started. Searching for the next optimal point.\n",
      "[0.02289490168778075, 5, 11, 0.6810083653310239, 0.6547456040634939, 960, 5, 1]\n",
      "[LightGBM] [Warning] bagging_freq is set=1, subsample_freq=0 will be ignored. Current value: bagging_freq=1\n"
     ]
    },
    {
     "name": "stderr",
     "output_type": "stream",
     "text": [
      "SVM - INFO - [+] ------- Predict -------\n",
      "SVM - INFO - [+] ------- Roc -------\n",
      "SVM - INFO - [+] ------- Acurácia -------\n",
      "SVM - INFO - [+] ------- Mcc -------\n",
      "SVM - INFO - [+] ------- F1 -------\n",
      "SVM - INFO - [+] ------- Class Report -------\n",
      "SVM - INFO - [+] ------- Instanciando -------\n",
      "SVM - INFO - [+] ------- Treinando -------\n"
     ]
    },
    {
     "name": "stdout",
     "output_type": "stream",
     "text": [
      "Métricas: \n",
      " \n",
      "\n",
      "\u001b[94m Roc \n",
      "0.9066286644291771\n",
      "\n",
      "\u001b[96m Acc \n",
      "0.7915736607142857\n",
      "\n",
      "\u001b[93m Mcc \n",
      "0.5831317444778286\n",
      "\n",
      "\u001b[1;32m F1 \n",
      "0.7915486822874833\n",
      "\n",
      "\u001b[0m Class Report \n",
      "              precision    recall  f1-score   support\n",
      "\n",
      "           0       0.79      0.78      0.79      1777\n",
      "           1       0.79      0.80      0.79      1807\n",
      "\n",
      "    accuracy                           0.79      3584\n",
      "   macro avg       0.79      0.79      0.79      3584\n",
      "weighted avg       0.79      0.79      0.79      3584\n",
      "\n",
      "\n",
      "Iteration No: 21 ended. Search finished for the next optimal point.\n",
      "Time taken: 41.0632\n",
      "Function value obtained: -0.7916\n",
      "Current minimum: -0.8005\n",
      "Iteration No: 22 started. Searching for the next optimal point.\n",
      "[0.022231460859756823, 4, 1, 0.8560160678052097, 0.5993472179703732, 901, 4, 1]\n",
      "[LightGBM] [Warning] bagging_freq is set=1, subsample_freq=0 will be ignored. Current value: bagging_freq=1\n"
     ]
    },
    {
     "name": "stderr",
     "output_type": "stream",
     "text": [
      "SVM - INFO - [+] ------- Predict -------\n",
      "SVM - INFO - [+] ------- Roc -------\n",
      "SVM - INFO - [+] ------- Acurácia -------\n",
      "SVM - INFO - [+] ------- Mcc -------\n",
      "SVM - INFO - [+] ------- F1 -------\n",
      "SVM - INFO - [+] ------- Class Report -------\n",
      "SVM - INFO - [+] ------- Instanciando -------\n",
      "SVM - INFO - [+] ------- Treinando -------\n"
     ]
    },
    {
     "name": "stdout",
     "output_type": "stream",
     "text": [
      "Métricas: \n",
      " \n",
      "\n",
      "\u001b[94m Roc \n",
      "0.8882533036814564\n",
      "\n",
      "\u001b[96m Acc \n",
      "0.7706473214285714\n",
      "\n",
      "\u001b[93m Mcc \n",
      "0.5412490202374008\n",
      "\n",
      "\u001b[1;32m F1 \n",
      "0.7706363208889828\n",
      "\n",
      "\u001b[0m Class Report \n",
      "              precision    recall  f1-score   support\n",
      "\n",
      "           0       0.77      0.76      0.77      1777\n",
      "           1       0.77      0.78      0.77      1807\n",
      "\n",
      "    accuracy                           0.77      3584\n",
      "   macro avg       0.77      0.77      0.77      3584\n",
      "weighted avg       0.77      0.77      0.77      3584\n",
      "\n",
      "\n",
      "Iteration No: 22 ended. Search finished for the next optimal point.\n",
      "Time taken: 22.6009\n",
      "Function value obtained: -0.7706\n",
      "Current minimum: -0.8005\n",
      "Iteration No: 23 started. Searching for the next optimal point.\n",
      "[0.06792610348116336, 10, 6, 0.09926926329416222, 0.46739691204933415, 860, 1, 4]\n",
      "[LightGBM] [Warning] bagging_freq is set=1, subsample_freq=0 will be ignored. Current value: bagging_freq=1\n"
     ]
    },
    {
     "name": "stderr",
     "output_type": "stream",
     "text": [
      "SVM - INFO - [+] ------- Predict -------\n",
      "SVM - INFO - [+] ------- Roc -------\n",
      "SVM - INFO - [+] ------- Acurácia -------\n",
      "SVM - INFO - [+] ------- Mcc -------\n",
      "SVM - INFO - [+] ------- F1 -------\n",
      "SVM - INFO - [+] ------- Class Report -------\n",
      "SVM - INFO - [+] ------- Instanciando -------\n",
      "SVM - INFO - [+] ------- Treinando -------\n"
     ]
    },
    {
     "name": "stdout",
     "output_type": "stream",
     "text": [
      "Métricas: \n",
      " \n",
      "\n",
      "\u001b[94m Roc \n",
      "0.8880268972130204\n",
      "\n",
      "\u001b[96m Acc \n",
      "0.7806919642857143\n",
      "\n",
      "\u001b[93m Mcc \n",
      "0.5614527185305034\n",
      "\n",
      "\u001b[1;32m F1 \n",
      "0.7806944228538709\n",
      "\n",
      "\u001b[0m Class Report \n",
      "              precision    recall  f1-score   support\n",
      "\n",
      "           0       0.78      0.79      0.78      1777\n",
      "           1       0.79      0.78      0.78      1807\n",
      "\n",
      "    accuracy                           0.78      3584\n",
      "   macro avg       0.78      0.78      0.78      3584\n",
      "weighted avg       0.78      0.78      0.78      3584\n",
      "\n",
      "\n",
      "Iteration No: 23 ended. Search finished for the next optimal point.\n",
      "Time taken: 114.6073\n",
      "Function value obtained: -0.7807\n",
      "Current minimum: -0.8005\n",
      "Iteration No: 24 started. Searching for the next optimal point.\n",
      "[0.05208069357337885, 4, 9, 0.894314650097864, 0.5462814998296254, 625, 1, 1]\n",
      "[LightGBM] [Warning] bagging_freq is set=1, subsample_freq=0 will be ignored. Current value: bagging_freq=1\n"
     ]
    },
    {
     "name": "stderr",
     "output_type": "stream",
     "text": [
      "SVM - INFO - [+] ------- Predict -------\n",
      "SVM - INFO - [+] ------- Roc -------\n",
      "SVM - INFO - [+] ------- Acurácia -------\n",
      "SVM - INFO - [+] ------- Mcc -------\n",
      "SVM - INFO - [+] ------- F1 -------\n",
      "SVM - INFO - [+] ------- Class Report -------\n"
     ]
    },
    {
     "name": "stdout",
     "output_type": "stream",
     "text": [
      "Métricas: \n",
      " \n",
      "\n",
      "\u001b[94m Roc \n",
      "0.8936643248493712\n",
      "\n",
      "\u001b[96m Acc \n",
      "0.7739955357142857\n",
      "\n",
      "\u001b[93m Mcc \n",
      "0.547975140206092\n",
      "\n",
      "\u001b[1;32m F1 \n",
      "0.7739980694597435\n",
      "\n",
      "\u001b[0m Class Report \n",
      "              precision    recall  f1-score   support\n",
      "\n",
      "           0       0.77      0.77      0.77      1777\n",
      "           1       0.78      0.77      0.78      1807\n",
      "\n",
      "    accuracy                           0.77      3584\n",
      "   macro avg       0.77      0.77      0.77      3584\n",
      "weighted avg       0.77      0.77      0.77      3584\n",
      "\n",
      "\n"
     ]
    },
    {
     "name": "stderr",
     "output_type": "stream",
     "text": [
      "SVM - INFO - [+] ------- Instanciando -------\n",
      "SVM - INFO - [+] ------- Treinando -------\n"
     ]
    },
    {
     "name": "stdout",
     "output_type": "stream",
     "text": [
      "Iteration No: 24 ended. Search finished for the next optimal point.\n",
      "Time taken: 15.6647\n",
      "Function value obtained: -0.7740\n",
      "Current minimum: -0.8005\n",
      "Iteration No: 25 started. Searching for the next optimal point.\n",
      "[0.07499070849114133, 2, 12, 0.7100590197932068, 0.06304668382155175, 648, 4, 1]\n",
      "[LightGBM] [Warning] bagging_freq is set=1, subsample_freq=0 will be ignored. Current value: bagging_freq=1\n"
     ]
    },
    {
     "name": "stderr",
     "output_type": "stream",
     "text": [
      "SVM - INFO - [+] ------- Predict -------\n",
      "SVM - INFO - [+] ------- Roc -------\n",
      "SVM - INFO - [+] ------- Acurácia -------\n",
      "SVM - INFO - [+] ------- Mcc -------\n",
      "SVM - INFO - [+] ------- F1 -------\n",
      "SVM - INFO - [+] ------- Class Report -------\n",
      "SVM - INFO - [+] ------- Instanciando -------\n",
      "SVM - INFO - [+] ------- Treinando -------\n"
     ]
    },
    {
     "name": "stdout",
     "output_type": "stream",
     "text": [
      "Métricas: \n",
      " \n",
      "\n",
      "\u001b[94m Roc \n",
      "0.8484859573490076\n",
      "\n",
      "\u001b[96m Acc \n",
      "0.7349330357142857\n",
      "\n",
      "\u001b[93m Mcc \n",
      "0.4698610059332876\n",
      "\n",
      "\u001b[1;32m F1 \n",
      "0.7349371629865814\n",
      "\n",
      "\u001b[0m Class Report \n",
      "              precision    recall  f1-score   support\n",
      "\n",
      "           0       0.73      0.74      0.73      1777\n",
      "           1       0.74      0.73      0.74      1807\n",
      "\n",
      "    accuracy                           0.73      3584\n",
      "   macro avg       0.73      0.73      0.73      3584\n",
      "weighted avg       0.73      0.73      0.73      3584\n",
      "\n",
      "\n",
      "Iteration No: 25 ended. Search finished for the next optimal point.\n",
      "Time taken: 2.9535\n",
      "Function value obtained: -0.7349\n",
      "Current minimum: -0.8005\n",
      "Iteration No: 26 started. Searching for the next optimal point.\n",
      "[0.06908834682102523, 8, 1, 0.7015204007346579, 0.6127474221770711, 700, 2, 4]\n",
      "[LightGBM] [Warning] bagging_freq is set=1, subsample_freq=0 will be ignored. Current value: bagging_freq=1\n"
     ]
    },
    {
     "name": "stderr",
     "output_type": "stream",
     "text": [
      "SVM - INFO - [+] ------- Predict -------\n",
      "SVM - INFO - [+] ------- Roc -------\n",
      "SVM - INFO - [+] ------- Acurácia -------\n",
      "SVM - INFO - [+] ------- Mcc -------\n",
      "SVM - INFO - [+] ------- F1 -------\n",
      "SVM - INFO - [+] ------- Class Report -------\n"
     ]
    },
    {
     "name": "stdout",
     "output_type": "stream",
     "text": [
      "Métricas: \n",
      " \n",
      "\n",
      "\u001b[94m Roc \n",
      "0.917127446910486\n",
      "\n",
      "\u001b[96m Acc \n",
      "0.794921875\n",
      "\n",
      "\u001b[93m Mcc \n",
      "0.5898302477087147\n",
      "\n",
      "\u001b[1;32m F1 \n",
      "0.7948972978330657\n",
      "\n",
      "\u001b[0m Class Report \n",
      "              precision    recall  f1-score   support\n",
      "\n",
      "           0       0.80      0.79      0.79      1777\n",
      "           1       0.79      0.80      0.80      1807\n",
      "\n",
      "    accuracy                           0.79      3584\n",
      "   macro avg       0.79      0.79      0.79      3584\n",
      "weighted avg       0.79      0.79      0.79      3584\n",
      "\n",
      "\n"
     ]
    },
    {
     "name": "stderr",
     "output_type": "stream",
     "text": [
      "SVM - INFO - [+] ------- Instanciando -------\n",
      "SVM - INFO - [+] ------- Treinando -------\n"
     ]
    },
    {
     "name": "stdout",
     "output_type": "stream",
     "text": [
      "Iteration No: 26 ended. Search finished for the next optimal point.\n",
      "Time taken: 133.4457\n",
      "Function value obtained: -0.7949\n",
      "Current minimum: -0.8005\n",
      "Iteration No: 27 started. Searching for the next optimal point.\n",
      "[0.06721690787074006, 7, 3, 0.27733982712344846, 0.684784260428883, 967, 2, 4]\n",
      "[LightGBM] [Warning] bagging_freq is set=1, subsample_freq=0 will be ignored. Current value: bagging_freq=1\n"
     ]
    },
    {
     "name": "stderr",
     "output_type": "stream",
     "text": [
      "SVM - INFO - [+] ------- Predict -------\n",
      "SVM - INFO - [+] ------- Roc -------\n",
      "SVM - INFO - [+] ------- Acurácia -------\n",
      "SVM - INFO - [+] ------- Mcc -------\n",
      "SVM - INFO - [+] ------- F1 -------\n",
      "SVM - INFO - [+] ------- Class Report -------\n",
      "SVM - INFO - [+] ------- Instanciando -------\n",
      "SVM - INFO - [+] ------- Treinando -------\n"
     ]
    },
    {
     "name": "stdout",
     "output_type": "stream",
     "text": [
      "Métricas: \n",
      " \n",
      "\n",
      "\u001b[94m Roc \n",
      "0.9076274065808606\n",
      "\n",
      "\u001b[96m Acc \n",
      "0.7938058035714286\n",
      "\n",
      "\u001b[93m Mcc \n",
      "0.5876321939833826\n",
      "\n",
      "\u001b[1;32m F1 \n",
      "0.7938094154285402\n",
      "\n",
      "\u001b[0m Class Report \n",
      "              precision    recall  f1-score   support\n",
      "\n",
      "           0       0.79      0.80      0.79      1777\n",
      "           1       0.80      0.79      0.79      1807\n",
      "\n",
      "    accuracy                           0.79      3584\n",
      "   macro avg       0.79      0.79      0.79      3584\n",
      "weighted avg       0.79      0.79      0.79      3584\n",
      "\n",
      "\n",
      "Iteration No: 27 ended. Search finished for the next optimal point.\n",
      "Time taken: 111.3927\n",
      "Function value obtained: -0.7938\n",
      "Current minimum: -0.8005\n",
      "Iteration No: 28 started. Searching for the next optimal point.\n",
      "[0.04388640339077472, 5, 8, 0.1440026770058953, 0.9359639685828749, 866, 2, 4]\n",
      "[LightGBM] [Warning] bagging_freq is set=1, subsample_freq=0 will be ignored. Current value: bagging_freq=1\n"
     ]
    },
    {
     "name": "stderr",
     "output_type": "stream",
     "text": [
      "SVM - INFO - [+] ------- Predict -------\n",
      "SVM - INFO - [+] ------- Roc -------\n",
      "SVM - INFO - [+] ------- Acurácia -------\n",
      "SVM - INFO - [+] ------- Mcc -------\n",
      "SVM - INFO - [+] ------- F1 -------\n",
      "SVM - INFO - [+] ------- Class Report -------\n",
      "SVM - INFO - [+] ------- Instanciando -------\n",
      "SVM - INFO - [+] ------- Treinando -------\n"
     ]
    },
    {
     "name": "stdout",
     "output_type": "stream",
     "text": [
      "Métricas: \n",
      " \n",
      "\n",
      "\u001b[94m Roc \n",
      "0.8924659588376224\n",
      "\n",
      "\u001b[96m Acc \n",
      "0.7834821428571429\n",
      "\n",
      "\u001b[93m Mcc \n",
      "0.5674522352445484\n",
      "\n",
      "\u001b[1;32m F1 \n",
      "0.7834420886651794\n",
      "\n",
      "\u001b[0m Class Report \n",
      "              precision    recall  f1-score   support\n",
      "\n",
      "           0       0.77      0.80      0.79      1777\n",
      "           1       0.80      0.77      0.78      1807\n",
      "\n",
      "    accuracy                           0.78      3584\n",
      "   macro avg       0.78      0.78      0.78      3584\n",
      "weighted avg       0.78      0.78      0.78      3584\n",
      "\n",
      "\n",
      "Iteration No: 28 ended. Search finished for the next optimal point.\n",
      "Time taken: 42.3257\n",
      "Function value obtained: -0.7835\n",
      "Current minimum: -0.8005\n",
      "Iteration No: 29 started. Searching for the next optimal point.\n",
      "[0.01968549398374486, 6, 1, 0.32234560560395975, 0.5325574627973516, 541, 2, 4]\n",
      "[LightGBM] [Warning] bagging_freq is set=1, subsample_freq=0 will be ignored. Current value: bagging_freq=1\n"
     ]
    },
    {
     "name": "stderr",
     "output_type": "stream",
     "text": [
      "SVM - INFO - [+] ------- Predict -------\n",
      "SVM - INFO - [+] ------- Roc -------\n",
      "SVM - INFO - [+] ------- Acurácia -------\n",
      "SVM - INFO - [+] ------- Mcc -------\n",
      "SVM - INFO - [+] ------- F1 -------\n",
      "SVM - INFO - [+] ------- Class Report -------\n",
      "SVM - INFO - [+] ------- Instanciando -------\n",
      "SVM - INFO - [+] ------- Treinando -------\n"
     ]
    },
    {
     "name": "stdout",
     "output_type": "stream",
     "text": [
      "Métricas: \n",
      " \n",
      "\n",
      "\u001b[94m Roc \n",
      "0.9012836655051526\n",
      "\n",
      "\u001b[96m Acc \n",
      "0.7823660714285714\n",
      "\n",
      "\u001b[93m Mcc \n",
      "0.5646901023431568\n",
      "\n",
      "\u001b[1;32m F1 \n",
      "0.7823592933797793\n",
      "\n",
      "\u001b[0m Class Report \n",
      "              precision    recall  f1-score   support\n",
      "\n",
      "           0       0.78      0.78      0.78      1777\n",
      "           1       0.78      0.79      0.78      1807\n",
      "\n",
      "    accuracy                           0.78      3584\n",
      "   macro avg       0.78      0.78      0.78      3584\n",
      "weighted avg       0.78      0.78      0.78      3584\n",
      "\n",
      "\n",
      "Iteration No: 29 ended. Search finished for the next optimal point.\n",
      "Time taken: 32.3401\n",
      "Function value obtained: -0.7824\n",
      "Current minimum: -0.8005\n",
      "Iteration No: 30 started. Searching for the next optimal point.\n",
      "[0.07695033045352583, 4, 2, 0.3053646441312058, 0.9365125006854356, 918, 3, 4]\n",
      "[LightGBM] [Warning] bagging_freq is set=1, subsample_freq=0 will be ignored. Current value: bagging_freq=1\n"
     ]
    },
    {
     "name": "stderr",
     "output_type": "stream",
     "text": [
      "SVM - INFO - [+] ------- Predict -------\n",
      "SVM - INFO - [+] ------- Roc -------\n",
      "SVM - INFO - [+] ------- Acurácia -------\n",
      "SVM - INFO - [+] ------- Mcc -------\n",
      "SVM - INFO - [+] ------- F1 -------\n",
      "SVM - INFO - [+] ------- Class Report -------\n",
      "SVM - INFO - [+] ------- Instanciando -------\n",
      "SVM - INFO - [+] ------- Treinando -------\n"
     ]
    },
    {
     "name": "stdout",
     "output_type": "stream",
     "text": [
      "Métricas: \n",
      " \n",
      "\n",
      "\u001b[94m Roc \n",
      "0.8955260275568125\n",
      "\n",
      "\u001b[96m Acc \n",
      "0.7787388392857143\n",
      "\n",
      "\u001b[93m Mcc \n",
      "0.5574536538701008\n",
      "\n",
      "\u001b[1;32m F1 \n",
      "0.7787402346218825\n",
      "\n",
      "\u001b[0m Class Report \n",
      "              precision    recall  f1-score   support\n",
      "\n",
      "           0       0.78      0.78      0.78      1777\n",
      "           1       0.78      0.78      0.78      1807\n",
      "\n",
      "    accuracy                           0.78      3584\n",
      "   macro avg       0.78      0.78      0.78      3584\n",
      "weighted avg       0.78      0.78      0.78      3584\n",
      "\n",
      "\n",
      "Iteration No: 30 ended. Search finished for the next optimal point.\n",
      "Time taken: 27.1741\n",
      "Function value obtained: -0.7787\n",
      "Current minimum: -0.8005\n",
      "Iteration No: 31 started. Searching for the next optimal point.\n",
      "[0.0837428587432001, 3, 6, 0.32640296593168655, 0.7991173630350547, 262, 1, 4]\n",
      "[LightGBM] [Warning] bagging_freq is set=1, subsample_freq=0 will be ignored. Current value: bagging_freq=1\n"
     ]
    },
    {
     "name": "stderr",
     "output_type": "stream",
     "text": [
      "SVM - INFO - [+] ------- Predict -------\n",
      "SVM - INFO - [+] ------- Roc -------\n",
      "SVM - INFO - [+] ------- Acurácia -------\n",
      "SVM - INFO - [+] ------- Mcc -------\n",
      "SVM - INFO - [+] ------- F1 -------\n",
      "SVM - INFO - [+] ------- Class Report -------\n",
      "SVM - INFO - [+] ------- Instanciando -------\n",
      "SVM - INFO - [+] ------- Treinando -------\n"
     ]
    },
    {
     "name": "stdout",
     "output_type": "stream",
     "text": [
      "Métricas: \n",
      " \n",
      "\n",
      "\u001b[94m Roc \n",
      "0.8628755365475165\n",
      "\n",
      "\u001b[96m Acc \n",
      "0.7477678571428571\n",
      "\n",
      "\u001b[93m Mcc \n",
      "0.4955484812043726\n",
      "\n",
      "\u001b[1;32m F1 \n",
      "0.747772255810022\n",
      "\n",
      "\u001b[0m Class Report \n",
      "              precision    recall  f1-score   support\n",
      "\n",
      "           0       0.74      0.75      0.75      1777\n",
      "           1       0.75      0.75      0.75      1807\n",
      "\n",
      "    accuracy                           0.75      3584\n",
      "   macro avg       0.75      0.75      0.75      3584\n",
      "weighted avg       0.75      0.75      0.75      3584\n",
      "\n",
      "\n",
      "Iteration No: 31 ended. Search finished for the next optimal point.\n",
      "Time taken: 5.6309\n",
      "Function value obtained: -0.7478\n",
      "Current minimum: -0.8005\n",
      "Iteration No: 32 started. Searching for the next optimal point.\n",
      "[0.014944538806526027, 5, 3, 0.8208268280799139, 0.523750822687521, 471, 2, 4]\n",
      "[LightGBM] [Warning] bagging_freq is set=1, subsample_freq=0 will be ignored. Current value: bagging_freq=1\n"
     ]
    },
    {
     "name": "stderr",
     "output_type": "stream",
     "text": [
      "SVM - INFO - [+] ------- Predict -------\n",
      "SVM - INFO - [+] ------- Roc -------\n",
      "SVM - INFO - [+] ------- Acurácia -------\n",
      "SVM - INFO - [+] ------- Mcc -------\n",
      "SVM - INFO - [+] ------- F1 -------\n",
      "SVM - INFO - [+] ------- Class Report -------\n",
      "SVM - INFO - [+] ------- Instanciando -------\n",
      "SVM - INFO - [+] ------- Treinando -------\n"
     ]
    },
    {
     "name": "stdout",
     "output_type": "stream",
     "text": [
      "Métricas: \n",
      " \n",
      "\n",
      "\u001b[94m Roc \n",
      "0.8850113623658885\n",
      "\n",
      "\u001b[96m Acc \n",
      "0.7681361607142857\n",
      "\n",
      "\u001b[93m Mcc \n",
      "0.5362824055444109\n",
      "\n",
      "\u001b[1;32m F1 \n",
      "0.768087567937288\n",
      "\n",
      "\u001b[0m Class Report \n",
      "              precision    recall  f1-score   support\n",
      "\n",
      "           0       0.77      0.76      0.76      1777\n",
      "           1       0.76      0.78      0.77      1807\n",
      "\n",
      "    accuracy                           0.77      3584\n",
      "   macro avg       0.77      0.77      0.77      3584\n",
      "weighted avg       0.77      0.77      0.77      3584\n",
      "\n",
      "\n",
      "Iteration No: 32 ended. Search finished for the next optimal point.\n",
      "Time taken: 17.0031\n",
      "Function value obtained: -0.7681\n",
      "Current minimum: -0.8005\n",
      "Iteration No: 33 started. Searching for the next optimal point.\n",
      "[0.016340495817449282, 4, 13, 0.2950024760704327, 0.7675127486891948, 928, 2, 4]\n",
      "[LightGBM] [Warning] bagging_freq is set=1, subsample_freq=0 will be ignored. Current value: bagging_freq=1\n"
     ]
    },
    {
     "name": "stderr",
     "output_type": "stream",
     "text": [
      "SVM - INFO - [+] ------- Predict -------\n",
      "SVM - INFO - [+] ------- Roc -------\n",
      "SVM - INFO - [+] ------- Acurácia -------\n",
      "SVM - INFO - [+] ------- Mcc -------\n",
      "SVM - INFO - [+] ------- F1 -------\n",
      "SVM - INFO - [+] ------- Class Report -------\n"
     ]
    },
    {
     "name": "stdout",
     "output_type": "stream",
     "text": [
      "Métricas: \n",
      " \n",
      "\n",
      "\u001b[94m Roc \n",
      "0.888960239972171\n",
      "\n",
      "\u001b[96m Acc \n",
      "0.7672991071428571\n",
      "\n",
      "\u001b[93m Mcc \n",
      "0.5345535367402201\n",
      "\n",
      "\u001b[1;32m F1 \n",
      "0.767293599263031\n",
      "\n",
      "\u001b[0m Class Report \n",
      "              precision    recall  f1-score   support\n",
      "\n",
      "           0       0.77      0.76      0.76      1777\n",
      "           1       0.77      0.77      0.77      1807\n",
      "\n",
      "    accuracy                           0.77      3584\n",
      "   macro avg       0.77      0.77      0.77      3584\n",
      "weighted avg       0.77      0.77      0.77      3584\n",
      "\n",
      "\n"
     ]
    },
    {
     "name": "stderr",
     "output_type": "stream",
     "text": [
      "SVM - INFO - [+] ------- Instanciando -------\n",
      "SVM - INFO - [+] ------- Treinando -------\n"
     ]
    },
    {
     "name": "stdout",
     "output_type": "stream",
     "text": [
      "Iteration No: 33 ended. Search finished for the next optimal point.\n",
      "Time taken: 22.1331\n",
      "Function value obtained: -0.7673\n",
      "Current minimum: -0.8005\n",
      "Iteration No: 34 started. Searching for the next optimal point.\n",
      "[0.005025781132890357, 10, 6, 0.785825955697863, 0.6604170818858309, 731, 5, 5]\n",
      "[LightGBM] [Warning] bagging_freq is set=1, subsample_freq=0 will be ignored. Current value: bagging_freq=1\n"
     ]
    },
    {
     "name": "stderr",
     "output_type": "stream",
     "text": [
      "SVM - INFO - [+] ------- Predict -------\n",
      "SVM - INFO - [+] ------- Roc -------\n",
      "SVM - INFO - [+] ------- Acurácia -------\n",
      "SVM - INFO - [+] ------- Mcc -------\n",
      "SVM - INFO - [+] ------- F1 -------\n",
      "SVM - INFO - [+] ------- Class Report -------\n",
      "SVM - INFO - [+] ------- Instanciando -------\n",
      "SVM - INFO - [+] ------- Treinando -------\n"
     ]
    },
    {
     "name": "stdout",
     "output_type": "stream",
     "text": [
      "Métricas: \n",
      " \n",
      "\n",
      "\u001b[94m Roc \n",
      "0.9121296876182445\n",
      "\n",
      "\u001b[96m Acc \n",
      "0.7965959821428571\n",
      "\n",
      "\u001b[93m Mcc \n",
      "0.5931543633884603\n",
      "\n",
      "\u001b[1;32m F1 \n",
      "0.7965871289922397\n",
      "\n",
      "\u001b[0m Class Report \n",
      "              precision    recall  f1-score   support\n",
      "\n",
      "           0       0.80      0.79      0.79      1777\n",
      "           1       0.80      0.80      0.80      1807\n",
      "\n",
      "    accuracy                           0.80      3584\n",
      "   macro avg       0.80      0.80      0.80      3584\n",
      "weighted avg       0.80      0.80      0.80      3584\n",
      "\n",
      "\n",
      "Iteration No: 34 ended. Search finished for the next optimal point.\n",
      "Time taken: 274.7419\n",
      "Function value obtained: -0.7966\n",
      "Current minimum: -0.8005\n",
      "Iteration No: 35 started. Searching for the next optimal point.\n",
      "[0.00533895152450785, 10, 15, 0.8581600553012149, 0.8809117723712063, 959, 3, 4]\n",
      "[LightGBM] [Warning] bagging_freq is set=1, subsample_freq=0 will be ignored. Current value: bagging_freq=1\n"
     ]
    },
    {
     "name": "stderr",
     "output_type": "stream",
     "text": [
      "SVM - INFO - [+] ------- Predict -------\n",
      "SVM - INFO - [+] ------- Roc -------\n",
      "SVM - INFO - [+] ------- Acurácia -------\n",
      "SVM - INFO - [+] ------- Mcc -------\n",
      "SVM - INFO - [+] ------- F1 -------\n",
      "SVM - INFO - [+] ------- Class Report -------\n"
     ]
    },
    {
     "name": "stdout",
     "output_type": "stream",
     "text": [
      "Métricas: \n",
      " \n",
      "\n",
      "\u001b[94m Roc \n",
      "0.912377271032834\n",
      "\n",
      "\u001b[96m Acc \n",
      "0.7921316964285714\n",
      "\n",
      "\u001b[93m Mcc \n",
      "0.5842462470760774\n",
      "\n",
      "\u001b[1;32m F1 \n",
      "0.7921337193704944\n",
      "\n",
      "\u001b[0m Class Report \n",
      "              precision    recall  f1-score   support\n",
      "\n",
      "           0       0.79      0.79      0.79      1777\n",
      "           1       0.79      0.79      0.79      1807\n",
      "\n",
      "    accuracy                           0.79      3584\n",
      "   macro avg       0.79      0.79      0.79      3584\n",
      "weighted avg       0.79      0.79      0.79      3584\n",
      "\n",
      "\n"
     ]
    },
    {
     "name": "stderr",
     "output_type": "stream",
     "text": [
      "SVM - INFO - [+] ------- Instanciando -------\n",
      "SVM - INFO - [+] ------- Treinando -------\n"
     ]
    },
    {
     "name": "stdout",
     "output_type": "stream",
     "text": [
      "Iteration No: 35 ended. Search finished for the next optimal point.\n",
      "Time taken: 356.6184\n",
      "Function value obtained: -0.7921\n",
      "Current minimum: -0.8005\n",
      "Iteration No: 36 started. Searching for the next optimal point.\n",
      "[0.005215121417302716, 8, 4, 0.906416644603286, 0.5621446000350855, 887, 5, 4]\n",
      "[LightGBM] [Warning] bagging_freq is set=1, subsample_freq=0 will be ignored. Current value: bagging_freq=1\n"
     ]
    },
    {
     "name": "stderr",
     "output_type": "stream",
     "text": [
      "SVM - INFO - [+] ------- Predict -------\n",
      "SVM - INFO - [+] ------- Roc -------\n",
      "SVM - INFO - [+] ------- Acurácia -------\n",
      "SVM - INFO - [+] ------- Mcc -------\n",
      "SVM - INFO - [+] ------- F1 -------\n",
      "SVM - INFO - [+] ------- Class Report -------\n"
     ]
    },
    {
     "name": "stdout",
     "output_type": "stream",
     "text": [
      "Métricas: \n",
      " \n",
      "\n",
      "\u001b[94m Roc \n",
      "0.9108842963290075\n",
      "\n",
      "\u001b[96m Acc \n",
      "0.7926897321428571\n",
      "\n",
      "\u001b[93m Mcc \n",
      "0.5853570427482419\n",
      "\n",
      "\u001b[1;32m F1 \n",
      "0.7926910395007043\n",
      "\n",
      "\u001b[0m Class Report \n",
      "              precision    recall  f1-score   support\n",
      "\n",
      "           0       0.79      0.79      0.79      1777\n",
      "           1       0.79      0.79      0.79      1807\n",
      "\n",
      "    accuracy                           0.79      3584\n",
      "   macro avg       0.79      0.79      0.79      3584\n",
      "weighted avg       0.79      0.79      0.79      3584\n",
      "\n",
      "\n"
     ]
    },
    {
     "name": "stderr",
     "output_type": "stream",
     "text": [
      "SVM - INFO - [+] ------- Instanciando -------\n",
      "SVM - INFO - [+] ------- Treinando -------\n"
     ]
    },
    {
     "name": "stdout",
     "output_type": "stream",
     "text": [
      "Iteration No: 36 ended. Search finished for the next optimal point.\n",
      "Time taken: 1230.5967\n",
      "Function value obtained: -0.7927\n",
      "Current minimum: -0.8005\n",
      "Iteration No: 37 started. Searching for the next optimal point.\n",
      "[0.00123810713508026, 10, 17, 0.9027804568344484, 0.6840827558685106, 731, 3, 4]\n",
      "[LightGBM] [Warning] bagging_freq is set=1, subsample_freq=0 will be ignored. Current value: bagging_freq=1\n"
     ]
    },
    {
     "name": "stderr",
     "output_type": "stream",
     "text": [
      "SVM - INFO - [+] ------- Predict -------\n",
      "SVM - INFO - [+] ------- Roc -------\n",
      "SVM - INFO - [+] ------- Acurácia -------\n",
      "SVM - INFO - [+] ------- Mcc -------\n",
      "SVM - INFO - [+] ------- F1 -------\n",
      "SVM - INFO - [+] ------- Class Report -------\n",
      "SVM - INFO - [+] ------- Instanciando -------\n",
      "SVM - INFO - [+] ------- Treinando -------\n"
     ]
    },
    {
     "name": "stdout",
     "output_type": "stream",
     "text": [
      "Métricas: \n",
      " \n",
      "\n",
      "\u001b[94m Roc \n",
      "0.8713628205699152\n",
      "\n",
      "\u001b[96m Acc \n",
      "0.7469308035714286\n",
      "\n",
      "\u001b[93m Mcc \n",
      "0.49764691284797485\n",
      "\n",
      "\u001b[1;32m F1 \n",
      "0.745677143184418\n",
      "\n",
      "\u001b[0m Class Report \n",
      "              precision    recall  f1-score   support\n",
      "\n",
      "           0       0.78      0.68      0.73      1777\n",
      "           1       0.72      0.81      0.76      1807\n",
      "\n",
      "    accuracy                           0.75      3584\n",
      "   macro avg       0.75      0.75      0.75      3584\n",
      "weighted avg       0.75      0.75      0.75      3584\n",
      "\n",
      "\n",
      "Iteration No: 37 ended. Search finished for the next optimal point.\n",
      "Time taken: 142.6433\n",
      "Function value obtained: -0.7469\n",
      "Current minimum: -0.8005\n",
      "Iteration No: 38 started. Searching for the next optimal point.\n",
      "[0.004695839573870931, 6, 12, 0.9270776000694007, 0.7564982795530728, 973, 4, 3]\n",
      "[LightGBM] [Warning] bagging_freq is set=1, subsample_freq=0 will be ignored. Current value: bagging_freq=1\n"
     ]
    },
    {
     "name": "stderr",
     "output_type": "stream",
     "text": [
      "SVM - INFO - [+] ------- Predict -------\n",
      "SVM - INFO - [+] ------- Roc -------\n",
      "SVM - INFO - [+] ------- Acurácia -------\n",
      "SVM - INFO - [+] ------- Mcc -------\n",
      "SVM - INFO - [+] ------- F1 -------\n",
      "SVM - INFO - [+] ------- Class Report -------\n",
      "SVM - INFO - [+] ------- Instanciando -------\n"
     ]
    },
    {
     "name": "stdout",
     "output_type": "stream",
     "text": [
      "Métricas: \n",
      " \n",
      "\n",
      "\u001b[94m Roc \n",
      "0.8906892753404739\n",
      "\n",
      "\u001b[96m Acc \n",
      "0.771484375\n",
      "\n",
      "\u001b[93m Mcc \n",
      "0.5429583684938859\n",
      "\n",
      "\u001b[1;32m F1 \n",
      "0.7714473778217723\n",
      "\n",
      "\u001b[0m Class Report \n",
      "              precision    recall  f1-score   support\n",
      "\n",
      "           0       0.77      0.76      0.77      1777\n",
      "           1       0.77      0.78      0.78      1807\n",
      "\n",
      "    accuracy                           0.77      3584\n",
      "   macro avg       0.77      0.77      0.77      3584\n",
      "weighted avg       0.77      0.77      0.77      3584\n",
      "\n",
      "\n",
      "Iteration No: 38 ended. Search finished for the next optimal point.\n",
      "Time taken: 71.5371\n",
      "Function value obtained: -0.7715\n",
      "Current minimum: -0.8005\n",
      "Iteration No: 39 started. Searching for the next optimal point.\n",
      "[0.0040771182378667925, 10, 4, 0.2800792717418604, 0.44174035942662837, 601, 5, 5]\n"
     ]
    },
    {
     "name": "stderr",
     "output_type": "stream",
     "text": [
      "SVM - INFO - [+] ------- Treinando -------\n"
     ]
    },
    {
     "name": "stdout",
     "output_type": "stream",
     "text": [
      "[LightGBM] [Warning] bagging_freq is set=1, subsample_freq=0 will be ignored. Current value: bagging_freq=1\n"
     ]
    }
   ],
   "source": [
    "%%time\n",
    "\n",
    "try:\n",
    "    res = forest_minimize(tune_lgbm, space, random_state=7, n_random_starts=20, n_calls=50, verbose=1)\n",
    "\n",
    "except Exception as error:\n",
    "    logger.warning('Aconteceu algum problema...')\n",
    "    logger.critical(error)\n",
    "\n",
    "else:\n",
    "    logger.info('Ok')\n",
    "    \n",
    "finally:\n",
    "    logger.info('Treino finalizado')"
   ]
  },
  {
   "cell_type": "code",
   "execution_count": 24,
   "metadata": {
    "tags": []
   },
   "outputs": [
    {
     "ename": "SyntaxError",
     "evalue": "invalid syntax (1459325066.py, line 1)",
     "output_type": "error",
     "traceback": [
      "\u001b[0;36m  File \u001b[0;32m\"/tmp/ipykernel_227/1459325066.py\"\u001b[0;36m, line \u001b[0;32m1\u001b[0m\n\u001b[0;31m    res.\u001b[0m\n\u001b[0m        ^\u001b[0m\n\u001b[0;31mSyntaxError\u001b[0m\u001b[0;31m:\u001b[0m invalid syntax\n"
     ]
    }
   ],
   "source": [
    "res."
   ]
  },
  {
   "cell_type": "markdown",
   "metadata": {},
   "source": [
    " 2 voluntarias\n",
    " \n",
    " accuracy                           0.79      1536"
   ]
  },
  {
   "cell_type": "code",
   "execution_count": null,
   "metadata": {},
   "outputs": [],
   "source": [
    "res.x"
   ]
  },
  {
   "cell_type": "code",
   "execution_count": null,
   "metadata": {},
   "outputs": [],
   "source": []
  }
 ],
 "metadata": {
  "kernelspec": {
   "display_name": "Python 3 (ipykernel)",
   "language": "python",
   "name": "python3"
  },
  "language_info": {
   "codemirror_mode": {
    "name": "ipython",
    "version": 3
   },
   "file_extension": ".py",
   "mimetype": "text/x-python",
   "name": "python",
   "nbconvert_exporter": "python",
   "pygments_lexer": "ipython3",
   "version": "3.8.10"
  }
 },
 "nbformat": 4,
 "nbformat_minor": 4
}
