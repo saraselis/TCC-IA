{
 "cells": [
  {
   "cell_type": "markdown",
   "metadata": {
    "id": "En7Do4r0UuR4"
   },
   "source": [
    "# <b style='color:magenta;'> Log Reg </b>\n",
    "* Este Jupyter tem como função treinar uma `Regessão Logística` com os melhores parametros determinados por um `RandomSearch`.\n",
    "\n",
    "-> Dataset completo com voluntários femininos e masculinos, sem outliers e sem a coluna de semanas e com pca."
   ]
  },
  {
   "cell_type": "markdown",
   "metadata": {
    "id": "h9MVyldFUuR7"
   },
   "source": [
    "---"
   ]
  },
  {
   "cell_type": "markdown",
   "metadata": {
    "id": "lcm1HTIzUuR9"
   },
   "source": [
    "Bibliotecas/Módulos"
   ]
  },
  {
   "cell_type": "code",
   "execution_count": 1,
   "metadata": {
    "id": "Wgg9-hcLUuR9",
    "outputId": "ec18af42-de41-42ef-c0ca-1b043b0d67b3"
   },
   "outputs": [],
   "source": [
    "import logging\n",
    "import matplotlib.pyplot as plt\n",
    "import numpy as np\n",
    "import pandas as pd\n",
    "import pickle as pkl\n",
    "import seaborn as sns\n",
    "import sys\n",
    "\n",
    "from sklearn.decomposition import PCA\n",
    "from sklearn.linear_model import LogisticRegression\n",
    "from sklearn.metrics import roc_auc_score, average_precision_score, accuracy_score, matthews_corrcoef, classification_report, confusion_matrix, f1_score\n",
    "from sklearn.model_selection import RandomizedSearchCV, train_test_split\n",
    "from sklearn.model_selection import train_test_split"
   ]
  },
  {
   "cell_type": "markdown",
   "metadata": {
    "id": "VqbL0mvFUuR-"
   },
   "source": [
    "Configurações dos logs"
   ]
  },
  {
   "cell_type": "code",
   "execution_count": 2,
   "metadata": {
    "id": "-w3VfmYoUuR-"
   },
   "outputs": [],
   "source": [
    "logger = logging.getLogger(\"LogReg\")\n",
    "logger.setLevel(logging.DEBUG)\n",
    "handler = logging.StreamHandler(sys.stderr)\n",
    "formatter = logging.Formatter('%(name)s - %(levelname)s - [+] ------- %(message)s -------') \n",
    "handler.setFormatter(formatter)\n",
    "logger.handlers = [handler]"
   ]
  },
  {
   "cell_type": "markdown",
   "metadata": {
    "id": "iCy3-VQxUuR-"
   },
   "source": [
    "Cores"
   ]
  },
  {
   "cell_type": "code",
   "execution_count": 3,
   "metadata": {
    "id": "pUPlBMrfUuR_"
   },
   "outputs": [],
   "source": [
    "RED = \"\\033[1;31m\"\n",
    "BLUE = \"\\033[1;34m\"\n",
    "GREEN = \"\\033[1;32m\"\n",
    "PINK = \"\\033[1;45m\"\n",
    "HEADER = '\\033[95m'\n",
    "OKBLUE = '\\033[94m'\n",
    "OKCYAN = '\\033[96m'\n",
    "OKGREEN = '\\033[92m'\n",
    "WARNING = '\\033[93m'\n",
    "FAIL = '\\033[91m'\n",
    "ENDC = '\\033[0m'\n",
    "BOLD = '\\033[1m'\n",
    "UNDERLINE = '\\033[4m'\n",
    "MAG = \"\\033[1;45m\""
   ]
  },
  {
   "cell_type": "markdown",
   "metadata": {
    "id": "d1CCfOv8UuR_"
   },
   "source": [
    "---"
   ]
  },
  {
   "cell_type": "code",
   "execution_count": 4,
   "metadata": {},
   "outputs": [],
   "source": [
    "df = pd.read_csv(\"dados/dados_FEM_MAS_10_voluntarios_s_semanas_15_sinais_noout.csv\")"
   ]
  },
  {
   "cell_type": "code",
   "execution_count": 5,
   "metadata": {},
   "outputs": [
    {
     "data": {
      "text/html": [
       "<div>\n",
       "<style scoped>\n",
       "    .dataframe tbody tr th:only-of-type {\n",
       "        vertical-align: middle;\n",
       "    }\n",
       "\n",
       "    .dataframe tbody tr th {\n",
       "        vertical-align: top;\n",
       "    }\n",
       "\n",
       "    .dataframe thead th {\n",
       "        text-align: right;\n",
       "    }\n",
       "</style>\n",
       "<table border=\"1\" class=\"dataframe\">\n",
       "  <thead>\n",
       "    <tr style=\"text-align: right;\">\n",
       "      <th></th>\n",
       "      <th>0</th>\n",
       "      <th>1</th>\n",
       "      <th>2</th>\n",
       "      <th>3</th>\n",
       "      <th>4</th>\n",
       "      <th>5</th>\n",
       "      <th>6</th>\n",
       "      <th>7</th>\n",
       "      <th>8</th>\n",
       "      <th>9</th>\n",
       "      <th>...</th>\n",
       "      <th>1991</th>\n",
       "      <th>1992</th>\n",
       "      <th>1993</th>\n",
       "      <th>1994</th>\n",
       "      <th>1995</th>\n",
       "      <th>1996</th>\n",
       "      <th>1997</th>\n",
       "      <th>1998</th>\n",
       "      <th>1999</th>\n",
       "      <th>label</th>\n",
       "    </tr>\n",
       "  </thead>\n",
       "  <tbody>\n",
       "    <tr>\n",
       "      <th>21137</th>\n",
       "      <td>5</td>\n",
       "      <td>2</td>\n",
       "      <td>2</td>\n",
       "      <td>6</td>\n",
       "      <td>3</td>\n",
       "      <td>4</td>\n",
       "      <td>3</td>\n",
       "      <td>5</td>\n",
       "      <td>3</td>\n",
       "      <td>3</td>\n",
       "      <td>...</td>\n",
       "      <td>3</td>\n",
       "      <td>2</td>\n",
       "      <td>3</td>\n",
       "      <td>4</td>\n",
       "      <td>5</td>\n",
       "      <td>3</td>\n",
       "      <td>3</td>\n",
       "      <td>5</td>\n",
       "      <td>3</td>\n",
       "      <td>1</td>\n",
       "    </tr>\n",
       "  </tbody>\n",
       "</table>\n",
       "<p>1 rows × 2001 columns</p>\n",
       "</div>"
      ],
      "text/plain": [
       "       0  1  2  3  4  5  6  7  8  9  ...  1991  1992  1993  1994  1995  1996  \\\n",
       "21137  5  2  2  6  3  4  3  5  3  3  ...     3     2     3     4     5     3   \n",
       "\n",
       "       1997  1998  1999  label  \n",
       "21137     3     5     3      1  \n",
       "\n",
       "[1 rows x 2001 columns]"
      ]
     },
     "execution_count": 5,
     "metadata": {},
     "output_type": "execute_result"
    }
   ],
   "source": [
    "df.sample()"
   ]
  },
  {
   "cell_type": "markdown",
   "metadata": {},
   "source": [
    "Verificando tamanho do dataset"
   ]
  },
  {
   "cell_type": "code",
   "execution_count": 6,
   "metadata": {},
   "outputs": [
    {
     "data": {
      "text/plain": [
       "25200"
      ]
     },
     "execution_count": 6,
     "metadata": {},
     "output_type": "execute_result"
    }
   ],
   "source": [
    "len(df)"
   ]
  },
  {
   "cell_type": "markdown",
   "metadata": {},
   "source": [
    "Verificando a quantidade de colunas originais"
   ]
  },
  {
   "cell_type": "code",
   "execution_count": 7,
   "metadata": {},
   "outputs": [
    {
     "data": {
      "text/plain": [
       "2001"
      ]
     },
     "execution_count": 7,
     "metadata": {},
     "output_type": "execute_result"
    }
   ],
   "source": [
    "len(df.columns)"
   ]
  },
  {
   "cell_type": "markdown",
   "metadata": {},
   "source": [
    "* Seleção da variável target e das features"
   ]
  },
  {
   "cell_type": "code",
   "execution_count": 8,
   "metadata": {},
   "outputs": [],
   "source": [
    "y = df[\"label\"]"
   ]
  },
  {
   "cell_type": "code",
   "execution_count": 9,
   "metadata": {},
   "outputs": [],
   "source": [
    "df = df.drop([\"label\"], axis=1)"
   ]
  },
  {
   "cell_type": "markdown",
   "metadata": {},
   "source": [
    "#### PCA\n",
    "Aplicando o PCA para reduzir a dimensão dos dados."
   ]
  },
  {
   "cell_type": "code",
   "execution_count": 10,
   "metadata": {},
   "outputs": [],
   "source": [
    "pca = PCA(n_components=1000)"
   ]
  },
  {
   "cell_type": "code",
   "execution_count": 11,
   "metadata": {},
   "outputs": [
    {
     "data": {
      "text/html": [
       "<style>#sk-container-id-1 {color: black;background-color: white;}#sk-container-id-1 pre{padding: 0;}#sk-container-id-1 div.sk-toggleable {background-color: white;}#sk-container-id-1 label.sk-toggleable__label {cursor: pointer;display: block;width: 100%;margin-bottom: 0;padding: 0.3em;box-sizing: border-box;text-align: center;}#sk-container-id-1 label.sk-toggleable__label-arrow:before {content: \"▸\";float: left;margin-right: 0.25em;color: #696969;}#sk-container-id-1 label.sk-toggleable__label-arrow:hover:before {color: black;}#sk-container-id-1 div.sk-estimator:hover label.sk-toggleable__label-arrow:before {color: black;}#sk-container-id-1 div.sk-toggleable__content {max-height: 0;max-width: 0;overflow: hidden;text-align: left;background-color: #f0f8ff;}#sk-container-id-1 div.sk-toggleable__content pre {margin: 0.2em;color: black;border-radius: 0.25em;background-color: #f0f8ff;}#sk-container-id-1 input.sk-toggleable__control:checked~div.sk-toggleable__content {max-height: 200px;max-width: 100%;overflow: auto;}#sk-container-id-1 input.sk-toggleable__control:checked~label.sk-toggleable__label-arrow:before {content: \"▾\";}#sk-container-id-1 div.sk-estimator input.sk-toggleable__control:checked~label.sk-toggleable__label {background-color: #d4ebff;}#sk-container-id-1 div.sk-label input.sk-toggleable__control:checked~label.sk-toggleable__label {background-color: #d4ebff;}#sk-container-id-1 input.sk-hidden--visually {border: 0;clip: rect(1px 1px 1px 1px);clip: rect(1px, 1px, 1px, 1px);height: 1px;margin: -1px;overflow: hidden;padding: 0;position: absolute;width: 1px;}#sk-container-id-1 div.sk-estimator {font-family: monospace;background-color: #f0f8ff;border: 1px dotted black;border-radius: 0.25em;box-sizing: border-box;margin-bottom: 0.5em;}#sk-container-id-1 div.sk-estimator:hover {background-color: #d4ebff;}#sk-container-id-1 div.sk-parallel-item::after {content: \"\";width: 100%;border-bottom: 1px solid gray;flex-grow: 1;}#sk-container-id-1 div.sk-label:hover label.sk-toggleable__label {background-color: #d4ebff;}#sk-container-id-1 div.sk-serial::before {content: \"\";position: absolute;border-left: 1px solid gray;box-sizing: border-box;top: 0;bottom: 0;left: 50%;z-index: 0;}#sk-container-id-1 div.sk-serial {display: flex;flex-direction: column;align-items: center;background-color: white;padding-right: 0.2em;padding-left: 0.2em;position: relative;}#sk-container-id-1 div.sk-item {position: relative;z-index: 1;}#sk-container-id-1 div.sk-parallel {display: flex;align-items: stretch;justify-content: center;background-color: white;position: relative;}#sk-container-id-1 div.sk-item::before, #sk-container-id-1 div.sk-parallel-item::before {content: \"\";position: absolute;border-left: 1px solid gray;box-sizing: border-box;top: 0;bottom: 0;left: 50%;z-index: -1;}#sk-container-id-1 div.sk-parallel-item {display: flex;flex-direction: column;z-index: 1;position: relative;background-color: white;}#sk-container-id-1 div.sk-parallel-item:first-child::after {align-self: flex-end;width: 50%;}#sk-container-id-1 div.sk-parallel-item:last-child::after {align-self: flex-start;width: 50%;}#sk-container-id-1 div.sk-parallel-item:only-child::after {width: 0;}#sk-container-id-1 div.sk-dashed-wrapped {border: 1px dashed gray;margin: 0 0.4em 0.5em 0.4em;box-sizing: border-box;padding-bottom: 0.4em;background-color: white;}#sk-container-id-1 div.sk-label label {font-family: monospace;font-weight: bold;display: inline-block;line-height: 1.2em;}#sk-container-id-1 div.sk-label-container {text-align: center;}#sk-container-id-1 div.sk-container {/* jupyter's `normalize.less` sets `[hidden] { display: none; }` but bootstrap.min.css set `[hidden] { display: none !important; }` so we also need the `!important` here to be able to override the default hidden behavior on the sphinx rendered scikit-learn.org. See: https://github.com/scikit-learn/scikit-learn/issues/21755 */display: inline-block !important;position: relative;}#sk-container-id-1 div.sk-text-repr-fallback {display: none;}</style><div id=\"sk-container-id-1\" class=\"sk-top-container\"><div class=\"sk-text-repr-fallback\"><pre>PCA(n_components=1000)</pre><b>In a Jupyter environment, please rerun this cell to show the HTML representation or trust the notebook. <br />On GitHub, the HTML representation is unable to render, please try loading this page with nbviewer.org.</b></div><div class=\"sk-container\" hidden><div class=\"sk-item\"><div class=\"sk-estimator sk-toggleable\"><input class=\"sk-toggleable__control sk-hidden--visually\" id=\"sk-estimator-id-1\" type=\"checkbox\" checked><label for=\"sk-estimator-id-1\" class=\"sk-toggleable__label sk-toggleable__label-arrow\">PCA</label><div class=\"sk-toggleable__content\"><pre>PCA(n_components=1000)</pre></div></div></div></div></div>"
      ],
      "text/plain": [
       "PCA(n_components=1000)"
      ]
     },
     "execution_count": 11,
     "metadata": {},
     "output_type": "execute_result"
    }
   ],
   "source": [
    "pca.fit(df)"
   ]
  },
  {
   "cell_type": "code",
   "execution_count": 12,
   "metadata": {},
   "outputs": [
    {
     "name": "stdout",
     "output_type": "stream",
     "text": [
      "CPU times: user 19.5 s, sys: 1.43 s, total: 20.9 s\n",
      "Wall time: 1.62 s\n"
     ]
    }
   ],
   "source": [
    "%%time\n",
    "\n",
    "pca_samples = pca.transform(df)"
   ]
  },
  {
   "cell_type": "code",
   "execution_count": 13,
   "metadata": {},
   "outputs": [
    {
     "data": {
      "text/html": [
       "<div>\n",
       "<style scoped>\n",
       "    .dataframe tbody tr th:only-of-type {\n",
       "        vertical-align: middle;\n",
       "    }\n",
       "\n",
       "    .dataframe tbody tr th {\n",
       "        vertical-align: top;\n",
       "    }\n",
       "\n",
       "    .dataframe thead th {\n",
       "        text-align: right;\n",
       "    }\n",
       "</style>\n",
       "<table border=\"1\" class=\"dataframe\">\n",
       "  <thead>\n",
       "    <tr style=\"text-align: right;\">\n",
       "      <th></th>\n",
       "      <th>0</th>\n",
       "      <th>1</th>\n",
       "      <th>2</th>\n",
       "      <th>3</th>\n",
       "      <th>4</th>\n",
       "      <th>5</th>\n",
       "      <th>6</th>\n",
       "      <th>7</th>\n",
       "      <th>8</th>\n",
       "      <th>9</th>\n",
       "      <th>...</th>\n",
       "      <th>990</th>\n",
       "      <th>991</th>\n",
       "      <th>992</th>\n",
       "      <th>993</th>\n",
       "      <th>994</th>\n",
       "      <th>995</th>\n",
       "      <th>996</th>\n",
       "      <th>997</th>\n",
       "      <th>998</th>\n",
       "      <th>999</th>\n",
       "    </tr>\n",
       "  </thead>\n",
       "  <tbody>\n",
       "    <tr>\n",
       "      <th>0</th>\n",
       "      <td>-35.068197</td>\n",
       "      <td>23.928768</td>\n",
       "      <td>1.186254</td>\n",
       "      <td>-151.129527</td>\n",
       "      <td>-42.556784</td>\n",
       "      <td>-148.023683</td>\n",
       "      <td>-53.831397</td>\n",
       "      <td>-28.461750</td>\n",
       "      <td>-41.857889</td>\n",
       "      <td>-104.510884</td>\n",
       "      <td>...</td>\n",
       "      <td>-20.185911</td>\n",
       "      <td>-54.703846</td>\n",
       "      <td>19.065712</td>\n",
       "      <td>-41.606647</td>\n",
       "      <td>14.064979</td>\n",
       "      <td>43.776326</td>\n",
       "      <td>-47.717873</td>\n",
       "      <td>-71.118814</td>\n",
       "      <td>52.784548</td>\n",
       "      <td>8.549779</td>\n",
       "    </tr>\n",
       "    <tr>\n",
       "      <th>1</th>\n",
       "      <td>-69.680457</td>\n",
       "      <td>36.845880</td>\n",
       "      <td>47.351802</td>\n",
       "      <td>-121.842658</td>\n",
       "      <td>-24.717552</td>\n",
       "      <td>-113.801059</td>\n",
       "      <td>-37.514149</td>\n",
       "      <td>-47.755131</td>\n",
       "      <td>-13.947044</td>\n",
       "      <td>-92.122796</td>\n",
       "      <td>...</td>\n",
       "      <td>-22.408870</td>\n",
       "      <td>-55.416995</td>\n",
       "      <td>25.558712</td>\n",
       "      <td>-29.078949</td>\n",
       "      <td>-6.947691</td>\n",
       "      <td>33.214213</td>\n",
       "      <td>-33.721565</td>\n",
       "      <td>-64.516346</td>\n",
       "      <td>27.890401</td>\n",
       "      <td>10.617190</td>\n",
       "    </tr>\n",
       "    <tr>\n",
       "      <th>2</th>\n",
       "      <td>-94.676600</td>\n",
       "      <td>38.038653</td>\n",
       "      <td>98.432548</td>\n",
       "      <td>-103.621516</td>\n",
       "      <td>-10.274245</td>\n",
       "      <td>-71.540178</td>\n",
       "      <td>-15.104704</td>\n",
       "      <td>-53.717266</td>\n",
       "      <td>24.066586</td>\n",
       "      <td>-97.600882</td>\n",
       "      <td>...</td>\n",
       "      <td>-12.580321</td>\n",
       "      <td>-57.554781</td>\n",
       "      <td>26.004036</td>\n",
       "      <td>-22.099001</td>\n",
       "      <td>-19.011272</td>\n",
       "      <td>30.213263</td>\n",
       "      <td>-15.947640</td>\n",
       "      <td>-52.063792</td>\n",
       "      <td>11.978697</td>\n",
       "      <td>20.185654</td>\n",
       "    </tr>\n",
       "    <tr>\n",
       "      <th>3</th>\n",
       "      <td>-115.288910</td>\n",
       "      <td>36.334428</td>\n",
       "      <td>137.247898</td>\n",
       "      <td>-70.874058</td>\n",
       "      <td>-8.118221</td>\n",
       "      <td>-44.962368</td>\n",
       "      <td>-3.156064</td>\n",
       "      <td>-64.584880</td>\n",
       "      <td>46.295866</td>\n",
       "      <td>-89.627326</td>\n",
       "      <td>...</td>\n",
       "      <td>-12.988076</td>\n",
       "      <td>-55.796746</td>\n",
       "      <td>38.375000</td>\n",
       "      <td>-7.088687</td>\n",
       "      <td>-22.405300</td>\n",
       "      <td>3.429365</td>\n",
       "      <td>10.325868</td>\n",
       "      <td>-27.203207</td>\n",
       "      <td>4.718532</td>\n",
       "      <td>18.270115</td>\n",
       "    </tr>\n",
       "    <tr>\n",
       "      <th>4</th>\n",
       "      <td>-111.539509</td>\n",
       "      <td>45.575378</td>\n",
       "      <td>158.235942</td>\n",
       "      <td>-48.798876</td>\n",
       "      <td>-3.696119</td>\n",
       "      <td>-8.481742</td>\n",
       "      <td>11.270159</td>\n",
       "      <td>-71.759108</td>\n",
       "      <td>48.659401</td>\n",
       "      <td>-69.601917</td>\n",
       "      <td>...</td>\n",
       "      <td>-18.640550</td>\n",
       "      <td>-49.475646</td>\n",
       "      <td>45.969980</td>\n",
       "      <td>10.017216</td>\n",
       "      <td>-29.854329</td>\n",
       "      <td>-12.700807</td>\n",
       "      <td>6.184660</td>\n",
       "      <td>-11.226529</td>\n",
       "      <td>-23.475311</td>\n",
       "      <td>18.417871</td>\n",
       "    </tr>\n",
       "  </tbody>\n",
       "</table>\n",
       "<p>5 rows × 1000 columns</p>\n",
       "</div>"
      ],
      "text/plain": [
       "          0          1           2           3          4           5    \\\n",
       "0  -35.068197  23.928768    1.186254 -151.129527 -42.556784 -148.023683   \n",
       "1  -69.680457  36.845880   47.351802 -121.842658 -24.717552 -113.801059   \n",
       "2  -94.676600  38.038653   98.432548 -103.621516 -10.274245  -71.540178   \n",
       "3 -115.288910  36.334428  137.247898  -70.874058  -8.118221  -44.962368   \n",
       "4 -111.539509  45.575378  158.235942  -48.798876  -3.696119   -8.481742   \n",
       "\n",
       "         6          7          8           9    ...        990        991  \\\n",
       "0 -53.831397 -28.461750 -41.857889 -104.510884  ... -20.185911 -54.703846   \n",
       "1 -37.514149 -47.755131 -13.947044  -92.122796  ... -22.408870 -55.416995   \n",
       "2 -15.104704 -53.717266  24.066586  -97.600882  ... -12.580321 -57.554781   \n",
       "3  -3.156064 -64.584880  46.295866  -89.627326  ... -12.988076 -55.796746   \n",
       "4  11.270159 -71.759108  48.659401  -69.601917  ... -18.640550 -49.475646   \n",
       "\n",
       "         992        993        994        995        996        997  \\\n",
       "0  19.065712 -41.606647  14.064979  43.776326 -47.717873 -71.118814   \n",
       "1  25.558712 -29.078949  -6.947691  33.214213 -33.721565 -64.516346   \n",
       "2  26.004036 -22.099001 -19.011272  30.213263 -15.947640 -52.063792   \n",
       "3  38.375000  -7.088687 -22.405300   3.429365  10.325868 -27.203207   \n",
       "4  45.969980  10.017216 -29.854329 -12.700807   6.184660 -11.226529   \n",
       "\n",
       "         998        999  \n",
       "0  52.784548   8.549779  \n",
       "1  27.890401  10.617190  \n",
       "2  11.978697  20.185654  \n",
       "3   4.718532  18.270115  \n",
       "4 -23.475311  18.417871  \n",
       "\n",
       "[5 rows x 1000 columns]"
      ]
     },
     "execution_count": 13,
     "metadata": {},
     "output_type": "execute_result"
    }
   ],
   "source": [
    "ps = pd.DataFrame(pca_samples)\n",
    "ps.head()"
   ]
  },
  {
   "cell_type": "code",
   "execution_count": 14,
   "metadata": {},
   "outputs": [
    {
     "data": {
      "text/plain": [
       "25200"
      ]
     },
     "execution_count": 14,
     "metadata": {},
     "output_type": "execute_result"
    }
   ],
   "source": [
    "len(ps)"
   ]
  },
  {
   "cell_type": "code",
   "execution_count": 15,
   "metadata": {},
   "outputs": [
    {
     "data": {
      "text/plain": [
       "1000"
      ]
     },
     "execution_count": 15,
     "metadata": {},
     "output_type": "execute_result"
    }
   ],
   "source": [
    "len(ps.columns)"
   ]
  },
  {
   "cell_type": "code",
   "execution_count": 16,
   "metadata": {},
   "outputs": [],
   "source": [
    "X = ps"
   ]
  },
  {
   "cell_type": "markdown",
   "metadata": {},
   "source": [
    "Separando os dados em dados de treino e teste"
   ]
  },
  {
   "cell_type": "code",
   "execution_count": 17,
   "metadata": {},
   "outputs": [],
   "source": [
    "x_treino, x_teste, y_treino, y_teste = train_test_split(X, y, test_size=0.2, random_state=7)"
   ]
  },
  {
   "cell_type": "markdown",
   "metadata": {},
   "source": [
    "----"
   ]
  },
  {
   "cell_type": "markdown",
   "metadata": {},
   "source": [
    "## Treinamento"
   ]
  },
  {
   "cell_type": "markdown",
   "metadata": {
    "id": "7ROy7gugUuR_"
   },
   "source": [
    "### Regressão Logística"
   ]
  },
  {
   "cell_type": "markdown",
   "metadata": {
    "id": "CCZJ7JYFUuSA"
   },
   "source": [
    "Parametros do modelo escolhidos para otimização"
   ]
  },
  {
   "cell_type": "code",
   "execution_count": 18,
   "metadata": {
    "id": "hifVZk8XUuSA"
   },
   "outputs": [],
   "source": [
    "values = {'C':[1, 10, 100], 'solver':['newton-cg', 'liblinear', 'sag', 'lbfgs']}"
   ]
  },
  {
   "cell_type": "code",
   "execution_count": 19,
   "metadata": {
    "id": "AtMSGDZ7UuSA"
   },
   "outputs": [],
   "source": [
    "clf = LogisticRegression()"
   ]
  },
  {
   "cell_type": "code",
   "execution_count": 20,
   "metadata": {},
   "outputs": [],
   "source": [
    "from modules.best_params import best_params"
   ]
  },
  {
   "cell_type": "code",
   "execution_count": 21,
   "metadata": {
    "id": "0ngKayw-UuSB",
    "outputId": "aa6814cf-ad2f-4726-e082-c0bf7994eac8",
    "scrolled": true,
    "tags": []
   },
   "outputs": [
    {
     "name": "stderr",
     "output_type": "stream",
     "text": [
      "LogReg - INFO - [+] ------- Instanciando Kmeans -------\n",
      "LogReg - INFO - [+] ------- Treinando Kmeans -------\n",
      "/home/saraselis/.local/lib/python3.8/site-packages/sklearn/model_selection/_search.py:306: UserWarning: The total space of parameters 12 is smaller than n_iter=200. Running 12 iterations. For exhaustive searches, use GridSearchCV.\n",
      "  warnings.warn(\n"
     ]
    },
    {
     "name": "stdout",
     "output_type": "stream",
     "text": [
      "Fitting 5 folds for each of 12 candidates, totalling 60 fits\n",
      "[CV 1/5; 1/12] START C=1, solver=newton-cg......................................\n"
     ]
    },
    {
     "name": "stderr",
     "output_type": "stream",
     "text": [
      "/home/saraselis/.local/lib/python3.8/site-packages/sklearn/utils/optimize.py:210: ConvergenceWarning: newton-cg failed to converge. Increase the number of iterations.\n",
      "  warnings.warn(\n"
     ]
    },
    {
     "name": "stdout",
     "output_type": "stream",
     "text": [
      "[CV 1/5; 1/12] END .......C=1, solver=newton-cg;, score=0.694 total time= 2.7min\n",
      "[CV 2/5; 1/12] START C=1, solver=newton-cg......................................\n"
     ]
    },
    {
     "name": "stderr",
     "output_type": "stream",
     "text": [
      "/home/saraselis/.local/lib/python3.8/site-packages/sklearn/utils/optimize.py:210: ConvergenceWarning: newton-cg failed to converge. Increase the number of iterations.\n",
      "  warnings.warn(\n"
     ]
    },
    {
     "name": "stdout",
     "output_type": "stream",
     "text": [
      "[CV 2/5; 1/12] END .......C=1, solver=newton-cg;, score=0.694 total time= 2.3min\n",
      "[CV 3/5; 1/12] START C=1, solver=newton-cg......................................\n"
     ]
    },
    {
     "name": "stderr",
     "output_type": "stream",
     "text": [
      "/home/saraselis/.local/lib/python3.8/site-packages/sklearn/utils/optimize.py:210: ConvergenceWarning: newton-cg failed to converge. Increase the number of iterations.\n",
      "  warnings.warn(\n"
     ]
    },
    {
     "name": "stdout",
     "output_type": "stream",
     "text": [
      "[CV 3/5; 1/12] END .......C=1, solver=newton-cg;, score=0.690 total time= 2.4min\n",
      "[CV 4/5; 1/12] START C=1, solver=newton-cg......................................\n"
     ]
    },
    {
     "name": "stderr",
     "output_type": "stream",
     "text": [
      "/home/saraselis/.local/lib/python3.8/site-packages/sklearn/utils/optimize.py:210: ConvergenceWarning: newton-cg failed to converge. Increase the number of iterations.\n",
      "  warnings.warn(\n"
     ]
    },
    {
     "name": "stdout",
     "output_type": "stream",
     "text": [
      "[CV 4/5; 1/12] END .......C=1, solver=newton-cg;, score=0.693 total time= 2.6min\n",
      "[CV 5/5; 1/12] START C=1, solver=newton-cg......................................\n"
     ]
    },
    {
     "name": "stderr",
     "output_type": "stream",
     "text": [
      "/home/saraselis/.local/lib/python3.8/site-packages/sklearn/utils/optimize.py:210: ConvergenceWarning: newton-cg failed to converge. Increase the number of iterations.\n",
      "  warnings.warn(\n"
     ]
    },
    {
     "name": "stdout",
     "output_type": "stream",
     "text": [
      "[CV 5/5; 1/12] END .......C=1, solver=newton-cg;, score=0.684 total time= 2.9min\n",
      "[CV 1/5; 2/12] START C=1, solver=liblinear......................................\n",
      "[CV 1/5; 2/12] END .......C=1, solver=liblinear;, score=0.693 total time=  41.6s\n",
      "[CV 2/5; 2/12] START C=1, solver=liblinear......................................\n",
      "[CV 2/5; 2/12] END .......C=1, solver=liblinear;, score=0.696 total time=  44.9s\n",
      "[CV 3/5; 2/12] START C=1, solver=liblinear......................................\n",
      "[CV 3/5; 2/12] END .......C=1, solver=liblinear;, score=0.690 total time=  49.1s\n",
      "[CV 4/5; 2/12] START C=1, solver=liblinear......................................\n",
      "[CV 4/5; 2/12] END .......C=1, solver=liblinear;, score=0.693 total time=  34.1s\n",
      "[CV 5/5; 2/12] START C=1, solver=liblinear......................................\n",
      "[CV 5/5; 2/12] END .......C=1, solver=liblinear;, score=0.683 total time=  34.7s\n",
      "[CV 1/5; 3/12] START C=1, solver=sag............................................\n"
     ]
    },
    {
     "name": "stderr",
     "output_type": "stream",
     "text": [
      "/home/saraselis/.local/lib/python3.8/site-packages/sklearn/linear_model/_sag.py:350: ConvergenceWarning: The max_iter was reached which means the coef_ did not converge\n",
      "  warnings.warn(\n"
     ]
    },
    {
     "name": "stdout",
     "output_type": "stream",
     "text": [
      "[CV 1/5; 3/12] END .............C=1, solver=sag;, score=0.697 total time=   9.7s\n",
      "[CV 2/5; 3/12] START C=1, solver=sag............................................\n"
     ]
    },
    {
     "name": "stderr",
     "output_type": "stream",
     "text": [
      "/home/saraselis/.local/lib/python3.8/site-packages/sklearn/linear_model/_sag.py:350: ConvergenceWarning: The max_iter was reached which means the coef_ did not converge\n",
      "  warnings.warn(\n"
     ]
    },
    {
     "name": "stdout",
     "output_type": "stream",
     "text": [
      "[CV 2/5; 3/12] END .............C=1, solver=sag;, score=0.703 total time=   9.5s\n",
      "[CV 3/5; 3/12] START C=1, solver=sag............................................\n"
     ]
    },
    {
     "name": "stderr",
     "output_type": "stream",
     "text": [
      "/home/saraselis/.local/lib/python3.8/site-packages/sklearn/linear_model/_sag.py:350: ConvergenceWarning: The max_iter was reached which means the coef_ did not converge\n",
      "  warnings.warn(\n"
     ]
    },
    {
     "name": "stdout",
     "output_type": "stream",
     "text": [
      "[CV 3/5; 3/12] END .............C=1, solver=sag;, score=0.695 total time=   9.6s\n",
      "[CV 4/5; 3/12] START C=1, solver=sag............................................\n"
     ]
    },
    {
     "name": "stderr",
     "output_type": "stream",
     "text": [
      "/home/saraselis/.local/lib/python3.8/site-packages/sklearn/linear_model/_sag.py:350: ConvergenceWarning: The max_iter was reached which means the coef_ did not converge\n",
      "  warnings.warn(\n"
     ]
    },
    {
     "name": "stdout",
     "output_type": "stream",
     "text": [
      "[CV 4/5; 3/12] END .............C=1, solver=sag;, score=0.710 total time=   9.9s\n",
      "[CV 5/5; 3/12] START C=1, solver=sag............................................\n"
     ]
    },
    {
     "name": "stderr",
     "output_type": "stream",
     "text": [
      "/home/saraselis/.local/lib/python3.8/site-packages/sklearn/linear_model/_sag.py:350: ConvergenceWarning: The max_iter was reached which means the coef_ did not converge\n",
      "  warnings.warn(\n"
     ]
    },
    {
     "name": "stdout",
     "output_type": "stream",
     "text": [
      "[CV 5/5; 3/12] END .............C=1, solver=sag;, score=0.699 total time=   9.7s\n",
      "[CV 1/5; 4/12] START C=1, solver=lbfgs..........................................\n"
     ]
    },
    {
     "name": "stderr",
     "output_type": "stream",
     "text": [
      "/home/saraselis/.local/lib/python3.8/site-packages/sklearn/linear_model/_logistic.py:444: ConvergenceWarning: lbfgs failed to converge (status=1):\n",
      "STOP: TOTAL NO. of ITERATIONS REACHED LIMIT.\n",
      "\n",
      "Increase the number of iterations (max_iter) or scale the data as shown in:\n",
      "    https://scikit-learn.org/stable/modules/preprocessing.html\n",
      "Please also refer to the documentation for alternative solver options:\n",
      "    https://scikit-learn.org/stable/modules/linear_model.html#logistic-regression\n",
      "  n_iter_i = _check_optimize_result(\n"
     ]
    },
    {
     "name": "stdout",
     "output_type": "stream",
     "text": [
      "[CV 1/5; 4/12] END ...........C=1, solver=lbfgs;, score=0.697 total time=   2.3s\n",
      "[CV 2/5; 4/12] START C=1, solver=lbfgs..........................................\n"
     ]
    },
    {
     "name": "stderr",
     "output_type": "stream",
     "text": [
      "/home/saraselis/.local/lib/python3.8/site-packages/sklearn/linear_model/_logistic.py:444: ConvergenceWarning: lbfgs failed to converge (status=1):\n",
      "STOP: TOTAL NO. of ITERATIONS REACHED LIMIT.\n",
      "\n",
      "Increase the number of iterations (max_iter) or scale the data as shown in:\n",
      "    https://scikit-learn.org/stable/modules/preprocessing.html\n",
      "Please also refer to the documentation for alternative solver options:\n",
      "    https://scikit-learn.org/stable/modules/linear_model.html#logistic-regression\n",
      "  n_iter_i = _check_optimize_result(\n"
     ]
    },
    {
     "name": "stdout",
     "output_type": "stream",
     "text": [
      "[CV 2/5; 4/12] END ...........C=1, solver=lbfgs;, score=0.702 total time=   2.4s\n",
      "[CV 3/5; 4/12] START C=1, solver=lbfgs..........................................\n"
     ]
    },
    {
     "name": "stderr",
     "output_type": "stream",
     "text": [
      "/home/saraselis/.local/lib/python3.8/site-packages/sklearn/linear_model/_logistic.py:444: ConvergenceWarning: lbfgs failed to converge (status=1):\n",
      "STOP: TOTAL NO. of ITERATIONS REACHED LIMIT.\n",
      "\n",
      "Increase the number of iterations (max_iter) or scale the data as shown in:\n",
      "    https://scikit-learn.org/stable/modules/preprocessing.html\n",
      "Please also refer to the documentation for alternative solver options:\n",
      "    https://scikit-learn.org/stable/modules/linear_model.html#logistic-regression\n",
      "  n_iter_i = _check_optimize_result(\n"
     ]
    },
    {
     "name": "stdout",
     "output_type": "stream",
     "text": [
      "[CV 3/5; 4/12] END ...........C=1, solver=lbfgs;, score=0.697 total time=   2.4s\n",
      "[CV 4/5; 4/12] START C=1, solver=lbfgs..........................................\n"
     ]
    },
    {
     "name": "stderr",
     "output_type": "stream",
     "text": [
      "/home/saraselis/.local/lib/python3.8/site-packages/sklearn/linear_model/_logistic.py:444: ConvergenceWarning: lbfgs failed to converge (status=1):\n",
      "STOP: TOTAL NO. of ITERATIONS REACHED LIMIT.\n",
      "\n",
      "Increase the number of iterations (max_iter) or scale the data as shown in:\n",
      "    https://scikit-learn.org/stable/modules/preprocessing.html\n",
      "Please also refer to the documentation for alternative solver options:\n",
      "    https://scikit-learn.org/stable/modules/linear_model.html#logistic-regression\n",
      "  n_iter_i = _check_optimize_result(\n"
     ]
    },
    {
     "name": "stdout",
     "output_type": "stream",
     "text": [
      "[CV 4/5; 4/12] END ...........C=1, solver=lbfgs;, score=0.701 total time=   2.4s\n",
      "[CV 5/5; 4/12] START C=1, solver=lbfgs..........................................\n"
     ]
    },
    {
     "name": "stderr",
     "output_type": "stream",
     "text": [
      "/home/saraselis/.local/lib/python3.8/site-packages/sklearn/linear_model/_logistic.py:444: ConvergenceWarning: lbfgs failed to converge (status=1):\n",
      "STOP: TOTAL NO. of ITERATIONS REACHED LIMIT.\n",
      "\n",
      "Increase the number of iterations (max_iter) or scale the data as shown in:\n",
      "    https://scikit-learn.org/stable/modules/preprocessing.html\n",
      "Please also refer to the documentation for alternative solver options:\n",
      "    https://scikit-learn.org/stable/modules/linear_model.html#logistic-regression\n",
      "  n_iter_i = _check_optimize_result(\n"
     ]
    },
    {
     "name": "stdout",
     "output_type": "stream",
     "text": [
      "[CV 5/5; 4/12] END ...........C=1, solver=lbfgs;, score=0.690 total time=   2.3s\n",
      "[CV 1/5; 5/12] START C=10, solver=newton-cg.....................................\n"
     ]
    },
    {
     "name": "stderr",
     "output_type": "stream",
     "text": [
      "/home/saraselis/.local/lib/python3.8/site-packages/sklearn/utils/optimize.py:210: ConvergenceWarning: newton-cg failed to converge. Increase the number of iterations.\n",
      "  warnings.warn(\n"
     ]
    },
    {
     "name": "stdout",
     "output_type": "stream",
     "text": [
      "[CV 1/5; 5/12] END ......C=10, solver=newton-cg;, score=0.694 total time= 2.6min\n",
      "[CV 2/5; 5/12] START C=10, solver=newton-cg.....................................\n"
     ]
    },
    {
     "name": "stderr",
     "output_type": "stream",
     "text": [
      "/home/saraselis/.local/lib/python3.8/site-packages/sklearn/utils/optimize.py:210: ConvergenceWarning: newton-cg failed to converge. Increase the number of iterations.\n",
      "  warnings.warn(\n"
     ]
    },
    {
     "name": "stdout",
     "output_type": "stream",
     "text": [
      "[CV 2/5; 5/12] END ......C=10, solver=newton-cg;, score=0.694 total time= 2.7min\n",
      "[CV 3/5; 5/12] START C=10, solver=newton-cg.....................................\n"
     ]
    },
    {
     "name": "stderr",
     "output_type": "stream",
     "text": [
      "/home/saraselis/.local/lib/python3.8/site-packages/sklearn/utils/optimize.py:210: ConvergenceWarning: newton-cg failed to converge. Increase the number of iterations.\n",
      "  warnings.warn(\n"
     ]
    },
    {
     "name": "stdout",
     "output_type": "stream",
     "text": [
      "[CV 3/5; 5/12] END ......C=10, solver=newton-cg;, score=0.690 total time= 2.5min\n",
      "[CV 4/5; 5/12] START C=10, solver=newton-cg.....................................\n"
     ]
    },
    {
     "name": "stderr",
     "output_type": "stream",
     "text": [
      "/home/saraselis/.local/lib/python3.8/site-packages/sklearn/utils/optimize.py:210: ConvergenceWarning: newton-cg failed to converge. Increase the number of iterations.\n",
      "  warnings.warn(\n"
     ]
    },
    {
     "name": "stdout",
     "output_type": "stream",
     "text": [
      "[CV 4/5; 5/12] END ......C=10, solver=newton-cg;, score=0.693 total time= 2.7min\n",
      "[CV 5/5; 5/12] START C=10, solver=newton-cg.....................................\n"
     ]
    },
    {
     "name": "stderr",
     "output_type": "stream",
     "text": [
      "/home/saraselis/.local/lib/python3.8/site-packages/sklearn/utils/optimize.py:210: ConvergenceWarning: newton-cg failed to converge. Increase the number of iterations.\n",
      "  warnings.warn(\n"
     ]
    },
    {
     "name": "stdout",
     "output_type": "stream",
     "text": [
      "[CV 5/5; 5/12] END ......C=10, solver=newton-cg;, score=0.684 total time= 3.0min\n",
      "[CV 1/5; 6/12] START C=10, solver=liblinear.....................................\n",
      "[CV 1/5; 6/12] END ......C=10, solver=liblinear;, score=0.694 total time=  43.9s\n",
      "[CV 2/5; 6/12] START C=10, solver=liblinear.....................................\n",
      "[CV 2/5; 6/12] END ......C=10, solver=liblinear;, score=0.696 total time=  51.9s\n",
      "[CV 3/5; 6/12] START C=10, solver=liblinear.....................................\n",
      "[CV 3/5; 6/12] END ......C=10, solver=liblinear;, score=0.690 total time=  58.6s\n",
      "[CV 4/5; 6/12] START C=10, solver=liblinear.....................................\n",
      "[CV 4/5; 6/12] END ......C=10, solver=liblinear;, score=0.693 total time=  57.6s\n",
      "[CV 5/5; 6/12] START C=10, solver=liblinear.....................................\n",
      "[CV 5/5; 6/12] END ......C=10, solver=liblinear;, score=0.683 total time=  41.6s\n",
      "[CV 1/5; 7/12] START C=10, solver=sag...........................................\n"
     ]
    },
    {
     "name": "stderr",
     "output_type": "stream",
     "text": [
      "/home/saraselis/.local/lib/python3.8/site-packages/sklearn/linear_model/_sag.py:350: ConvergenceWarning: The max_iter was reached which means the coef_ did not converge\n",
      "  warnings.warn(\n"
     ]
    },
    {
     "name": "stdout",
     "output_type": "stream",
     "text": [
      "[CV 1/5; 7/12] END ............C=10, solver=sag;, score=0.697 total time=  10.1s\n",
      "[CV 2/5; 7/12] START C=10, solver=sag...........................................\n"
     ]
    },
    {
     "name": "stderr",
     "output_type": "stream",
     "text": [
      "/home/saraselis/.local/lib/python3.8/site-packages/sklearn/linear_model/_sag.py:350: ConvergenceWarning: The max_iter was reached which means the coef_ did not converge\n",
      "  warnings.warn(\n"
     ]
    },
    {
     "name": "stdout",
     "output_type": "stream",
     "text": [
      "[CV 2/5; 7/12] END ............C=10, solver=sag;, score=0.705 total time=  10.2s\n",
      "[CV 3/5; 7/12] START C=10, solver=sag...........................................\n"
     ]
    },
    {
     "name": "stderr",
     "output_type": "stream",
     "text": [
      "/home/saraselis/.local/lib/python3.8/site-packages/sklearn/linear_model/_sag.py:350: ConvergenceWarning: The max_iter was reached which means the coef_ did not converge\n",
      "  warnings.warn(\n"
     ]
    },
    {
     "name": "stdout",
     "output_type": "stream",
     "text": [
      "[CV 3/5; 7/12] END ............C=10, solver=sag;, score=0.696 total time=  10.1s\n",
      "[CV 4/5; 7/12] START C=10, solver=sag...........................................\n"
     ]
    },
    {
     "name": "stderr",
     "output_type": "stream",
     "text": [
      "/home/saraselis/.local/lib/python3.8/site-packages/sklearn/linear_model/_sag.py:350: ConvergenceWarning: The max_iter was reached which means the coef_ did not converge\n",
      "  warnings.warn(\n"
     ]
    },
    {
     "name": "stdout",
     "output_type": "stream",
     "text": [
      "[CV 4/5; 7/12] END ............C=10, solver=sag;, score=0.708 total time=   9.6s\n",
      "[CV 5/5; 7/12] START C=10, solver=sag...........................................\n"
     ]
    },
    {
     "name": "stderr",
     "output_type": "stream",
     "text": [
      "/home/saraselis/.local/lib/python3.8/site-packages/sklearn/linear_model/_sag.py:350: ConvergenceWarning: The max_iter was reached which means the coef_ did not converge\n",
      "  warnings.warn(\n"
     ]
    },
    {
     "name": "stdout",
     "output_type": "stream",
     "text": [
      "[CV 5/5; 7/12] END ............C=10, solver=sag;, score=0.699 total time=   9.6s\n",
      "[CV 1/5; 8/12] START C=10, solver=lbfgs.........................................\n"
     ]
    },
    {
     "name": "stderr",
     "output_type": "stream",
     "text": [
      "/home/saraselis/.local/lib/python3.8/site-packages/sklearn/linear_model/_logistic.py:444: ConvergenceWarning: lbfgs failed to converge (status=1):\n",
      "STOP: TOTAL NO. of ITERATIONS REACHED LIMIT.\n",
      "\n",
      "Increase the number of iterations (max_iter) or scale the data as shown in:\n",
      "    https://scikit-learn.org/stable/modules/preprocessing.html\n",
      "Please also refer to the documentation for alternative solver options:\n",
      "    https://scikit-learn.org/stable/modules/linear_model.html#logistic-regression\n",
      "  n_iter_i = _check_optimize_result(\n"
     ]
    },
    {
     "name": "stdout",
     "output_type": "stream",
     "text": [
      "[CV 1/5; 8/12] END ..........C=10, solver=lbfgs;, score=0.697 total time=   2.2s\n",
      "[CV 2/5; 8/12] START C=10, solver=lbfgs.........................................\n"
     ]
    },
    {
     "name": "stderr",
     "output_type": "stream",
     "text": [
      "/home/saraselis/.local/lib/python3.8/site-packages/sklearn/linear_model/_logistic.py:444: ConvergenceWarning: lbfgs failed to converge (status=1):\n",
      "STOP: TOTAL NO. of ITERATIONS REACHED LIMIT.\n",
      "\n",
      "Increase the number of iterations (max_iter) or scale the data as shown in:\n",
      "    https://scikit-learn.org/stable/modules/preprocessing.html\n",
      "Please also refer to the documentation for alternative solver options:\n",
      "    https://scikit-learn.org/stable/modules/linear_model.html#logistic-regression\n",
      "  n_iter_i = _check_optimize_result(\n"
     ]
    },
    {
     "name": "stdout",
     "output_type": "stream",
     "text": [
      "[CV 2/5; 8/12] END ..........C=10, solver=lbfgs;, score=0.702 total time=   1.9s\n",
      "[CV 3/5; 8/12] START C=10, solver=lbfgs.........................................\n"
     ]
    },
    {
     "name": "stderr",
     "output_type": "stream",
     "text": [
      "/home/saraselis/.local/lib/python3.8/site-packages/sklearn/linear_model/_logistic.py:444: ConvergenceWarning: lbfgs failed to converge (status=1):\n",
      "STOP: TOTAL NO. of ITERATIONS REACHED LIMIT.\n",
      "\n",
      "Increase the number of iterations (max_iter) or scale the data as shown in:\n",
      "    https://scikit-learn.org/stable/modules/preprocessing.html\n",
      "Please also refer to the documentation for alternative solver options:\n",
      "    https://scikit-learn.org/stable/modules/linear_model.html#logistic-regression\n",
      "  n_iter_i = _check_optimize_result(\n"
     ]
    },
    {
     "name": "stdout",
     "output_type": "stream",
     "text": [
      "[CV 3/5; 8/12] END ..........C=10, solver=lbfgs;, score=0.695 total time=   2.3s\n",
      "[CV 4/5; 8/12] START C=10, solver=lbfgs.........................................\n"
     ]
    },
    {
     "name": "stderr",
     "output_type": "stream",
     "text": [
      "/home/saraselis/.local/lib/python3.8/site-packages/sklearn/linear_model/_logistic.py:444: ConvergenceWarning: lbfgs failed to converge (status=1):\n",
      "STOP: TOTAL NO. of ITERATIONS REACHED LIMIT.\n",
      "\n",
      "Increase the number of iterations (max_iter) or scale the data as shown in:\n",
      "    https://scikit-learn.org/stable/modules/preprocessing.html\n",
      "Please also refer to the documentation for alternative solver options:\n",
      "    https://scikit-learn.org/stable/modules/linear_model.html#logistic-regression\n",
      "  n_iter_i = _check_optimize_result(\n"
     ]
    },
    {
     "name": "stdout",
     "output_type": "stream",
     "text": [
      "[CV 4/5; 8/12] END ..........C=10, solver=lbfgs;, score=0.700 total time=   2.0s\n",
      "[CV 5/5; 8/12] START C=10, solver=lbfgs.........................................\n"
     ]
    },
    {
     "name": "stderr",
     "output_type": "stream",
     "text": [
      "/home/saraselis/.local/lib/python3.8/site-packages/sklearn/linear_model/_logistic.py:444: ConvergenceWarning: lbfgs failed to converge (status=1):\n",
      "STOP: TOTAL NO. of ITERATIONS REACHED LIMIT.\n",
      "\n",
      "Increase the number of iterations (max_iter) or scale the data as shown in:\n",
      "    https://scikit-learn.org/stable/modules/preprocessing.html\n",
      "Please also refer to the documentation for alternative solver options:\n",
      "    https://scikit-learn.org/stable/modules/linear_model.html#logistic-regression\n",
      "  n_iter_i = _check_optimize_result(\n"
     ]
    },
    {
     "name": "stdout",
     "output_type": "stream",
     "text": [
      "[CV 5/5; 8/12] END ..........C=10, solver=lbfgs;, score=0.691 total time=   2.1s\n",
      "[CV 1/5; 9/12] START C=100, solver=newton-cg....................................\n"
     ]
    },
    {
     "name": "stderr",
     "output_type": "stream",
     "text": [
      "/home/saraselis/.local/lib/python3.8/site-packages/sklearn/utils/optimize.py:210: ConvergenceWarning: newton-cg failed to converge. Increase the number of iterations.\n",
      "  warnings.warn(\n"
     ]
    },
    {
     "name": "stdout",
     "output_type": "stream",
     "text": [
      "[CV 1/5; 9/12] END .....C=100, solver=newton-cg;, score=0.694 total time= 2.2min\n",
      "[CV 2/5; 9/12] START C=100, solver=newton-cg....................................\n"
     ]
    },
    {
     "name": "stderr",
     "output_type": "stream",
     "text": [
      "/home/saraselis/.local/lib/python3.8/site-packages/sklearn/utils/optimize.py:210: ConvergenceWarning: newton-cg failed to converge. Increase the number of iterations.\n",
      "  warnings.warn(\n"
     ]
    },
    {
     "name": "stdout",
     "output_type": "stream",
     "text": [
      "[CV 2/5; 9/12] END .....C=100, solver=newton-cg;, score=0.694 total time= 2.5min\n",
      "[CV 3/5; 9/12] START C=100, solver=newton-cg....................................\n"
     ]
    },
    {
     "name": "stderr",
     "output_type": "stream",
     "text": [
      "/home/saraselis/.local/lib/python3.8/site-packages/sklearn/utils/optimize.py:210: ConvergenceWarning: newton-cg failed to converge. Increase the number of iterations.\n",
      "  warnings.warn(\n"
     ]
    },
    {
     "name": "stdout",
     "output_type": "stream",
     "text": [
      "[CV 3/5; 9/12] END .....C=100, solver=newton-cg;, score=0.690 total time= 2.5min\n",
      "[CV 4/5; 9/12] START C=100, solver=newton-cg....................................\n"
     ]
    },
    {
     "name": "stderr",
     "output_type": "stream",
     "text": [
      "/home/saraselis/.local/lib/python3.8/site-packages/sklearn/utils/optimize.py:210: ConvergenceWarning: newton-cg failed to converge. Increase the number of iterations.\n",
      "  warnings.warn(\n"
     ]
    },
    {
     "name": "stdout",
     "output_type": "stream",
     "text": [
      "[CV 4/5; 9/12] END .....C=100, solver=newton-cg;, score=0.693 total time= 2.5min\n",
      "[CV 5/5; 9/12] START C=100, solver=newton-cg....................................\n"
     ]
    },
    {
     "name": "stderr",
     "output_type": "stream",
     "text": [
      "/home/saraselis/.local/lib/python3.8/site-packages/sklearn/utils/optimize.py:210: ConvergenceWarning: newton-cg failed to converge. Increase the number of iterations.\n",
      "  warnings.warn(\n"
     ]
    },
    {
     "name": "stdout",
     "output_type": "stream",
     "text": [
      "[CV 5/5; 9/12] END .....C=100, solver=newton-cg;, score=0.684 total time= 2.5min\n",
      "[CV 1/5; 10/12] START C=100, solver=liblinear...................................\n",
      "[CV 1/5; 10/12] END ....C=100, solver=liblinear;, score=0.694 total time=  39.3s\n",
      "[CV 2/5; 10/12] START C=100, solver=liblinear...................................\n",
      "[CV 2/5; 10/12] END ....C=100, solver=liblinear;, score=0.696 total time=  42.8s\n",
      "[CV 3/5; 10/12] START C=100, solver=liblinear...................................\n",
      "[CV 3/5; 10/12] END ....C=100, solver=liblinear;, score=0.690 total time=  50.3s\n",
      "[CV 4/5; 10/12] START C=100, solver=liblinear...................................\n",
      "[CV 4/5; 10/12] END ....C=100, solver=liblinear;, score=0.693 total time=  35.2s\n",
      "[CV 5/5; 10/12] START C=100, solver=liblinear...................................\n",
      "[CV 5/5; 10/12] END ....C=100, solver=liblinear;, score=0.683 total time=  35.5s\n",
      "[CV 1/5; 11/12] START C=100, solver=sag.........................................\n"
     ]
    },
    {
     "name": "stderr",
     "output_type": "stream",
     "text": [
      "/home/saraselis/.local/lib/python3.8/site-packages/sklearn/linear_model/_sag.py:350: ConvergenceWarning: The max_iter was reached which means the coef_ did not converge\n",
      "  warnings.warn(\n"
     ]
    },
    {
     "name": "stdout",
     "output_type": "stream",
     "text": [
      "[CV 1/5; 11/12] END ..........C=100, solver=sag;, score=0.697 total time=   9.8s\n",
      "[CV 2/5; 11/12] START C=100, solver=sag.........................................\n"
     ]
    },
    {
     "name": "stderr",
     "output_type": "stream",
     "text": [
      "/home/saraselis/.local/lib/python3.8/site-packages/sklearn/linear_model/_sag.py:350: ConvergenceWarning: The max_iter was reached which means the coef_ did not converge\n",
      "  warnings.warn(\n"
     ]
    },
    {
     "name": "stdout",
     "output_type": "stream",
     "text": [
      "[CV 2/5; 11/12] END ..........C=100, solver=sag;, score=0.704 total time=   9.6s\n",
      "[CV 3/5; 11/12] START C=100, solver=sag.........................................\n"
     ]
    },
    {
     "name": "stderr",
     "output_type": "stream",
     "text": [
      "/home/saraselis/.local/lib/python3.8/site-packages/sklearn/linear_model/_sag.py:350: ConvergenceWarning: The max_iter was reached which means the coef_ did not converge\n",
      "  warnings.warn(\n"
     ]
    },
    {
     "name": "stdout",
     "output_type": "stream",
     "text": [
      "[CV 3/5; 11/12] END ..........C=100, solver=sag;, score=0.696 total time=   9.6s\n",
      "[CV 4/5; 11/12] START C=100, solver=sag.........................................\n"
     ]
    },
    {
     "name": "stderr",
     "output_type": "stream",
     "text": [
      "/home/saraselis/.local/lib/python3.8/site-packages/sklearn/linear_model/_sag.py:350: ConvergenceWarning: The max_iter was reached which means the coef_ did not converge\n",
      "  warnings.warn(\n"
     ]
    },
    {
     "name": "stdout",
     "output_type": "stream",
     "text": [
      "[CV 4/5; 11/12] END ..........C=100, solver=sag;, score=0.710 total time=   9.8s\n",
      "[CV 5/5; 11/12] START C=100, solver=sag.........................................\n"
     ]
    },
    {
     "name": "stderr",
     "output_type": "stream",
     "text": [
      "/home/saraselis/.local/lib/python3.8/site-packages/sklearn/linear_model/_sag.py:350: ConvergenceWarning: The max_iter was reached which means the coef_ did not converge\n",
      "  warnings.warn(\n"
     ]
    },
    {
     "name": "stdout",
     "output_type": "stream",
     "text": [
      "[CV 5/5; 11/12] END ..........C=100, solver=sag;, score=0.699 total time=   9.7s\n",
      "[CV 1/5; 12/12] START C=100, solver=lbfgs.......................................\n"
     ]
    },
    {
     "name": "stderr",
     "output_type": "stream",
     "text": [
      "/home/saraselis/.local/lib/python3.8/site-packages/sklearn/linear_model/_logistic.py:444: ConvergenceWarning: lbfgs failed to converge (status=1):\n",
      "STOP: TOTAL NO. of ITERATIONS REACHED LIMIT.\n",
      "\n",
      "Increase the number of iterations (max_iter) or scale the data as shown in:\n",
      "    https://scikit-learn.org/stable/modules/preprocessing.html\n",
      "Please also refer to the documentation for alternative solver options:\n",
      "    https://scikit-learn.org/stable/modules/linear_model.html#logistic-regression\n",
      "  n_iter_i = _check_optimize_result(\n"
     ]
    },
    {
     "name": "stdout",
     "output_type": "stream",
     "text": [
      "[CV 1/5; 12/12] END ........C=100, solver=lbfgs;, score=0.697 total time=   2.1s\n",
      "[CV 2/5; 12/12] START C=100, solver=lbfgs.......................................\n"
     ]
    },
    {
     "name": "stderr",
     "output_type": "stream",
     "text": [
      "/home/saraselis/.local/lib/python3.8/site-packages/sklearn/linear_model/_logistic.py:444: ConvergenceWarning: lbfgs failed to converge (status=1):\n",
      "STOP: TOTAL NO. of ITERATIONS REACHED LIMIT.\n",
      "\n",
      "Increase the number of iterations (max_iter) or scale the data as shown in:\n",
      "    https://scikit-learn.org/stable/modules/preprocessing.html\n",
      "Please also refer to the documentation for alternative solver options:\n",
      "    https://scikit-learn.org/stable/modules/linear_model.html#logistic-regression\n",
      "  n_iter_i = _check_optimize_result(\n"
     ]
    },
    {
     "name": "stdout",
     "output_type": "stream",
     "text": [
      "[CV 2/5; 12/12] END ........C=100, solver=lbfgs;, score=0.702 total time=   2.0s\n",
      "[CV 3/5; 12/12] START C=100, solver=lbfgs.......................................\n"
     ]
    },
    {
     "name": "stderr",
     "output_type": "stream",
     "text": [
      "/home/saraselis/.local/lib/python3.8/site-packages/sklearn/linear_model/_logistic.py:444: ConvergenceWarning: lbfgs failed to converge (status=1):\n",
      "STOP: TOTAL NO. of ITERATIONS REACHED LIMIT.\n",
      "\n",
      "Increase the number of iterations (max_iter) or scale the data as shown in:\n",
      "    https://scikit-learn.org/stable/modules/preprocessing.html\n",
      "Please also refer to the documentation for alternative solver options:\n",
      "    https://scikit-learn.org/stable/modules/linear_model.html#logistic-regression\n",
      "  n_iter_i = _check_optimize_result(\n"
     ]
    },
    {
     "name": "stdout",
     "output_type": "stream",
     "text": [
      "[CV 3/5; 12/12] END ........C=100, solver=lbfgs;, score=0.693 total time=   2.2s\n",
      "[CV 4/5; 12/12] START C=100, solver=lbfgs.......................................\n"
     ]
    },
    {
     "name": "stderr",
     "output_type": "stream",
     "text": [
      "/home/saraselis/.local/lib/python3.8/site-packages/sklearn/linear_model/_logistic.py:444: ConvergenceWarning: lbfgs failed to converge (status=1):\n",
      "STOP: TOTAL NO. of ITERATIONS REACHED LIMIT.\n",
      "\n",
      "Increase the number of iterations (max_iter) or scale the data as shown in:\n",
      "    https://scikit-learn.org/stable/modules/preprocessing.html\n",
      "Please also refer to the documentation for alternative solver options:\n",
      "    https://scikit-learn.org/stable/modules/linear_model.html#logistic-regression\n",
      "  n_iter_i = _check_optimize_result(\n"
     ]
    },
    {
     "name": "stdout",
     "output_type": "stream",
     "text": [
      "[CV 4/5; 12/12] END ........C=100, solver=lbfgs;, score=0.703 total time=   1.8s\n",
      "[CV 5/5; 12/12] START C=100, solver=lbfgs.......................................\n"
     ]
    },
    {
     "name": "stderr",
     "output_type": "stream",
     "text": [
      "/home/saraselis/.local/lib/python3.8/site-packages/sklearn/linear_model/_logistic.py:444: ConvergenceWarning: lbfgs failed to converge (status=1):\n",
      "STOP: TOTAL NO. of ITERATIONS REACHED LIMIT.\n",
      "\n",
      "Increase the number of iterations (max_iter) or scale the data as shown in:\n",
      "    https://scikit-learn.org/stable/modules/preprocessing.html\n",
      "Please also refer to the documentation for alternative solver options:\n",
      "    https://scikit-learn.org/stable/modules/linear_model.html#logistic-regression\n",
      "  n_iter_i = _check_optimize_result(\n"
     ]
    },
    {
     "name": "stdout",
     "output_type": "stream",
     "text": [
      "[CV 5/5; 12/12] END ........C=100, solver=lbfgs;, score=0.691 total time=   2.3s\n"
     ]
    },
    {
     "name": "stderr",
     "output_type": "stream",
     "text": [
      "/home/saraselis/.local/lib/python3.8/site-packages/sklearn/linear_model/_sag.py:350: ConvergenceWarning: The max_iter was reached which means the coef_ did not converge\n",
      "  warnings.warn(\n",
      "LogReg - INFO - [+] ------- Predict Kmeans -------\n",
      "LogReg - INFO - [+] ------- Parametros Kmeans -------\n",
      "LogReg - WARNING - [+] ------- Aconteceu algum problema... -------\n",
      "LogReg - CRITICAL - [+] ------- name 'RED' is not defined -------\n",
      "LogReg - INFO - [+] ------- Busca finalizada -------\n"
     ]
    },
    {
     "name": "stdout",
     "output_type": "stream",
     "text": [
      "CPU times: user 7h 52min 40s, sys: 2h 41min 25s, total: 10h 34min 5s\n",
      "Wall time: 52min 41s\n"
     ]
    }
   ],
   "source": [
    "%%time\n",
    "\n",
    "try:\n",
    "    best = best_params(values, clf, x_treino, x_teste, y_treino, y_teste)\n",
    "\n",
    "except Exception as error:\n",
    "    logger.warning('Aconteceu algum problema...')\n",
    "    logger.critical(error)\n",
    "\n",
    "else:\n",
    "    logger.info('Ok')\n",
    "    \n",
    "finally:\n",
    "    logger.info('Busca finalizada')"
   ]
  },
  {
   "cell_type": "markdown",
   "metadata": {
    "id": "C84_HGDRUuSC"
   },
   "source": [
    "Melhores parâmetros:"
   ]
  },
  {
   "cell_type": "code",
   "execution_count": 22,
   "metadata": {
    "id": "qzL0L3j9UuSC",
    "outputId": "15caf52c-c7c1-4c8f-82d2-3b532016374a"
   },
   "outputs": [
    {
     "ename": "NameError",
     "evalue": "name 'best' is not defined",
     "output_type": "error",
     "traceback": [
      "\u001b[0;31m---------------------------------------------------------------------------\u001b[0m",
      "\u001b[0;31mNameError\u001b[0m                                 Traceback (most recent call last)",
      "\u001b[0;32m/tmp/ipykernel_486/758846548.py\u001b[0m in \u001b[0;36m<module>\u001b[0;34m\u001b[0m\n\u001b[0;32m----> 1\u001b[0;31m \u001b[0mbest\u001b[0m\u001b[0;34m\u001b[0m\u001b[0;34m\u001b[0m\u001b[0m\n\u001b[0m",
      "\u001b[0;31mNameError\u001b[0m: name 'best' is not defined"
     ]
    }
   ],
   "source": [
    "best"
   ]
  },
  {
   "cell_type": "markdown",
   "metadata": {},
   "source": [
    "{'solver': 'lbfgs', 'C': 100}"
   ]
  },
  {
   "cell_type": "markdown",
   "metadata": {
    "id": "kwpkbJPRUuSC"
   },
   "source": [
    "----"
   ]
  },
  {
   "cell_type": "markdown",
   "metadata": {
    "id": "AQnI7VgAUuSD"
   },
   "source": [
    "### Regressão Logística\n",
    "Treinando o modelo com os melhore parametros"
   ]
  },
  {
   "cell_type": "code",
   "execution_count": 22,
   "metadata": {
    "id": "cXbS7zrFUuSD"
   },
   "outputs": [],
   "source": [
    "def classificador(x_treino, y_treino, x_teste, y_teste):\n",
    "    '''\n",
    "        Treina um classificador com os melhores parametros possíveis.\n",
    "        \n",
    "        Params\n",
    "        ------\n",
    "        :x_treino: dados de treino\n",
    "        :x_teste: dados de teste\n",
    "        :y_treino: dados de treino -labels\n",
    "        :y_teste: dados de treino - labels\n",
    "    \n",
    "        Return\n",
    "        ------\n",
    "        :LogReg: Modelo LogReg treinado\n",
    "        :resultados (matrix): métricas\n",
    "    '''\n",
    "    \n",
    "    logger.info('Instanciando LogReg')\n",
    "    LogReg = LogisticRegression(solver= 'lbfgs', C = 100)\n",
    "    \n",
    "    logger.info('Treinando LogReg')\n",
    "    LogReg.fit(x_treino, y_treino)\n",
    "    \n",
    "    logger.info('Predict')\n",
    "    categorias = LogReg.predict(x_teste)\n",
    "    \n",
    "    logger.info('Métricas: \\n \\n')\n",
    "    \n",
    "    logger.info('Acurácia')\n",
    "    \n",
    "    acc = accuracy_score(y_teste, categorias)\n",
    "    print(OKCYAN, \"Acc \\n\" + str(acc) + \"\\n\")\n",
    "    \n",
    "    logger.info(\"Mcc\")\n",
    "    mcc = matthews_corrcoef(y_teste, categorias)\n",
    "    print(WARNING, \"Mcc \\n\" + str(mcc) + \"\\n\")\n",
    "    \n",
    "    logger.info(\"F1\")\n",
    "    f1 = f1_score(y_teste, categorias)\n",
    "    print(GREEN, \"F1 \\n\" + str(f1) + \"\\n\")\n",
    "    \n",
    "    logger.info('Class Report')\n",
    "    resultados = classification_report(y_teste, categorias)\n",
    "    print(RED, \"Class Report \\n\" + resultados + \"\\n\")\n",
    "    \n",
    "    mat = confusion_matrix(y_teste, categorias)\n",
    "    sns.heatmap(mat.T, square=True, annot=True, fmt='d', cbar=False)\n",
    "    plt.xlabel('true label')\n",
    "    plt.ylabel('predicted label');\n",
    "       \n",
    "    return LogReg"
   ]
  },
  {
   "cell_type": "markdown",
   "metadata": {
    "id": "xDM6QpvnUuSD"
   },
   "source": [
    "---"
   ]
  },
  {
   "cell_type": "code",
   "execution_count": 23,
   "metadata": {
    "id": "ZnJV_V1vUuSD",
    "outputId": "bcdf3678-ac01-4453-a76f-af4037335377"
   },
   "outputs": [
    {
     "name": "stderr",
     "output_type": "stream",
     "text": [
      "LogReg - INFO - [+] ------- Instanciando LogReg -------\n",
      "LogReg - INFO - [+] ------- Treinando LogReg -------\n",
      "/home/saraselis/.local/lib/python3.8/site-packages/sklearn/linear_model/_logistic.py:444: ConvergenceWarning: lbfgs failed to converge (status=1):\n",
      "STOP: TOTAL NO. of ITERATIONS REACHED LIMIT.\n",
      "\n",
      "Increase the number of iterations (max_iter) or scale the data as shown in:\n",
      "    https://scikit-learn.org/stable/modules/preprocessing.html\n",
      "Please also refer to the documentation for alternative solver options:\n",
      "    https://scikit-learn.org/stable/modules/linear_model.html#logistic-regression\n",
      "  n_iter_i = _check_optimize_result(\n",
      "LogReg - INFO - [+] ------- Predict -------\n",
      "LogReg - INFO - [+] ------- Métricas: \n",
      " \n",
      " -------\n",
      "LogReg - INFO - [+] ------- Acurácia -------\n",
      "LogReg - INFO - [+] ------- Mcc -------\n",
      "LogReg - INFO - [+] ------- F1 -------\n",
      "LogReg - INFO - [+] ------- Class Report -------\n",
      "LogReg - INFO - [+] ------- Ok -------\n",
      "LogReg - INFO - [+] ------- Treino finalizado -------\n"
     ]
    },
    {
     "name": "stdout",
     "output_type": "stream",
     "text": [
      "\u001b[96m Acc \n",
      "0.7069444444444445\n",
      "\n",
      "\u001b[93m Mcc \n",
      "0.4139628313656673\n",
      "\n",
      "\u001b[1;32m F1 \n",
      "0.7045409081816364\n",
      "\n",
      "\u001b[1;31m Class Report \n",
      "              precision    recall  f1-score   support\n",
      "\n",
      "           0       0.70      0.72      0.71      2518\n",
      "           1       0.71      0.70      0.70      2522\n",
      "\n",
      "    accuracy                           0.71      5040\n",
      "   macro avg       0.71      0.71      0.71      5040\n",
      "weighted avg       0.71      0.71      0.71      5040\n",
      "\n",
      "\n",
      "CPU times: user 32.1 s, sys: 10.8 s, total: 42.9 s\n",
      "Wall time: 2.72 s\n"
     ]
    },
    {
     "data": {
      "image/png": "[encoded data removed]",
      "text/plain": [
       "<Figure size 432x288 with 1 Axes>"
      ]
     },
     "metadata": {
      "needs_background": "light"
     },
     "output_type": "display_data"
    }
   ],
   "source": [
    "%%time\n",
    "\n",
    "try:\n",
    "    LogReg = classificador(x_treino,\n",
    "                        y_treino,\n",
    "                        x_teste,\n",
    "                        y_teste)\n",
    "\n",
    "except Exception as error:\n",
    "    logger.warning('Aconteceu algum problema...')\n",
    "    logger.critical(error)\n",
    "\n",
    "else:\n",
    "    logger.info('Ok')\n",
    "    \n",
    "finally:\n",
    "    logger.info('Treino finalizado')"
   ]
  },
  {
   "cell_type": "markdown",
   "metadata": {
    "id": "6bLFkyIZUuSE"
   },
   "source": [
    "---"
   ]
  },
  {
   "cell_type": "markdown",
   "metadata": {
    "id": "Xrle_GmfUuSE"
   },
   "source": [
    "#### Exportando modelo"
   ]
  },
  {
   "cell_type": "code",
   "execution_count": 25,
   "metadata": {
    "id": "rfiDLuKuUuSE",
    "outputId": "42cc6129-9845-4c36-cb20-7f6980629e5d"
   },
   "outputs": [],
   "source": [
    "pkl.dump(LogReg, open('modelos/REG_LOG_dados_FEM_MAS_10_voluntarios_s_semanas_15_sinais_noout.pkl', 'wb'))"
   ]
  },
  {
   "cell_type": "code",
   "execution_count": null,
   "metadata": {
    "id": "YSwDC2jOUuSE"
   },
   "outputs": [],
   "source": []
  }
 ],
 "metadata": {
  "colab": {
   "name": "03 - Svm.ipynb",
   "provenance": []
  },
  "kernelspec": {
   "display_name": "Python 3 (ipykernel)",
   "language": "python",
   "name": "python3"
  },
  "language_info": {
   "codemirror_mode": {
    "name": "ipython",
    "version": 3
   },
   "file_extension": ".py",
   "mimetype": "text/x-python",
   "name": "python",
   "nbconvert_exporter": "python",
   "pygments_lexer": "ipython3",
   "version": "3.8.10"
  }
 },
 "nbformat": 4,
 "nbformat_minor": 4
}
