{
 "cells": [
  {
   "cell_type": "markdown",
   "metadata": {
    "id": "En7Do4r0UuR4"
   },
   "source": [
    "# <b style='color:magenta;'> SVM </b>\n",
    "\n",
    "* Este Jupyter tem como função treinar um `SVM` com os melhores parametros determinados por um `RandomSearch`.\n",
    "\n",
    "-> Dataset completo com voluntários femininos e masculinos, sem outliers e sem a coluna de semanas e sem pca."
   ]
  },
  {
   "cell_type": "markdown",
   "metadata": {
    "id": "h9MVyldFUuR7"
   },
   "source": [
    "---"
   ]
  },
  {
   "cell_type": "markdown",
   "metadata": {
    "id": "lcm1HTIzUuR9"
   },
   "source": [
    "Bibliotecas/Módulos"
   ]
  },
  {
   "cell_type": "code",
   "execution_count": 29,
   "metadata": {
    "id": "Wgg9-hcLUuR9",
    "outputId": "ec18af42-de41-42ef-c0ca-1b043b0d67b3"
   },
   "outputs": [],
   "source": [
    "import logging\n",
    "import matplotlib.pyplot as plt\n",
    "import numpy as np\n",
    "import pandas as pd\n",
    "import pickle as pkl\n",
    "import seaborn as sns\n",
    "import sys\n",
    "\n",
    "from sklearn.metrics import roc_auc_score, average_precision_score, f1_score, accuracy_score, confusion_matrix, matthews_corrcoef, classification_report\n",
    "from sklearn.model_selection import RandomizedSearchCV, train_test_split\n",
    "from sklearn.svm import SVC"
   ]
  },
  {
   "cell_type": "markdown",
   "metadata": {
    "id": "VqbL0mvFUuR-"
   },
   "source": [
    "Configurações dos logs"
   ]
  },
  {
   "cell_type": "code",
   "execution_count": 18,
   "metadata": {
    "id": "-w3VfmYoUuR-"
   },
   "outputs": [],
   "source": [
    "logger = logging.getLogger(\"SVM\")\n",
    "logger.setLevel(logging.DEBUG)\n",
    "handler = logging.StreamHandler(sys.stderr)\n",
    "formatter = logging.Formatter('%(name)s - %(levelname)s - [+] ------- %(message)s -------') \n",
    "handler.setFormatter(formatter)\n",
    "logger.handlers = [handler]"
   ]
  },
  {
   "cell_type": "markdown",
   "metadata": {
    "id": "iCy3-VQxUuR-"
   },
   "source": [
    "Cores"
   ]
  },
  {
   "cell_type": "code",
   "execution_count": 19,
   "metadata": {
    "id": "pUPlBMrfUuR_"
   },
   "outputs": [],
   "source": [
    "RED = \"\\033[1;31m\"\n",
    "BLUE = \"\\033[1;34m\"\n",
    "GREEN = \"\\033[1;32m\"\n",
    "PINK = \"\\033[1;45m\"\n",
    "HEADER = '\\033[95m'\n",
    "OKBLUE = '\\033[94m'\n",
    "OKCYAN = '\\033[96m'\n",
    "OKGREEN = '\\033[92m'\n",
    "WARNING = '\\033[93m'\n",
    "FAIL = '\\033[91m'\n",
    "ENDC = '\\033[0m'\n",
    "BOLD = '\\033[1m'\n",
    "UNDERLINE = '\\033[4m'\n",
    "MAG = \"\\033[1;45m\""
   ]
  },
  {
   "cell_type": "markdown",
   "metadata": {
    "id": "d1CCfOv8UuR_"
   },
   "source": [
    "---"
   ]
  },
  {
   "cell_type": "markdown",
   "metadata": {},
   "source": [
    "## Preparando os dados"
   ]
  },
  {
   "cell_type": "code",
   "execution_count": 20,
   "metadata": {},
   "outputs": [],
   "source": [
    "df = pd.read_csv(\"dados_FEM_MAS_10_voluntarios_s_semanas_15_sinais_noout.csv\")"
   ]
  },
  {
   "cell_type": "code",
   "execution_count": 21,
   "metadata": {},
   "outputs": [
    {
     "data": {
      "text/html": [
       "<div>\n",
       "<style scoped>\n",
       "    .dataframe tbody tr th:only-of-type {\n",
       "        vertical-align: middle;\n",
       "    }\n",
       "\n",
       "    .dataframe tbody tr th {\n",
       "        vertical-align: top;\n",
       "    }\n",
       "\n",
       "    .dataframe thead th {\n",
       "        text-align: right;\n",
       "    }\n",
       "</style>\n",
       "<table border=\"1\" class=\"dataframe\">\n",
       "  <thead>\n",
       "    <tr style=\"text-align: right;\">\n",
       "      <th></th>\n",
       "      <th>0</th>\n",
       "      <th>1</th>\n",
       "      <th>2</th>\n",
       "      <th>3</th>\n",
       "      <th>4</th>\n",
       "      <th>5</th>\n",
       "      <th>6</th>\n",
       "      <th>7</th>\n",
       "      <th>8</th>\n",
       "      <th>9</th>\n",
       "      <th>...</th>\n",
       "      <th>1991</th>\n",
       "      <th>1992</th>\n",
       "      <th>1993</th>\n",
       "      <th>1994</th>\n",
       "      <th>1995</th>\n",
       "      <th>1996</th>\n",
       "      <th>1997</th>\n",
       "      <th>1998</th>\n",
       "      <th>1999</th>\n",
       "      <th>label</th>\n",
       "    </tr>\n",
       "  </thead>\n",
       "  <tbody>\n",
       "    <tr>\n",
       "      <th>24681</th>\n",
       "      <td>127</td>\n",
       "      <td>-52</td>\n",
       "      <td>-137</td>\n",
       "      <td>-32</td>\n",
       "      <td>55</td>\n",
       "      <td>16</td>\n",
       "      <td>-313</td>\n",
       "      <td>-68</td>\n",
       "      <td>157</td>\n",
       "      <td>31</td>\n",
       "      <td>...</td>\n",
       "      <td>14</td>\n",
       "      <td>1995</td>\n",
       "      <td>257</td>\n",
       "      <td>-155</td>\n",
       "      <td>-23</td>\n",
       "      <td>-126</td>\n",
       "      <td>-439</td>\n",
       "      <td>-205</td>\n",
       "      <td>-549</td>\n",
       "      <td>1</td>\n",
       "    </tr>\n",
       "  </tbody>\n",
       "</table>\n",
       "<p>1 rows × 2001 columns</p>\n",
       "</div>"
      ],
      "text/plain": [
       "         0   1    2   3   4   5    6   7    8   9  ...  1991  1992  1993  \\\n",
       "24681  127 -52 -137 -32  55  16 -313 -68  157  31  ...    14  1995   257   \n",
       "\n",
       "       1994  1995  1996  1997  1998  1999  label  \n",
       "24681  -155   -23  -126  -439  -205  -549      1  \n",
       "\n",
       "[1 rows x 2001 columns]"
      ]
     },
     "execution_count": 21,
     "metadata": {},
     "output_type": "execute_result"
    }
   ],
   "source": [
    "df.sample()"
   ]
  },
  {
   "cell_type": "markdown",
   "metadata": {},
   "source": [
    "Verificando tamanho do dataset"
   ]
  },
  {
   "cell_type": "code",
   "execution_count": 22,
   "metadata": {},
   "outputs": [
    {
     "data": {
      "text/plain": [
       "25200"
      ]
     },
     "execution_count": 22,
     "metadata": {},
     "output_type": "execute_result"
    }
   ],
   "source": [
    "len(df)"
   ]
  },
  {
   "cell_type": "markdown",
   "metadata": {},
   "source": [
    "Verificando a quantidade de colunas originais"
   ]
  },
  {
   "cell_type": "code",
   "execution_count": 23,
   "metadata": {},
   "outputs": [
    {
     "data": {
      "text/plain": [
       "2001"
      ]
     },
     "execution_count": 23,
     "metadata": {},
     "output_type": "execute_result"
    }
   ],
   "source": [
    "len(df.columns)"
   ]
  },
  {
   "cell_type": "code",
   "execution_count": 24,
   "metadata": {},
   "outputs": [],
   "source": [
    "y = df[\"label\"]"
   ]
  },
  {
   "cell_type": "code",
   "execution_count": 25,
   "metadata": {},
   "outputs": [],
   "source": [
    "X = df.drop([\"label\"], axis=1)"
   ]
  },
  {
   "cell_type": "markdown",
   "metadata": {},
   "source": [
    "Separando os dados em dados de treino e teste"
   ]
  },
  {
   "cell_type": "code",
   "execution_count": 26,
   "metadata": {},
   "outputs": [],
   "source": [
    "x_treino, x_teste, y_treino, y_teste = train_test_split(X, y, test_size=0.2, random_state=7)"
   ]
  },
  {
   "cell_type": "markdown",
   "metadata": {},
   "source": [
    "---"
   ]
  },
  {
   "cell_type": "markdown",
   "metadata": {
    "id": "7ROy7gugUuR_"
   },
   "source": [
    "### RandomSearch"
   ]
  },
  {
   "cell_type": "markdown",
   "metadata": {
    "id": "CCZJ7JYFUuSA"
   },
   "source": [
    "Parametros do modelo escolhidos para otimização"
   ]
  },
  {
   "cell_type": "code",
   "execution_count": 9,
   "metadata": {
    "id": "hifVZk8XUuSA"
   },
   "outputs": [],
   "source": [
    "# values = {'C':[0.1,1,10,100,100], 'kernel':['rbf', 'linear', 'poly', 'sigmoid', 'precomputed']}\n",
    "values = {'C':[1, 10], 'kernel':['rbf', 'linear']}"
   ]
  },
  {
   "cell_type": "code",
   "execution_count": 10,
   "metadata": {
    "id": "AtMSGDZ7UuSA"
   },
   "outputs": [],
   "source": [
    "clf = SVC()"
   ]
  },
  {
   "cell_type": "code",
   "execution_count": 11,
   "metadata": {
    "id": "5leBgI1AUuSA"
   },
   "outputs": [],
   "source": [
    "def best_params(values: dict, clf: 'classificador', x_treino: np.array, x_teste: np.array, y_treino: np.array, y_teste: np.array) -> list:\n",
    "    '''\n",
    "        Instancia um classificador de busca e procura os melhores parâmetros para o modelo.\n",
    "        \n",
    "        Params\n",
    "        ------\n",
    "        :values: parametros a serem testados\n",
    "        :clf: instancia do classificador desejado\n",
    "        :x_treino: dados de treino\n",
    "        :x_teste: dados de teste\n",
    "        :y_treino: dados de treino -labels\n",
    "        :y_teste: dados de treino - labels\n",
    "        \n",
    "        Return\n",
    "        ------\n",
    "        :best_params: lista com os melhores parametros\n",
    "    '''\n",
    "    \n",
    "    logger.info('Instanciando SVM')\n",
    "    random_clf = RandomizedSearchCV(clf, param_distributions=values, n_iter=200, verbose=10)\n",
    "    \n",
    "    logger.info('Treinando SVM')\n",
    "    random_clf.fit(x_treino, y_treino)\n",
    "    \n",
    "    logger.info('Predict SVM')\n",
    "    y_random_clf_rl = random_clf.predict(x_teste)\n",
    "    #print(y_random_clf_rl)\n",
    "    \n",
    "    logger.info('Parametros SVM')\n",
    "    print(RED, random_clf.get_params())\n",
    "    \n",
    "    logger.info('Best Params SVM')\n",
    "    best_params = random_clf.best_params_\n",
    "    print(BLUE, best_params)\n",
    "    \n",
    "    return best_params"
   ]
  },
  {
   "cell_type": "code",
   "execution_count": null,
   "metadata": {
    "id": "0ngKayw-UuSB",
    "outputId": "aa6814cf-ad2f-4726-e082-c0bf7994eac8",
    "tags": []
   },
   "outputs": [
    {
     "name": "stderr",
     "output_type": "stream",
     "text": [
      "SVM - INFO - [+] ------- Instanciando SVM -------\n",
      "SVM - INFO - [+] ------- Treinando SVM -------\n",
      "/home/saraselis/.local/lib/python3.8/site-packages/sklearn/model_selection/_search.py:292: UserWarning: The total space of parameters 4 is smaller than n_iter=200. Running 4 iterations. For exhaustive searches, use GridSearchCV.\n",
      "  warnings.warn(\n"
     ]
    },
    {
     "name": "stdout",
     "output_type": "stream",
     "text": [
      "Fitting 5 folds for each of 4 candidates, totalling 20 fits\n",
      "[CV 1/5; 1/4] START C=1, kernel=rbf.............................................\n",
      "[CV 1/5; 1/4] END ..............C=1, kernel=rbf;, score=0.711 total time=28.3min\n",
      "[CV 2/5; 1/4] START C=1, kernel=rbf.............................................\n"
     ]
    }
   ],
   "source": [
    "%%time\n",
    "\n",
    "try:\n",
    "    best = best_params(values, clf, x_treino, x_teste, y_treino, y_teste)\n",
    "\n",
    "except Exception as error:\n",
    "    logger.warning('Aconteceu algum problema...')\n",
    "    logger.critical(error)\n",
    "\n",
    "else:\n",
    "    logger.info('Ok')\n",
    "    \n",
    "finally:\n",
    "    logger.info('Busca finalizada')"
   ]
  },
  {
   "cell_type": "markdown",
   "metadata": {
    "id": "C84_HGDRUuSC"
   },
   "source": [
    "Melhores parâmetros:"
   ]
  },
  {
   "cell_type": "code",
   "execution_count": null,
   "metadata": {
    "id": "qzL0L3j9UuSC",
    "outputId": "15caf52c-c7c1-4c8f-82d2-3b532016374a"
   },
   "outputs": [],
   "source": [
    "best"
   ]
  },
  {
   "cell_type": "markdown",
   "metadata": {
    "id": "kwpkbJPRUuSC"
   },
   "source": [
    "----"
   ]
  },
  {
   "cell_type": "markdown",
   "metadata": {
    "id": "AQnI7VgAUuSD"
   },
   "source": [
    "### SVM"
   ]
  },
  {
   "cell_type": "code",
   "execution_count": 27,
   "metadata": {
    "id": "cXbS7zrFUuSD"
   },
   "outputs": [],
   "source": [
    "def classificador(x_treino, y_treino, x_teste, y_teste):\n",
    "    '''\n",
    "        Treina um classificador com os melhores parametros possíveis.\n",
    "        \n",
    "        Params\n",
    "        ------\n",
    "        :x_treino: dados de treino\n",
    "        :x_teste: dados de teste\n",
    "        :y_treino: dados de treino -labels\n",
    "        :y_teste: dados de treino - labels\n",
    "    \n",
    "        Return\n",
    "        ------\n",
    "        :SVM: Modelo SVM treinado\n",
    "        :resultados (matrix): métricas\n",
    "    '''\n",
    "    \n",
    "    logger.info('Instanciando SVM')\n",
    "    SVM = SVC(kernel = 'rbf', C= 1)\n",
    "    \n",
    "    logger.info('Treinando SVM')\n",
    "    SVM.fit(x_treino, y_treino)\n",
    "    \n",
    "    logger.info('Predict')\n",
    "    categorias = SVM.predict(x_teste)\n",
    "    \n",
    "    logger.info('Métricas: \\n \\n')\n",
    "    \n",
    "    logger.info('Roc')\n",
    "    roc = roc_auc_score(y_teste, categorias)\n",
    "    print(OKBLUE, \"Roc \\n\" + str(roc) + \"\\n\")\n",
    "    \n",
    "    logger.info('Acurácia')\n",
    "    acc = accuracy_score(y_teste, categorias)\n",
    "    print(OKCYAN, \"Acc \\n\" + str(acc) + \"\\n\")\n",
    "    \n",
    "    logger.info(\"Mcc\")\n",
    "    mcc = matthews_corrcoef(y_teste, categorias)\n",
    "    print(WARNING, \"Mcc \\n\" + str(mcc) + \"\\n\")\n",
    "    \n",
    "    logger.info(\"F1\")\n",
    "    f1 = f1_score(y_teste, categorias)\n",
    "    print(GREEN, \"F1 \\n\" + str(f1) + \"\\n\")\n",
    "    \n",
    "    logger.info('Class Report')\n",
    "    resultados = classification_report(y_teste, categorias)\n",
    "    print(ENDC, \"Class Report \\n\" + resultados + \"\\n\")\n",
    "    \n",
    "    mat = confusion_matrix(y_teste, categorias)\n",
    "    sns.heatmap(mat.T, square=True, annot=True, fmt='d', cbar=False)\n",
    "    plt.xlabel('true label')\n",
    "    plt.ylabel('predicted label');\n",
    "    \n",
    "    return SVM, resultados"
   ]
  },
  {
   "cell_type": "markdown",
   "metadata": {
    "id": "xDM6QpvnUuSD"
   },
   "source": [
    "---"
   ]
  },
  {
   "cell_type": "code",
   "execution_count": 30,
   "metadata": {
    "id": "ZnJV_V1vUuSD",
    "outputId": "bcdf3678-ac01-4453-a76f-af4037335377"
   },
   "outputs": [
    {
     "name": "stderr",
     "output_type": "stream",
     "text": [
      "SVM - INFO - [+] ------- Instanciando SVM -------\n",
      "SVM - INFO - [+] ------- Treinando SVM -------\n",
      "SVM - INFO - [+] ------- Predict -------\n",
      "SVM - INFO - [+] ------- Métricas: \n",
      " \n",
      " -------\n",
      "SVM - INFO - [+] ------- Roc -------\n",
      "SVM - INFO - [+] ------- Acurácia -------\n",
      "SVM - INFO - [+] ------- Mcc -------\n",
      "SVM - INFO - [+] ------- F1 -------\n",
      "SVM - INFO - [+] ------- Class Report -------\n",
      "SVM - INFO - [+] ------- Ok -------\n",
      "SVM - INFO - [+] ------- Treino finalizado -------\n"
     ]
    },
    {
     "name": "stdout",
     "output_type": "stream",
     "text": [
      "\u001b[94m Roc \n",
      "0.7278739782526948\n",
      "\n",
      "\u001b[96m Acc \n",
      "0.7277777777777777\n",
      "\n",
      "\u001b[93m Mcc \n",
      "0.46971700344158623\n",
      "\n",
      "\u001b[1;32m F1 \n",
      "0.6904332129963899\n",
      "\n",
      "\u001b[0m Class Report \n",
      "              precision    recall  f1-score   support\n",
      "\n",
      "           0       0.68      0.85      0.76      2518\n",
      "           1       0.80      0.61      0.69      2522\n",
      "\n",
      "    accuracy                           0.73      5040\n",
      "   macro avg       0.74      0.73      0.72      5040\n",
      "weighted avg       0.74      0.73      0.72      5040\n",
      "\n",
      "\n",
      "CPU times: user 9min 36s, sys: 0 ns, total: 9min 36s\n",
      "Wall time: 9min 36s\n"
     ]
    },
    {
     "data": {
      "image/png": "[encoded data removed]",
      "text/plain": [
       "<Figure size 432x288 with 1 Axes>"
      ]
     },
     "metadata": {
      "needs_background": "light"
     },
     "output_type": "display_data"
    }
   ],
   "source": [
    "%%time\n",
    "\n",
    "try:\n",
    "    SVM = classificador(x_treino,\n",
    "                        y_treino,\n",
    "                        x_teste,\n",
    "                        y_teste)\n",
    "\n",
    "except Exception as error:\n",
    "    logger.warning('Aconteceu algum problema...')\n",
    "    logger.critical(error)\n",
    "\n",
    "else:\n",
    "    logger.info('Ok')\n",
    "    \n",
    "finally:\n",
    "    logger.info('Treino finalizado')"
   ]
  },
  {
   "cell_type": "markdown",
   "metadata": {
    "id": "6bLFkyIZUuSE"
   },
   "source": [
    "---"
   ]
  },
  {
   "cell_type": "markdown",
   "metadata": {
    "id": "Xrle_GmfUuSE"
   },
   "source": [
    "#### Exportando modelo"
   ]
  },
  {
   "cell_type": "code",
   "execution_count": 31,
   "metadata": {
    "id": "rfiDLuKuUuSE",
    "outputId": "42cc6129-9845-4c36-cb20-7f6980629e5d"
   },
   "outputs": [],
   "source": [
    "pkl.dump(SVM, open('modelos/SVM_dados_s_pca_FEM_MAS_10_voluntarios_s_semanas_15_sinais_noout.pkl', 'wb'))"
   ]
  },
  {
   "cell_type": "code",
   "execution_count": null,
   "metadata": {},
   "outputs": [],
   "source": []
  }
 ],
 "metadata": {
  "colab": {
   "name": "03 - Svm.ipynb",
   "provenance": []
  },
  "kernelspec": {
   "display_name": "Python 3 (ipykernel)",
   "language": "python",
   "name": "python3"
  },
  "language_info": {
   "codemirror_mode": {
    "name": "ipython",
    "version": 3
   },
   "file_extension": ".py",
   "mimetype": "text/x-python",
   "name": "python",
   "nbconvert_exporter": "python",
   "pygments_lexer": "ipython3",
   "version": "3.8.10"
  }
 },
 "nbformat": 4,
 "nbformat_minor": 4
}
