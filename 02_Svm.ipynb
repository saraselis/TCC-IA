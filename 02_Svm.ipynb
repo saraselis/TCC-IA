{
 "cells": [
  {
   "cell_type": "markdown",
   "metadata": {
    "id": "En7Do4r0UuR4"
   },
   "source": [
    "# <b style='color:magenta;'> SVM </b>\n",
    "\n",
    "* Este Jupyter tem como função treinar um `SVM` com os melhores parametros determinados por um `RandomSearch`.\n",
    "\n"
   ]
  },
  {
   "cell_type": "markdown",
   "metadata": {
    "id": "h9MVyldFUuR7"
   },
   "source": [
    "---"
   ]
  },
  {
   "cell_type": "markdown",
   "metadata": {
    "id": "lcm1HTIzUuR9"
   },
   "source": [
    "Bibliotecas/Módulos"
   ]
  },
  {
   "cell_type": "code",
   "execution_count": 20,
   "metadata": {
    "id": "Wgg9-hcLUuR9",
    "outputId": "ec18af42-de41-42ef-c0ca-1b043b0d67b3"
   },
   "outputs": [],
   "source": [
    "import logging\n",
    "import matplotlib.pyplot as plt\n",
    "import numpy as np\n",
    "import pandas as pd\n",
    "import pickle as pkl\n",
    "import seaborn as sns\n",
    "import sys\n",
    "\n",
    "from sklearn.decomposition import PCA\n",
    "from sklearn.metrics import roc_auc_score, average_precision_score, accuracy_score, matthews_corrcoef, classification_report, confusion_matrix, f1_score\n",
    "from sklearn.model_selection import RandomizedSearchCV, train_test_split\n",
    "from sklearn.svm import SVC"
   ]
  },
  {
   "cell_type": "markdown",
   "metadata": {
    "id": "VqbL0mvFUuR-"
   },
   "source": [
    "Configurações dos logs"
   ]
  },
  {
   "cell_type": "code",
   "execution_count": 2,
   "metadata": {
    "id": "-w3VfmYoUuR-"
   },
   "outputs": [],
   "source": [
    "logger = logging.getLogger(\"SVM\")\n",
    "logger.setLevel(logging.DEBUG)\n",
    "handler = logging.StreamHandler(sys.stderr)\n",
    "formatter = logging.Formatter('%(name)s - %(levelname)s - [+] ------- %(message)s -------') \n",
    "handler.setFormatter(formatter)\n",
    "logger.handlers = [handler]"
   ]
  },
  {
   "cell_type": "markdown",
   "metadata": {
    "id": "iCy3-VQxUuR-"
   },
   "source": [
    "Cores"
   ]
  },
  {
   "cell_type": "code",
   "execution_count": 3,
   "metadata": {
    "id": "pUPlBMrfUuR_"
   },
   "outputs": [],
   "source": [
    "RED = \"\\033[1;31m\"\n",
    "BLUE = \"\\033[1;34m\"\n",
    "GREEN = \"\\033[1;32m\"\n",
    "PINK = \"\\033[1;45m\"\n",
    "HEADER = '\\033[95m'\n",
    "OKBLUE = '\\033[94m'\n",
    "OKCYAN = '\\033[96m'\n",
    "OKGREEN = '\\033[92m'\n",
    "WARNING = '\\033[93m'\n",
    "FAIL = '\\033[91m'\n",
    "ENDC = '\\033[0m'\n",
    "BOLD = '\\033[1m'\n",
    "UNDERLINE = '\\033[4m'\n",
    "MAG = \"\\033[1;45m\""
   ]
  },
  {
   "cell_type": "markdown",
   "metadata": {
    "id": "d1CCfOv8UuR_"
   },
   "source": [
    "---"
   ]
  },
  {
   "cell_type": "markdown",
   "metadata": {},
   "source": [
    "## Preparando os dados"
   ]
  },
  {
   "cell_type": "code",
   "execution_count": 4,
   "metadata": {},
   "outputs": [],
   "source": [
    "df = pd.read_csv(\"dados_FEM_MAS_10_voluntarios_s_semanas_15_sinais_noout.csv\")"
   ]
  },
  {
   "cell_type": "code",
   "execution_count": 5,
   "metadata": {},
   "outputs": [
    {
     "data": {
      "text/html": [
       "<div>\n",
       "<style scoped>\n",
       "    .dataframe tbody tr th:only-of-type {\n",
       "        vertical-align: middle;\n",
       "    }\n",
       "\n",
       "    .dataframe tbody tr th {\n",
       "        vertical-align: top;\n",
       "    }\n",
       "\n",
       "    .dataframe thead th {\n",
       "        text-align: right;\n",
       "    }\n",
       "</style>\n",
       "<table border=\"1\" class=\"dataframe\">\n",
       "  <thead>\n",
       "    <tr style=\"text-align: right;\">\n",
       "      <th></th>\n",
       "      <th>0</th>\n",
       "      <th>1</th>\n",
       "      <th>2</th>\n",
       "      <th>3</th>\n",
       "      <th>4</th>\n",
       "      <th>5</th>\n",
       "      <th>6</th>\n",
       "      <th>7</th>\n",
       "      <th>8</th>\n",
       "      <th>9</th>\n",
       "      <th>...</th>\n",
       "      <th>1991</th>\n",
       "      <th>1992</th>\n",
       "      <th>1993</th>\n",
       "      <th>1994</th>\n",
       "      <th>1995</th>\n",
       "      <th>1996</th>\n",
       "      <th>1997</th>\n",
       "      <th>1998</th>\n",
       "      <th>1999</th>\n",
       "      <th>label</th>\n",
       "    </tr>\n",
       "  </thead>\n",
       "  <tbody>\n",
       "    <tr>\n",
       "      <th>2798</th>\n",
       "      <td>-4</td>\n",
       "      <td>-2</td>\n",
       "      <td>-1</td>\n",
       "      <td>3</td>\n",
       "      <td>7</td>\n",
       "      <td>3</td>\n",
       "      <td>-1</td>\n",
       "      <td>-4</td>\n",
       "      <td>0</td>\n",
       "      <td>-1</td>\n",
       "      <td>...</td>\n",
       "      <td>-7</td>\n",
       "      <td>2</td>\n",
       "      <td>3</td>\n",
       "      <td>1</td>\n",
       "      <td>-1</td>\n",
       "      <td>3</td>\n",
       "      <td>1</td>\n",
       "      <td>3</td>\n",
       "      <td>1</td>\n",
       "      <td>0</td>\n",
       "    </tr>\n",
       "  </tbody>\n",
       "</table>\n",
       "<p>1 rows × 2001 columns</p>\n",
       "</div>"
      ],
      "text/plain": [
       "      0  1  2  3  4  5  6  7  8  9  ...  1991  1992  1993  1994  1995  1996  \\\n",
       "2798 -4 -2 -1  3  7  3 -1 -4  0 -1  ...    -7     2     3     1    -1     3   \n",
       "\n",
       "      1997  1998  1999  label  \n",
       "2798     1     3     1      0  \n",
       "\n",
       "[1 rows x 2001 columns]"
      ]
     },
     "execution_count": 5,
     "metadata": {},
     "output_type": "execute_result"
    }
   ],
   "source": [
    "df.sample()"
   ]
  },
  {
   "cell_type": "markdown",
   "metadata": {},
   "source": [
    "Verificando tamanho do dataset"
   ]
  },
  {
   "cell_type": "code",
   "execution_count": 6,
   "metadata": {},
   "outputs": [
    {
     "data": {
      "text/plain": [
       "25200"
      ]
     },
     "execution_count": 6,
     "metadata": {},
     "output_type": "execute_result"
    }
   ],
   "source": [
    "len(df)"
   ]
  },
  {
   "cell_type": "markdown",
   "metadata": {},
   "source": [
    "Verificando a quantidade de colunas originais"
   ]
  },
  {
   "cell_type": "code",
   "execution_count": 7,
   "metadata": {},
   "outputs": [
    {
     "data": {
      "text/plain": [
       "2001"
      ]
     },
     "execution_count": 7,
     "metadata": {},
     "output_type": "execute_result"
    }
   ],
   "source": [
    "len(df.columns)"
   ]
  },
  {
   "cell_type": "markdown",
   "metadata": {},
   "source": [
    "* Seleção da variável target e das features"
   ]
  },
  {
   "cell_type": "code",
   "execution_count": 8,
   "metadata": {},
   "outputs": [],
   "source": [
    "y = df[\"label\"]"
   ]
  },
  {
   "cell_type": "code",
   "execution_count": 9,
   "metadata": {},
   "outputs": [],
   "source": [
    "df = df.drop([\"label\"], axis=1)"
   ]
  },
  {
   "cell_type": "markdown",
   "metadata": {},
   "source": [
    "#### PCA\n",
    "Aplicando o PCA para reduzir a dimensão dos dados."
   ]
  },
  {
   "cell_type": "code",
   "execution_count": 10,
   "metadata": {},
   "outputs": [],
   "source": [
    "pca = PCA(n_components=1000)"
   ]
  },
  {
   "cell_type": "code",
   "execution_count": 11,
   "metadata": {},
   "outputs": [
    {
     "data": {
      "text/html": [
       "<style>#sk-container-id-1 {color: black;background-color: white;}#sk-container-id-1 pre{padding: 0;}#sk-container-id-1 div.sk-toggleable {background-color: white;}#sk-container-id-1 label.sk-toggleable__label {cursor: pointer;display: block;width: 100%;margin-bottom: 0;padding: 0.3em;box-sizing: border-box;text-align: center;}#sk-container-id-1 label.sk-toggleable__label-arrow:before {content: \"▸\";float: left;margin-right: 0.25em;color: #696969;}#sk-container-id-1 label.sk-toggleable__label-arrow:hover:before {color: black;}#sk-container-id-1 div.sk-estimator:hover label.sk-toggleable__label-arrow:before {color: black;}#sk-container-id-1 div.sk-toggleable__content {max-height: 0;max-width: 0;overflow: hidden;text-align: left;background-color: #f0f8ff;}#sk-container-id-1 div.sk-toggleable__content pre {margin: 0.2em;color: black;border-radius: 0.25em;background-color: #f0f8ff;}#sk-container-id-1 input.sk-toggleable__control:checked~div.sk-toggleable__content {max-height: 200px;max-width: 100%;overflow: auto;}#sk-container-id-1 input.sk-toggleable__control:checked~label.sk-toggleable__label-arrow:before {content: \"▾\";}#sk-container-id-1 div.sk-estimator input.sk-toggleable__control:checked~label.sk-toggleable__label {background-color: #d4ebff;}#sk-container-id-1 div.sk-label input.sk-toggleable__control:checked~label.sk-toggleable__label {background-color: #d4ebff;}#sk-container-id-1 input.sk-hidden--visually {border: 0;clip: rect(1px 1px 1px 1px);clip: rect(1px, 1px, 1px, 1px);height: 1px;margin: -1px;overflow: hidden;padding: 0;position: absolute;width: 1px;}#sk-container-id-1 div.sk-estimator {font-family: monospace;background-color: #f0f8ff;border: 1px dotted black;border-radius: 0.25em;box-sizing: border-box;margin-bottom: 0.5em;}#sk-container-id-1 div.sk-estimator:hover {background-color: #d4ebff;}#sk-container-id-1 div.sk-parallel-item::after {content: \"\";width: 100%;border-bottom: 1px solid gray;flex-grow: 1;}#sk-container-id-1 div.sk-label:hover label.sk-toggleable__label {background-color: #d4ebff;}#sk-container-id-1 div.sk-serial::before {content: \"\";position: absolute;border-left: 1px solid gray;box-sizing: border-box;top: 0;bottom: 0;left: 50%;z-index: 0;}#sk-container-id-1 div.sk-serial {display: flex;flex-direction: column;align-items: center;background-color: white;padding-right: 0.2em;padding-left: 0.2em;position: relative;}#sk-container-id-1 div.sk-item {position: relative;z-index: 1;}#sk-container-id-1 div.sk-parallel {display: flex;align-items: stretch;justify-content: center;background-color: white;position: relative;}#sk-container-id-1 div.sk-item::before, #sk-container-id-1 div.sk-parallel-item::before {content: \"\";position: absolute;border-left: 1px solid gray;box-sizing: border-box;top: 0;bottom: 0;left: 50%;z-index: -1;}#sk-container-id-1 div.sk-parallel-item {display: flex;flex-direction: column;z-index: 1;position: relative;background-color: white;}#sk-container-id-1 div.sk-parallel-item:first-child::after {align-self: flex-end;width: 50%;}#sk-container-id-1 div.sk-parallel-item:last-child::after {align-self: flex-start;width: 50%;}#sk-container-id-1 div.sk-parallel-item:only-child::after {width: 0;}#sk-container-id-1 div.sk-dashed-wrapped {border: 1px dashed gray;margin: 0 0.4em 0.5em 0.4em;box-sizing: border-box;padding-bottom: 0.4em;background-color: white;}#sk-container-id-1 div.sk-label label {font-family: monospace;font-weight: bold;display: inline-block;line-height: 1.2em;}#sk-container-id-1 div.sk-label-container {text-align: center;}#sk-container-id-1 div.sk-container {/* jupyter's `normalize.less` sets `[hidden] { display: none; }` but bootstrap.min.css set `[hidden] { display: none !important; }` so we also need the `!important` here to be able to override the default hidden behavior on the sphinx rendered scikit-learn.org. See: https://github.com/scikit-learn/scikit-learn/issues/21755 */display: inline-block !important;position: relative;}#sk-container-id-1 div.sk-text-repr-fallback {display: none;}</style><div id=\"sk-container-id-1\" class=\"sk-top-container\"><div class=\"sk-text-repr-fallback\"><pre>PCA(n_components=1000)</pre><b>In a Jupyter environment, please rerun this cell to show the HTML representation or trust the notebook. <br />On GitHub, the HTML representation is unable to render, please try loading this page with nbviewer.org.</b></div><div class=\"sk-container\" hidden><div class=\"sk-item\"><div class=\"sk-estimator sk-toggleable\"><input class=\"sk-toggleable__control sk-hidden--visually\" id=\"sk-estimator-id-1\" type=\"checkbox\" checked><label for=\"sk-estimator-id-1\" class=\"sk-toggleable__label sk-toggleable__label-arrow\">PCA</label><div class=\"sk-toggleable__content\"><pre>PCA(n_components=1000)</pre></div></div></div></div></div>"
      ],
      "text/plain": [
       "PCA(n_components=1000)"
      ]
     },
     "execution_count": 11,
     "metadata": {},
     "output_type": "execute_result"
    }
   ],
   "source": [
    "pca.fit(df)"
   ]
  },
  {
   "cell_type": "code",
   "execution_count": 12,
   "metadata": {},
   "outputs": [
    {
     "name": "stdout",
     "output_type": "stream",
     "text": [
      "CPU times: user 22.1 s, sys: 13.5 s, total: 35.5 s\n",
      "Wall time: 2.78 s\n"
     ]
    }
   ],
   "source": [
    "%%time\n",
    "\n",
    "pca_samples = pca.transform(df)"
   ]
  },
  {
   "cell_type": "code",
   "execution_count": 13,
   "metadata": {},
   "outputs": [
    {
     "data": {
      "text/html": [
       "<div>\n",
       "<style scoped>\n",
       "    .dataframe tbody tr th:only-of-type {\n",
       "        vertical-align: middle;\n",
       "    }\n",
       "\n",
       "    .dataframe tbody tr th {\n",
       "        vertical-align: top;\n",
       "    }\n",
       "\n",
       "    .dataframe thead th {\n",
       "        text-align: right;\n",
       "    }\n",
       "</style>\n",
       "<table border=\"1\" class=\"dataframe\">\n",
       "  <thead>\n",
       "    <tr style=\"text-align: right;\">\n",
       "      <th></th>\n",
       "      <th>0</th>\n",
       "      <th>1</th>\n",
       "      <th>2</th>\n",
       "      <th>3</th>\n",
       "      <th>4</th>\n",
       "      <th>5</th>\n",
       "      <th>6</th>\n",
       "      <th>7</th>\n",
       "      <th>8</th>\n",
       "      <th>9</th>\n",
       "      <th>...</th>\n",
       "      <th>990</th>\n",
       "      <th>991</th>\n",
       "      <th>992</th>\n",
       "      <th>993</th>\n",
       "      <th>994</th>\n",
       "      <th>995</th>\n",
       "      <th>996</th>\n",
       "      <th>997</th>\n",
       "      <th>998</th>\n",
       "      <th>999</th>\n",
       "    </tr>\n",
       "  </thead>\n",
       "  <tbody>\n",
       "    <tr>\n",
       "      <th>0</th>\n",
       "      <td>-35.068197</td>\n",
       "      <td>23.928768</td>\n",
       "      <td>1.186254</td>\n",
       "      <td>-151.129527</td>\n",
       "      <td>-42.556784</td>\n",
       "      <td>-148.023683</td>\n",
       "      <td>-53.831397</td>\n",
       "      <td>-28.461750</td>\n",
       "      <td>-41.857889</td>\n",
       "      <td>-104.510884</td>\n",
       "      <td>...</td>\n",
       "      <td>47.893167</td>\n",
       "      <td>-16.741126</td>\n",
       "      <td>21.179058</td>\n",
       "      <td>-19.331882</td>\n",
       "      <td>42.672884</td>\n",
       "      <td>-3.448163</td>\n",
       "      <td>36.791325</td>\n",
       "      <td>10.120571</td>\n",
       "      <td>-2.685486</td>\n",
       "      <td>-19.676864</td>\n",
       "    </tr>\n",
       "    <tr>\n",
       "      <th>1</th>\n",
       "      <td>-69.680457</td>\n",
       "      <td>36.845880</td>\n",
       "      <td>47.351802</td>\n",
       "      <td>-121.842658</td>\n",
       "      <td>-24.717552</td>\n",
       "      <td>-113.801059</td>\n",
       "      <td>-37.514149</td>\n",
       "      <td>-47.755131</td>\n",
       "      <td>-13.947044</td>\n",
       "      <td>-92.122796</td>\n",
       "      <td>...</td>\n",
       "      <td>57.167758</td>\n",
       "      <td>-11.087775</td>\n",
       "      <td>6.641429</td>\n",
       "      <td>7.293471</td>\n",
       "      <td>16.534226</td>\n",
       "      <td>12.509047</td>\n",
       "      <td>28.392782</td>\n",
       "      <td>6.646068</td>\n",
       "      <td>7.767828</td>\n",
       "      <td>-0.369534</td>\n",
       "    </tr>\n",
       "    <tr>\n",
       "      <th>2</th>\n",
       "      <td>-94.676600</td>\n",
       "      <td>38.038653</td>\n",
       "      <td>98.432548</td>\n",
       "      <td>-103.621516</td>\n",
       "      <td>-10.274245</td>\n",
       "      <td>-71.540178</td>\n",
       "      <td>-15.104704</td>\n",
       "      <td>-53.717266</td>\n",
       "      <td>24.066586</td>\n",
       "      <td>-97.600882</td>\n",
       "      <td>...</td>\n",
       "      <td>57.186565</td>\n",
       "      <td>8.766892</td>\n",
       "      <td>-0.602509</td>\n",
       "      <td>14.884400</td>\n",
       "      <td>0.432217</td>\n",
       "      <td>25.030480</td>\n",
       "      <td>23.320101</td>\n",
       "      <td>12.472583</td>\n",
       "      <td>19.476928</td>\n",
       "      <td>12.416552</td>\n",
       "    </tr>\n",
       "    <tr>\n",
       "      <th>3</th>\n",
       "      <td>-115.288910</td>\n",
       "      <td>36.334428</td>\n",
       "      <td>137.247898</td>\n",
       "      <td>-70.874058</td>\n",
       "      <td>-8.118221</td>\n",
       "      <td>-44.962368</td>\n",
       "      <td>-3.156064</td>\n",
       "      <td>-64.584880</td>\n",
       "      <td>46.295866</td>\n",
       "      <td>-89.627326</td>\n",
       "      <td>...</td>\n",
       "      <td>67.249950</td>\n",
       "      <td>10.818723</td>\n",
       "      <td>-0.743260</td>\n",
       "      <td>22.758232</td>\n",
       "      <td>-20.553292</td>\n",
       "      <td>28.639392</td>\n",
       "      <td>1.748952</td>\n",
       "      <td>17.537287</td>\n",
       "      <td>15.396282</td>\n",
       "      <td>17.147517</td>\n",
       "    </tr>\n",
       "    <tr>\n",
       "      <th>4</th>\n",
       "      <td>-111.539509</td>\n",
       "      <td>45.575378</td>\n",
       "      <td>158.235942</td>\n",
       "      <td>-48.798876</td>\n",
       "      <td>-3.696119</td>\n",
       "      <td>-8.481742</td>\n",
       "      <td>11.270159</td>\n",
       "      <td>-71.759108</td>\n",
       "      <td>48.659401</td>\n",
       "      <td>-69.601917</td>\n",
       "      <td>...</td>\n",
       "      <td>66.318724</td>\n",
       "      <td>16.091896</td>\n",
       "      <td>4.045071</td>\n",
       "      <td>31.212821</td>\n",
       "      <td>-28.886453</td>\n",
       "      <td>34.732989</td>\n",
       "      <td>2.786809</td>\n",
       "      <td>8.053313</td>\n",
       "      <td>12.388258</td>\n",
       "      <td>15.002720</td>\n",
       "    </tr>\n",
       "  </tbody>\n",
       "</table>\n",
       "<p>5 rows × 1000 columns</p>\n",
       "</div>"
      ],
      "text/plain": [
       "          0          1           2           3          4           5    \\\n",
       "0  -35.068197  23.928768    1.186254 -151.129527 -42.556784 -148.023683   \n",
       "1  -69.680457  36.845880   47.351802 -121.842658 -24.717552 -113.801059   \n",
       "2  -94.676600  38.038653   98.432548 -103.621516 -10.274245  -71.540178   \n",
       "3 -115.288910  36.334428  137.247898  -70.874058  -8.118221  -44.962368   \n",
       "4 -111.539509  45.575378  158.235942  -48.798876  -3.696119   -8.481742   \n",
       "\n",
       "         6          7          8           9    ...        990        991  \\\n",
       "0 -53.831397 -28.461750 -41.857889 -104.510884  ...  47.893167 -16.741126   \n",
       "1 -37.514149 -47.755131 -13.947044  -92.122796  ...  57.167758 -11.087775   \n",
       "2 -15.104704 -53.717266  24.066586  -97.600882  ...  57.186565   8.766892   \n",
       "3  -3.156064 -64.584880  46.295866  -89.627326  ...  67.249950  10.818723   \n",
       "4  11.270159 -71.759108  48.659401  -69.601917  ...  66.318724  16.091896   \n",
       "\n",
       "         992        993        994        995        996        997  \\\n",
       "0  21.179058 -19.331882  42.672884  -3.448163  36.791325  10.120571   \n",
       "1   6.641429   7.293471  16.534226  12.509047  28.392782   6.646068   \n",
       "2  -0.602509  14.884400   0.432217  25.030480  23.320101  12.472583   \n",
       "3  -0.743260  22.758232 -20.553292  28.639392   1.748952  17.537287   \n",
       "4   4.045071  31.212821 -28.886453  34.732989   2.786809   8.053313   \n",
       "\n",
       "         998        999  \n",
       "0  -2.685486 -19.676864  \n",
       "1   7.767828  -0.369534  \n",
       "2  19.476928  12.416552  \n",
       "3  15.396282  17.147517  \n",
       "4  12.388258  15.002720  \n",
       "\n",
       "[5 rows x 1000 columns]"
      ]
     },
     "execution_count": 13,
     "metadata": {},
     "output_type": "execute_result"
    }
   ],
   "source": [
    "ps = pd.DataFrame(pca_samples)\n",
    "ps.head()"
   ]
  },
  {
   "cell_type": "code",
   "execution_count": 14,
   "metadata": {},
   "outputs": [
    {
     "data": {
      "text/plain": [
       "25200"
      ]
     },
     "execution_count": 14,
     "metadata": {},
     "output_type": "execute_result"
    }
   ],
   "source": [
    "len(ps)"
   ]
  },
  {
   "cell_type": "code",
   "execution_count": 15,
   "metadata": {},
   "outputs": [
    {
     "data": {
      "text/plain": [
       "1000"
      ]
     },
     "execution_count": 15,
     "metadata": {},
     "output_type": "execute_result"
    }
   ],
   "source": [
    "len(ps.columns)"
   ]
  },
  {
   "cell_type": "code",
   "execution_count": 16,
   "metadata": {},
   "outputs": [],
   "source": [
    "X = ps"
   ]
  },
  {
   "cell_type": "markdown",
   "metadata": {},
   "source": [
    "Separando os dados em dados de treino e teste"
   ]
  },
  {
   "cell_type": "code",
   "execution_count": 17,
   "metadata": {},
   "outputs": [],
   "source": [
    "x_treino, x_teste, y_treino, y_teste = train_test_split(X, y, test_size=0.2, random_state=7)"
   ]
  },
  {
   "cell_type": "markdown",
   "metadata": {},
   "source": [
    "---"
   ]
  },
  {
   "cell_type": "markdown",
   "metadata": {},
   "source": [
    "## Treinamento"
   ]
  },
  {
   "cell_type": "markdown",
   "metadata": {
    "id": "7ROy7gugUuR_"
   },
   "source": [
    "### RandomSearch"
   ]
  },
  {
   "cell_type": "markdown",
   "metadata": {
    "id": "CCZJ7JYFUuSA"
   },
   "source": [
    "Parametros do modelo escolhidos para otimização"
   ]
  },
  {
   "cell_type": "code",
   "execution_count": 18,
   "metadata": {
    "id": "hifVZk8XUuSA"
   },
   "outputs": [],
   "source": [
    "# values = {'C':[0.1,1,10,100,100], 'kernel':['rbf', 'linear', 'poly', 'sigmoid', 'precomputed']}\n",
    "values = {'C':[1, 10, 100], 'kernel':['rbf', 'sigmoid', 'poly']}"
   ]
  },
  {
   "cell_type": "code",
   "execution_count": 19,
   "metadata": {
    "id": "AtMSGDZ7UuSA"
   },
   "outputs": [],
   "source": [
    "clf = SVC()"
   ]
  },
  {
   "cell_type": "code",
   "execution_count": 20,
   "metadata": {
    "id": "5leBgI1AUuSA"
   },
   "outputs": [],
   "source": [
    "def best_params(values: dict, clf: 'classificador', x_treino: np.array, x_teste: np.array, y_treino: np.array, y_teste: np.array) -> list:\n",
    "    '''\n",
    "        Instancia um classificador de busca e procura os melhores parâmetros para o modelo.\n",
    "        \n",
    "        Params\n",
    "        ------\n",
    "        :values: parametros a serem testados\n",
    "        :clf: instancia do classificador desejado\n",
    "        :x_treino: dados de treino\n",
    "        :x_teste: dados de teste\n",
    "        :y_treino: dados de treino -labels\n",
    "        :y_teste: dados de treino - labels\n",
    "        \n",
    "        Return\n",
    "        ------\n",
    "        :best_params: lista com os melhores parametros\n",
    "    '''\n",
    "    \n",
    "    logger.info('Instanciando SVM')\n",
    "    random_clf = RandomizedSearchCV(clf, param_distributions=values, n_iter=200, verbose=10)\n",
    "    \n",
    "    logger.info('Treinando SVM')\n",
    "    random_clf.fit(x_treino, y_treino)\n",
    "  \n",
    "    logger.info('Parametros SVM')\n",
    "    print(RED, random_clf.get_params())\n",
    "    \n",
    "    logger.info('Best Params SVM')\n",
    "    best_params = random_clf.best_params_\n",
    "    print(BLUE, best_params)\n",
    "    \n",
    "    return best_params"
   ]
  },
  {
   "cell_type": "code",
   "execution_count": 21,
   "metadata": {
    "id": "0ngKayw-UuSB",
    "outputId": "aa6814cf-ad2f-4726-e082-c0bf7994eac8",
    "scrolled": true,
    "tags": []
   },
   "outputs": [
    {
     "name": "stderr",
     "output_type": "stream",
     "text": [
      "SVM - INFO - [+] ------- Instanciando SVM -------\n",
      "SVM - INFO - [+] ------- Treinando SVM -------\n",
      "/home/saraselis/.local/lib/python3.8/site-packages/sklearn/model_selection/_search.py:306: UserWarning: The total space of parameters 9 is smaller than n_iter=200. Running 9 iterations. For exhaustive searches, use GridSearchCV.\n",
      "  warnings.warn(\n"
     ]
    },
    {
     "name": "stdout",
     "output_type": "stream",
     "text": [
      "Fitting 5 folds for each of 9 candidates, totalling 45 fits\n",
      "[CV 1/5; 1/9] START C=1, kernel=rbf.............................................\n",
      "[CV 1/5; 1/9] END ..............C=1, kernel=rbf;, score=0.726 total time= 4.2min\n",
      "[CV 2/5; 1/9] START C=1, kernel=rbf.............................................\n",
      "[CV 2/5; 1/9] END ..............C=1, kernel=rbf;, score=0.727 total time= 3.6min\n",
      "[CV 3/5; 1/9] START C=1, kernel=rbf.............................................\n",
      "[CV 3/5; 1/9] END ..............C=1, kernel=rbf;, score=0.735 total time= 3.7min\n",
      "[CV 4/5; 1/9] START C=1, kernel=rbf.............................................\n",
      "[CV 4/5; 1/9] END ..............C=1, kernel=rbf;, score=0.729 total time= 3.6min\n",
      "[CV 5/5; 1/9] START C=1, kernel=rbf.............................................\n",
      "[CV 5/5; 1/9] END ..............C=1, kernel=rbf;, score=0.736 total time= 3.6min\n",
      "[CV 1/5; 2/9] START C=1, kernel=sigmoid.........................................\n",
      "[CV 1/5; 2/9] END ..........C=1, kernel=sigmoid;, score=0.585 total time= 3.7min\n",
      "[CV 2/5; 2/9] START C=1, kernel=sigmoid.........................................\n",
      "[CV 2/5; 2/9] END ..........C=1, kernel=sigmoid;, score=0.580 total time= 3.6min\n",
      "[CV 3/5; 2/9] START C=1, kernel=sigmoid.........................................\n",
      "[CV 3/5; 2/9] END ..........C=1, kernel=sigmoid;, score=0.587 total time= 3.6min\n",
      "[CV 4/5; 2/9] START C=1, kernel=sigmoid.........................................\n",
      "[CV 4/5; 2/9] END ..........C=1, kernel=sigmoid;, score=0.574 total time= 3.6min\n",
      "[CV 5/5; 2/9] START C=1, kernel=sigmoid.........................................\n",
      "[CV 5/5; 2/9] END ..........C=1, kernel=sigmoid;, score=0.590 total time= 3.7min\n",
      "[CV 1/5; 3/9] START C=1, kernel=poly............................................\n",
      "[CV 1/5; 3/9] END .............C=1, kernel=poly;, score=0.711 total time= 3.6min\n",
      "[CV 2/5; 3/9] START C=1, kernel=poly............................................\n",
      "[CV 2/5; 3/9] END .............C=1, kernel=poly;, score=0.701 total time= 3.8min\n",
      "[CV 3/5; 3/9] START C=1, kernel=poly............................................\n",
      "[CV 3/5; 3/9] END .............C=1, kernel=poly;, score=0.710 total time= 3.8min\n",
      "[CV 4/5; 3/9] START C=1, kernel=poly............................................\n",
      "[CV 4/5; 3/9] END .............C=1, kernel=poly;, score=0.716 total time= 3.8min\n",
      "[CV 5/5; 3/9] START C=1, kernel=poly............................................\n",
      "[CV 5/5; 3/9] END .............C=1, kernel=poly;, score=0.719 total time= 3.8min\n",
      "[CV 1/5; 4/9] START C=10, kernel=rbf............................................\n",
      "[CV 1/5; 4/9] END .............C=10, kernel=rbf;, score=0.724 total time= 3.4min\n",
      "[CV 2/5; 4/9] START C=10, kernel=rbf............................................\n",
      "[CV 2/5; 4/9] END .............C=10, kernel=rbf;, score=0.723 total time= 3.3min\n",
      "[CV 3/5; 4/9] START C=10, kernel=rbf............................................\n",
      "[CV 3/5; 4/9] END .............C=10, kernel=rbf;, score=0.740 total time= 3.4min\n",
      "[CV 4/5; 4/9] START C=10, kernel=rbf............................................\n",
      "[CV 4/5; 4/9] END .............C=10, kernel=rbf;, score=0.732 total time= 3.4min\n",
      "[CV 5/5; 4/9] START C=10, kernel=rbf............................................\n",
      "[CV 5/5; 4/9] END .............C=10, kernel=rbf;, score=0.717 total time= 3.3min\n",
      "[CV 1/5; 5/9] START C=10, kernel=sigmoid........................................\n",
      "[CV 1/5; 5/9] END .........C=10, kernel=sigmoid;, score=0.568 total time= 3.0min\n",
      "[CV 2/5; 5/9] START C=10, kernel=sigmoid........................................\n",
      "[CV 2/5; 5/9] END .........C=10, kernel=sigmoid;, score=0.556 total time= 3.0min\n",
      "[CV 3/5; 5/9] START C=10, kernel=sigmoid........................................\n",
      "[CV 3/5; 5/9] END .........C=10, kernel=sigmoid;, score=0.557 total time= 2.9min\n",
      "[CV 4/5; 5/9] START C=10, kernel=sigmoid........................................\n",
      "[CV 4/5; 5/9] END .........C=10, kernel=sigmoid;, score=0.545 total time= 2.7min\n",
      "[CV 5/5; 5/9] START C=10, kernel=sigmoid........................................\n",
      "[CV 5/5; 5/9] END .........C=10, kernel=sigmoid;, score=0.558 total time= 2.7min\n",
      "[CV 1/5; 6/9] START C=10, kernel=poly...........................................\n",
      "[CV 1/5; 6/9] END ............C=10, kernel=poly;, score=0.723 total time= 3.4min\n",
      "[CV 2/5; 6/9] START C=10, kernel=poly...........................................\n",
      "[CV 2/5; 6/9] END ............C=10, kernel=poly;, score=0.720 total time= 3.5min\n",
      "[CV 3/5; 6/9] START C=10, kernel=poly...........................................\n",
      "[CV 3/5; 6/9] END ............C=10, kernel=poly;, score=0.734 total time= 3.4min\n",
      "[CV 4/5; 6/9] START C=10, kernel=poly...........................................\n",
      "[CV 4/5; 6/9] END ............C=10, kernel=poly;, score=0.738 total time= 3.5min\n",
      "[CV 5/5; 6/9] START C=10, kernel=poly...........................................\n",
      "[CV 5/5; 6/9] END ............C=10, kernel=poly;, score=0.727 total time= 3.5min\n",
      "[CV 1/5; 7/9] START C=100, kernel=rbf...........................................\n",
      "[CV 1/5; 7/9] END ............C=100, kernel=rbf;, score=0.715 total time= 3.3min\n",
      "[CV 2/5; 7/9] START C=100, kernel=rbf...........................................\n",
      "[CV 2/5; 7/9] END ............C=100, kernel=rbf;, score=0.717 total time= 3.2min\n",
      "[CV 3/5; 7/9] START C=100, kernel=rbf...........................................\n",
      "[CV 3/5; 7/9] END ............C=100, kernel=rbf;, score=0.715 total time= 3.3min\n",
      "[CV 4/5; 7/9] START C=100, kernel=rbf...........................................\n",
      "[CV 4/5; 7/9] END ............C=100, kernel=rbf;, score=0.727 total time= 3.3min\n",
      "[CV 5/5; 7/9] START C=100, kernel=rbf...........................................\n",
      "[CV 5/5; 7/9] END ............C=100, kernel=rbf;, score=0.699 total time= 3.3min\n",
      "[CV 1/5; 8/9] START C=100, kernel=sigmoid.......................................\n",
      "[CV 1/5; 8/9] END ........C=100, kernel=sigmoid;, score=0.571 total time= 2.4min\n",
      "[CV 2/5; 8/9] START C=100, kernel=sigmoid.......................................\n",
      "[CV 2/5; 8/9] END ........C=100, kernel=sigmoid;, score=0.552 total time= 2.4min\n",
      "[CV 3/5; 8/9] START C=100, kernel=sigmoid.......................................\n",
      "[CV 3/5; 8/9] END ........C=100, kernel=sigmoid;, score=0.555 total time= 2.3min\n",
      "[CV 4/5; 8/9] START C=100, kernel=sigmoid.......................................\n",
      "[CV 4/5; 8/9] END ........C=100, kernel=sigmoid;, score=0.542 total time= 2.1min\n",
      "[CV 5/5; 8/9] START C=100, kernel=sigmoid.......................................\n",
      "[CV 5/5; 8/9] END ........C=100, kernel=sigmoid;, score=0.557 total time= 2.1min\n",
      "[CV 1/5; 9/9] START C=100, kernel=poly..........................................\n",
      "[CV 1/5; 9/9] END ...........C=100, kernel=poly;, score=0.725 total time= 2.8min\n",
      "[CV 2/5; 9/9] START C=100, kernel=poly..........................................\n",
      "[CV 2/5; 9/9] END ...........C=100, kernel=poly;, score=0.724 total time= 2.8min\n",
      "[CV 3/5; 9/9] START C=100, kernel=poly..........................................\n",
      "[CV 3/5; 9/9] END ...........C=100, kernel=poly;, score=0.734 total time= 2.8min\n",
      "[CV 4/5; 9/9] START C=100, kernel=poly..........................................\n",
      "[CV 4/5; 9/9] END ...........C=100, kernel=poly;, score=0.731 total time= 2.8min\n",
      "[CV 5/5; 9/9] START C=100, kernel=poly..........................................\n",
      "[CV 5/5; 9/9] END ...........C=100, kernel=poly;, score=0.728 total time= 2.9min\n"
     ]
    },
    {
     "name": "stderr",
     "output_type": "stream",
     "text": [
      "SVM - INFO - [+] ------- Parametros SVM -------\n",
      "SVM - INFO - [+] ------- Best Params SVM -------\n",
      "SVM - INFO - [+] ------- Ok -------\n",
      "SVM - INFO - [+] ------- Busca finalizada -------\n"
     ]
    },
    {
     "name": "stdout",
     "output_type": "stream",
     "text": [
      "\u001b[1;31m {'cv': None, 'error_score': nan, 'estimator__C': 1.0, 'estimator__break_ties': False, 'estimator__cache_size': 200, 'estimator__class_weight': None, 'estimator__coef0': 0.0, 'estimator__decision_function_shape': 'ovr', 'estimator__degree': 3, 'estimator__gamma': 'scale', 'estimator__kernel': 'rbf', 'estimator__max_iter': -1, 'estimator__probability': False, 'estimator__random_state': None, 'estimator__shrinking': True, 'estimator__tol': 0.001, 'estimator__verbose': False, 'estimator': SVC(), 'n_iter': 200, 'n_jobs': None, 'param_distributions': {'C': [1, 10, 100], 'kernel': ['rbf', 'sigmoid', 'poly']}, 'pre_dispatch': '2*n_jobs', 'random_state': None, 'refit': True, 'return_train_score': False, 'scoring': None, 'verbose': 10}\n",
      "\u001b[1;34m {'kernel': 'rbf', 'C': 1}\n",
      "CPU times: user 2h 29min 41s, sys: 2.64 s, total: 2h 29min 43s\n",
      "Wall time: 2h 29min 43s\n"
     ]
    }
   ],
   "source": [
    "%%time\n",
    "\n",
    "try:\n",
    "    best = best_params(values, clf, x_treino, x_teste, y_treino, y_teste)\n",
    "\n",
    "except Exception as error:\n",
    "    logger.warning('Aconteceu algum problema...')\n",
    "    logger.critical(error)\n",
    "\n",
    "else:\n",
    "    logger.info('Ok')\n",
    "    \n",
    "finally:\n",
    "    logger.info('Busca finalizada')"
   ]
  },
  {
   "cell_type": "markdown",
   "metadata": {
    "id": "C84_HGDRUuSC"
   },
   "source": [
    "Melhores parâmetros:"
   ]
  },
  {
   "cell_type": "code",
   "execution_count": 22,
   "metadata": {
    "id": "qzL0L3j9UuSC",
    "outputId": "15caf52c-c7c1-4c8f-82d2-3b532016374a"
   },
   "outputs": [
    {
     "data": {
      "text/plain": [
       "{'kernel': 'rbf', 'C': 1}"
      ]
     },
     "execution_count": 22,
     "metadata": {},
     "output_type": "execute_result"
    }
   ],
   "source": [
    "best"
   ]
  },
  {
   "cell_type": "markdown",
   "metadata": {},
   "source": [
    "{'kernel': 'rbf', 'C': 1}"
   ]
  },
  {
   "cell_type": "markdown",
   "metadata": {
    "id": "kwpkbJPRUuSC"
   },
   "source": [
    "----"
   ]
  },
  {
   "cell_type": "markdown",
   "metadata": {
    "id": "AQnI7VgAUuSD"
   },
   "source": [
    "### SVM\n",
    "\n",
    "Treinando o modelo com os melhore parametros"
   ]
  },
  {
   "cell_type": "code",
   "execution_count": 18,
   "metadata": {
    "id": "cXbS7zrFUuSD"
   },
   "outputs": [],
   "source": [
    "def classificador(x_treino: np.array, y_treino: np.array, x_teste: np.array, y_teste: np.array):\n",
    "    '''\n",
    "        Treina um classificador com os melhores parametros possíveis.\n",
    "        \n",
    "        Params\n",
    "        ------\n",
    "        :x_treino: dados de treino\n",
    "        :x_teste: dados de teste\n",
    "        :y_treino: dados de treino -labels\n",
    "        :y_teste: dados de treino - labels\n",
    "    \n",
    "        Return\n",
    "        ------\n",
    "        :RF: Modelo SVM treinado\n",
    "        :resultados (matrix): métricas\n",
    "    '''\n",
    "    \n",
    "    logger.info('Instanciando SVM')\n",
    "    SVM = SVC(kernel = 'rbf', C= 1)\n",
    "    \n",
    "    logger.info('Treinando SVM')\n",
    "    SVM.fit(x_treino, y_treino)\n",
    "    \n",
    "    logger.info('Predict')\n",
    "    categorias = SVM.predict(x_teste)\n",
    "    \n",
    "    logger.info('Métricas: \\n \\n')\n",
    "    \n",
    "    logger.info('Roc')\n",
    "    roc = roc_auc_score(y_teste, categorias)\n",
    "    print(OKBLUE, \"Roc \\n\" + str(roc) + \"\\n\")\n",
    "    \n",
    "    logger.info('Acurácia')\n",
    "    acc = accuracy_score(y_teste, categorias)\n",
    "    print(OKCYAN, \"Acc \\n\" + str(acc) + \"\\n\")\n",
    "    \n",
    "    logger.info(\"Mcc\")\n",
    "    mcc = matthews_corrcoef(y_teste, categorias)\n",
    "    print(WARNING, \"Mcc \\n\" + str(mcc) + \"\\n\")\n",
    "    \n",
    "    logger.info(\"F1\")\n",
    "    f1 = f1_score(y_teste, categorias)\n",
    "    print(GREEN, \"F1 \\n\" + str(f1) + \"\\n\")\n",
    "    \n",
    "    logger.info('Class Report')\n",
    "    resultados = classification_report(y_teste, categorias)\n",
    "    print(ENDC, \"Class Report \\n\" + resultados + \"\\n\")\n",
    "    \n",
    "    mat = confusion_matrix(y_teste, categorias)\n",
    "    sns.heatmap(mat.T, square=True, annot=True, fmt='d', cbar=False)\n",
    "    plt.xlabel('true label')\n",
    "    plt.ylabel('predicted label');\n",
    "       \n",
    "    return SVM, resultados"
   ]
  },
  {
   "cell_type": "markdown",
   "metadata": {
    "id": "xDM6QpvnUuSD"
   },
   "source": [
    "---"
   ]
  },
  {
   "cell_type": "markdown",
   "metadata": {
    "id": "4gXl0RH_UuSD"
   },
   "source": [
    "#### SVM"
   ]
  },
  {
   "cell_type": "markdown",
   "metadata": {},
   "source": [
    "Treinando com os melhores parametros"
   ]
  },
  {
   "cell_type": "code",
   "execution_count": 21,
   "metadata": {
    "id": "ZnJV_V1vUuSD",
    "outputId": "bcdf3678-ac01-4453-a76f-af4037335377"
   },
   "outputs": [
    {
     "name": "stderr",
     "output_type": "stream",
     "text": [
      "SVM - INFO - [+] ------- Instanciando SVM -------\n",
      "SVM - INFO - [+] ------- Treinando SVM -------\n",
      "SVM - INFO - [+] ------- Predict -------\n",
      "SVM - INFO - [+] ------- Métricas: \n",
      " \n",
      " -------\n",
      "SVM - INFO - [+] ------- Roc -------\n",
      "SVM - INFO - [+] ------- Acurácia -------\n",
      "SVM - INFO - [+] ------- Mcc -------\n",
      "SVM - INFO - [+] ------- F1 -------\n",
      "SVM - INFO - [+] ------- Class Report -------\n",
      "SVM - INFO - [+] ------- Ok -------\n",
      "SVM - INFO - [+] ------- Treino finalizado -------\n"
     ]
    },
    {
     "name": "stdout",
     "output_type": "stream",
     "text": [
      "\u001b[94m Roc \n",
      "0.7273044074731717\n",
      "\n",
      "\u001b[96m Acc \n",
      "0.7271825396825397\n",
      "\n",
      "\u001b[93m Mcc \n",
      "0.4776347748522328\n",
      "\n",
      "\u001b[1;32m F1 \n",
      "0.6779105176856406\n",
      "\n",
      "\u001b[0m Class Report \n",
      "              precision    recall  f1-score   support\n",
      "\n",
      "           0       0.67      0.88      0.76      2518\n",
      "           1       0.83      0.57      0.68      2522\n",
      "\n",
      "    accuracy                           0.73      5040\n",
      "   macro avg       0.75      0.73      0.72      5040\n",
      "weighted avg       0.75      0.73      0.72      5040\n",
      "\n",
      "\n",
      "CPU times: user 9min 16s, sys: 212 ms, total: 9min 17s\n",
      "Wall time: 9min 20s\n"
     ]
    },
    {
     "data": {
      "image/png": "[encoded data removed]",
      "text/plain": [
       "<Figure size 432x288 with 1 Axes>"
      ]
     },
     "metadata": {
      "needs_background": "light"
     },
     "output_type": "display_data"
    }
   ],
   "source": [
    "%%time\n",
    "\n",
    "try:\n",
    "    SVM, resultados = classificador(x_treino,\n",
    "                        y_treino,\n",
    "                        x_teste,\n",
    "                        y_teste)\n",
    "\n",
    "except Exception as error:\n",
    "    logger.warning('Aconteceu algum problema...')\n",
    "    logger.critical(error)\n",
    "    \n",
    "else:\n",
    "    logger.info('Ok')\n",
    "    \n",
    "finally:\n",
    "    logger.info('Treino finalizado')"
   ]
  },
  {
   "cell_type": "markdown",
   "metadata": {
    "id": "6bLFkyIZUuSE"
   },
   "source": [
    "---"
   ]
  },
  {
   "cell_type": "markdown",
   "metadata": {
    "id": "Xrle_GmfUuSE"
   },
   "source": [
    "#### Exportando modelo"
   ]
  },
  {
   "cell_type": "code",
   "execution_count": 22,
   "metadata": {
    "id": "rfiDLuKuUuSE",
    "outputId": "42cc6129-9845-4c36-cb20-7f6980629e5d"
   },
   "outputs": [],
   "source": [
    "pkl.dump(SVM, open('modelos/SVM_dados_FEM_MAS_10_voluntarios_s_semanas_15_sinais_noout.pkl', 'wb'))"
   ]
  },
  {
   "cell_type": "code",
   "execution_count": null,
   "metadata": {},
   "outputs": [],
   "source": []
  }
 ],
 "metadata": {
  "colab": {
   "name": "03 - Svm.ipynb",
   "provenance": []
  },
  "kernelspec": {
   "display_name": "Python 3 (ipykernel)",
   "language": "python",
   "name": "python3"
  },
  "language_info": {
   "codemirror_mode": {
    "name": "ipython",
    "version": 3
   },
   "file_extension": ".py",
   "mimetype": "text/x-python",
   "name": "python",
   "nbconvert_exporter": "python",
   "pygments_lexer": "ipython3",
   "version": "3.8.10"
  }
 },
 "nbformat": 4,
 "nbformat_minor": 4
}
