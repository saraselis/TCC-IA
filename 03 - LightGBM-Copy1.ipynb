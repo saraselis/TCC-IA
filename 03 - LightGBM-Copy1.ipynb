{
 "cells": [
  {
   "cell_type": "markdown",
   "metadata": {},
   "source": [
    "# <b style='color:gold;'> LightLGBM </b>\n",
    "* Este Jupyter tem como função treinar um `LightLGBM` com os melhores parametros determinados por um `scikit-optimize`"
   ]
  },
  {
   "cell_type": "markdown",
   "metadata": {},
   "source": [
    "---"
   ]
  },
  {
   "cell_type": "markdown",
   "metadata": {},
   "source": [
    "Bibliotecas/Módulos"
   ]
  },
  {
   "cell_type": "markdown",
   "metadata": {},
   "source": [
    "<details>    \n",
    "<summary>\n",
    "    <font size=\"3\" color=\"magenta\"><b>Install</b></font>\n",
    "</summary>\n",
    "<p>\n",
    "<ul>\n",
    "    <li> !pip install lightgbm</li>\n",
    "    <li> !pip install scikit-optimize </li>\n",
    "\n",
    "</ul>\n",
    "</p>"
   ]
  },
  {
   "cell_type": "code",
   "execution_count": 1,
   "metadata": {},
   "outputs": [],
   "source": [
    "%%capture\n",
    "\n",
    "!pip install lightgbm scikit-optimize"
   ]
  },
  {
   "cell_type": "code",
   "execution_count": 2,
   "metadata": {},
   "outputs": [],
   "source": [
    "import logging\n",
    "import numpy as np\n",
    "import pandas as pd\n",
    "import sys\n",
    "from lightgbm import LGBMClassifier\n",
    "# from sklearn.externals import joblib\n",
    "from sklearn.metrics import roc_auc_score, average_precision_score, accuracy_score, matthews_corrcoef, classification_report, f1_score\n",
    "from skopt import forest_minimize\n",
    "from sklearn.model_selection import train_test_split\n",
    "from sklearn.multiclass import OneVsRestClassifier"
   ]
  },
  {
   "cell_type": "markdown",
   "metadata": {},
   "source": [
    "Configurações dos logs"
   ]
  },
  {
   "cell_type": "code",
   "execution_count": 3,
   "metadata": {},
   "outputs": [],
   "source": [
    "logger = logging.getLogger(\"SVM\")\n",
    "logger.setLevel(logging.DEBUG)\n",
    "handler = logging.StreamHandler(sys.stderr)\n",
    "formatter = logging.Formatter('%(name)s - %(levelname)s - [+] ------- %(message)s -------') \n",
    "handler.setFormatter(formatter)\n",
    "logger.handlers = [handler]"
   ]
  },
  {
   "cell_type": "markdown",
   "metadata": {},
   "source": [
    "Cores"
   ]
  },
  {
   "cell_type": "code",
   "execution_count": 4,
   "metadata": {},
   "outputs": [],
   "source": [
    "RED = \"\\033[1;31m\"\n",
    "BLUE = \"\\033[1;34m\"\n",
    "GREEN = \"\\033[1;32m\"\n",
    "PINK = \"\\033[1;45m\"\n",
    "HEADER = '\\033[95m'\n",
    "OKBLUE = '\\033[94m'\n",
    "OKCYAN = '\\033[96m'\n",
    "OKGREEN = '\\033[92m'\n",
    "WARNING = '\\033[93m'\n",
    "FAIL = '\\033[91m'\n",
    "ENDC = '\\033[0m'\n",
    "BOLD = '\\033[1m'\n",
    "UNDERLINE = '\\033[4m'\n",
    "MAG = \"\\033[1;45m\""
   ]
  },
  {
   "cell_type": "markdown",
   "metadata": {},
   "source": [
    "---"
   ]
  },
  {
   "cell_type": "code",
   "execution_count": 5,
   "metadata": {},
   "outputs": [],
   "source": [
    "df = pd.read_csv(\"dados_FEM_MAS_10_voluntarios_s_semanas_15_sinais_noout.csv\")"
   ]
  },
  {
   "cell_type": "code",
   "execution_count": 6,
   "metadata": {},
   "outputs": [
    {
     "data": {
      "text/html": [
       "<div>\n",
       "<style scoped>\n",
       "    .dataframe tbody tr th:only-of-type {\n",
       "        vertical-align: middle;\n",
       "    }\n",
       "\n",
       "    .dataframe tbody tr th {\n",
       "        vertical-align: top;\n",
       "    }\n",
       "\n",
       "    .dataframe thead th {\n",
       "        text-align: right;\n",
       "    }\n",
       "</style>\n",
       "<table border=\"1\" class=\"dataframe\">\n",
       "  <thead>\n",
       "    <tr style=\"text-align: right;\">\n",
       "      <th></th>\n",
       "      <th>0</th>\n",
       "      <th>1</th>\n",
       "      <th>2</th>\n",
       "      <th>3</th>\n",
       "      <th>4</th>\n",
       "      <th>5</th>\n",
       "      <th>6</th>\n",
       "      <th>7</th>\n",
       "      <th>8</th>\n",
       "      <th>9</th>\n",
       "      <th>...</th>\n",
       "      <th>1991</th>\n",
       "      <th>1992</th>\n",
       "      <th>1993</th>\n",
       "      <th>1994</th>\n",
       "      <th>1995</th>\n",
       "      <th>1996</th>\n",
       "      <th>1997</th>\n",
       "      <th>1998</th>\n",
       "      <th>1999</th>\n",
       "      <th>label</th>\n",
       "    </tr>\n",
       "  </thead>\n",
       "  <tbody>\n",
       "    <tr>\n",
       "      <th>5535</th>\n",
       "      <td>0</td>\n",
       "      <td>2</td>\n",
       "      <td>-2</td>\n",
       "      <td>1</td>\n",
       "      <td>-2</td>\n",
       "      <td>-10</td>\n",
       "      <td>3</td>\n",
       "      <td>-1</td>\n",
       "      <td>-1</td>\n",
       "      <td>11</td>\n",
       "      <td>...</td>\n",
       "      <td>11</td>\n",
       "      <td>5</td>\n",
       "      <td>4</td>\n",
       "      <td>-6</td>\n",
       "      <td>5</td>\n",
       "      <td>8</td>\n",
       "      <td>9</td>\n",
       "      <td>2</td>\n",
       "      <td>2</td>\n",
       "      <td>1</td>\n",
       "    </tr>\n",
       "  </tbody>\n",
       "</table>\n",
       "<p>1 rows × 2001 columns</p>\n",
       "</div>"
      ],
      "text/plain": [
       "      0  1  2  3  4   5  6  7  8   9  ...  1991  1992  1993  1994  1995  1996  \\\n",
       "5535  0  2 -2  1 -2 -10  3 -1 -1  11  ...    11     5     4    -6     5     8   \n",
       "\n",
       "      1997  1998  1999  label  \n",
       "5535     9     2     2      1  \n",
       "\n",
       "[1 rows x 2001 columns]"
      ]
     },
     "execution_count": 6,
     "metadata": {},
     "output_type": "execute_result"
    }
   ],
   "source": [
    "df.sample()"
   ]
  },
  {
   "cell_type": "code",
   "execution_count": 7,
   "metadata": {},
   "outputs": [
    {
     "data": {
      "text/plain": [
       "25200"
      ]
     },
     "execution_count": 7,
     "metadata": {},
     "output_type": "execute_result"
    }
   ],
   "source": [
    "len(df)"
   ]
  },
  {
   "cell_type": "code",
   "execution_count": 8,
   "metadata": {},
   "outputs": [
    {
     "data": {
      "text/plain": [
       "2001"
      ]
     },
     "execution_count": 8,
     "metadata": {},
     "output_type": "execute_result"
    }
   ],
   "source": [
    "len(df.columns)"
   ]
  },
  {
   "cell_type": "markdown",
   "metadata": {},
   "source": [
    "---"
   ]
  },
  {
   "cell_type": "code",
   "execution_count": 9,
   "metadata": {},
   "outputs": [],
   "source": [
    "y = df[\"label\"]"
   ]
  },
  {
   "cell_type": "code",
   "execution_count": 10,
   "metadata": {},
   "outputs": [],
   "source": [
    "df = df.drop([\"label\"], axis=1)"
   ]
  },
  {
   "cell_type": "code",
   "execution_count": 11,
   "metadata": {},
   "outputs": [],
   "source": [
    "from sklearn.decomposition import PCA"
   ]
  },
  {
   "cell_type": "code",
   "execution_count": 12,
   "metadata": {},
   "outputs": [],
   "source": [
    "pca = PCA(n_components=1000)"
   ]
  },
  {
   "cell_type": "code",
   "execution_count": 13,
   "metadata": {},
   "outputs": [
    {
     "data": {
      "text/html": [
       "<style>#sk-container-id-1 {color: black;background-color: white;}#sk-container-id-1 pre{padding: 0;}#sk-container-id-1 div.sk-toggleable {background-color: white;}#sk-container-id-1 label.sk-toggleable__label {cursor: pointer;display: block;width: 100%;margin-bottom: 0;padding: 0.3em;box-sizing: border-box;text-align: center;}#sk-container-id-1 label.sk-toggleable__label-arrow:before {content: \"▸\";float: left;margin-right: 0.25em;color: #696969;}#sk-container-id-1 label.sk-toggleable__label-arrow:hover:before {color: black;}#sk-container-id-1 div.sk-estimator:hover label.sk-toggleable__label-arrow:before {color: black;}#sk-container-id-1 div.sk-toggleable__content {max-height: 0;max-width: 0;overflow: hidden;text-align: left;background-color: #f0f8ff;}#sk-container-id-1 div.sk-toggleable__content pre {margin: 0.2em;color: black;border-radius: 0.25em;background-color: #f0f8ff;}#sk-container-id-1 input.sk-toggleable__control:checked~div.sk-toggleable__content {max-height: 200px;max-width: 100%;overflow: auto;}#sk-container-id-1 input.sk-toggleable__control:checked~label.sk-toggleable__label-arrow:before {content: \"▾\";}#sk-container-id-1 div.sk-estimator input.sk-toggleable__control:checked~label.sk-toggleable__label {background-color: #d4ebff;}#sk-container-id-1 div.sk-label input.sk-toggleable__control:checked~label.sk-toggleable__label {background-color: #d4ebff;}#sk-container-id-1 input.sk-hidden--visually {border: 0;clip: rect(1px 1px 1px 1px);clip: rect(1px, 1px, 1px, 1px);height: 1px;margin: -1px;overflow: hidden;padding: 0;position: absolute;width: 1px;}#sk-container-id-1 div.sk-estimator {font-family: monospace;background-color: #f0f8ff;border: 1px dotted black;border-radius: 0.25em;box-sizing: border-box;margin-bottom: 0.5em;}#sk-container-id-1 div.sk-estimator:hover {background-color: #d4ebff;}#sk-container-id-1 div.sk-parallel-item::after {content: \"\";width: 100%;border-bottom: 1px solid gray;flex-grow: 1;}#sk-container-id-1 div.sk-label:hover label.sk-toggleable__label {background-color: #d4ebff;}#sk-container-id-1 div.sk-serial::before {content: \"\";position: absolute;border-left: 1px solid gray;box-sizing: border-box;top: 0;bottom: 0;left: 50%;z-index: 0;}#sk-container-id-1 div.sk-serial {display: flex;flex-direction: column;align-items: center;background-color: white;padding-right: 0.2em;padding-left: 0.2em;position: relative;}#sk-container-id-1 div.sk-item {position: relative;z-index: 1;}#sk-container-id-1 div.sk-parallel {display: flex;align-items: stretch;justify-content: center;background-color: white;position: relative;}#sk-container-id-1 div.sk-item::before, #sk-container-id-1 div.sk-parallel-item::before {content: \"\";position: absolute;border-left: 1px solid gray;box-sizing: border-box;top: 0;bottom: 0;left: 50%;z-index: -1;}#sk-container-id-1 div.sk-parallel-item {display: flex;flex-direction: column;z-index: 1;position: relative;background-color: white;}#sk-container-id-1 div.sk-parallel-item:first-child::after {align-self: flex-end;width: 50%;}#sk-container-id-1 div.sk-parallel-item:last-child::after {align-self: flex-start;width: 50%;}#sk-container-id-1 div.sk-parallel-item:only-child::after {width: 0;}#sk-container-id-1 div.sk-dashed-wrapped {border: 1px dashed gray;margin: 0 0.4em 0.5em 0.4em;box-sizing: border-box;padding-bottom: 0.4em;background-color: white;}#sk-container-id-1 div.sk-label label {font-family: monospace;font-weight: bold;display: inline-block;line-height: 1.2em;}#sk-container-id-1 div.sk-label-container {text-align: center;}#sk-container-id-1 div.sk-container {/* jupyter's `normalize.less` sets `[hidden] { display: none; }` but bootstrap.min.css set `[hidden] { display: none !important; }` so we also need the `!important` here to be able to override the default hidden behavior on the sphinx rendered scikit-learn.org. See: https://github.com/scikit-learn/scikit-learn/issues/21755 */display: inline-block !important;position: relative;}#sk-container-id-1 div.sk-text-repr-fallback {display: none;}</style><div id=\"sk-container-id-1\" class=\"sk-top-container\"><div class=\"sk-text-repr-fallback\"><pre>PCA(n_components=1000)</pre><b>In a Jupyter environment, please rerun this cell to show the HTML representation or trust the notebook. <br />On GitHub, the HTML representation is unable to render, please try loading this page with nbviewer.org.</b></div><div class=\"sk-container\" hidden><div class=\"sk-item\"><div class=\"sk-estimator sk-toggleable\"><input class=\"sk-toggleable__control sk-hidden--visually\" id=\"sk-estimator-id-1\" type=\"checkbox\" checked><label for=\"sk-estimator-id-1\" class=\"sk-toggleable__label sk-toggleable__label-arrow\">PCA</label><div class=\"sk-toggleable__content\"><pre>PCA(n_components=1000)</pre></div></div></div></div></div>"
      ],
      "text/plain": [
       "PCA(n_components=1000)"
      ]
     },
     "execution_count": 13,
     "metadata": {},
     "output_type": "execute_result"
    }
   ],
   "source": [
    "pca.fit(df)"
   ]
  },
  {
   "cell_type": "code",
   "execution_count": 14,
   "metadata": {},
   "outputs": [
    {
     "name": "stdout",
     "output_type": "stream",
     "text": [
      "CPU times: user 20.3 s, sys: 2.97 s, total: 23.2 s\n",
      "Wall time: 1.74 s\n"
     ]
    }
   ],
   "source": [
    "%%time\n",
    "\n",
    "pca_samples = pca.transform(df)"
   ]
  },
  {
   "cell_type": "code",
   "execution_count": 15,
   "metadata": {},
   "outputs": [
    {
     "data": {
      "text/html": [
       "<div>\n",
       "<style scoped>\n",
       "    .dataframe tbody tr th:only-of-type {\n",
       "        vertical-align: middle;\n",
       "    }\n",
       "\n",
       "    .dataframe tbody tr th {\n",
       "        vertical-align: top;\n",
       "    }\n",
       "\n",
       "    .dataframe thead th {\n",
       "        text-align: right;\n",
       "    }\n",
       "</style>\n",
       "<table border=\"1\" class=\"dataframe\">\n",
       "  <thead>\n",
       "    <tr style=\"text-align: right;\">\n",
       "      <th></th>\n",
       "      <th>0</th>\n",
       "      <th>1</th>\n",
       "      <th>2</th>\n",
       "      <th>3</th>\n",
       "      <th>4</th>\n",
       "      <th>5</th>\n",
       "      <th>6</th>\n",
       "      <th>7</th>\n",
       "      <th>8</th>\n",
       "      <th>9</th>\n",
       "      <th>...</th>\n",
       "      <th>990</th>\n",
       "      <th>991</th>\n",
       "      <th>992</th>\n",
       "      <th>993</th>\n",
       "      <th>994</th>\n",
       "      <th>995</th>\n",
       "      <th>996</th>\n",
       "      <th>997</th>\n",
       "      <th>998</th>\n",
       "      <th>999</th>\n",
       "    </tr>\n",
       "  </thead>\n",
       "  <tbody>\n",
       "    <tr>\n",
       "      <th>0</th>\n",
       "      <td>-35.068197</td>\n",
       "      <td>23.928768</td>\n",
       "      <td>1.186254</td>\n",
       "      <td>-151.129527</td>\n",
       "      <td>-42.556784</td>\n",
       "      <td>-148.023683</td>\n",
       "      <td>-53.831397</td>\n",
       "      <td>-28.461750</td>\n",
       "      <td>-41.857889</td>\n",
       "      <td>-104.510884</td>\n",
       "      <td>...</td>\n",
       "      <td>-14.290352</td>\n",
       "      <td>19.004321</td>\n",
       "      <td>35.661226</td>\n",
       "      <td>16.523947</td>\n",
       "      <td>5.574728</td>\n",
       "      <td>12.551279</td>\n",
       "      <td>26.042565</td>\n",
       "      <td>-30.094703</td>\n",
       "      <td>-18.285243</td>\n",
       "      <td>27.780576</td>\n",
       "    </tr>\n",
       "    <tr>\n",
       "      <th>1</th>\n",
       "      <td>-69.680457</td>\n",
       "      <td>36.845880</td>\n",
       "      <td>47.351802</td>\n",
       "      <td>-121.842658</td>\n",
       "      <td>-24.717552</td>\n",
       "      <td>-113.801059</td>\n",
       "      <td>-37.514149</td>\n",
       "      <td>-47.755131</td>\n",
       "      <td>-13.947044</td>\n",
       "      <td>-92.122796</td>\n",
       "      <td>...</td>\n",
       "      <td>-11.845557</td>\n",
       "      <td>9.300641</td>\n",
       "      <td>20.255011</td>\n",
       "      <td>16.304799</td>\n",
       "      <td>4.366212</td>\n",
       "      <td>10.565927</td>\n",
       "      <td>6.045189</td>\n",
       "      <td>-21.770155</td>\n",
       "      <td>-13.068536</td>\n",
       "      <td>18.437145</td>\n",
       "    </tr>\n",
       "    <tr>\n",
       "      <th>2</th>\n",
       "      <td>-94.676600</td>\n",
       "      <td>38.038653</td>\n",
       "      <td>98.432548</td>\n",
       "      <td>-103.621516</td>\n",
       "      <td>-10.274245</td>\n",
       "      <td>-71.540178</td>\n",
       "      <td>-15.104704</td>\n",
       "      <td>-53.717266</td>\n",
       "      <td>24.066586</td>\n",
       "      <td>-97.600882</td>\n",
       "      <td>...</td>\n",
       "      <td>-12.620933</td>\n",
       "      <td>8.253709</td>\n",
       "      <td>4.292358</td>\n",
       "      <td>11.146174</td>\n",
       "      <td>17.726639</td>\n",
       "      <td>7.914150</td>\n",
       "      <td>-2.785102</td>\n",
       "      <td>-14.097777</td>\n",
       "      <td>0.273400</td>\n",
       "      <td>3.965218</td>\n",
       "    </tr>\n",
       "    <tr>\n",
       "      <th>3</th>\n",
       "      <td>-115.288910</td>\n",
       "      <td>36.334428</td>\n",
       "      <td>137.247898</td>\n",
       "      <td>-70.874058</td>\n",
       "      <td>-8.118221</td>\n",
       "      <td>-44.962368</td>\n",
       "      <td>-3.156064</td>\n",
       "      <td>-64.584880</td>\n",
       "      <td>46.295866</td>\n",
       "      <td>-89.627326</td>\n",
       "      <td>...</td>\n",
       "      <td>-19.479738</td>\n",
       "      <td>14.939521</td>\n",
       "      <td>-8.124009</td>\n",
       "      <td>22.787313</td>\n",
       "      <td>13.210965</td>\n",
       "      <td>3.827481</td>\n",
       "      <td>-27.397729</td>\n",
       "      <td>-10.864761</td>\n",
       "      <td>15.061757</td>\n",
       "      <td>8.040029</td>\n",
       "    </tr>\n",
       "    <tr>\n",
       "      <th>4</th>\n",
       "      <td>-111.539509</td>\n",
       "      <td>45.575378</td>\n",
       "      <td>158.235942</td>\n",
       "      <td>-48.798876</td>\n",
       "      <td>-3.696119</td>\n",
       "      <td>-8.481742</td>\n",
       "      <td>11.270159</td>\n",
       "      <td>-71.759108</td>\n",
       "      <td>48.659401</td>\n",
       "      <td>-69.601917</td>\n",
       "      <td>...</td>\n",
       "      <td>-18.038775</td>\n",
       "      <td>4.586447</td>\n",
       "      <td>-17.087370</td>\n",
       "      <td>6.878407</td>\n",
       "      <td>13.042246</td>\n",
       "      <td>14.247241</td>\n",
       "      <td>-32.473337</td>\n",
       "      <td>-1.387909</td>\n",
       "      <td>29.652418</td>\n",
       "      <td>-3.996342</td>\n",
       "    </tr>\n",
       "  </tbody>\n",
       "</table>\n",
       "<p>5 rows × 1000 columns</p>\n",
       "</div>"
      ],
      "text/plain": [
       "          0          1           2           3          4           5    \\\n",
       "0  -35.068197  23.928768    1.186254 -151.129527 -42.556784 -148.023683   \n",
       "1  -69.680457  36.845880   47.351802 -121.842658 -24.717552 -113.801059   \n",
       "2  -94.676600  38.038653   98.432548 -103.621516 -10.274245  -71.540178   \n",
       "3 -115.288910  36.334428  137.247898  -70.874058  -8.118221  -44.962368   \n",
       "4 -111.539509  45.575378  158.235942  -48.798876  -3.696119   -8.481742   \n",
       "\n",
       "         6          7          8           9    ...        990        991  \\\n",
       "0 -53.831397 -28.461750 -41.857889 -104.510884  ... -14.290352  19.004321   \n",
       "1 -37.514149 -47.755131 -13.947044  -92.122796  ... -11.845557   9.300641   \n",
       "2 -15.104704 -53.717266  24.066586  -97.600882  ... -12.620933   8.253709   \n",
       "3  -3.156064 -64.584880  46.295866  -89.627326  ... -19.479738  14.939521   \n",
       "4  11.270159 -71.759108  48.659401  -69.601917  ... -18.038775   4.586447   \n",
       "\n",
       "         992        993        994        995        996        997  \\\n",
       "0  35.661226  16.523947   5.574728  12.551279  26.042565 -30.094703   \n",
       "1  20.255011  16.304799   4.366212  10.565927   6.045189 -21.770155   \n",
       "2   4.292358  11.146174  17.726639   7.914150  -2.785102 -14.097777   \n",
       "3  -8.124009  22.787313  13.210965   3.827481 -27.397729 -10.864761   \n",
       "4 -17.087370   6.878407  13.042246  14.247241 -32.473337  -1.387909   \n",
       "\n",
       "         998        999  \n",
       "0 -18.285243  27.780576  \n",
       "1 -13.068536  18.437145  \n",
       "2   0.273400   3.965218  \n",
       "3  15.061757   8.040029  \n",
       "4  29.652418  -3.996342  \n",
       "\n",
       "[5 rows x 1000 columns]"
      ]
     },
     "execution_count": 15,
     "metadata": {},
     "output_type": "execute_result"
    }
   ],
   "source": [
    "ps = pd.DataFrame(pca_samples)\n",
    "ps.head()"
   ]
  },
  {
   "cell_type": "code",
   "execution_count": 16,
   "metadata": {},
   "outputs": [
    {
     "data": {
      "text/plain": [
       "25200"
      ]
     },
     "execution_count": 16,
     "metadata": {},
     "output_type": "execute_result"
    }
   ],
   "source": [
    "len(ps)"
   ]
  },
  {
   "cell_type": "code",
   "execution_count": 17,
   "metadata": {},
   "outputs": [
    {
     "data": {
      "text/plain": [
       "1000"
      ]
     },
     "execution_count": 17,
     "metadata": {},
     "output_type": "execute_result"
    }
   ],
   "source": [
    "len(ps.columns)"
   ]
  },
  {
   "cell_type": "code",
   "execution_count": 18,
   "metadata": {},
   "outputs": [],
   "source": [
    "X = ps"
   ]
  },
  {
   "cell_type": "code",
   "execution_count": 19,
   "metadata": {},
   "outputs": [],
   "source": [
    "x_treino, x_teste, y_treino, y_teste = train_test_split(X, y, test_size=0.2, random_state=7)"
   ]
  },
  {
   "cell_type": "markdown",
   "metadata": {},
   "source": [
    "---"
   ]
  },
  {
   "cell_type": "markdown",
   "metadata": {},
   "source": [
    "### LGBM"
   ]
  },
  {
   "cell_type": "markdown",
   "metadata": {},
   "source": [
    "Instanciando"
   ]
  },
  {
   "cell_type": "code",
   "execution_count": 20,
   "metadata": {},
   "outputs": [
    {
     "name": "stdout",
     "output_type": "stream",
     "text": [
      "CPU times: user 29.8 s, sys: 161 ms, total: 30 s\n",
      "Wall time: 15.4 s\n"
     ]
    },
    {
     "data": {
      "text/html": [
       "<style>#sk-container-id-2 {color: black;background-color: white;}#sk-container-id-2 pre{padding: 0;}#sk-container-id-2 div.sk-toggleable {background-color: white;}#sk-container-id-2 label.sk-toggleable__label {cursor: pointer;display: block;width: 100%;margin-bottom: 0;padding: 0.3em;box-sizing: border-box;text-align: center;}#sk-container-id-2 label.sk-toggleable__label-arrow:before {content: \"▸\";float: left;margin-right: 0.25em;color: #696969;}#sk-container-id-2 label.sk-toggleable__label-arrow:hover:before {color: black;}#sk-container-id-2 div.sk-estimator:hover label.sk-toggleable__label-arrow:before {color: black;}#sk-container-id-2 div.sk-toggleable__content {max-height: 0;max-width: 0;overflow: hidden;text-align: left;background-color: #f0f8ff;}#sk-container-id-2 div.sk-toggleable__content pre {margin: 0.2em;color: black;border-radius: 0.25em;background-color: #f0f8ff;}#sk-container-id-2 input.sk-toggleable__control:checked~div.sk-toggleable__content {max-height: 200px;max-width: 100%;overflow: auto;}#sk-container-id-2 input.sk-toggleable__control:checked~label.sk-toggleable__label-arrow:before {content: \"▾\";}#sk-container-id-2 div.sk-estimator input.sk-toggleable__control:checked~label.sk-toggleable__label {background-color: #d4ebff;}#sk-container-id-2 div.sk-label input.sk-toggleable__control:checked~label.sk-toggleable__label {background-color: #d4ebff;}#sk-container-id-2 input.sk-hidden--visually {border: 0;clip: rect(1px 1px 1px 1px);clip: rect(1px, 1px, 1px, 1px);height: 1px;margin: -1px;overflow: hidden;padding: 0;position: absolute;width: 1px;}#sk-container-id-2 div.sk-estimator {font-family: monospace;background-color: #f0f8ff;border: 1px dotted black;border-radius: 0.25em;box-sizing: border-box;margin-bottom: 0.5em;}#sk-container-id-2 div.sk-estimator:hover {background-color: #d4ebff;}#sk-container-id-2 div.sk-parallel-item::after {content: \"\";width: 100%;border-bottom: 1px solid gray;flex-grow: 1;}#sk-container-id-2 div.sk-label:hover label.sk-toggleable__label {background-color: #d4ebff;}#sk-container-id-2 div.sk-serial::before {content: \"\";position: absolute;border-left: 1px solid gray;box-sizing: border-box;top: 0;bottom: 0;left: 50%;z-index: 0;}#sk-container-id-2 div.sk-serial {display: flex;flex-direction: column;align-items: center;background-color: white;padding-right: 0.2em;padding-left: 0.2em;position: relative;}#sk-container-id-2 div.sk-item {position: relative;z-index: 1;}#sk-container-id-2 div.sk-parallel {display: flex;align-items: stretch;justify-content: center;background-color: white;position: relative;}#sk-container-id-2 div.sk-item::before, #sk-container-id-2 div.sk-parallel-item::before {content: \"\";position: absolute;border-left: 1px solid gray;box-sizing: border-box;top: 0;bottom: 0;left: 50%;z-index: -1;}#sk-container-id-2 div.sk-parallel-item {display: flex;flex-direction: column;z-index: 1;position: relative;background-color: white;}#sk-container-id-2 div.sk-parallel-item:first-child::after {align-self: flex-end;width: 50%;}#sk-container-id-2 div.sk-parallel-item:last-child::after {align-self: flex-start;width: 50%;}#sk-container-id-2 div.sk-parallel-item:only-child::after {width: 0;}#sk-container-id-2 div.sk-dashed-wrapped {border: 1px dashed gray;margin: 0 0.4em 0.5em 0.4em;box-sizing: border-box;padding-bottom: 0.4em;background-color: white;}#sk-container-id-2 div.sk-label label {font-family: monospace;font-weight: bold;display: inline-block;line-height: 1.2em;}#sk-container-id-2 div.sk-label-container {text-align: center;}#sk-container-id-2 div.sk-container {/* jupyter's `normalize.less` sets `[hidden] { display: none; }` but bootstrap.min.css set `[hidden] { display: none !important; }` so we also need the `!important` here to be able to override the default hidden behavior on the sphinx rendered scikit-learn.org. See: https://github.com/scikit-learn/scikit-learn/issues/21755 */display: inline-block !important;position: relative;}#sk-container-id-2 div.sk-text-repr-fallback {display: none;}</style><div id=\"sk-container-id-2\" class=\"sk-top-container\"><div class=\"sk-text-repr-fallback\"><pre>LGBMClassifier(class_weight=&#x27;balanced&#x27;, n_jobs=2, random_state=0)</pre><b>In a Jupyter environment, please rerun this cell to show the HTML representation or trust the notebook. <br />On GitHub, the HTML representation is unable to render, please try loading this page with nbviewer.org.</b></div><div class=\"sk-container\" hidden><div class=\"sk-item\"><div class=\"sk-estimator sk-toggleable\"><input class=\"sk-toggleable__control sk-hidden--visually\" id=\"sk-estimator-id-2\" type=\"checkbox\" checked><label for=\"sk-estimator-id-2\" class=\"sk-toggleable__label sk-toggleable__label-arrow\">LGBMClassifier</label><div class=\"sk-toggleable__content\"><pre>LGBMClassifier(class_weight=&#x27;balanced&#x27;, n_jobs=2, random_state=0)</pre></div></div></div></div></div>"
      ],
      "text/plain": [
       "LGBMClassifier(class_weight='balanced', n_jobs=2, random_state=0)"
      ]
     },
     "execution_count": 20,
     "metadata": {},
     "output_type": "execute_result"
    }
   ],
   "source": [
    "%%time\n",
    "\n",
    "mdl_lgbm = LGBMClassifier(random_state=0, class_weight=\"balanced\", n_jobs=2)\n",
    "mdl_lgbm.fit(x_treino, y_treino)"
   ]
  },
  {
   "cell_type": "markdown",
   "metadata": {},
   "source": [
    "Tuning do Lgbm"
   ]
  },
  {
   "cell_type": "code",
   "execution_count": 21,
   "metadata": {},
   "outputs": [],
   "source": [
    "def tune_lgbm(params):\n",
    "    print(params)\n",
    "    lr = params[0]\n",
    "    max_depth = params[1]\n",
    "    min_child_samples = params[2]\n",
    "    subsample = params[3]\n",
    "    colsample_bytree = params[4]\n",
    "    n_estimators = params[5]\n",
    "    \n",
    "    min_df = params[6]\n",
    "    ngram_range = (1, params[7])\n",
    "    \n",
    "    logger.info('Instanciando')\n",
    "    mdl_tune = LGBMClassifier(learning_rate=lr, num_leaves=2 ** max_depth, max_depth=max_depth, \n",
    "                         min_child_samples=min_child_samples, subsample=subsample,\n",
    "                         colsample_bytree=colsample_bytree, bagging_freq=1,n_estimators=n_estimators, random_state=0, \n",
    "                         class_weight=\"balanced\", n_jobs=2)\n",
    "    \n",
    "    logger.info('Treinando')\n",
    "    mdl_tune.fit(x_treino, y_treino)\n",
    "    \n",
    "    logger.info('Predict')\n",
    "    p = mdl_tune.predict_proba(x_teste)[:, 1]\n",
    "    categorias = mdl_tune.predict(x_teste)\n",
    "    \n",
    "    print('Métricas: \\n \\n')\n",
    "    \n",
    "    logger.info('Roc')\n",
    "    roc = roc_auc_score(y_teste, p)\n",
    "    print(OKBLUE, \"Roc \\n\" + str(roc) + \"\\n\")\n",
    "    \n",
    "    logger.info('Acurácia')\n",
    "    acc = accuracy_score(y_teste, categorias)\n",
    "    print(OKCYAN, \"Acc \\n\" + str(acc) + \"\\n\")\n",
    "    \n",
    "    logger.info(\"Mcc\")\n",
    "    mcc = matthews_corrcoef(y_teste, categorias)\n",
    "    print(WARNING, \"Mcc \\n\" + str(mcc) + \"\\n\")\n",
    "    \n",
    "    logger.info(\"F1\")\n",
    "    f1 = f1_score(y_teste, categorias, average=\"weighted\")\n",
    "    print(GREEN, \"F1 \\n\" + str(f1) + \"\\n\")\n",
    "    \n",
    "    logger.info('Class Report')\n",
    "    resultados = classification_report(y_teste, categorias)\n",
    "    print(ENDC, \"Class Report \\n\" + resultados + \"\\n\")\n",
    "    \n",
    "    return -accuracy_score(y_teste, categorias)\n"
   ]
  },
  {
   "cell_type": "code",
   "execution_count": 22,
   "metadata": {},
   "outputs": [],
   "source": [
    "space = [(1e-3, 1e-1, 'log-uniform'), # lr\n",
    "          (1, 10),                    # max_depth\n",
    "          (1, 20),                    # min_child_samples\n",
    "          (0.05, 1.),                 # subsample\n",
    "          (0.05, 1.),                 # colsample_bytree\n",
    "          (100,1000),                 # n_estimators\n",
    "          (1,5),                      # min_df\n",
    "          (1,5)]                      # ngram_range"
   ]
  },
  {
   "cell_type": "markdown",
   "metadata": {},
   "source": [
    "[0.009944912110647982, 5, 1, 0.4677107511929402, 0.49263223036174764, 272, 3, 1]"
   ]
  },
  {
   "cell_type": "code",
   "execution_count": 23,
   "metadata": {
    "scrolled": true,
    "tags": []
   },
   "outputs": [
    {
     "name": "stderr",
     "output_type": "stream",
     "text": [
      "SVM - INFO - [+] ------- Instanciando -------\n",
      "SVM - INFO - [+] ------- Treinando -------\n"
     ]
    },
    {
     "name": "stdout",
     "output_type": "stream",
     "text": [
      "Iteration No: 1 started. Evaluating function at random point.\n",
      "[0.002848906260926589, 7, 4, 0.9793117522246534, 0.4828056676618013, 285, 1, 2]\n"
     ]
    },
    {
     "name": "stderr",
     "output_type": "stream",
     "text": [
      "SVM - INFO - [+] ------- Predict -------\n",
      "SVM - INFO - [+] ------- Roc -------\n",
      "SVM - INFO - [+] ------- Acurácia -------\n",
      "SVM - INFO - [+] ------- Mcc -------\n",
      "SVM - INFO - [+] ------- F1 -------\n",
      "SVM - INFO - [+] ------- Class Report -------\n",
      "SVM - INFO - [+] ------- Instanciando -------\n",
      "SVM - INFO - [+] ------- Treinando -------\n"
     ]
    },
    {
     "name": "stdout",
     "output_type": "stream",
     "text": [
      "Métricas: \n",
      " \n",
      "\n",
      "\u001b[94m Roc \n",
      "0.8524724284910736\n",
      "\n",
      "\u001b[96m Acc \n",
      "0.7289682539682539\n",
      "\n",
      "\u001b[93m Mcc \n",
      "0.5023881063602704\n",
      "\n",
      "\u001b[1;32m F1 \n",
      "0.7169124541026457\n",
      "\n",
      "\u001b[0m Class Report \n",
      "              precision    recall  f1-score   support\n",
      "\n",
      "           0       0.89      0.52      0.66      2518\n",
      "           1       0.66      0.93      0.78      2522\n",
      "\n",
      "    accuracy                           0.73      5040\n",
      "   macro avg       0.78      0.73      0.72      5040\n",
      "weighted avg       0.78      0.73      0.72      5040\n",
      "\n",
      "\n",
      "Iteration No: 1 ended. Evaluation done at random point.\n",
      "Time taken: 31.6280\n",
      "Function value obtained: -0.7290\n",
      "Current minimum: -0.7290\n",
      "Iteration No: 2 started. Evaluating function at random point.\n",
      "[0.0013934848991057577, 9, 8, 0.551376555079732, 0.8753613852974182, 491, 5, 1]\n",
      "[LightGBM] [Warning] bagging_freq is set=1, subsample_freq=0 will be ignored. Current value: bagging_freq=1\n"
     ]
    },
    {
     "name": "stderr",
     "output_type": "stream",
     "text": [
      "SVM - INFO - [+] ------- Predict -------\n",
      "SVM - INFO - [+] ------- Roc -------\n",
      "SVM - INFO - [+] ------- Acurácia -------\n",
      "SVM - INFO - [+] ------- Mcc -------\n",
      "SVM - INFO - [+] ------- F1 -------\n",
      "SVM - INFO - [+] ------- Class Report -------\n",
      "SVM - INFO - [+] ------- Instanciando -------\n",
      "SVM - INFO - [+] ------- Treinando -------\n"
     ]
    },
    {
     "name": "stdout",
     "output_type": "stream",
     "text": [
      "Métricas: \n",
      " \n",
      "\n",
      "\u001b[94m Roc \n",
      "0.8620303363758732\n",
      "\n",
      "\u001b[96m Acc \n",
      "0.7357142857142858\n",
      "\n",
      "\u001b[93m Mcc \n",
      "0.47556913778560056\n",
      "\n",
      "\u001b[1;32m F1 \n",
      "0.7345344176862822\n",
      "\n",
      "\u001b[0m Class Report \n",
      "              precision    recall  f1-score   support\n",
      "\n",
      "           0       0.77      0.67      0.72      2518\n",
      "           1       0.71      0.80      0.75      2522\n",
      "\n",
      "    accuracy                           0.74      5040\n",
      "   macro avg       0.74      0.74      0.73      5040\n",
      "weighted avg       0.74      0.74      0.73      5040\n",
      "\n",
      "\n",
      "Iteration No: 2 ended. Evaluation done at random point.\n",
      "Time taken: 131.0871\n",
      "Function value obtained: -0.7357\n",
      "Current minimum: -0.7357\n",
      "Iteration No: 3 started. Evaluating function at random point.\n",
      "[0.0013547922193823181, 7, 20, 0.7093299966507859, 0.3786742894315553, 924, 1, 1]\n",
      "[LightGBM] [Warning] bagging_freq is set=1, subsample_freq=0 will be ignored. Current value: bagging_freq=1\n"
     ]
    },
    {
     "name": "stderr",
     "output_type": "stream",
     "text": [
      "SVM - INFO - [+] ------- Predict -------\n",
      "SVM - INFO - [+] ------- Roc -------\n",
      "SVM - INFO - [+] ------- Acurácia -------\n",
      "SVM - INFO - [+] ------- Mcc -------\n",
      "SVM - INFO - [+] ------- F1 -------\n",
      "SVM - INFO - [+] ------- Class Report -------\n",
      "SVM - INFO - [+] ------- Instanciando -------\n",
      "SVM - INFO - [+] ------- Treinando -------\n"
     ]
    },
    {
     "name": "stdout",
     "output_type": "stream",
     "text": [
      "Métricas: \n",
      " \n",
      "\n",
      "\u001b[94m Roc \n",
      "0.854080044772011\n",
      "\n",
      "\u001b[96m Acc \n",
      "0.7279761904761904\n",
      "\n",
      "\u001b[93m Mcc \n",
      "0.4611334229018011\n",
      "\n",
      "\u001b[1;32m F1 \n",
      "0.7264126862484763\n",
      "\n",
      "\u001b[0m Class Report \n",
      "              precision    recall  f1-score   support\n",
      "\n",
      "           0       0.77      0.65      0.71      2518\n",
      "           1       0.70      0.80      0.75      2522\n",
      "\n",
      "    accuracy                           0.73      5040\n",
      "   macro avg       0.73      0.73      0.73      5040\n",
      "weighted avg       0.73      0.73      0.73      5040\n",
      "\n",
      "\n",
      "Iteration No: 3 ended. Evaluation done at random point.\n",
      "Time taken: 55.2990\n",
      "Function value obtained: -0.7280\n",
      "Current minimum: -0.7357\n",
      "Iteration No: 4 started. Evaluating function at random point.\n",
      "[0.01588904645993246, 1, 3, 0.2687877350699166, 0.5710654232742289, 872, 2, 4]\n",
      "[LightGBM] [Warning] bagging_freq is set=1, subsample_freq=0 will be ignored. Current value: bagging_freq=1\n"
     ]
    },
    {
     "name": "stderr",
     "output_type": "stream",
     "text": [
      "SVM - INFO - [+] ------- Predict -------\n",
      "SVM - INFO - [+] ------- Roc -------\n",
      "SVM - INFO - [+] ------- Acurácia -------\n",
      "SVM - INFO - [+] ------- Mcc -------\n",
      "SVM - INFO - [+] ------- F1 -------\n",
      "SVM - INFO - [+] ------- Class Report -------\n",
      "SVM - INFO - [+] ------- Instanciando -------\n",
      "SVM - INFO - [+] ------- Treinando -------\n"
     ]
    },
    {
     "name": "stdout",
     "output_type": "stream",
     "text": [
      "Métricas: \n",
      " \n",
      "\n",
      "\u001b[94m Roc \n",
      "0.7411831482635098\n",
      "\n",
      "\u001b[96m Acc \n",
      "0.6448412698412699\n",
      "\n",
      "\u001b[93m Mcc \n",
      "0.29224099300902834\n",
      "\n",
      "\u001b[1;32m F1 \n",
      "0.6433492356247109\n",
      "\n",
      "\u001b[0m Class Report \n",
      "              precision    recall  f1-score   support\n",
      "\n",
      "           0       0.63      0.71      0.67      2518\n",
      "           1       0.67      0.58      0.62      2522\n",
      "\n",
      "    accuracy                           0.64      5040\n",
      "   macro avg       0.65      0.64      0.64      5040\n",
      "weighted avg       0.65      0.64      0.64      5040\n",
      "\n",
      "\n",
      "Iteration No: 4 ended. Evaluation done at random point.\n",
      "Time taken: 6.8184\n",
      "Function value obtained: -0.6448\n",
      "Current minimum: -0.7357\n",
      "Iteration No: 5 started. Evaluating function at random point.\n",
      "[0.005878941395052321, 4, 17, 0.23368784222278904, 0.1454502731159823, 449, 5, 5]\n",
      "[LightGBM] [Warning] bagging_freq is set=1, subsample_freq=0 will be ignored. Current value: bagging_freq=1\n"
     ]
    },
    {
     "name": "stderr",
     "output_type": "stream",
     "text": [
      "SVM - INFO - [+] ------- Predict -------\n",
      "SVM - INFO - [+] ------- Roc -------\n",
      "SVM - INFO - [+] ------- Acurácia -------\n",
      "SVM - INFO - [+] ------- Mcc -------\n",
      "SVM - INFO - [+] ------- F1 -------\n",
      "SVM - INFO - [+] ------- Class Report -------\n",
      "SVM - INFO - [+] ------- Instanciando -------\n",
      "SVM - INFO - [+] ------- Treinando -------\n"
     ]
    },
    {
     "name": "stdout",
     "output_type": "stream",
     "text": [
      "Métricas: \n",
      " \n",
      "\n",
      "\u001b[94m Roc \n",
      "0.8410259769626964\n",
      "\n",
      "\u001b[96m Acc \n",
      "0.7186507936507937\n",
      "\n",
      "\u001b[93m Mcc \n",
      "0.43937447789664674\n",
      "\n",
      "\u001b[1;32m F1 \n",
      "0.7180114321585547\n",
      "\n",
      "\u001b[0m Class Report \n",
      "              precision    recall  f1-score   support\n",
      "\n",
      "           0       0.70      0.77      0.73      2518\n",
      "           1       0.74      0.67      0.70      2522\n",
      "\n",
      "    accuracy                           0.72      5040\n",
      "   macro avg       0.72      0.72      0.72      5040\n",
      "weighted avg       0.72      0.72      0.72      5040\n",
      "\n",
      "\n",
      "Iteration No: 5 ended. Evaluation done at random point.\n",
      "Time taken: 6.1136\n",
      "Function value obtained: -0.7187\n",
      "Current minimum: -0.7357\n",
      "Iteration No: 6 started. Evaluating function at random point.\n",
      "[0.07989078485490929, 8, 11, 0.3126889723988033, 0.4741806002722317, 491, 5, 1]\n",
      "[LightGBM] [Warning] bagging_freq is set=1, subsample_freq=0 will be ignored. Current value: bagging_freq=1\n"
     ]
    },
    {
     "name": "stderr",
     "output_type": "stream",
     "text": [
      "SVM - INFO - [+] ------- Predict -------\n",
      "SVM - INFO - [+] ------- Roc -------\n",
      "SVM - INFO - [+] ------- Acurácia -------\n",
      "SVM - INFO - [+] ------- Mcc -------\n",
      "SVM - INFO - [+] ------- F1 -------\n",
      "SVM - INFO - [+] ------- Class Report -------\n",
      "SVM - INFO - [+] ------- Instanciando -------\n",
      "SVM - INFO - [+] ------- Treinando -------\n"
     ]
    },
    {
     "name": "stdout",
     "output_type": "stream",
     "text": [
      "Métricas: \n",
      " \n",
      "\n",
      "\u001b[94m Roc \n",
      "0.9014988986513597\n",
      "\n",
      "\u001b[96m Acc \n",
      "0.7892857142857143\n",
      "\n",
      "\u001b[93m Mcc \n",
      "0.5786161472807615\n",
      "\n",
      "\u001b[1;32m F1 \n",
      "0.7892792437674426\n",
      "\n",
      "\u001b[0m Class Report \n",
      "              precision    recall  f1-score   support\n",
      "\n",
      "           0       0.79      0.80      0.79      2518\n",
      "           1       0.79      0.78      0.79      2522\n",
      "\n",
      "    accuracy                           0.79      5040\n",
      "   macro avg       0.79      0.79      0.79      5040\n",
      "weighted avg       0.79      0.79      0.79      5040\n",
      "\n",
      "\n",
      "Iteration No: 6 ended. Evaluation done at random point.\n",
      "Time taken: 91.4667\n",
      "Function value obtained: -0.7893\n",
      "Current minimum: -0.7893\n",
      "Iteration No: 7 started. Evaluating function at random point.\n",
      "[0.003565316562441852, 4, 2, 0.38532944764717497, 0.6745294896407704, 119, 4, 5]\n",
      "[LightGBM] [Warning] bagging_freq is set=1, subsample_freq=0 will be ignored. Current value: bagging_freq=1\n"
     ]
    },
    {
     "name": "stderr",
     "output_type": "stream",
     "text": [
      "SVM - INFO - [+] ------- Predict -------\n",
      "SVM - INFO - [+] ------- Roc -------\n",
      "SVM - INFO - [+] ------- Acurácia -------\n",
      "SVM - INFO - [+] ------- Mcc -------\n",
      "SVM - INFO - [+] ------- F1 -------\n",
      "SVM - INFO - [+] ------- Class Report -------\n",
      "SVM - INFO - [+] ------- Instanciando -------\n",
      "SVM - INFO - [+] ------- Treinando -------\n"
     ]
    },
    {
     "name": "stdout",
     "output_type": "stream",
     "text": [
      "Métricas: \n",
      " \n",
      "\n",
      "\u001b[94m Roc \n",
      "0.7925597080874958\n",
      "\n",
      "\u001b[96m Acc \n",
      "0.6831349206349207\n",
      "\n",
      "\u001b[93m Mcc \n",
      "0.4099010705045694\n",
      "\n",
      "\u001b[1;32m F1 \n",
      "0.6664602986679783\n",
      "\n",
      "\u001b[0m Class Report \n",
      "              precision    recall  f1-score   support\n",
      "\n",
      "           0       0.63      0.91      0.74      2518\n",
      "           1       0.83      0.46      0.59      2522\n",
      "\n",
      "    accuracy                           0.68      5040\n",
      "   macro avg       0.73      0.68      0.67      5040\n",
      "weighted avg       0.73      0.68      0.67      5040\n",
      "\n",
      "\n",
      "Iteration No: 7 ended. Evaluation done at random point.\n",
      "Time taken: 6.2832\n",
      "Function value obtained: -0.6831\n",
      "Current minimum: -0.7893\n",
      "Iteration No: 8 started. Evaluating function at random point.\n",
      "[0.007356721717486374, 10, 6, 0.803891498382606, 0.3761398464744011, 515, 3, 4]\n",
      "[LightGBM] [Warning] bagging_freq is set=1, subsample_freq=0 will be ignored. Current value: bagging_freq=1\n"
     ]
    },
    {
     "name": "stderr",
     "output_type": "stream",
     "text": [
      "SVM - INFO - [+] ------- Predict -------\n",
      "SVM - INFO - [+] ------- Roc -------\n",
      "SVM - INFO - [+] ------- Acurácia -------\n",
      "SVM - INFO - [+] ------- Mcc -------\n",
      "SVM - INFO - [+] ------- F1 -------\n",
      "SVM - INFO - [+] ------- Class Report -------\n",
      "SVM - INFO - [+] ------- Instanciando -------\n",
      "SVM - INFO - [+] ------- Treinando -------\n"
     ]
    },
    {
     "name": "stdout",
     "output_type": "stream",
     "text": [
      "Métricas: \n",
      " \n",
      "\n",
      "\u001b[94m Roc \n",
      "0.9001407156341116\n",
      "\n",
      "\u001b[96m Acc \n",
      "0.7823412698412698\n",
      "\n",
      "\u001b[93m Mcc \n",
      "0.5647482133962438\n",
      "\n",
      "\u001b[1;32m F1 \n",
      "0.7823308070080802\n",
      "\n",
      "\u001b[0m Class Report \n",
      "              precision    recall  f1-score   support\n",
      "\n",
      "           0       0.78      0.79      0.78      2518\n",
      "           1       0.79      0.78      0.78      2522\n",
      "\n",
      "    accuracy                           0.78      5040\n",
      "   macro avg       0.78      0.78      0.78      5040\n",
      "weighted avg       0.78      0.78      0.78      5040\n",
      "\n",
      "\n",
      "Iteration No: 8 ended. Evaluation done at random point.\n",
      "Time taken: 161.0588\n",
      "Function value obtained: -0.7823\n",
      "Current minimum: -0.7893\n",
      "Iteration No: 9 started. Evaluating function at random point.\n",
      "[0.007127006343867176, 6, 4, 0.29617898236320667, 0.4349391054463054, 624, 4, 2]\n",
      "[LightGBM] [Warning] bagging_freq is set=1, subsample_freq=0 will be ignored. Current value: bagging_freq=1\n"
     ]
    },
    {
     "name": "stderr",
     "output_type": "stream",
     "text": [
      "SVM - INFO - [+] ------- Predict -------\n",
      "SVM - INFO - [+] ------- Roc -------\n",
      "SVM - INFO - [+] ------- Acurácia -------\n",
      "SVM - INFO - [+] ------- Mcc -------\n",
      "SVM - INFO - [+] ------- F1 -------\n",
      "SVM - INFO - [+] ------- Class Report -------\n",
      "SVM - INFO - [+] ------- Instanciando -------\n",
      "SVM - INFO - [+] ------- Treinando -------\n"
     ]
    },
    {
     "name": "stdout",
     "output_type": "stream",
     "text": [
      "Métricas: \n",
      " \n",
      "\n",
      "\u001b[94m Roc \n",
      "0.8752937612079625\n",
      "\n",
      "\u001b[96m Acc \n",
      "0.7557539682539682\n",
      "\n",
      "\u001b[93m Mcc \n",
      "0.5115816490589369\n",
      "\n",
      "\u001b[1;32m F1 \n",
      "0.7557393809366262\n",
      "\n",
      "\u001b[0m Class Report \n",
      "              precision    recall  f1-score   support\n",
      "\n",
      "           0       0.75      0.76      0.76      2518\n",
      "           1       0.76      0.75      0.75      2522\n",
      "\n",
      "    accuracy                           0.76      5040\n",
      "   macro avg       0.76      0.76      0.76      5040\n",
      "weighted avg       0.76      0.76      0.76      5040\n",
      "\n",
      "\n",
      "Iteration No: 9 ended. Evaluation done at random point.\n",
      "Time taken: 35.6020\n",
      "Function value obtained: -0.7558\n",
      "Current minimum: -0.7893\n",
      "Iteration No: 10 started. Evaluating function at random point.\n",
      "[0.036599152349364894, 4, 15, 0.7498407416618981, 0.5149517197070134, 927, 4, 1]\n",
      "[LightGBM] [Warning] bagging_freq is set=1, subsample_freq=0 will be ignored. Current value: bagging_freq=1\n"
     ]
    },
    {
     "name": "stderr",
     "output_type": "stream",
     "text": [
      "SVM - INFO - [+] ------- Predict -------\n",
      "SVM - INFO - [+] ------- Roc -------\n",
      "SVM - INFO - [+] ------- Acurácia -------\n",
      "SVM - INFO - [+] ------- Mcc -------\n",
      "SVM - INFO - [+] ------- F1 -------\n",
      "SVM - INFO - [+] ------- Class Report -------\n",
      "SVM - INFO - [+] ------- Instanciando -------\n",
      "SVM - INFO - [+] ------- Treinando -------\n"
     ]
    },
    {
     "name": "stdout",
     "output_type": "stream",
     "text": [
      "Métricas: \n",
      " \n",
      "\n",
      "\u001b[94m Roc \n",
      "0.8853257340172173\n",
      "\n",
      "\u001b[96m Acc \n",
      "0.7660714285714286\n",
      "\n",
      "\u001b[93m Mcc \n",
      "0.5321446301308219\n",
      "\n",
      "\u001b[1;32m F1 \n",
      "0.7660703510871382\n",
      "\n",
      "\u001b[0m Class Report \n",
      "              precision    recall  f1-score   support\n",
      "\n",
      "           0       0.77      0.76      0.77      2518\n",
      "           1       0.77      0.77      0.77      2522\n",
      "\n",
      "    accuracy                           0.77      5040\n",
      "   macro avg       0.77      0.77      0.77      5040\n",
      "weighted avg       0.77      0.77      0.77      5040\n",
      "\n",
      "\n",
      "Iteration No: 10 ended. Evaluation done at random point.\n",
      "Time taken: 25.0070\n",
      "Function value obtained: -0.7661\n",
      "Current minimum: -0.7893\n",
      "Iteration No: 11 started. Evaluating function at random point.\n",
      "[0.015317552398482514, 9, 12, 0.475509129881716, 0.6762716542833134, 139, 4, 5]\n",
      "[LightGBM] [Warning] bagging_freq is set=1, subsample_freq=0 will be ignored. Current value: bagging_freq=1\n"
     ]
    },
    {
     "name": "stderr",
     "output_type": "stream",
     "text": [
      "SVM - INFO - [+] ------- Predict -------\n",
      "SVM - INFO - [+] ------- Roc -------\n",
      "SVM - INFO - [+] ------- Acurácia -------\n",
      "SVM - INFO - [+] ------- Mcc -------\n",
      "SVM - INFO - [+] ------- F1 -------\n",
      "SVM - INFO - [+] ------- Class Report -------\n",
      "SVM - INFO - [+] ------- Instanciando -------\n",
      "SVM - INFO - [+] ------- Treinando -------\n"
     ]
    },
    {
     "name": "stdout",
     "output_type": "stream",
     "text": [
      "Métricas: \n",
      " \n",
      "\n",
      "\u001b[94m Roc \n",
      "0.8777274677043763\n",
      "\n",
      "\u001b[96m Acc \n",
      "0.7599206349206349\n",
      "\n",
      "\u001b[93m Mcc \n",
      "0.5198408286737465\n",
      "\n",
      "\u001b[1;32m F1 \n",
      "0.7599205215042965\n",
      "\n",
      "\u001b[0m Class Report \n",
      "              precision    recall  f1-score   support\n",
      "\n",
      "           0       0.76      0.76      0.76      2518\n",
      "           1       0.76      0.76      0.76      2522\n",
      "\n",
      "    accuracy                           0.76      5040\n",
      "   macro avg       0.76      0.76      0.76      5040\n",
      "weighted avg       0.76      0.76      0.76      5040\n",
      "\n",
      "\n",
      "Iteration No: 11 ended. Evaluation done at random point.\n",
      "Time taken: 31.1631\n",
      "Function value obtained: -0.7599\n",
      "Current minimum: -0.7893\n",
      "Iteration No: 12 started. Evaluating function at random point.\n",
      "[0.01161756706425952, 9, 7, 0.8089502193893043, 0.4322690600904249, 747, 2, 3]\n",
      "[LightGBM] [Warning] bagging_freq is set=1, subsample_freq=0 will be ignored. Current value: bagging_freq=1\n"
     ]
    },
    {
     "name": "stderr",
     "output_type": "stream",
     "text": [
      "SVM - INFO - [+] ------- Predict -------\n",
      "SVM - INFO - [+] ------- Roc -------\n",
      "SVM - INFO - [+] ------- Acurácia -------\n",
      "SVM - INFO - [+] ------- Mcc -------\n",
      "SVM - INFO - [+] ------- F1 -------\n",
      "SVM - INFO - [+] ------- Class Report -------\n",
      "SVM - INFO - [+] ------- Instanciando -------\n",
      "SVM - INFO - [+] ------- Treinando -------\n"
     ]
    },
    {
     "name": "stdout",
     "output_type": "stream",
     "text": [
      "Métricas: \n",
      " \n",
      "\n",
      "\u001b[94m Roc \n",
      "0.9043363594963212\n",
      "\n",
      "\u001b[96m Acc \n",
      "0.7847222222222222\n",
      "\n",
      "\u001b[93m Mcc \n",
      "0.5695976250238969\n",
      "\n",
      "\u001b[1;32m F1 \n",
      "0.78469661650868\n",
      "\n",
      "\u001b[0m Class Report \n",
      "              precision    recall  f1-score   support\n",
      "\n",
      "           0       0.78      0.80      0.79      2518\n",
      "           1       0.79      0.77      0.78      2522\n",
      "\n",
      "    accuracy                           0.78      5040\n",
      "   macro avg       0.78      0.78      0.78      5040\n",
      "weighted avg       0.78      0.78      0.78      5040\n",
      "\n",
      "\n",
      "Iteration No: 12 ended. Evaluation done at random point.\n",
      "Time taken: 222.2183\n",
      "Function value obtained: -0.7847\n",
      "Current minimum: -0.7893\n",
      "Iteration No: 13 started. Evaluating function at random point.\n",
      "[0.006228100621704902, 5, 10, 0.4441566839445894, 0.4757146246275872, 864, 3, 5]\n",
      "[LightGBM] [Warning] bagging_freq is set=1, subsample_freq=0 will be ignored. Current value: bagging_freq=1\n"
     ]
    },
    {
     "name": "stderr",
     "output_type": "stream",
     "text": [
      "SVM - INFO - [+] ------- Predict -------\n",
      "SVM - INFO - [+] ------- Roc -------\n",
      "SVM - INFO - [+] ------- Acurácia -------\n",
      "SVM - INFO - [+] ------- Mcc -------\n",
      "SVM - INFO - [+] ------- F1 -------\n",
      "SVM - INFO - [+] ------- Class Report -------\n",
      "SVM - INFO - [+] ------- Instanciando -------\n",
      "SVM - INFO - [+] ------- Treinando -------\n"
     ]
    },
    {
     "name": "stdout",
     "output_type": "stream",
     "text": [
      "Métricas: \n",
      " \n",
      "\n",
      "\u001b[94m Roc \n",
      "0.8692768136034352\n",
      "\n",
      "\u001b[96m Acc \n",
      "0.7553571428571428\n",
      "\n",
      "\u001b[93m Mcc \n",
      "0.5107148017112457\n",
      "\n",
      "\u001b[1;32m F1 \n",
      "0.7553571717501496\n",
      "\n",
      "\u001b[0m Class Report \n",
      "              precision    recall  f1-score   support\n",
      "\n",
      "           0       0.75      0.76      0.76      2518\n",
      "           1       0.76      0.75      0.76      2522\n",
      "\n",
      "    accuracy                           0.76      5040\n",
      "   macro avg       0.76      0.76      0.76      5040\n",
      "weighted avg       0.76      0.76      0.76      5040\n",
      "\n",
      "\n",
      "Iteration No: 13 ended. Evaluation done at random point.\n",
      "Time taken: 29.6613\n",
      "Function value obtained: -0.7554\n",
      "Current minimum: -0.7893\n",
      "Iteration No: 14 started. Evaluating function at random point.\n",
      "[0.0016596291809140315, 3, 11, 0.8929245042600982, 0.6911728313734484, 586, 3, 2]\n",
      "[LightGBM] [Warning] bagging_freq is set=1, subsample_freq=0 will be ignored. Current value: bagging_freq=1\n"
     ]
    },
    {
     "name": "stderr",
     "output_type": "stream",
     "text": [
      "SVM - INFO - [+] ------- Predict -------\n",
      "SVM - INFO - [+] ------- Roc -------\n",
      "SVM - INFO - [+] ------- Acurácia -------\n",
      "SVM - INFO - [+] ------- Mcc -------\n",
      "SVM - INFO - [+] ------- F1 -------\n",
      "SVM - INFO - [+] ------- Class Report -------\n",
      "SVM - INFO - [+] ------- Instanciando -------\n",
      "SVM - INFO - [+] ------- Treinando -------\n"
     ]
    },
    {
     "name": "stdout",
     "output_type": "stream",
     "text": [
      "Métricas: \n",
      " \n",
      "\n",
      "\u001b[94m Roc \n",
      "0.7391456375318955\n",
      "\n",
      "\u001b[96m Acc \n",
      "0.6456349206349207\n",
      "\n",
      "\u001b[93m Mcc \n",
      "0.3205145119047916\n",
      "\n",
      "\u001b[1;32m F1 \n",
      "0.6296872222085897\n",
      "\n",
      "\u001b[0m Class Report \n",
      "              precision    recall  f1-score   support\n",
      "\n",
      "           0       0.60      0.85      0.71      2518\n",
      "           1       0.75      0.44      0.55      2522\n",
      "\n",
      "    accuracy                           0.65      5040\n",
      "   macro avg       0.68      0.65      0.63      5040\n",
      "weighted avg       0.68      0.65      0.63      5040\n",
      "\n",
      "\n",
      "Iteration No: 14 ended. Evaluation done at random point.\n",
      "Time taken: 13.6807\n",
      "Function value obtained: -0.6456\n",
      "Current minimum: -0.7893\n",
      "Iteration No: 15 started. Evaluating function at random point.\n",
      "[0.002977669392913177, 2, 13, 0.3127349188285775, 0.5019762744530321, 787, 2, 5]\n",
      "[LightGBM] [Warning] bagging_freq is set=1, subsample_freq=0 will be ignored. Current value: bagging_freq=1\n"
     ]
    },
    {
     "name": "stderr",
     "output_type": "stream",
     "text": [
      "SVM - INFO - [+] ------- Predict -------\n",
      "SVM - INFO - [+] ------- Roc -------\n",
      "SVM - INFO - [+] ------- Acurácia -------\n",
      "SVM - INFO - [+] ------- Mcc -------\n",
      "SVM - INFO - [+] ------- F1 -------\n",
      "SVM - INFO - [+] ------- Class Report -------\n",
      "SVM - INFO - [+] ------- Instanciando -------\n",
      "SVM - INFO - [+] ------- Treinando -------\n"
     ]
    },
    {
     "name": "stdout",
     "output_type": "stream",
     "text": [
      "Métricas: \n",
      " \n",
      "\n",
      "\u001b[94m Roc \n",
      "0.7483178214397969\n",
      "\n",
      "\u001b[96m Acc \n",
      "0.6531746031746032\n",
      "\n",
      "\u001b[93m Mcc \n",
      "0.3380434310133169\n",
      "\n",
      "\u001b[1;32m F1 \n",
      "0.6371261787802669\n",
      "\n",
      "\u001b[0m Class Report \n",
      "              precision    recall  f1-score   support\n",
      "\n",
      "           0       0.61      0.86      0.71      2518\n",
      "           1       0.77      0.44      0.56      2522\n",
      "\n",
      "    accuracy                           0.65      5040\n",
      "   macro avg       0.69      0.65      0.64      5040\n",
      "weighted avg       0.69      0.65      0.64      5040\n",
      "\n",
      "\n",
      "Iteration No: 15 ended. Evaluation done at random point.\n",
      "Time taken: 7.0295\n",
      "Function value obtained: -0.6532\n",
      "Current minimum: -0.7893\n",
      "Iteration No: 16 started. Evaluating function at random point.\n",
      "[0.020772870702076368, 10, 12, 0.38921709693523504, 0.8221880726555211, 185, 4, 5]\n",
      "[LightGBM] [Warning] bagging_freq is set=1, subsample_freq=0 will be ignored. Current value: bagging_freq=1\n"
     ]
    },
    {
     "name": "stderr",
     "output_type": "stream",
     "text": [
      "SVM - INFO - [+] ------- Predict -------\n",
      "SVM - INFO - [+] ------- Roc -------\n",
      "SVM - INFO - [+] ------- Acurácia -------\n",
      "SVM - INFO - [+] ------- Mcc -------\n",
      "SVM - INFO - [+] ------- F1 -------\n",
      "SVM - INFO - [+] ------- Class Report -------\n",
      "SVM - INFO - [+] ------- Instanciando -------\n",
      "SVM - INFO - [+] ------- Treinando -------\n"
     ]
    },
    {
     "name": "stdout",
     "output_type": "stream",
     "text": [
      "Métricas: \n",
      " \n",
      "\n",
      "\u001b[94m Roc \n",
      "0.8882852344956125\n",
      "\n",
      "\u001b[96m Acc \n",
      "0.7625\n",
      "\n",
      "\u001b[93m Mcc \n",
      "0.5252069295467033\n",
      "\n",
      "\u001b[1;32m F1 \n",
      "0.7624580591498138\n",
      "\n",
      "\u001b[0m Class Report \n",
      "              precision    recall  f1-score   support\n",
      "\n",
      "           0       0.76      0.78      0.77      2518\n",
      "           1       0.77      0.75      0.76      2522\n",
      "\n",
      "    accuracy                           0.76      5040\n",
      "   macro avg       0.76      0.76      0.76      5040\n",
      "weighted avg       0.76      0.76      0.76      5040\n",
      "\n",
      "\n",
      "Iteration No: 16 ended. Evaluation done at random point.\n",
      "Time taken: 72.3762\n",
      "Function value obtained: -0.7625\n",
      "Current minimum: -0.7893\n",
      "Iteration No: 17 started. Evaluating function at random point.\n",
      "[0.028597137681187854, 8, 13, 0.05678611151504857, 0.44924399198890835, 185, 3, 2]\n",
      "[LightGBM] [Warning] bagging_freq is set=1, subsample_freq=0 will be ignored. Current value: bagging_freq=1\n"
     ]
    },
    {
     "name": "stderr",
     "output_type": "stream",
     "text": [
      "SVM - INFO - [+] ------- Predict -------\n",
      "SVM - INFO - [+] ------- Roc -------\n",
      "SVM - INFO - [+] ------- Acurácia -------\n",
      "SVM - INFO - [+] ------- Mcc -------\n",
      "SVM - INFO - [+] ------- F1 -------\n",
      "SVM - INFO - [+] ------- Class Report -------\n",
      "SVM - INFO - [+] ------- Instanciando -------\n",
      "SVM - INFO - [+] ------- Treinando -------\n"
     ]
    },
    {
     "name": "stdout",
     "output_type": "stream",
     "text": [
      "Métricas: \n",
      " \n",
      "\n",
      "\u001b[94m Roc \n",
      "0.8170981778144228\n",
      "\n",
      "\u001b[96m Acc \n",
      "0.7265873015873016\n",
      "\n",
      "\u001b[93m Mcc \n",
      "0.4532509293054316\n",
      "\n",
      "\u001b[1;32m F1 \n",
      "0.726568356455443\n",
      "\n",
      "\u001b[0m Class Report \n",
      "              precision    recall  f1-score   support\n",
      "\n",
      "           0       0.72      0.74      0.73      2518\n",
      "           1       0.73      0.72      0.72      2522\n",
      "\n",
      "    accuracy                           0.73      5040\n",
      "   macro avg       0.73      0.73      0.73      5040\n",
      "weighted avg       0.73      0.73      0.73      5040\n",
      "\n",
      "\n",
      "Iteration No: 17 ended. Evaluation done at random point.\n",
      "Time taken: 10.7113\n",
      "Function value obtained: -0.7266\n",
      "Current minimum: -0.7893\n",
      "Iteration No: 18 started. Evaluating function at random point.\n",
      "[0.002665858858303951, 3, 17, 0.22669894338950852, 0.8217063882865693, 729, 2, 1]\n",
      "[LightGBM] [Warning] bagging_freq is set=1, subsample_freq=0 will be ignored. Current value: bagging_freq=1\n"
     ]
    },
    {
     "name": "stderr",
     "output_type": "stream",
     "text": [
      "SVM - INFO - [+] ------- Predict -------\n",
      "SVM - INFO - [+] ------- Roc -------\n",
      "SVM - INFO - [+] ------- Acurácia -------\n",
      "SVM - INFO - [+] ------- Mcc -------\n",
      "SVM - INFO - [+] ------- F1 -------\n",
      "SVM - INFO - [+] ------- Class Report -------\n",
      "SVM - INFO - [+] ------- Instanciando -------\n",
      "SVM - INFO - [+] ------- Treinando -------\n"
     ]
    },
    {
     "name": "stdout",
     "output_type": "stream",
     "text": [
      "Métricas: \n",
      " \n",
      "\n",
      "\u001b[94m Roc \n",
      "0.804643049031903\n",
      "\n",
      "\u001b[96m Acc \n",
      "0.6906746031746032\n",
      "\n",
      "\u001b[93m Mcc \n",
      "0.3893425539381781\n",
      "\n",
      "\u001b[1;32m F1 \n",
      "0.6875629129908503\n",
      "\n",
      "\u001b[0m Class Report \n",
      "              precision    recall  f1-score   support\n",
      "\n",
      "           0       0.66      0.79      0.72      2518\n",
      "           1       0.74      0.59      0.66      2522\n",
      "\n",
      "    accuracy                           0.69      5040\n",
      "   macro avg       0.70      0.69      0.69      5040\n",
      "weighted avg       0.70      0.69      0.69      5040\n",
      "\n",
      "\n",
      "Iteration No: 18 ended. Evaluation done at random point.\n",
      "Time taken: 12.3361\n",
      "Function value obtained: -0.6907\n",
      "Current minimum: -0.7893\n",
      "Iteration No: 19 started. Evaluating function at random point.\n",
      "[0.012261502944306644, 10, 11, 0.6995850389013204, 0.5136930252014882, 283, 3, 2]\n",
      "[LightGBM] [Warning] bagging_freq is set=1, subsample_freq=0 will be ignored. Current value: bagging_freq=1\n"
     ]
    },
    {
     "name": "stderr",
     "output_type": "stream",
     "text": [
      "SVM - INFO - [+] ------- Predict -------\n",
      "SVM - INFO - [+] ------- Roc -------\n",
      "SVM - INFO - [+] ------- Acurácia -------\n",
      "SVM - INFO - [+] ------- Mcc -------\n",
      "SVM - INFO - [+] ------- F1 -------\n",
      "SVM - INFO - [+] ------- Class Report -------\n",
      "SVM - INFO - [+] ------- Instanciando -------\n",
      "SVM - INFO - [+] ------- Treinando -------\n"
     ]
    },
    {
     "name": "stdout",
     "output_type": "stream",
     "text": [
      "Métricas: \n",
      " \n",
      "\n",
      "\u001b[94m Roc \n",
      "0.896804703202761\n",
      "\n",
      "\u001b[96m Acc \n",
      "0.775\n",
      "\n",
      "\u001b[93m Mcc \n",
      "0.5500546011795321\n",
      "\n",
      "\u001b[1;32m F1 \n",
      "0.7749909648159303\n",
      "\n",
      "\u001b[0m Class Report \n",
      "              precision    recall  f1-score   support\n",
      "\n",
      "           0       0.77      0.78      0.78      2518\n",
      "           1       0.78      0.77      0.77      2522\n",
      "\n",
      "    accuracy                           0.78      5040\n",
      "   macro avg       0.78      0.78      0.77      5040\n",
      "weighted avg       0.78      0.78      0.77      5040\n",
      "\n",
      "\n",
      "Iteration No: 19 ended. Evaluation done at random point.\n",
      "Time taken: 90.8164\n",
      "Function value obtained: -0.7750\n",
      "Current minimum: -0.7893\n",
      "Iteration No: 20 started. Evaluating function at random point.\n",
      "[0.01109640278858081, 6, 12, 0.29987990975861256, 0.5509215014641425, 660, 2, 2]\n",
      "[LightGBM] [Warning] bagging_freq is set=1, subsample_freq=0 will be ignored. Current value: bagging_freq=1\n"
     ]
    },
    {
     "name": "stderr",
     "output_type": "stream",
     "text": [
      "SVM - INFO - [+] ------- Predict -------\n",
      "SVM - INFO - [+] ------- Roc -------\n",
      "SVM - INFO - [+] ------- Acurácia -------\n",
      "SVM - INFO - [+] ------- Mcc -------\n",
      "SVM - INFO - [+] ------- F1 -------\n",
      "SVM - INFO - [+] ------- Class Report -------\n"
     ]
    },
    {
     "name": "stdout",
     "output_type": "stream",
     "text": [
      "Métricas: \n",
      " \n",
      "\n",
      "\u001b[94m Roc \n",
      "0.8874985119038246\n",
      "\n",
      "\u001b[96m Acc \n",
      "0.7759920634920635\n",
      "\n",
      "\u001b[93m Mcc \n",
      "0.5521542359831241\n",
      "\n",
      "\u001b[1;32m F1 \n",
      "0.7759613971076499\n",
      "\n",
      "\u001b[0m Class Report \n",
      "              precision    recall  f1-score   support\n",
      "\n",
      "           0       0.77      0.79      0.78      2518\n",
      "           1       0.78      0.76      0.77      2522\n",
      "\n",
      "    accuracy                           0.78      5040\n",
      "   macro avg       0.78      0.78      0.78      5040\n",
      "weighted avg       0.78      0.78      0.78      5040\n",
      "\n",
      "\n"
     ]
    },
    {
     "name": "stderr",
     "output_type": "stream",
     "text": [
      "SVM - INFO - [+] ------- Instanciando -------\n",
      "SVM - INFO - [+] ------- Treinando -------\n"
     ]
    },
    {
     "name": "stdout",
     "output_type": "stream",
     "text": [
      "Iteration No: 20 ended. Evaluation done at random point.\n",
      "Time taken: 42.1554\n",
      "Function value obtained: -0.7760\n",
      "Current minimum: -0.7893\n",
      "Iteration No: 21 started. Searching for the next optimal point.\n",
      "[0.015327520894185672, 5, 6, 0.9345842169729689, 0.504144764785623, 969, 1, 3]\n",
      "[LightGBM] [Warning] bagging_freq is set=1, subsample_freq=0 will be ignored. Current value: bagging_freq=1\n"
     ]
    },
    {
     "name": "stderr",
     "output_type": "stream",
     "text": [
      "SVM - INFO - [+] ------- Predict -------\n",
      "SVM - INFO - [+] ------- Roc -------\n",
      "SVM - INFO - [+] ------- Acurácia -------\n",
      "SVM - INFO - [+] ------- Mcc -------\n",
      "SVM - INFO - [+] ------- F1 -------\n",
      "SVM - INFO - [+] ------- Class Report -------\n"
     ]
    },
    {
     "name": "stdout",
     "output_type": "stream",
     "text": [
      "Métricas: \n",
      " \n",
      "\n",
      "\u001b[94m Roc \n",
      "0.8844456314220405\n",
      "\n",
      "\u001b[96m Acc \n",
      "0.7619047619047619\n",
      "\n",
      "\u001b[93m Mcc \n",
      "0.5239771258801738\n",
      "\n",
      "\u001b[1;32m F1 \n",
      "0.7618710512771345\n",
      "\n",
      "\u001b[0m Class Report \n",
      "              precision    recall  f1-score   support\n",
      "\n",
      "           0       0.76      0.77      0.76      2518\n",
      "           1       0.77      0.75      0.76      2522\n",
      "\n",
      "    accuracy                           0.76      5040\n",
      "   macro avg       0.76      0.76      0.76      5040\n",
      "weighted avg       0.76      0.76      0.76      5040\n",
      "\n",
      "\n"
     ]
    },
    {
     "name": "stderr",
     "output_type": "stream",
     "text": [
      "SVM - INFO - [+] ------- Instanciando -------\n",
      "SVM - INFO - [+] ------- Treinando -------\n"
     ]
    },
    {
     "name": "stdout",
     "output_type": "stream",
     "text": [
      "Iteration No: 21 ended. Search finished for the next optimal point.\n",
      "Time taken: 43.5763\n",
      "Function value obtained: -0.7619\n",
      "Current minimum: -0.7893\n",
      "Iteration No: 22 started. Searching for the next optimal point.\n",
      "[0.016710147882963832, 5, 6, 0.8817541321497087, 0.6315141568227672, 657, 2, 1]\n",
      "[LightGBM] [Warning] bagging_freq is set=1, subsample_freq=0 will be ignored. Current value: bagging_freq=1\n"
     ]
    },
    {
     "name": "stderr",
     "output_type": "stream",
     "text": [
      "SVM - INFO - [+] ------- Predict -------\n",
      "SVM - INFO - [+] ------- Roc -------\n",
      "SVM - INFO - [+] ------- Acurácia -------\n",
      "SVM - INFO - [+] ------- Mcc -------\n",
      "SVM - INFO - [+] ------- F1 -------\n",
      "SVM - INFO - [+] ------- Class Report -------\n"
     ]
    },
    {
     "name": "stdout",
     "output_type": "stream",
     "text": [
      "Métricas: \n",
      " \n",
      "\n",
      "\u001b[94m Roc \n",
      "0.8798136368188694\n",
      "\n",
      "\u001b[96m Acc \n",
      "0.7628968253968254\n",
      "\n",
      "\u001b[93m Mcc \n",
      "0.5258763353375361\n",
      "\n",
      "\u001b[1;32m F1 \n",
      "0.7628811710351279\n",
      "\n",
      "\u001b[0m Class Report \n",
      "              precision    recall  f1-score   support\n",
      "\n",
      "           0       0.76      0.77      0.76      2518\n",
      "           1       0.77      0.75      0.76      2522\n",
      "\n",
      "    accuracy                           0.76      5040\n",
      "   macro avg       0.76      0.76      0.76      5040\n",
      "weighted avg       0.76      0.76      0.76      5040\n",
      "\n",
      "\n",
      "Iteration No: 22 ended. Search finished for the next optimal point.\n",
      "Time taken: 35.0855\n",
      "Function value obtained: -0.7629\n",
      "Current minimum: -0.7893\n"
     ]
    },
    {
     "name": "stderr",
     "output_type": "stream",
     "text": [
      "SVM - INFO - [+] ------- Instanciando -------\n",
      "SVM - INFO - [+] ------- Treinando -------\n"
     ]
    },
    {
     "name": "stdout",
     "output_type": "stream",
     "text": [
      "Iteration No: 23 started. Searching for the next optimal point.\n",
      "[0.0338438419754211, 9, 4, 0.21673128848721424, 0.11889670955701916, 536, 3, 4]\n",
      "[LightGBM] [Warning] bagging_freq is set=1, subsample_freq=0 will be ignored. Current value: bagging_freq=1\n"
     ]
    },
    {
     "name": "stderr",
     "output_type": "stream",
     "text": [
      "SVM - INFO - [+] ------- Predict -------\n",
      "SVM - INFO - [+] ------- Roc -------\n",
      "SVM - INFO - [+] ------- Acurácia -------\n",
      "SVM - INFO - [+] ------- Mcc -------\n",
      "SVM - INFO - [+] ------- F1 -------\n",
      "SVM - INFO - [+] ------- Class Report -------\n"
     ]
    },
    {
     "name": "stdout",
     "output_type": "stream",
     "text": [
      "Métricas: \n",
      " \n",
      "\n",
      "\u001b[94m Roc \n",
      "0.8941305392608585\n",
      "\n",
      "\u001b[96m Acc \n",
      "0.7805555555555556\n",
      "\n",
      "\u001b[93m Mcc \n",
      "0.5612282243355827\n",
      "\n",
      "\u001b[1;32m F1 \n",
      "0.780535684198239\n",
      "\n",
      "\u001b[0m Class Report \n",
      "              precision    recall  f1-score   support\n",
      "\n",
      "           0       0.77      0.79      0.78      2518\n",
      "           1       0.79      0.77      0.78      2522\n",
      "\n",
      "    accuracy                           0.78      5040\n",
      "   macro avg       0.78      0.78      0.78      5040\n",
      "weighted avg       0.78      0.78      0.78      5040\n",
      "\n",
      "\n"
     ]
    },
    {
     "name": "stderr",
     "output_type": "stream",
     "text": [
      "SVM - INFO - [+] ------- Instanciando -------\n",
      "SVM - INFO - [+] ------- Treinando -------\n"
     ]
    },
    {
     "name": "stdout",
     "output_type": "stream",
     "text": [
      "Iteration No: 23 ended. Search finished for the next optimal point.\n",
      "Time taken: 40.1316\n",
      "Function value obtained: -0.7806\n",
      "Current minimum: -0.7893\n",
      "Iteration No: 24 started. Searching for the next optimal point.\n",
      "[0.015359793766823171, 8, 5, 0.33770889580731506, 0.9513307455308093, 704, 4, 4]\n",
      "[LightGBM] [Warning] bagging_freq is set=1, subsample_freq=0 will be ignored. Current value: bagging_freq=1\n"
     ]
    },
    {
     "name": "stderr",
     "output_type": "stream",
     "text": [
      "SVM - INFO - [+] ------- Predict -------\n",
      "SVM - INFO - [+] ------- Roc -------\n",
      "SVM - INFO - [+] ------- Acurácia -------\n",
      "SVM - INFO - [+] ------- Mcc -------\n",
      "SVM - INFO - [+] ------- F1 -------\n",
      "SVM - INFO - [+] ------- Class Report -------\n"
     ]
    },
    {
     "name": "stdout",
     "output_type": "stream",
     "text": [
      "Métricas: \n",
      " \n",
      "\n",
      "\u001b[94m Roc \n",
      "0.9036801799446837\n",
      "\n",
      "\u001b[96m Acc \n",
      "0.7861111111111111\n",
      "\n",
      "\u001b[93m Mcc \n",
      "0.572242669587942\n",
      "\n",
      "\u001b[1;32m F1 \n",
      "0.7861084165905201\n",
      "\n",
      "\u001b[0m Class Report \n",
      "              precision    recall  f1-score   support\n",
      "\n",
      "           0       0.78      0.79      0.79      2518\n",
      "           1       0.79      0.78      0.79      2522\n",
      "\n",
      "    accuracy                           0.79      5040\n",
      "   macro avg       0.79      0.79      0.79      5040\n",
      "weighted avg       0.79      0.79      0.79      5040\n",
      "\n",
      "\n"
     ]
    },
    {
     "name": "stderr",
     "output_type": "stream",
     "text": [
      "SVM - INFO - [+] ------- Instanciando -------\n",
      "SVM - INFO - [+] ------- Treinando -------\n"
     ]
    },
    {
     "name": "stdout",
     "output_type": "stream",
     "text": [
      "Iteration No: 24 ended. Search finished for the next optimal point.\n",
      "Time taken: 249.9714\n",
      "Function value obtained: -0.7861\n",
      "Current minimum: -0.7893\n",
      "Iteration No: 25 started. Searching for the next optimal point.\n",
      "[0.015484796471779494, 8, 4, 0.22435797278948572, 0.16488265824719708, 900, 3, 4]\n",
      "[LightGBM] [Warning] bagging_freq is set=1, subsample_freq=0 will be ignored. Current value: bagging_freq=1\n"
     ]
    },
    {
     "name": "stderr",
     "output_type": "stream",
     "text": [
      "SVM - INFO - [+] ------- Predict -------\n",
      "SVM - INFO - [+] ------- Roc -------\n",
      "SVM - INFO - [+] ------- Acurácia -------\n",
      "SVM - INFO - [+] ------- Mcc -------\n",
      "SVM - INFO - [+] ------- F1 -------\n",
      "SVM - INFO - [+] ------- Class Report -------\n",
      "SVM - INFO - [+] ------- Instanciando -------\n",
      "SVM - INFO - [+] ------- Treinando -------\n"
     ]
    },
    {
     "name": "stdout",
     "output_type": "stream",
     "text": [
      "Métricas: \n",
      " \n",
      "\n",
      "\u001b[94m Roc \n",
      "0.8985238085939837\n",
      "\n",
      "\u001b[96m Acc \n",
      "0.7849206349206349\n",
      "\n",
      "\u001b[93m Mcc \n",
      "0.5698516895384351\n",
      "\n",
      "\u001b[1;32m F1 \n",
      "0.7849194495138239\n",
      "\n",
      "\u001b[0m Class Report \n",
      "              precision    recall  f1-score   support\n",
      "\n",
      "           0       0.78      0.79      0.79      2518\n",
      "           1       0.79      0.78      0.78      2522\n",
      "\n",
      "    accuracy                           0.78      5040\n",
      "   macro avg       0.78      0.78      0.78      5040\n",
      "weighted avg       0.78      0.78      0.78      5040\n",
      "\n",
      "\n",
      "Iteration No: 25 ended. Search finished for the next optimal point.\n",
      "Time taken: 55.3883\n",
      "Function value obtained: -0.7849\n",
      "Current minimum: -0.7893\n",
      "Iteration No: 26 started. Searching for the next optimal point.\n",
      "[0.03988845233115066, 8, 4, 0.20457399804695808, 0.4706921969958642, 958, 1, 5]\n",
      "[LightGBM] [Warning] bagging_freq is set=1, subsample_freq=0 will be ignored. Current value: bagging_freq=1\n"
     ]
    },
    {
     "name": "stderr",
     "output_type": "stream",
     "text": [
      "SVM - INFO - [+] ------- Predict -------\n",
      "SVM - INFO - [+] ------- Roc -------\n",
      "SVM - INFO - [+] ------- Acurácia -------\n",
      "SVM - INFO - [+] ------- Mcc -------\n",
      "SVM - INFO - [+] ------- F1 -------\n",
      "SVM - INFO - [+] ------- Class Report -------\n"
     ]
    },
    {
     "name": "stdout",
     "output_type": "stream",
     "text": [
      "Métricas: \n",
      " \n",
      "\n",
      "\u001b[94m Roc \n",
      "0.9020481557370595\n",
      "\n",
      "\u001b[96m Acc \n",
      "0.7861111111111111\n",
      "\n",
      "\u001b[93m Mcc \n",
      "0.5722221347402099\n",
      "\n",
      "\u001b[1;32m F1 \n",
      "0.7861108416610887\n",
      "\n",
      "\u001b[0m Class Report \n",
      "              precision    recall  f1-score   support\n",
      "\n",
      "           0       0.79      0.79      0.79      2518\n",
      "           1       0.79      0.79      0.79      2522\n",
      "\n",
      "    accuracy                           0.79      5040\n",
      "   macro avg       0.79      0.79      0.79      5040\n",
      "weighted avg       0.79      0.79      0.79      5040\n",
      "\n",
      "\n"
     ]
    },
    {
     "name": "stderr",
     "output_type": "stream",
     "text": [
      "SVM - INFO - [+] ------- Instanciando -------\n",
      "SVM - INFO - [+] ------- Treinando -------\n"
     ]
    },
    {
     "name": "stdout",
     "output_type": "stream",
     "text": [
      "Iteration No: 26 ended. Search finished for the next optimal point.\n",
      "Time taken: 166.3505\n",
      "Function value obtained: -0.7861\n",
      "Current minimum: -0.7893\n",
      "Iteration No: 27 started. Searching for the next optimal point.\n",
      "[0.06721690787074006, 7, 3, 0.27733982712344846, 0.684784260428883, 967, 2, 4]\n",
      "[LightGBM] [Warning] bagging_freq is set=1, subsample_freq=0 will be ignored. Current value: bagging_freq=1\n"
     ]
    },
    {
     "name": "stderr",
     "output_type": "stream",
     "text": [
      "SVM - INFO - [+] ------- Predict -------\n",
      "SVM - INFO - [+] ------- Roc -------\n",
      "SVM - INFO - [+] ------- Acurácia -------\n",
      "SVM - INFO - [+] ------- Mcc -------\n",
      "SVM - INFO - [+] ------- F1 -------\n",
      "SVM - INFO - [+] ------- Class Report -------\n"
     ]
    },
    {
     "name": "stdout",
     "output_type": "stream",
     "text": [
      "Métricas: \n",
      " \n",
      "\n",
      "\u001b[94m Roc \n",
      "0.9006244649939941\n",
      "\n",
      "\u001b[96m Acc \n",
      "0.7819444444444444\n",
      "\n",
      "\u001b[93m Mcc \n",
      "0.5639766284854303\n",
      "\n",
      "\u001b[1;32m F1 \n",
      "0.7819300476716365\n",
      "\n",
      "\u001b[0m Class Report \n",
      "              precision    recall  f1-score   support\n",
      "\n",
      "           0       0.78      0.79      0.78      2518\n",
      "           1       0.79      0.77      0.78      2522\n",
      "\n",
      "    accuracy                           0.78      5040\n",
      "   macro avg       0.78      0.78      0.78      5040\n",
      "weighted avg       0.78      0.78      0.78      5040\n",
      "\n",
      "\n"
     ]
    },
    {
     "name": "stderr",
     "output_type": "stream",
     "text": [
      "SVM - INFO - [+] ------- Instanciando -------\n",
      "SVM - INFO - [+] ------- Treinando -------\n"
     ]
    },
    {
     "name": "stdout",
     "output_type": "stream",
     "text": [
      "Iteration No: 27 ended. Search finished for the next optimal point.\n",
      "Time taken: 151.6980\n",
      "Function value obtained: -0.7819\n",
      "Current minimum: -0.7893\n",
      "Iteration No: 28 started. Searching for the next optimal point.\n",
      "[0.03904640766507009, 4, 2, 0.38402877001596936, 0.2554906543077365, 860, 2, 4]\n",
      "[LightGBM] [Warning] bagging_freq is set=1, subsample_freq=0 will be ignored. Current value: bagging_freq=1\n"
     ]
    },
    {
     "name": "stderr",
     "output_type": "stream",
     "text": [
      "SVM - INFO - [+] ------- Predict -------\n",
      "SVM - INFO - [+] ------- Roc -------\n",
      "SVM - INFO - [+] ------- Acurácia -------\n",
      "SVM - INFO - [+] ------- Mcc -------\n",
      "SVM - INFO - [+] ------- F1 -------\n",
      "SVM - INFO - [+] ------- Class Report -------\n",
      "SVM - INFO - [+] ------- Instanciando -------\n",
      "SVM - INFO - [+] ------- Treinando -------\n"
     ]
    },
    {
     "name": "stdout",
     "output_type": "stream",
     "text": [
      "Métricas: \n",
      " \n",
      "\n",
      "\u001b[94m Roc \n",
      "0.8815673857189379\n",
      "\n",
      "\u001b[96m Acc \n",
      "0.7662698412698413\n",
      "\n",
      "\u001b[93m Mcc \n",
      "0.5325393880948527\n",
      "\n",
      "\u001b[1;32m F1 \n",
      "0.7662698412698413\n",
      "\n",
      "\u001b[0m Class Report \n",
      "              precision    recall  f1-score   support\n",
      "\n",
      "           0       0.77      0.77      0.77      2518\n",
      "           1       0.77      0.77      0.77      2522\n",
      "\n",
      "    accuracy                           0.77      5040\n",
      "   macro avg       0.77      0.77      0.77      5040\n",
      "weighted avg       0.77      0.77      0.77      5040\n",
      "\n",
      "\n",
      "Iteration No: 28 ended. Search finished for the next optimal point.\n",
      "Time taken: 12.1882\n",
      "Function value obtained: -0.7663\n",
      "Current minimum: -0.7893\n",
      "Iteration No: 29 started. Searching for the next optimal point.\n",
      "[0.06654918396155654, 4, 4, 0.05974639149037445, 0.8395328760694424, 897, 4, 4]\n",
      "[LightGBM] [Warning] bagging_freq is set=1, subsample_freq=0 will be ignored. Current value: bagging_freq=1\n"
     ]
    },
    {
     "name": "stderr",
     "output_type": "stream",
     "text": [
      "SVM - INFO - [+] ------- Predict -------\n",
      "SVM - INFO - [+] ------- Roc -------\n",
      "SVM - INFO - [+] ------- Acurácia -------\n",
      "SVM - INFO - [+] ------- Mcc -------\n",
      "SVM - INFO - [+] ------- F1 -------\n",
      "SVM - INFO - [+] ------- Class Report -------\n"
     ]
    },
    {
     "name": "stdout",
     "output_type": "stream",
     "text": [
      "Métricas: \n",
      " \n",
      "\n",
      "\u001b[94m Roc \n",
      "0.8274471387296163\n",
      "\n",
      "\u001b[96m Acc \n",
      "0.7375\n",
      "\n",
      "\u001b[93m Mcc \n",
      "0.4751054056425903\n",
      "\n",
      "\u001b[1;32m F1 \n",
      "0.7374752272603701\n",
      "\n",
      "\u001b[0m Class Report \n",
      "              precision    recall  f1-score   support\n",
      "\n",
      "           0       0.73      0.75      0.74      2518\n",
      "           1       0.74      0.73      0.74      2522\n",
      "\n",
      "    accuracy                           0.74      5040\n",
      "   macro avg       0.74      0.74      0.74      5040\n",
      "weighted avg       0.74      0.74      0.74      5040\n",
      "\n",
      "\n"
     ]
    },
    {
     "name": "stderr",
     "output_type": "stream",
     "text": [
      "SVM - INFO - [+] ------- Instanciando -------\n",
      "SVM - INFO - [+] ------- Treinando -------\n"
     ]
    },
    {
     "name": "stdout",
     "output_type": "stream",
     "text": [
      "Iteration No: 29 ended. Search finished for the next optimal point.\n",
      "Time taken: 25.0233\n",
      "Function value obtained: -0.7375\n",
      "Current minimum: -0.7893\n",
      "Iteration No: 30 started. Searching for the next optimal point.\n",
      "[0.03764003434854149, 6, 2, 0.18686828402177447, 0.888323503192295, 920, 1, 4]\n",
      "[LightGBM] [Warning] bagging_freq is set=1, subsample_freq=0 will be ignored. Current value: bagging_freq=1\n"
     ]
    },
    {
     "name": "stderr",
     "output_type": "stream",
     "text": [
      "SVM - INFO - [+] ------- Predict -------\n",
      "SVM - INFO - [+] ------- Roc -------\n",
      "SVM - INFO - [+] ------- Acurácia -------\n",
      "SVM - INFO - [+] ------- Mcc -------\n",
      "SVM - INFO - [+] ------- F1 -------\n",
      "SVM - INFO - [+] ------- Class Report -------\n"
     ]
    },
    {
     "name": "stdout",
     "output_type": "stream",
     "text": [
      "Métricas: \n",
      " \n",
      "\n",
      "\u001b[94m Roc \n",
      "0.8940125938602884\n",
      "\n",
      "\u001b[96m Acc \n",
      "0.7807539682539683\n",
      "\n",
      "\u001b[93m Mcc \n",
      "0.561519679351408\n",
      "\n",
      "\u001b[1;32m F1 \n",
      "0.7807525441008614\n",
      "\n",
      "\u001b[0m Class Report \n",
      "              precision    recall  f1-score   support\n",
      "\n",
      "           0       0.78      0.78      0.78      2518\n",
      "           1       0.78      0.78      0.78      2522\n",
      "\n",
      "    accuracy                           0.78      5040\n",
      "   macro avg       0.78      0.78      0.78      5040\n",
      "weighted avg       0.78      0.78      0.78      5040\n",
      "\n",
      "\n"
     ]
    },
    {
     "name": "stderr",
     "output_type": "stream",
     "text": [
      "SVM - INFO - [+] ------- Instanciando -------\n",
      "SVM - INFO - [+] ------- Treinando -------\n"
     ]
    },
    {
     "name": "stdout",
     "output_type": "stream",
     "text": [
      "Iteration No: 30 ended. Search finished for the next optimal point.\n",
      "Time taken: 100.9216\n",
      "Function value obtained: -0.7808\n",
      "Current minimum: -0.7893\n",
      "Iteration No: 31 started. Searching for the next optimal point.\n",
      "[0.012571067022091775, 7, 1, 0.2929069982703352, 0.7467833662968609, 885, 2, 5]\n",
      "[LightGBM] [Warning] bagging_freq is set=1, subsample_freq=0 will be ignored. Current value: bagging_freq=1\n"
     ]
    },
    {
     "name": "stderr",
     "output_type": "stream",
     "text": [
      "SVM - INFO - [+] ------- Predict -------\n",
      "SVM - INFO - [+] ------- Roc -------\n",
      "SVM - INFO - [+] ------- Acurácia -------\n",
      "SVM - INFO - [+] ------- Mcc -------\n",
      "SVM - INFO - [+] ------- F1 -------\n",
      "SVM - INFO - [+] ------- Class Report -------\n",
      "SVM - INFO - [+] ------- Instanciando -------\n"
     ]
    },
    {
     "name": "stdout",
     "output_type": "stream",
     "text": [
      "Métricas: \n",
      " \n",
      "\n",
      "\u001b[94m Roc \n",
      "0.8968372995951748\n",
      "\n",
      "\u001b[96m Acc \n",
      "0.7761904761904762\n",
      "\n",
      "\u001b[93m Mcc \n",
      "0.5523830819841876\n",
      "\n",
      "\u001b[1;32m F1 \n",
      "0.7761903704603368\n",
      "\n",
      "\u001b[0m Class Report \n",
      "              precision    recall  f1-score   support\n",
      "\n",
      "           0       0.78      0.78      0.78      2518\n",
      "           1       0.78      0.78      0.78      2522\n",
      "\n",
      "    accuracy                           0.78      5040\n",
      "   macro avg       0.78      0.78      0.78      5040\n",
      "weighted avg       0.78      0.78      0.78      5040\n",
      "\n",
      "\n",
      "Iteration No: 31 ended. Search finished for the next optimal point.\n",
      "Time taken: 179.4941\n",
      "Function value obtained: -0.7762\n",
      "Current minimum: -0.7893\n",
      "Iteration No: 32 started. Searching for the next optimal point.\n",
      "[0.017944414846325217, 8, 3, 0.4514026901572685, 0.732492451173066, 878, 2, 4]\n"
     ]
    },
    {
     "name": "stderr",
     "output_type": "stream",
     "text": [
      "SVM - INFO - [+] ------- Treinando -------\n"
     ]
    },
    {
     "name": "stdout",
     "output_type": "stream",
     "text": [
      "[LightGBM] [Warning] bagging_freq is set=1, subsample_freq=0 will be ignored. Current value: bagging_freq=1\n"
     ]
    },
    {
     "name": "stderr",
     "output_type": "stream",
     "text": [
      "SVM - INFO - [+] ------- Predict -------\n",
      "SVM - INFO - [+] ------- Roc -------\n",
      "SVM - INFO - [+] ------- Acurácia -------\n",
      "SVM - INFO - [+] ------- Mcc -------\n",
      "SVM - INFO - [+] ------- F1 -------\n",
      "SVM - INFO - [+] ------- Class Report -------\n"
     ]
    },
    {
     "name": "stdout",
     "output_type": "stream",
     "text": [
      "Métricas: \n",
      " \n",
      "\n",
      "\u001b[94m Roc \n",
      "0.9006099777084768\n",
      "\n",
      "\u001b[96m Acc \n",
      "0.7791666666666667\n",
      "\n",
      "\u001b[93m Mcc \n",
      "0.5583796175184068\n",
      "\n",
      "\u001b[1;32m F1 \n",
      "0.7791593898492694\n",
      "\n",
      "\u001b[0m Class Report \n",
      "              precision    recall  f1-score   support\n",
      "\n",
      "           0       0.78      0.79      0.78      2518\n",
      "           1       0.78      0.77      0.78      2522\n",
      "\n",
      "    accuracy                           0.78      5040\n",
      "   macro avg       0.78      0.78      0.78      5040\n",
      "weighted avg       0.78      0.78      0.78      5040\n",
      "\n",
      "\n"
     ]
    },
    {
     "name": "stderr",
     "output_type": "stream",
     "text": [
      "SVM - INFO - [+] ------- Instanciando -------\n",
      "SVM - INFO - [+] ------- Treinando -------\n"
     ]
    },
    {
     "name": "stdout",
     "output_type": "stream",
     "text": [
      "Iteration No: 32 ended. Search finished for the next optimal point.\n",
      "Time taken: 313.0935\n",
      "Function value obtained: -0.7792\n",
      "Current minimum: -0.7893\n",
      "Iteration No: 33 started. Searching for the next optimal point.\n",
      "[0.0980054082347147, 1, 8, 0.2720930005017637, 0.36145624471157667, 996, 1, 1]\n",
      "[LightGBM] [Warning] bagging_freq is set=1, subsample_freq=0 will be ignored. Current value: bagging_freq=1\n"
     ]
    },
    {
     "name": "stderr",
     "output_type": "stream",
     "text": [
      "SVM - INFO - [+] ------- Predict -------\n",
      "SVM - INFO - [+] ------- Roc -------\n",
      "SVM - INFO - [+] ------- Acurácia -------\n",
      "SVM - INFO - [+] ------- Mcc -------\n",
      "SVM - INFO - [+] ------- F1 -------\n",
      "SVM - INFO - [+] ------- Class Report -------\n"
     ]
    },
    {
     "name": "stdout",
     "output_type": "stream",
     "text": [
      "Métricas: \n",
      " \n",
      "\n",
      "\u001b[94m Roc \n",
      "0.8136905163079593\n",
      "\n",
      "\u001b[96m Acc \n",
      "0.6964285714285714\n",
      "\n",
      "\u001b[93m Mcc \n",
      "0.3929082447157156\n",
      "\n",
      "\u001b[1;32m F1 \n",
      "0.6964033288841662\n",
      "\n",
      "\u001b[0m Class Report \n",
      "              precision    recall  f1-score   support\n",
      "\n",
      "           0       0.70      0.69      0.69      2518\n",
      "           1       0.69      0.71      0.70      2522\n",
      "\n",
      "    accuracy                           0.70      5040\n",
      "   macro avg       0.70      0.70      0.70      5040\n",
      "weighted avg       0.70      0.70      0.70      5040\n",
      "\n",
      "\n"
     ]
    },
    {
     "name": "stderr",
     "output_type": "stream",
     "text": [
      "SVM - INFO - [+] ------- Instanciando -------\n",
      "SVM - INFO - [+] ------- Treinando -------\n"
     ]
    },
    {
     "name": "stdout",
     "output_type": "stream",
     "text": [
      "Iteration No: 33 ended. Search finished for the next optimal point.\n",
      "Time taken: 7.5126\n",
      "Function value obtained: -0.6964\n",
      "Current minimum: -0.7893\n",
      "Iteration No: 34 started. Searching for the next optimal point.\n",
      "[0.00525490700002735, 8, 4, 0.22244652113539232, 0.6151029803647379, 749, 4, 4]\n",
      "[LightGBM] [Warning] bagging_freq is set=1, subsample_freq=0 will be ignored. Current value: bagging_freq=1\n"
     ]
    },
    {
     "name": "stderr",
     "output_type": "stream",
     "text": [
      "SVM - INFO - [+] ------- Predict -------\n",
      "SVM - INFO - [+] ------- Roc -------\n",
      "SVM - INFO - [+] ------- Acurácia -------\n",
      "SVM - INFO - [+] ------- Mcc -------\n",
      "SVM - INFO - [+] ------- F1 -------\n",
      "SVM - INFO - [+] ------- Class Report -------\n"
     ]
    },
    {
     "name": "stdout",
     "output_type": "stream",
     "text": [
      "Métricas: \n",
      " \n",
      "\n",
      "\u001b[94m Roc \n",
      "0.8928885694687385\n",
      "\n",
      "\u001b[96m Acc \n",
      "0.7748015873015873\n",
      "\n",
      "\u001b[93m Mcc \n",
      "0.5497137677788079\n",
      "\n",
      "\u001b[1;32m F1 \n",
      "0.7747820372697461\n",
      "\n",
      "\u001b[0m Class Report \n",
      "              precision    recall  f1-score   support\n",
      "\n",
      "           0       0.77      0.78      0.78      2518\n",
      "           1       0.78      0.77      0.77      2522\n",
      "\n",
      "    accuracy                           0.77      5040\n",
      "   macro avg       0.77      0.77      0.77      5040\n",
      "weighted avg       0.77      0.77      0.77      5040\n",
      "\n",
      "\n"
     ]
    },
    {
     "name": "stderr",
     "output_type": "stream",
     "text": [
      "SVM - INFO - [+] ------- Instanciando -------\n",
      "SVM - INFO - [+] ------- Treinando -------\n"
     ]
    },
    {
     "name": "stdout",
     "output_type": "stream",
     "text": [
      "Iteration No: 34 ended. Search finished for the next optimal point.\n",
      "Time taken: 165.3277\n",
      "Function value obtained: -0.7748\n",
      "Current minimum: -0.7893\n",
      "Iteration No: 35 started. Searching for the next optimal point.\n",
      "[0.013864483038368037, 5, 3, 0.3209743647618043, 0.12210354441330724, 798, 2, 4]\n",
      "[LightGBM] [Warning] bagging_freq is set=1, subsample_freq=0 will be ignored. Current value: bagging_freq=1\n"
     ]
    },
    {
     "name": "stderr",
     "output_type": "stream",
     "text": [
      "SVM - INFO - [+] ------- Predict -------\n",
      "SVM - INFO - [+] ------- Roc -------\n",
      "SVM - INFO - [+] ------- Acurácia -------\n",
      "SVM - INFO - [+] ------- Mcc -------\n",
      "SVM - INFO - [+] ------- F1 -------\n",
      "SVM - INFO - [+] ------- Class Report -------\n"
     ]
    },
    {
     "name": "stdout",
     "output_type": "stream",
     "text": [
      "Métricas: \n",
      " \n",
      "\n",
      "\u001b[94m Roc \n",
      "0.8738930611571311\n",
      "\n",
      "\u001b[96m Acc \n",
      "0.7533730158730159\n",
      "\n",
      "\u001b[93m Mcc \n",
      "0.5067888834234472\n",
      "\n",
      "\u001b[1;32m F1 \n",
      "0.7533648891128857\n",
      "\n",
      "\u001b[0m Class Report \n",
      "              precision    recall  f1-score   support\n",
      "\n",
      "           0       0.75      0.76      0.75      2518\n",
      "           1       0.76      0.75      0.75      2522\n",
      "\n",
      "    accuracy                           0.75      5040\n",
      "   macro avg       0.75      0.75      0.75      5040\n",
      "weighted avg       0.75      0.75      0.75      5040\n",
      "\n",
      "\n"
     ]
    },
    {
     "name": "stderr",
     "output_type": "stream",
     "text": [
      "SVM - INFO - [+] ------- Instanciando -------\n",
      "SVM - INFO - [+] ------- Treinando -------\n"
     ]
    },
    {
     "name": "stdout",
     "output_type": "stream",
     "text": [
      "Iteration No: 35 ended. Search finished for the next optimal point.\n",
      "Time taken: 11.6935\n",
      "Function value obtained: -0.7534\n",
      "Current minimum: -0.7893\n",
      "Iteration No: 36 started. Searching for the next optimal point.\n",
      "[0.005680668627684694, 9, 9, 0.9252551113799039, 0.4313869982105688, 819, 2, 4]\n",
      "[LightGBM] [Warning] bagging_freq is set=1, subsample_freq=0 will be ignored. Current value: bagging_freq=1\n"
     ]
    },
    {
     "name": "stderr",
     "output_type": "stream",
     "text": [
      "SVM - INFO - [+] ------- Predict -------\n",
      "SVM - INFO - [+] ------- Roc -------\n",
      "SVM - INFO - [+] ------- Acurácia -------\n",
      "SVM - INFO - [+] ------- Mcc -------\n",
      "SVM - INFO - [+] ------- F1 -------\n",
      "SVM - INFO - [+] ------- Class Report -------\n"
     ]
    },
    {
     "name": "stdout",
     "output_type": "stream",
     "text": [
      "Métricas: \n",
      " \n",
      "\n",
      "\u001b[94m Roc \n",
      "0.8996016941305709\n",
      "\n",
      "\u001b[96m Acc \n",
      "0.7811507936507937\n",
      "\n",
      "\u001b[93m Mcc \n",
      "0.5623164502667806\n",
      "\n",
      "\u001b[1;32m F1 \n",
      "0.7811488895976478\n",
      "\n",
      "\u001b[0m Class Report \n",
      "              precision    recall  f1-score   support\n",
      "\n",
      "           0       0.78      0.78      0.78      2518\n",
      "           1       0.78      0.78      0.78      2522\n",
      "\n",
      "    accuracy                           0.78      5040\n",
      "   macro avg       0.78      0.78      0.78      5040\n",
      "weighted avg       0.78      0.78      0.78      5040\n",
      "\n",
      "\n"
     ]
    },
    {
     "name": "stderr",
     "output_type": "stream",
     "text": [
      "SVM - INFO - [+] ------- Instanciando -------\n",
      "SVM - INFO - [+] ------- Treinando -------\n"
     ]
    },
    {
     "name": "stdout",
     "output_type": "stream",
     "text": [
      "Iteration No: 36 ended. Search finished for the next optimal point.\n",
      "Time taken: 227.0628\n",
      "Function value obtained: -0.7812\n",
      "Current minimum: -0.7893\n",
      "Iteration No: 37 started. Searching for the next optimal point.\n",
      "[0.0017851827666381778, 8, 6, 0.9800153450655463, 0.34893816363888014, 595, 3, 4]\n",
      "[LightGBM] [Warning] bagging_freq is set=1, subsample_freq=0 will be ignored. Current value: bagging_freq=1\n"
     ]
    },
    {
     "name": "stderr",
     "output_type": "stream",
     "text": [
      "SVM - INFO - [+] ------- Predict -------\n",
      "SVM - INFO - [+] ------- Roc -------\n",
      "SVM - INFO - [+] ------- Acurácia -------\n",
      "SVM - INFO - [+] ------- Mcc -------\n",
      "SVM - INFO - [+] ------- F1 -------\n",
      "SVM - INFO - [+] ------- Class Report -------\n"
     ]
    },
    {
     "name": "stdout",
     "output_type": "stream",
     "text": [
      "Métricas: \n",
      " \n",
      "\n",
      "\u001b[94m Roc \n",
      "0.860425712034336\n",
      "\n",
      "\u001b[96m Acc \n",
      "0.7412698412698413\n",
      "\n",
      "\u001b[93m Mcc \n",
      "0.49594349337723115\n",
      "\n",
      "\u001b[1;32m F1 \n",
      "0.737822008072904\n",
      "\n",
      "\u001b[0m Class Report \n",
      "              precision    recall  f1-score   support\n",
      "\n",
      "           0       0.70      0.86      0.77      2518\n",
      "           1       0.81      0.63      0.71      2522\n",
      "\n",
      "    accuracy                           0.74      5040\n",
      "   macro avg       0.75      0.74      0.74      5040\n",
      "weighted avg       0.75      0.74      0.74      5040\n",
      "\n",
      "\n"
     ]
    },
    {
     "name": "stderr",
     "output_type": "stream",
     "text": [
      "SVM - INFO - [+] ------- Instanciando -------\n",
      "SVM - INFO - [+] ------- Treinando -------\n"
     ]
    },
    {
     "name": "stdout",
     "output_type": "stream",
     "text": [
      "Iteration No: 37 ended. Search finished for the next optimal point.\n",
      "Time taken: 81.3587\n",
      "Function value obtained: -0.7413\n",
      "Current minimum: -0.7893\n",
      "Iteration No: 38 started. Searching for the next optimal point.\n",
      "[0.0052010560011690075, 6, 5, 0.36619828820201833, 0.7000725287463367, 826, 3, 4]\n",
      "[LightGBM] [Warning] bagging_freq is set=1, subsample_freq=0 will be ignored. Current value: bagging_freq=1\n"
     ]
    },
    {
     "name": "stderr",
     "output_type": "stream",
     "text": [
      "SVM - INFO - [+] ------- Predict -------\n",
      "SVM - INFO - [+] ------- Roc -------\n",
      "SVM - INFO - [+] ------- Acurácia -------\n",
      "SVM - INFO - [+] ------- Mcc -------\n",
      "SVM - INFO - [+] ------- F1 -------\n",
      "SVM - INFO - [+] ------- Class Report -------\n"
     ]
    },
    {
     "name": "stdout",
     "output_type": "stream",
     "text": [
      "Métricas: \n",
      " \n",
      "\n",
      "\u001b[94m Roc \n",
      "0.880147789208736\n",
      "\n",
      "\u001b[96m Acc \n",
      "0.763095238095238\n",
      "\n",
      "\u001b[93m Mcc \n",
      "0.5262268395381812\n",
      "\n",
      "\u001b[1;32m F1 \n",
      "0.7630889706313753\n",
      "\n",
      "\u001b[0m Class Report \n",
      "              precision    recall  f1-score   support\n",
      "\n",
      "           0       0.76      0.77      0.76      2518\n",
      "           1       0.77      0.76      0.76      2522\n",
      "\n",
      "    accuracy                           0.76      5040\n",
      "   macro avg       0.76      0.76      0.76      5040\n",
      "weighted avg       0.76      0.76      0.76      5040\n",
      "\n",
      "\n"
     ]
    },
    {
     "name": "stderr",
     "output_type": "stream",
     "text": [
      "SVM - INFO - [+] ------- Instanciando -------\n",
      "SVM - INFO - [+] ------- Treinando -------\n"
     ]
    },
    {
     "name": "stdout",
     "output_type": "stream",
     "text": [
      "Iteration No: 38 ended. Search finished for the next optimal point.\n",
      "Time taken: 76.3835\n",
      "Function value obtained: -0.7631\n",
      "Current minimum: -0.7893\n",
      "Iteration No: 39 started. Searching for the next optimal point.\n",
      "[0.02402709072210536, 4, 1, 0.7801751428693128, 0.6636302320617398, 879, 2, 4]\n",
      "[LightGBM] [Warning] bagging_freq is set=1, subsample_freq=0 will be ignored. Current value: bagging_freq=1\n"
     ]
    },
    {
     "name": "stderr",
     "output_type": "stream",
     "text": [
      "SVM - INFO - [+] ------- Predict -------\n",
      "SVM - INFO - [+] ------- Roc -------\n",
      "SVM - INFO - [+] ------- Acurácia -------\n",
      "SVM - INFO - [+] ------- Mcc -------\n",
      "SVM - INFO - [+] ------- F1 -------\n",
      "SVM - INFO - [+] ------- Class Report -------\n"
     ]
    },
    {
     "name": "stdout",
     "output_type": "stream",
     "text": [
      "Métricas: \n",
      " \n",
      "\n",
      "\u001b[94m Roc \n",
      "0.881891145056151\n",
      "\n",
      "\u001b[96m Acc \n",
      "0.766468253968254\n",
      "\n",
      "\u001b[93m Mcc \n",
      "0.5329757717836676\n",
      "\n",
      "\u001b[1;32m F1 \n",
      "0.7664615884557736\n",
      "\n",
      "\u001b[0m Class Report \n",
      "              precision    recall  f1-score   support\n",
      "\n",
      "           0       0.76      0.77      0.77      2518\n",
      "           1       0.77      0.76      0.77      2522\n",
      "\n",
      "    accuracy                           0.77      5040\n",
      "   macro avg       0.77      0.77      0.77      5040\n",
      "weighted avg       0.77      0.77      0.77      5040\n",
      "\n",
      "\n"
     ]
    },
    {
     "name": "stderr",
     "output_type": "stream",
     "text": [
      "SVM - INFO - [+] ------- Instanciando -------\n",
      "SVM - INFO - [+] ------- Treinando -------\n"
     ]
    },
    {
     "name": "stdout",
     "output_type": "stream",
     "text": [
      "Iteration No: 39 ended. Search finished for the next optimal point.\n",
      "Time taken: 35.3128\n",
      "Function value obtained: -0.7665\n",
      "Current minimum: -0.7893\n",
      "Iteration No: 40 started. Searching for the next optimal point.\n",
      "[0.05521507077557156, 3, 1, 0.9212856751468534, 0.45059238083262093, 410, 1, 3]\n",
      "[LightGBM] [Warning] bagging_freq is set=1, subsample_freq=0 will be ignored. Current value: bagging_freq=1\n"
     ]
    },
    {
     "name": "stderr",
     "output_type": "stream",
     "text": [
      "SVM - INFO - [+] ------- Predict -------\n",
      "SVM - INFO - [+] ------- Roc -------\n",
      "SVM - INFO - [+] ------- Acurácia -------\n",
      "SVM - INFO - [+] ------- Mcc -------\n",
      "SVM - INFO - [+] ------- F1 -------\n",
      "SVM - INFO - [+] ------- Class Report -------\n"
     ]
    },
    {
     "name": "stdout",
     "output_type": "stream",
     "text": [
      "Métricas: \n",
      " \n",
      "\n",
      "\u001b[94m Roc \n",
      "0.856682008492069\n",
      "\n",
      "\u001b[96m Acc \n",
      "0.7351190476190477\n",
      "\n",
      "\u001b[93m Mcc \n",
      "0.4702385953005435\n",
      "\n",
      "\u001b[1;32m F1 \n",
      "0.7351190789022302\n",
      "\n",
      "\u001b[0m Class Report \n",
      "              precision    recall  f1-score   support\n",
      "\n",
      "           0       0.73      0.74      0.74      2518\n",
      "           1       0.74      0.73      0.74      2522\n",
      "\n",
      "    accuracy                           0.74      5040\n",
      "   macro avg       0.74      0.74      0.74      5040\n",
      "weighted avg       0.74      0.74      0.74      5040\n",
      "\n",
      "\n"
     ]
    },
    {
     "name": "stderr",
     "output_type": "stream",
     "text": [
      "SVM - INFO - [+] ------- Instanciando -------\n",
      "SVM - INFO - [+] ------- Treinando -------\n"
     ]
    },
    {
     "name": "stdout",
     "output_type": "stream",
     "text": [
      "Iteration No: 40 ended. Search finished for the next optimal point.\n",
      "Time taken: 9.9470\n",
      "Function value obtained: -0.7351\n",
      "Current minimum: -0.7893\n",
      "Iteration No: 41 started. Searching for the next optimal point.\n",
      "[0.011745345212793162, 8, 20, 0.2870040104706564, 0.15702039801005996, 543, 2, 1]\n",
      "[LightGBM] [Warning] bagging_freq is set=1, subsample_freq=0 will be ignored. Current value: bagging_freq=1\n"
     ]
    },
    {
     "name": "stderr",
     "output_type": "stream",
     "text": [
      "SVM - INFO - [+] ------- Predict -------\n",
      "SVM - INFO - [+] ------- Roc -------\n",
      "SVM - INFO - [+] ------- Acurácia -------\n",
      "SVM - INFO - [+] ------- Mcc -------\n",
      "SVM - INFO - [+] ------- F1 -------\n",
      "SVM - INFO - [+] ------- Class Report -------\n"
     ]
    },
    {
     "name": "stdout",
     "output_type": "stream",
     "text": [
      "Métricas: \n",
      " \n",
      "\n",
      "\u001b[94m Roc \n",
      "0.8926306327983324\n",
      "\n",
      "\u001b[96m Acc \n",
      "0.7726190476190476\n",
      "\n",
      "\u001b[93m Mcc \n",
      "0.5452807456450407\n",
      "\n",
      "\u001b[1;32m F1 \n",
      "0.7726120653083702\n",
      "\n",
      "\u001b[0m Class Report \n",
      "              precision    recall  f1-score   support\n",
      "\n",
      "           0       0.77      0.78      0.77      2518\n",
      "           1       0.78      0.77      0.77      2522\n",
      "\n",
      "    accuracy                           0.77      5040\n",
      "   macro avg       0.77      0.77      0.77      5040\n",
      "weighted avg       0.77      0.77      0.77      5040\n",
      "\n",
      "\n"
     ]
    },
    {
     "name": "stderr",
     "output_type": "stream",
     "text": [
      "SVM - INFO - [+] ------- Instanciando -------\n",
      "SVM - INFO - [+] ------- Treinando -------\n"
     ]
    },
    {
     "name": "stdout",
     "output_type": "stream",
     "text": [
      "Iteration No: 41 ended. Search finished for the next optimal point.\n",
      "Time taken: 23.6741\n",
      "Function value obtained: -0.7726\n",
      "Current minimum: -0.7893\n",
      "Iteration No: 42 started. Searching for the next optimal point.\n",
      "[0.07999336384649723, 8, 3, 0.3955472002695577, 0.06321063784548556, 929, 1, 1]\n",
      "[LightGBM] [Warning] bagging_freq is set=1, subsample_freq=0 will be ignored. Current value: bagging_freq=1\n"
     ]
    },
    {
     "name": "stderr",
     "output_type": "stream",
     "text": [
      "SVM - INFO - [+] ------- Predict -------\n",
      "SVM - INFO - [+] ------- Roc -------\n",
      "SVM - INFO - [+] ------- Acurácia -------\n",
      "SVM - INFO - [+] ------- Mcc -------\n",
      "SVM - INFO - [+] ------- F1 -------\n",
      "SVM - INFO - [+] ------- Class Report -------\n"
     ]
    },
    {
     "name": "stdout",
     "output_type": "stream",
     "text": [
      "Métricas: \n",
      " \n",
      "\n",
      "\u001b[94m Roc \n",
      "0.9030232130405726\n",
      "\n",
      "\u001b[96m Acc \n",
      "0.7896825396825397\n",
      "\n",
      "\u001b[93m Mcc \n",
      "0.5794357288146358\n",
      "\n",
      "\u001b[1;32m F1 \n",
      "0.789671841831796\n",
      "\n",
      "\u001b[0m Class Report \n",
      "              precision    recall  f1-score   support\n",
      "\n",
      "           0       0.79      0.80      0.79      2518\n",
      "           1       0.79      0.78      0.79      2522\n",
      "\n",
      "    accuracy                           0.79      5040\n",
      "   macro avg       0.79      0.79      0.79      5040\n",
      "weighted avg       0.79      0.79      0.79      5040\n",
      "\n",
      "\n"
     ]
    },
    {
     "name": "stderr",
     "output_type": "stream",
     "text": [
      "SVM - INFO - [+] ------- Instanciando -------\n",
      "SVM - INFO - [+] ------- Treinando -------\n"
     ]
    },
    {
     "name": "stdout",
     "output_type": "stream",
     "text": [
      "Iteration No: 42 ended. Search finished for the next optimal point.\n",
      "Time taken: 30.7862\n",
      "Function value obtained: -0.7897\n",
      "Current minimum: -0.7897\n",
      "Iteration No: 43 started. Searching for the next optimal point.\n",
      "[0.09917740031174475, 7, 16, 0.056429007988519464, 0.9975254070666095, 524, 1, 5]\n",
      "[LightGBM] [Warning] bagging_freq is set=1, subsample_freq=0 will be ignored. Current value: bagging_freq=1\n"
     ]
    },
    {
     "name": "stderr",
     "output_type": "stream",
     "text": [
      "SVM - INFO - [+] ------- Predict -------\n",
      "SVM - INFO - [+] ------- Roc -------\n",
      "SVM - INFO - [+] ------- Acurácia -------\n",
      "SVM - INFO - [+] ------- Mcc -------\n",
      "SVM - INFO - [+] ------- F1 -------\n",
      "SVM - INFO - [+] ------- Class Report -------\n"
     ]
    },
    {
     "name": "stdout",
     "output_type": "stream",
     "text": [
      "Métricas: \n",
      " \n",
      "\n",
      "\u001b[94m Roc \n",
      "0.501375504771671\n",
      "\n",
      "\u001b[96m Acc \n",
      "0.5013888888888889\n",
      "\n",
      "\u001b[93m Mcc \n",
      "0.009443698912174527\n",
      "\n",
      "\u001b[1;32m F1 \n",
      "0.3645856911322421\n",
      "\n",
      "\u001b[0m Class Report \n",
      "              precision    recall  f1-score   support\n",
      "\n",
      "           0       0.50      0.97      0.66      2518\n",
      "           1       0.52      0.04      0.07      2522\n",
      "\n",
      "    accuracy                           0.50      5040\n",
      "   macro avg       0.51      0.50      0.36      5040\n",
      "weighted avg       0.51      0.50      0.36      5040\n",
      "\n",
      "\n"
     ]
    },
    {
     "name": "stderr",
     "output_type": "stream",
     "text": [
      "SVM - INFO - [+] ------- Instanciando -------\n",
      "SVM - INFO - [+] ------- Treinando -------\n"
     ]
    },
    {
     "name": "stdout",
     "output_type": "stream",
     "text": [
      "Iteration No: 43 ended. Search finished for the next optimal point.\n",
      "Time taken: 36.4257\n",
      "Function value obtained: -0.5014\n",
      "Current minimum: -0.7897\n",
      "Iteration No: 44 started. Searching for the next optimal point.\n",
      "[0.08101064157938553, 8, 1, 0.11810842575619826, 0.9543222314883233, 863, 3, 5]\n",
      "[LightGBM] [Warning] bagging_freq is set=1, subsample_freq=0 will be ignored. Current value: bagging_freq=1\n"
     ]
    },
    {
     "name": "stderr",
     "output_type": "stream",
     "text": [
      "SVM - INFO - [+] ------- Predict -------\n",
      "SVM - INFO - [+] ------- Roc -------\n",
      "SVM - INFO - [+] ------- Acurácia -------\n",
      "SVM - INFO - [+] ------- Mcc -------\n",
      "SVM - INFO - [+] ------- F1 -------\n",
      "SVM - INFO - [+] ------- Class Report -------\n"
     ]
    },
    {
     "name": "stdout",
     "output_type": "stream",
     "text": [
      "Métricas: \n",
      " \n",
      "\n",
      "\u001b[94m Roc \n",
      "0.8813620441937794\n",
      "\n",
      "\u001b[96m Acc \n",
      "0.7690476190476191\n",
      "\n",
      "\u001b[93m Mcc \n",
      "0.5381112930115811\n",
      "\n",
      "\u001b[1;32m F1 \n",
      "0.7690453278356846\n",
      "\n",
      "\u001b[0m Class Report \n",
      "              precision    recall  f1-score   support\n",
      "\n",
      "           0       0.77      0.77      0.77      2518\n",
      "           1       0.77      0.77      0.77      2522\n",
      "\n",
      "    accuracy                           0.77      5040\n",
      "   macro avg       0.77      0.77      0.77      5040\n",
      "weighted avg       0.77      0.77      0.77      5040\n",
      "\n",
      "\n"
     ]
    },
    {
     "name": "stderr",
     "output_type": "stream",
     "text": [
      "SVM - INFO - [+] ------- Instanciando -------\n",
      "SVM - INFO - [+] ------- Treinando -------\n"
     ]
    },
    {
     "name": "stdout",
     "output_type": "stream",
     "text": [
      "Iteration No: 44 ended. Search finished for the next optimal point.\n",
      "Time taken: 316.1754\n",
      "Function value obtained: -0.7690\n",
      "Current minimum: -0.7897\n",
      "Iteration No: 45 started. Searching for the next optimal point.\n",
      "[0.05180605193957785, 10, 19, 0.760719831287102, 0.9089799968540467, 698, 1, 4]\n",
      "[LightGBM] [Warning] bagging_freq is set=1, subsample_freq=0 will be ignored. Current value: bagging_freq=1\n"
     ]
    },
    {
     "name": "stderr",
     "output_type": "stream",
     "text": [
      "SVM - INFO - [+] ------- Predict -------\n",
      "SVM - INFO - [+] ------- Roc -------\n",
      "SVM - INFO - [+] ------- Acurácia -------\n",
      "SVM - INFO - [+] ------- Mcc -------\n",
      "SVM - INFO - [+] ------- F1 -------\n",
      "SVM - INFO - [+] ------- Class Report -------\n"
     ]
    },
    {
     "name": "stdout",
     "output_type": "stream",
     "text": [
      "Métricas: \n",
      " \n",
      "\n",
      "\u001b[94m Roc \n",
      "0.9078758238068934\n",
      "\n",
      "\u001b[96m Acc \n",
      "0.7873015873015873\n",
      "\n",
      "\u001b[93m Mcc \n",
      "0.5746421301701407\n",
      "\n",
      "\u001b[1;32m F1 \n",
      "0.7872959602318546\n",
      "\n",
      "\u001b[0m Class Report \n",
      "              precision    recall  f1-score   support\n",
      "\n",
      "           0       0.78      0.79      0.79      2518\n",
      "           1       0.79      0.78      0.79      2522\n",
      "\n",
      "    accuracy                           0.79      5040\n",
      "   macro avg       0.79      0.79      0.79      5040\n",
      "weighted avg       0.79      0.79      0.79      5040\n",
      "\n",
      "\n"
     ]
    },
    {
     "name": "stderr",
     "output_type": "stream",
     "text": [
      "SVM - INFO - [+] ------- Instanciando -------\n",
      "SVM - INFO - [+] ------- Treinando -------\n"
     ]
    },
    {
     "name": "stdout",
     "output_type": "stream",
     "text": [
      "Iteration No: 45 ended. Search finished for the next optimal point.\n",
      "Time taken: 500.2028\n",
      "Function value obtained: -0.7873\n",
      "Current minimum: -0.7897\n",
      "Iteration No: 46 started. Searching for the next optimal point.\n",
      "[0.06557579073131305, 9, 16, 0.6613488244856408, 0.9602602813866331, 629, 1, 5]\n",
      "[LightGBM] [Warning] bagging_freq is set=1, subsample_freq=0 will be ignored. Current value: bagging_freq=1\n"
     ]
    },
    {
     "name": "stderr",
     "output_type": "stream",
     "text": [
      "SVM - INFO - [+] ------- Predict -------\n",
      "SVM - INFO - [+] ------- Roc -------\n",
      "SVM - INFO - [+] ------- Acurácia -------\n",
      "SVM - INFO - [+] ------- Mcc -------\n",
      "SVM - INFO - [+] ------- F1 -------\n",
      "SVM - INFO - [+] ------- Class Report -------\n"
     ]
    },
    {
     "name": "stdout",
     "output_type": "stream",
     "text": [
      "Métricas: \n",
      " \n",
      "\n",
      "\u001b[94m Roc \n",
      "0.9074574247023336\n",
      "\n",
      "\u001b[96m Acc \n",
      "0.7908730158730158\n",
      "\n",
      "\u001b[93m Mcc \n",
      "0.5819186319485002\n",
      "\n",
      "\u001b[1;32m F1 \n",
      "0.7908453501580078\n",
      "\n",
      "\u001b[0m Class Report \n",
      "              precision    recall  f1-score   support\n",
      "\n",
      "           0       0.78      0.80      0.79      2518\n",
      "           1       0.80      0.78      0.79      2522\n",
      "\n",
      "    accuracy                           0.79      5040\n",
      "   macro avg       0.79      0.79      0.79      5040\n",
      "weighted avg       0.79      0.79      0.79      5040\n",
      "\n",
      "\n"
     ]
    },
    {
     "name": "stderr",
     "output_type": "stream",
     "text": [
      "SVM - INFO - [+] ------- Instanciando -------\n",
      "SVM - INFO - [+] ------- Treinando -------\n"
     ]
    },
    {
     "name": "stdout",
     "output_type": "stream",
     "text": [
      "Iteration No: 46 ended. Search finished for the next optimal point.\n",
      "Time taken: 376.7742\n",
      "Function value obtained: -0.7909\n",
      "Current minimum: -0.7909\n",
      "Iteration No: 47 started. Searching for the next optimal point.\n",
      "[0.06006683117821422, 8, 16, 0.12283681861415276, 0.34734523576096155, 714, 1, 5]\n",
      "[LightGBM] [Warning] bagging_freq is set=1, subsample_freq=0 will be ignored. Current value: bagging_freq=1\n"
     ]
    },
    {
     "name": "stderr",
     "output_type": "stream",
     "text": [
      "SVM - INFO - [+] ------- Predict -------\n",
      "SVM - INFO - [+] ------- Roc -------\n",
      "SVM - INFO - [+] ------- Acurácia -------\n",
      "SVM - INFO - [+] ------- Mcc -------\n",
      "SVM - INFO - [+] ------- F1 -------\n",
      "SVM - INFO - [+] ------- Class Report -------\n"
     ]
    },
    {
     "name": "stdout",
     "output_type": "stream",
     "text": [
      "Métricas: \n",
      " \n",
      "\n",
      "\u001b[94m Roc \n",
      "0.8784584457410216\n",
      "\n",
      "\u001b[96m Acc \n",
      "0.7690476190476191\n",
      "\n",
      "\u001b[93m Mcc \n",
      "0.53810279375203\n",
      "\n",
      "\u001b[1;32m F1 \n",
      "0.7690467462095131\n",
      "\n",
      "\u001b[0m Class Report \n",
      "              precision    recall  f1-score   support\n",
      "\n",
      "           0       0.77      0.77      0.77      2518\n",
      "           1       0.77      0.77      0.77      2522\n",
      "\n",
      "    accuracy                           0.77      5040\n",
      "   macro avg       0.77      0.77      0.77      5040\n",
      "weighted avg       0.77      0.77      0.77      5040\n",
      "\n",
      "\n"
     ]
    },
    {
     "name": "stderr",
     "output_type": "stream",
     "text": [
      "SVM - INFO - [+] ------- Instanciando -------\n",
      "SVM - INFO - [+] ------- Treinando -------\n"
     ]
    },
    {
     "name": "stdout",
     "output_type": "stream",
     "text": [
      "Iteration No: 47 ended. Search finished for the next optimal point.\n",
      "Time taken: 57.4005\n",
      "Function value obtained: -0.7690\n",
      "Current minimum: -0.7909\n",
      "Iteration No: 48 started. Searching for the next optimal point.\n",
      "[0.09798929710990044, 10, 19, 0.208009625005097, 0.6936264494866005, 493, 1, 5]\n",
      "[LightGBM] [Warning] bagging_freq is set=1, subsample_freq=0 will be ignored. Current value: bagging_freq=1\n"
     ]
    },
    {
     "name": "stderr",
     "output_type": "stream",
     "text": [
      "SVM - INFO - [+] ------- Predict -------\n",
      "SVM - INFO - [+] ------- Roc -------\n",
      "SVM - INFO - [+] ------- Acurácia -------\n",
      "SVM - INFO - [+] ------- Mcc -------\n",
      "SVM - INFO - [+] ------- F1 -------\n",
      "SVM - INFO - [+] ------- Class Report -------\n"
     ]
    },
    {
     "name": "stdout",
     "output_type": "stream",
     "text": [
      "Métricas: \n",
      " \n",
      "\n",
      "\u001b[94m Roc \n",
      "0.8932090219255617\n",
      "\n",
      "\u001b[96m Acc \n",
      "0.7833333333333333\n",
      "\n",
      "\u001b[93m Mcc \n",
      "0.5667051972796555\n",
      "\n",
      "\u001b[1;32m F1 \n",
      "0.7833276012809562\n",
      "\n",
      "\u001b[0m Class Report \n",
      "              precision    recall  f1-score   support\n",
      "\n",
      "           0       0.78      0.79      0.78      2518\n",
      "           1       0.79      0.78      0.78      2522\n",
      "\n",
      "    accuracy                           0.78      5040\n",
      "   macro avg       0.78      0.78      0.78      5040\n",
      "weighted avg       0.78      0.78      0.78      5040\n",
      "\n",
      "\n"
     ]
    },
    {
     "name": "stderr",
     "output_type": "stream",
     "text": [
      "SVM - INFO - [+] ------- Instanciando -------\n",
      "SVM - INFO - [+] ------- Treinando -------\n"
     ]
    },
    {
     "name": "stdout",
     "output_type": "stream",
     "text": [
      "Iteration No: 48 ended. Search finished for the next optimal point.\n",
      "Time taken: 118.4821\n",
      "Function value obtained: -0.7833\n",
      "Current minimum: -0.7909\n",
      "Iteration No: 49 started. Searching for the next optimal point.\n",
      "[0.05315096648538365, 8, 15, 0.35352352841060963, 0.9985589428842792, 769, 1, 5]\n",
      "[LightGBM] [Warning] bagging_freq is set=1, subsample_freq=0 will be ignored. Current value: bagging_freq=1\n"
     ]
    },
    {
     "name": "stderr",
     "output_type": "stream",
     "text": [
      "SVM - INFO - [+] ------- Predict -------\n",
      "SVM - INFO - [+] ------- Roc -------\n",
      "SVM - INFO - [+] ------- Acurácia -------\n",
      "SVM - INFO - [+] ------- Mcc -------\n",
      "SVM - INFO - [+] ------- F1 -------\n",
      "SVM - INFO - [+] ------- Class Report -------\n"
     ]
    },
    {
     "name": "stdout",
     "output_type": "stream",
     "text": [
      "Métricas: \n",
      " \n",
      "\n",
      "\u001b[94m Roc \n",
      "0.9041483397255856\n",
      "\n",
      "\u001b[96m Acc \n",
      "0.7878968253968254\n",
      "\n",
      "\u001b[93m Mcc \n",
      "0.5761170307331422\n",
      "\n",
      "\u001b[1;32m F1 \n",
      "0.7878420610394532\n",
      "\n",
      "\u001b[0m Class Report \n",
      "              precision    recall  f1-score   support\n",
      "\n",
      "           0       0.78      0.80      0.79      2518\n",
      "           1       0.80      0.77      0.78      2522\n",
      "\n",
      "    accuracy                           0.79      5040\n",
      "   macro avg       0.79      0.79      0.79      5040\n",
      "weighted avg       0.79      0.79      0.79      5040\n",
      "\n",
      "\n"
     ]
    },
    {
     "name": "stderr",
     "output_type": "stream",
     "text": [
      "SVM - INFO - [+] ------- Instanciando -------\n",
      "SVM - INFO - [+] ------- Treinando -------\n"
     ]
    },
    {
     "name": "stdout",
     "output_type": "stream",
     "text": [
      "Iteration No: 49 ended. Search finished for the next optimal point.\n",
      "Time taken: 311.4548\n",
      "Function value obtained: -0.7879\n",
      "Current minimum: -0.7909\n",
      "Iteration No: 50 started. Searching for the next optimal point.\n",
      "[0.007507933134993518, 9, 17, 0.0601928108219361, 0.08531344234324861, 571, 1, 5]\n",
      "[LightGBM] [Warning] bagging_freq is set=1, subsample_freq=0 will be ignored. Current value: bagging_freq=1\n"
     ]
    },
    {
     "name": "stderr",
     "output_type": "stream",
     "text": [
      "SVM - INFO - [+] ------- Predict -------\n",
      "SVM - INFO - [+] ------- Roc -------\n",
      "SVM - INFO - [+] ------- Acurácia -------\n",
      "SVM - INFO - [+] ------- Mcc -------\n",
      "SVM - INFO - [+] ------- F1 -------\n",
      "SVM - INFO - [+] ------- Class Report -------\n"
     ]
    },
    {
     "name": "stdout",
     "output_type": "stream",
     "text": [
      "Métricas: \n",
      " \n",
      "\n",
      "\u001b[94m Roc \n",
      "0.8570448205119806\n",
      "\n",
      "\u001b[96m Acc \n",
      "0.7490079365079365\n",
      "\n",
      "\u001b[93m Mcc \n",
      "0.4980812773221593\n",
      "\n",
      "\u001b[1;32m F1 \n",
      "0.7489879653613717\n",
      "\n",
      "\u001b[0m Class Report \n",
      "              precision    recall  f1-score   support\n",
      "\n",
      "           0       0.75      0.74      0.75      2518\n",
      "           1       0.75      0.76      0.75      2522\n",
      "\n",
      "    accuracy                           0.75      5040\n",
      "   macro avg       0.75      0.75      0.75      5040\n",
      "weighted avg       0.75      0.75      0.75      5040\n",
      "\n",
      "\n"
     ]
    },
    {
     "name": "stderr",
     "output_type": "stream",
     "text": [
      "SVM - INFO - [+] ------- Ok -------\n",
      "SVM - INFO - [+] ------- Treino finalizado -------\n"
     ]
    },
    {
     "name": "stdout",
     "output_type": "stream",
     "text": [
      "Iteration No: 50 ended. Search finished for the next optimal point.\n",
      "Time taken: 8.8332\n",
      "Function value obtained: -0.7490\n",
      "Current minimum: -0.7909\n",
      "CPU times: user 2h 40min 22s, sys: 28 s, total: 2h 40min 50s\n",
      "Wall time: 1h 20min 50s\n"
     ]
    }
   ],
   "source": [
    "%%time\n",
    "\n",
    "try:\n",
    "    res = forest_minimize(tune_lgbm, space, random_state=7, n_random_starts=20, n_calls=50, verbose=1)\n",
    "\n",
    "except Exception as error:\n",
    "    logger.warning('Aconteceu algum problema...')\n",
    "    logger.critical(error)\n",
    "\n",
    "else:\n",
    "    logger.info('Ok')\n",
    "    \n",
    "finally:\n",
    "    logger.info('Treino finalizado')"
   ]
  },
  {
   "cell_type": "code",
   "execution_count": 24,
   "metadata": {
    "tags": []
   },
   "outputs": [
    {
     "ename": "SyntaxError",
     "evalue": "invalid syntax (1459325066.py, line 1)",
     "output_type": "error",
     "traceback": [
      "\u001b[0;36m  File \u001b[0;32m\"/tmp/ipykernel_227/1459325066.py\"\u001b[0;36m, line \u001b[0;32m1\u001b[0m\n\u001b[0;31m    res.\u001b[0m\n\u001b[0m        ^\u001b[0m\n\u001b[0;31mSyntaxError\u001b[0m\u001b[0;31m:\u001b[0m invalid syntax\n"
     ]
    }
   ],
   "source": [
    "res."
   ]
  },
  {
   "cell_type": "markdown",
   "metadata": {},
   "source": [
    " 2 voluntarias\n",
    " \n",
    " accuracy                           0.79      1536"
   ]
  },
  {
   "cell_type": "code",
   "execution_count": null,
   "metadata": {},
   "outputs": [],
   "source": [
    "res.x"
   ]
  },
  {
   "cell_type": "code",
   "execution_count": null,
   "metadata": {},
   "outputs": [],
   "source": []
  }
 ],
 "metadata": {
  "kernelspec": {
   "display_name": "Python 3 (ipykernel)",
   "language": "python",
   "name": "python3"
  },
  "language_info": {
   "codemirror_mode": {
    "name": "ipython",
    "version": 3
   },
   "file_extension": ".py",
   "mimetype": "text/x-python",
   "name": "python",
   "nbconvert_exporter": "python",
   "pygments_lexer": "ipython3",
   "version": "3.8.10"
  }
 },
 "nbformat": 4,
 "nbformat_minor": 4
}
