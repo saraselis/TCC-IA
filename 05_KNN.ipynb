{
 "cells": [
  {
   "cell_type": "markdown",
   "metadata": {},
   "source": [
    "# <b style='color:yellow;'> KNN </b>\n",
    "* Este Jupyter tem como função treinar um `KNN` com os melhores parametros determinados por um `RandomSearch`.\n",
    "\n",
    "-> Treino com o dataset completo, dados femininos e masculinos e sem as semanas como features."
   ]
  },
  {
   "cell_type": "markdown",
   "metadata": {},
   "source": [
    "---"
   ]
  },
  {
   "cell_type": "markdown",
   "metadata": {},
   "source": [
    "Bibliotecas/Módulos"
   ]
  },
  {
   "cell_type": "code",
   "execution_count": 33,
   "metadata": {},
   "outputs": [],
   "source": [
    "import logging\n",
    "import matplotlib.pyplot as plt\n",
    "import numpy as np\n",
    "import pandas as pd\n",
    "import pickle as pkl\n",
    "import seaborn as sns\n",
    "import sys\n",
    "\n",
    "from sklearn.decomposition import PCA\n",
    "from sklearn.metrics import roc_auc_score, accuracy_score, matthews_corrcoef, classification_report, confusion_matrix, f1_score\n",
    "from sklearn.model_selection import RandomizedSearchCV, train_test_split\n",
    "from sklearn.neighbors import KNeighborsClassifier\n",
    "from sklearn.preprocessing import StandardScaler"
   ]
  },
  {
   "cell_type": "markdown",
   "metadata": {},
   "source": [
    "Configurações dos logs"
   ]
  },
  {
   "cell_type": "code",
   "execution_count": 2,
   "metadata": {},
   "outputs": [],
   "source": [
    "logger = logging.getLogger(\"KNN\")\n",
    "logger.setLevel(logging.DEBUG)\n",
    "handler = logging.StreamHandler(sys.stderr)\n",
    "formatter = logging.Formatter('%(name)s - %(levelname)s - [+] ------- %(message)s -------') \n",
    "handler.setFormatter(formatter)\n",
    "logger.handlers = [handler]"
   ]
  },
  {
   "cell_type": "markdown",
   "metadata": {},
   "source": [
    "Cores"
   ]
  },
  {
   "cell_type": "code",
   "execution_count": 3,
   "metadata": {},
   "outputs": [],
   "source": [
    "RED = \"\\033[1;31m\"\n",
    "BLUE = \"\\033[1;34m\"\n",
    "GREEN = \"\\033[1;32m\"\n",
    "PINK = \"\\033[1;45m\"\n",
    "HEADER = '\\033[95m'\n",
    "OKBLUE = '\\033[94m'\n",
    "OKCYAN = '\\033[96m'\n",
    "OKGREEN = '\\033[92m'\n",
    "WARNING = '\\033[93m'\n",
    "FAIL = '\\033[91m'\n",
    "ENDC = '\\033[0m'\n",
    "BOLD = '\\033[1m'\n",
    "UNDERLINE = '\\033[4m'\n",
    "MAG = \"\\033[1;45m\""
   ]
  },
  {
   "cell_type": "markdown",
   "metadata": {},
   "source": [
    "----"
   ]
  },
  {
   "cell_type": "markdown",
   "metadata": {
    "tags": []
   },
   "source": [
    "## Preparando os dados"
   ]
  },
  {
   "cell_type": "code",
   "execution_count": 4,
   "metadata": {},
   "outputs": [],
   "source": [
    "df = pd.read_csv(\"dados_FEM_MAS_10_voluntarios_s_semanas_15_sinais_noout.csv\")"
   ]
  },
  {
   "cell_type": "code",
   "execution_count": 5,
   "metadata": {},
   "outputs": [
    {
     "data": {
      "text/html": [
       "<div>\n",
       "<style scoped>\n",
       "    .dataframe tbody tr th:only-of-type {\n",
       "        vertical-align: middle;\n",
       "    }\n",
       "\n",
       "    .dataframe tbody tr th {\n",
       "        vertical-align: top;\n",
       "    }\n",
       "\n",
       "    .dataframe thead th {\n",
       "        text-align: right;\n",
       "    }\n",
       "</style>\n",
       "<table border=\"1\" class=\"dataframe\">\n",
       "  <thead>\n",
       "    <tr style=\"text-align: right;\">\n",
       "      <th></th>\n",
       "      <th>0</th>\n",
       "      <th>1</th>\n",
       "      <th>2</th>\n",
       "      <th>3</th>\n",
       "      <th>4</th>\n",
       "      <th>5</th>\n",
       "      <th>6</th>\n",
       "      <th>7</th>\n",
       "      <th>8</th>\n",
       "      <th>9</th>\n",
       "      <th>...</th>\n",
       "      <th>1991</th>\n",
       "      <th>1992</th>\n",
       "      <th>1993</th>\n",
       "      <th>1994</th>\n",
       "      <th>1995</th>\n",
       "      <th>1996</th>\n",
       "      <th>1997</th>\n",
       "      <th>1998</th>\n",
       "      <th>1999</th>\n",
       "      <th>label</th>\n",
       "    </tr>\n",
       "  </thead>\n",
       "  <tbody>\n",
       "    <tr>\n",
       "      <th>7412</th>\n",
       "      <td>-33</td>\n",
       "      <td>-5</td>\n",
       "      <td>-16</td>\n",
       "      <td>72</td>\n",
       "      <td>-36</td>\n",
       "      <td>-13</td>\n",
       "      <td>-25</td>\n",
       "      <td>-3</td>\n",
       "      <td>-1</td>\n",
       "      <td>-15</td>\n",
       "      <td>...</td>\n",
       "      <td>26</td>\n",
       "      <td>-104</td>\n",
       "      <td>6</td>\n",
       "      <td>-7</td>\n",
       "      <td>-22</td>\n",
       "      <td>26</td>\n",
       "      <td>0</td>\n",
       "      <td>69</td>\n",
       "      <td>-31</td>\n",
       "      <td>0</td>\n",
       "    </tr>\n",
       "  </tbody>\n",
       "</table>\n",
       "<p>1 rows × 2001 columns</p>\n",
       "</div>"
      ],
      "text/plain": [
       "       0  1   2   3   4   5   6  7  8   9  ...  1991  1992  1993  1994  1995  \\\n",
       "7412 -33 -5 -16  72 -36 -13 -25 -3 -1 -15  ...    26  -104     6    -7   -22   \n",
       "\n",
       "      1996  1997  1998  1999  label  \n",
       "7412    26     0    69   -31      0  \n",
       "\n",
       "[1 rows x 2001 columns]"
      ]
     },
     "execution_count": 5,
     "metadata": {},
     "output_type": "execute_result"
    }
   ],
   "source": [
    "df.sample()"
   ]
  },
  {
   "cell_type": "markdown",
   "metadata": {},
   "source": [
    "Removendo possíveis linhas vazias"
   ]
  },
  {
   "cell_type": "code",
   "execution_count": 6,
   "metadata": {},
   "outputs": [],
   "source": [
    "df = df.dropna()"
   ]
  },
  {
   "cell_type": "markdown",
   "metadata": {},
   "source": [
    "Verificando tamanho do dataset"
   ]
  },
  {
   "cell_type": "code",
   "execution_count": 7,
   "metadata": {},
   "outputs": [
    {
     "data": {
      "text/plain": [
       "25200"
      ]
     },
     "execution_count": 7,
     "metadata": {},
     "output_type": "execute_result"
    }
   ],
   "source": [
    "len(df)"
   ]
  },
  {
   "cell_type": "markdown",
   "metadata": {},
   "source": [
    "Verificando a quantidade de colunas originais"
   ]
  },
  {
   "cell_type": "code",
   "execution_count": 8,
   "metadata": {},
   "outputs": [
    {
     "data": {
      "text/plain": [
       "2001"
      ]
     },
     "execution_count": 8,
     "metadata": {},
     "output_type": "execute_result"
    }
   ],
   "source": [
    "len(df.columns)"
   ]
  },
  {
   "cell_type": "markdown",
   "metadata": {},
   "source": [
    "* Seleção da variável target e das features"
   ]
  },
  {
   "cell_type": "code",
   "execution_count": 9,
   "metadata": {},
   "outputs": [],
   "source": [
    "y = df[\"label\"]"
   ]
  },
  {
   "cell_type": "code",
   "execution_count": 10,
   "metadata": {},
   "outputs": [],
   "source": [
    "df = df.drop([\"label\"], axis=1)"
   ]
  },
  {
   "cell_type": "markdown",
   "metadata": {},
   "source": [
    "#### PCA\n",
    "\n",
    "Aplicando o PCA para reduzir a dimensão dos dados."
   ]
  },
  {
   "cell_type": "code",
   "execution_count": 12,
   "metadata": {},
   "outputs": [],
   "source": [
    "pca = PCA(n_components=1000)"
   ]
  },
  {
   "cell_type": "code",
   "execution_count": 13,
   "metadata": {},
   "outputs": [
    {
     "data": {
      "text/html": [
       "<style>#sk-container-id-1 {color: black;background-color: white;}#sk-container-id-1 pre{padding: 0;}#sk-container-id-1 div.sk-toggleable {background-color: white;}#sk-container-id-1 label.sk-toggleable__label {cursor: pointer;display: block;width: 100%;margin-bottom: 0;padding: 0.3em;box-sizing: border-box;text-align: center;}#sk-container-id-1 label.sk-toggleable__label-arrow:before {content: \"▸\";float: left;margin-right: 0.25em;color: #696969;}#sk-container-id-1 label.sk-toggleable__label-arrow:hover:before {color: black;}#sk-container-id-1 div.sk-estimator:hover label.sk-toggleable__label-arrow:before {color: black;}#sk-container-id-1 div.sk-toggleable__content {max-height: 0;max-width: 0;overflow: hidden;text-align: left;background-color: #f0f8ff;}#sk-container-id-1 div.sk-toggleable__content pre {margin: 0.2em;color: black;border-radius: 0.25em;background-color: #f0f8ff;}#sk-container-id-1 input.sk-toggleable__control:checked~div.sk-toggleable__content {max-height: 200px;max-width: 100%;overflow: auto;}#sk-container-id-1 input.sk-toggleable__control:checked~label.sk-toggleable__label-arrow:before {content: \"▾\";}#sk-container-id-1 div.sk-estimator input.sk-toggleable__control:checked~label.sk-toggleable__label {background-color: #d4ebff;}#sk-container-id-1 div.sk-label input.sk-toggleable__control:checked~label.sk-toggleable__label {background-color: #d4ebff;}#sk-container-id-1 input.sk-hidden--visually {border: 0;clip: rect(1px 1px 1px 1px);clip: rect(1px, 1px, 1px, 1px);height: 1px;margin: -1px;overflow: hidden;padding: 0;position: absolute;width: 1px;}#sk-container-id-1 div.sk-estimator {font-family: monospace;background-color: #f0f8ff;border: 1px dotted black;border-radius: 0.25em;box-sizing: border-box;margin-bottom: 0.5em;}#sk-container-id-1 div.sk-estimator:hover {background-color: #d4ebff;}#sk-container-id-1 div.sk-parallel-item::after {content: \"\";width: 100%;border-bottom: 1px solid gray;flex-grow: 1;}#sk-container-id-1 div.sk-label:hover label.sk-toggleable__label {background-color: #d4ebff;}#sk-container-id-1 div.sk-serial::before {content: \"\";position: absolute;border-left: 1px solid gray;box-sizing: border-box;top: 0;bottom: 0;left: 50%;z-index: 0;}#sk-container-id-1 div.sk-serial {display: flex;flex-direction: column;align-items: center;background-color: white;padding-right: 0.2em;padding-left: 0.2em;position: relative;}#sk-container-id-1 div.sk-item {position: relative;z-index: 1;}#sk-container-id-1 div.sk-parallel {display: flex;align-items: stretch;justify-content: center;background-color: white;position: relative;}#sk-container-id-1 div.sk-item::before, #sk-container-id-1 div.sk-parallel-item::before {content: \"\";position: absolute;border-left: 1px solid gray;box-sizing: border-box;top: 0;bottom: 0;left: 50%;z-index: -1;}#sk-container-id-1 div.sk-parallel-item {display: flex;flex-direction: column;z-index: 1;position: relative;background-color: white;}#sk-container-id-1 div.sk-parallel-item:first-child::after {align-self: flex-end;width: 50%;}#sk-container-id-1 div.sk-parallel-item:last-child::after {align-self: flex-start;width: 50%;}#sk-container-id-1 div.sk-parallel-item:only-child::after {width: 0;}#sk-container-id-1 div.sk-dashed-wrapped {border: 1px dashed gray;margin: 0 0.4em 0.5em 0.4em;box-sizing: border-box;padding-bottom: 0.4em;background-color: white;}#sk-container-id-1 div.sk-label label {font-family: monospace;font-weight: bold;display: inline-block;line-height: 1.2em;}#sk-container-id-1 div.sk-label-container {text-align: center;}#sk-container-id-1 div.sk-container {/* jupyter's `normalize.less` sets `[hidden] { display: none; }` but bootstrap.min.css set `[hidden] { display: none !important; }` so we also need the `!important` here to be able to override the default hidden behavior on the sphinx rendered scikit-learn.org. See: https://github.com/scikit-learn/scikit-learn/issues/21755 */display: inline-block !important;position: relative;}#sk-container-id-1 div.sk-text-repr-fallback {display: none;}</style><div id=\"sk-container-id-1\" class=\"sk-top-container\"><div class=\"sk-text-repr-fallback\"><pre>PCA(n_components=1000)</pre><b>In a Jupyter environment, please rerun this cell to show the HTML representation or trust the notebook. <br />On GitHub, the HTML representation is unable to render, please try loading this page with nbviewer.org.</b></div><div class=\"sk-container\" hidden><div class=\"sk-item\"><div class=\"sk-estimator sk-toggleable\"><input class=\"sk-toggleable__control sk-hidden--visually\" id=\"sk-estimator-id-1\" type=\"checkbox\" checked><label for=\"sk-estimator-id-1\" class=\"sk-toggleable__label sk-toggleable__label-arrow\">PCA</label><div class=\"sk-toggleable__content\"><pre>PCA(n_components=1000)</pre></div></div></div></div></div>"
      ],
      "text/plain": [
       "PCA(n_components=1000)"
      ]
     },
     "execution_count": 13,
     "metadata": {},
     "output_type": "execute_result"
    }
   ],
   "source": [
    "pca.fit(df)"
   ]
  },
  {
   "cell_type": "code",
   "execution_count": 14,
   "metadata": {},
   "outputs": [
    {
     "name": "stdout",
     "output_type": "stream",
     "text": [
      "CPU times: user 27.4 s, sys: 8.89 s, total: 36.3 s\n",
      "Wall time: 2.84 s\n"
     ]
    }
   ],
   "source": [
    "%%time\n",
    "\n",
    "pca_samples = pca.transform(df)"
   ]
  },
  {
   "cell_type": "code",
   "execution_count": 15,
   "metadata": {},
   "outputs": [
    {
     "data": {
      "text/html": [
       "<div>\n",
       "<style scoped>\n",
       "    .dataframe tbody tr th:only-of-type {\n",
       "        vertical-align: middle;\n",
       "    }\n",
       "\n",
       "    .dataframe tbody tr th {\n",
       "        vertical-align: top;\n",
       "    }\n",
       "\n",
       "    .dataframe thead th {\n",
       "        text-align: right;\n",
       "    }\n",
       "</style>\n",
       "<table border=\"1\" class=\"dataframe\">\n",
       "  <thead>\n",
       "    <tr style=\"text-align: right;\">\n",
       "      <th></th>\n",
       "      <th>0</th>\n",
       "      <th>1</th>\n",
       "      <th>2</th>\n",
       "      <th>3</th>\n",
       "      <th>4</th>\n",
       "      <th>5</th>\n",
       "      <th>6</th>\n",
       "      <th>7</th>\n",
       "      <th>8</th>\n",
       "      <th>9</th>\n",
       "      <th>...</th>\n",
       "      <th>990</th>\n",
       "      <th>991</th>\n",
       "      <th>992</th>\n",
       "      <th>993</th>\n",
       "      <th>994</th>\n",
       "      <th>995</th>\n",
       "      <th>996</th>\n",
       "      <th>997</th>\n",
       "      <th>998</th>\n",
       "      <th>999</th>\n",
       "    </tr>\n",
       "  </thead>\n",
       "  <tbody>\n",
       "    <tr>\n",
       "      <th>0</th>\n",
       "      <td>-35.068197</td>\n",
       "      <td>23.928768</td>\n",
       "      <td>1.186254</td>\n",
       "      <td>-151.129527</td>\n",
       "      <td>-42.556784</td>\n",
       "      <td>-148.023683</td>\n",
       "      <td>-53.831397</td>\n",
       "      <td>-28.461750</td>\n",
       "      <td>-41.857889</td>\n",
       "      <td>-104.510884</td>\n",
       "      <td>...</td>\n",
       "      <td>10.841163</td>\n",
       "      <td>14.769703</td>\n",
       "      <td>-54.473924</td>\n",
       "      <td>12.608171</td>\n",
       "      <td>22.659720</td>\n",
       "      <td>8.194705</td>\n",
       "      <td>-17.463126</td>\n",
       "      <td>46.477228</td>\n",
       "      <td>-38.694884</td>\n",
       "      <td>33.650136</td>\n",
       "    </tr>\n",
       "    <tr>\n",
       "      <th>1</th>\n",
       "      <td>-69.680457</td>\n",
       "      <td>36.845880</td>\n",
       "      <td>47.351802</td>\n",
       "      <td>-121.842658</td>\n",
       "      <td>-24.717552</td>\n",
       "      <td>-113.801059</td>\n",
       "      <td>-37.514149</td>\n",
       "      <td>-47.755131</td>\n",
       "      <td>-13.947044</td>\n",
       "      <td>-92.122796</td>\n",
       "      <td>...</td>\n",
       "      <td>8.589353</td>\n",
       "      <td>21.146134</td>\n",
       "      <td>-35.091094</td>\n",
       "      <td>8.505347</td>\n",
       "      <td>16.840718</td>\n",
       "      <td>-3.049575</td>\n",
       "      <td>-18.610821</td>\n",
       "      <td>17.933923</td>\n",
       "      <td>-16.171076</td>\n",
       "      <td>28.429343</td>\n",
       "    </tr>\n",
       "    <tr>\n",
       "      <th>2</th>\n",
       "      <td>-94.676600</td>\n",
       "      <td>38.038653</td>\n",
       "      <td>98.432548</td>\n",
       "      <td>-103.621516</td>\n",
       "      <td>-10.274245</td>\n",
       "      <td>-71.540178</td>\n",
       "      <td>-15.104704</td>\n",
       "      <td>-53.717266</td>\n",
       "      <td>24.066586</td>\n",
       "      <td>-97.600882</td>\n",
       "      <td>...</td>\n",
       "      <td>-19.134319</td>\n",
       "      <td>25.173619</td>\n",
       "      <td>-11.394027</td>\n",
       "      <td>17.001149</td>\n",
       "      <td>9.511772</td>\n",
       "      <td>3.467416</td>\n",
       "      <td>-14.527937</td>\n",
       "      <td>-14.584047</td>\n",
       "      <td>-5.583062</td>\n",
       "      <td>24.276519</td>\n",
       "    </tr>\n",
       "    <tr>\n",
       "      <th>3</th>\n",
       "      <td>-115.288910</td>\n",
       "      <td>36.334428</td>\n",
       "      <td>137.247898</td>\n",
       "      <td>-70.874058</td>\n",
       "      <td>-8.118221</td>\n",
       "      <td>-44.962368</td>\n",
       "      <td>-3.156064</td>\n",
       "      <td>-64.584880</td>\n",
       "      <td>46.295866</td>\n",
       "      <td>-89.627326</td>\n",
       "      <td>...</td>\n",
       "      <td>-32.469412</td>\n",
       "      <td>20.229873</td>\n",
       "      <td>15.384029</td>\n",
       "      <td>8.869566</td>\n",
       "      <td>19.258564</td>\n",
       "      <td>4.847967</td>\n",
       "      <td>-14.529834</td>\n",
       "      <td>-52.958011</td>\n",
       "      <td>8.730440</td>\n",
       "      <td>6.163119</td>\n",
       "    </tr>\n",
       "    <tr>\n",
       "      <th>4</th>\n",
       "      <td>-111.539509</td>\n",
       "      <td>45.575378</td>\n",
       "      <td>158.235942</td>\n",
       "      <td>-48.798876</td>\n",
       "      <td>-3.696119</td>\n",
       "      <td>-8.481742</td>\n",
       "      <td>11.270159</td>\n",
       "      <td>-71.759108</td>\n",
       "      <td>48.659401</td>\n",
       "      <td>-69.601917</td>\n",
       "      <td>...</td>\n",
       "      <td>-41.825481</td>\n",
       "      <td>35.835485</td>\n",
       "      <td>33.876126</td>\n",
       "      <td>7.890112</td>\n",
       "      <td>29.075359</td>\n",
       "      <td>-4.963837</td>\n",
       "      <td>-14.050961</td>\n",
       "      <td>-82.206263</td>\n",
       "      <td>19.021185</td>\n",
       "      <td>-18.013880</td>\n",
       "    </tr>\n",
       "  </tbody>\n",
       "</table>\n",
       "<p>5 rows × 1000 columns</p>\n",
       "</div>"
      ],
      "text/plain": [
       "          0          1           2           3          4           5    \\\n",
       "0  -35.068197  23.928768    1.186254 -151.129527 -42.556784 -148.023683   \n",
       "1  -69.680457  36.845880   47.351802 -121.842658 -24.717552 -113.801059   \n",
       "2  -94.676600  38.038653   98.432548 -103.621516 -10.274245  -71.540178   \n",
       "3 -115.288910  36.334428  137.247898  -70.874058  -8.118221  -44.962368   \n",
       "4 -111.539509  45.575378  158.235942  -48.798876  -3.696119   -8.481742   \n",
       "\n",
       "         6          7          8           9    ...        990        991  \\\n",
       "0 -53.831397 -28.461750 -41.857889 -104.510884  ...  10.841163  14.769703   \n",
       "1 -37.514149 -47.755131 -13.947044  -92.122796  ...   8.589353  21.146134   \n",
       "2 -15.104704 -53.717266  24.066586  -97.600882  ... -19.134319  25.173619   \n",
       "3  -3.156064 -64.584880  46.295866  -89.627326  ... -32.469412  20.229873   \n",
       "4  11.270159 -71.759108  48.659401  -69.601917  ... -41.825481  35.835485   \n",
       "\n",
       "         992        993        994       995        996        997        998  \\\n",
       "0 -54.473924  12.608171  22.659720  8.194705 -17.463126  46.477228 -38.694884   \n",
       "1 -35.091094   8.505347  16.840718 -3.049575 -18.610821  17.933923 -16.171076   \n",
       "2 -11.394027  17.001149   9.511772  3.467416 -14.527937 -14.584047  -5.583062   \n",
       "3  15.384029   8.869566  19.258564  4.847967 -14.529834 -52.958011   8.730440   \n",
       "4  33.876126   7.890112  29.075359 -4.963837 -14.050961 -82.206263  19.021185   \n",
       "\n",
       "         999  \n",
       "0  33.650136  \n",
       "1  28.429343  \n",
       "2  24.276519  \n",
       "3   6.163119  \n",
       "4 -18.013880  \n",
       "\n",
       "[5 rows x 1000 columns]"
      ]
     },
     "execution_count": 15,
     "metadata": {},
     "output_type": "execute_result"
    }
   ],
   "source": [
    "ps = pd.DataFrame(pca_samples)\n",
    "ps.head()"
   ]
  },
  {
   "cell_type": "code",
   "execution_count": 16,
   "metadata": {},
   "outputs": [
    {
     "data": {
      "text/plain": [
       "25200"
      ]
     },
     "execution_count": 16,
     "metadata": {},
     "output_type": "execute_result"
    }
   ],
   "source": [
    "len(ps)"
   ]
  },
  {
   "cell_type": "code",
   "execution_count": 17,
   "metadata": {},
   "outputs": [
    {
     "data": {
      "text/plain": [
       "1000"
      ]
     },
     "execution_count": 17,
     "metadata": {},
     "output_type": "execute_result"
    }
   ],
   "source": [
    "len(ps.columns)"
   ]
  },
  {
   "cell_type": "code",
   "execution_count": 18,
   "metadata": {},
   "outputs": [],
   "source": [
    "X = ps"
   ]
  },
  {
   "cell_type": "markdown",
   "metadata": {},
   "source": [
    "Separando os dados em dados de treino e teste"
   ]
  },
  {
   "cell_type": "code",
   "execution_count": 19,
   "metadata": {},
   "outputs": [],
   "source": [
    "x_treino, x_teste, y_treino, y_teste = train_test_split(X, y, test_size=0.2, random_state=7)"
   ]
  },
  {
   "cell_type": "markdown",
   "metadata": {},
   "source": [
    "#### Scaler\n",
    "\n",
    "Aplicando Scaler para diminuir a diferença entre a maginitude dos dados, pois isso pode afetar muito o KNN"
   ]
  },
  {
   "cell_type": "code",
   "execution_count": null,
   "metadata": {},
   "outputs": [],
   "source": [
    "scaler = StandardScaler()  \n",
    "scaler.fit(x_treino)\n",
    "\n",
    "x_treino = scaler.transform(x_treino)  \n",
    "x_teste = scaler.transform(x_teste)"
   ]
  },
  {
   "cell_type": "markdown",
   "metadata": {},
   "source": [
    "---"
   ]
  },
  {
   "cell_type": "markdown",
   "metadata": {},
   "source": [
    "## Treinamento"
   ]
  },
  {
   "cell_type": "markdown",
   "metadata": {},
   "source": [
    "### RandomSeach"
   ]
  },
  {
   "cell_type": "markdown",
   "metadata": {},
   "source": [
    "Parâmetros do modelo escolhidos para otimização"
   ]
  },
  {
   "cell_type": "code",
   "execution_count": 46,
   "metadata": {},
   "outputs": [],
   "source": [
    "values = {'n_neighbors':[2], 'algorithm': [\"auto\", \"ball_tree\", \"kd_tree\", \"brute\"]}"
   ]
  },
  {
   "cell_type": "code",
   "execution_count": 47,
   "metadata": {},
   "outputs": [],
   "source": [
    "clf = KNeighborsClassifier()"
   ]
  },
  {
   "cell_type": "code",
   "execution_count": 48,
   "metadata": {},
   "outputs": [],
   "source": [
    "def best_params(values: dict, clf: 'classificador', x_treino: np.array, x_teste: np.array, y_treino: np.array, y_teste: np.array) -> list:\n",
    "    '''\n",
    "        Instancia um classificador de busca e procura os melhores parâmetros para o modelo.\n",
    "        \n",
    "        Params\n",
    "        ------\n",
    "        :values: parametros a serem testados\n",
    "        :clf: instancia do classificador desejado\n",
    "        :x_treino: dados de treino\n",
    "        :x_teste: dados de teste\n",
    "        :y_treino: dados de treino -labels\n",
    "        :y_teste: dados de treino - labels\n",
    "        \n",
    "        Return\n",
    "        ------\n",
    "        :best_params: lista com os melhores parametros\n",
    "    '''\n",
    "    \n",
    "    logger.info('Instanciando KNN')\n",
    "    random_clf = RandomizedSearchCV(clf, param_distributions=values, n_iter=200)\n",
    "    \n",
    "    logger.info('Treinando KNN')\n",
    "    random_clf.fit(x_treino, y_treino)\n",
    "    \n",
    "    \n",
    "    logger.info('Parametros KNN')\n",
    "    print(RED, random_clf.get_params())\n",
    "    \n",
    "    logger.info('Best Params KNN')\n",
    "    best_params = random_clf.best_params_\n",
    "    print(BLUE, best_params)\n",
    "    \n",
    "    return best_params"
   ]
  },
  {
   "cell_type": "code",
   "execution_count": 49,
   "metadata": {},
   "outputs": [
    {
     "name": "stderr",
     "output_type": "stream",
     "text": [
      "SVM - INFO - [+] ------- Instanciando KNN -------\n",
      "INFO:SVM:Instanciando KNN\n",
      "SVM - INFO - [+] ------- Treinando KNN -------\n",
      "INFO:SVM:Treinando KNN\n",
      "/home/saraselis/.local/lib/python3.8/site-packages/sklearn/model_selection/_search.py:306: UserWarning: The total space of parameters 4 is smaller than n_iter=200. Running 4 iterations. For exhaustive searches, use GridSearchCV.\n",
      "  warnings.warn(\n",
      "SVM - INFO - [+] ------- Parametros KNN -------\n",
      "INFO:SVM:Parametros KNN\n",
      "SVM - INFO - [+] ------- Best Params KNN -------\n",
      "INFO:SVM:Best Params KNN\n",
      "SVM - INFO - [+] ------- Ok -------\n",
      "INFO:SVM:Ok\n",
      "SVM - INFO - [+] ------- Busca finalizada -------\n",
      "INFO:SVM:Busca finalizada\n"
     ]
    },
    {
     "name": "stdout",
     "output_type": "stream",
     "text": [
      "\u001b[1;31m {'cv': None, 'error_score': nan, 'estimator__algorithm': 'auto', 'estimator__leaf_size': 30, 'estimator__metric': 'minkowski', 'estimator__metric_params': None, 'estimator__n_jobs': None, 'estimator__n_neighbors': 5, 'estimator__p': 2, 'estimator__weights': 'uniform', 'estimator': KNeighborsClassifier(), 'n_iter': 200, 'n_jobs': None, 'param_distributions': {'n_neighbors': [2], 'algorithm': ['auto', 'ball_tree', 'kd_tree', 'brute']}, 'pre_dispatch': '2*n_jobs', 'random_state': None, 'refit': True, 'return_train_score': False, 'scoring': None, 'verbose': 0}\n",
      "\u001b[1;34m {'n_neighbors': 2, 'algorithm': 'ball_tree'}\n",
      "CPU times: user 12min 45s, sys: 1.48 s, total: 12min 46s\n",
      "Wall time: 10min 35s\n"
     ]
    }
   ],
   "source": [
    "%%time\n",
    "\n",
    "try:\n",
    "    best = best_params(values, clf, x_treino, x_teste, y_treino, y_teste)\n",
    "\n",
    "except Exception as error:\n",
    "    logger.warning('Aconteceu algum problema...')\n",
    "    logger.critical(error)\n",
    "\n",
    "else:\n",
    "    logger.info('Ok')\n",
    "    \n",
    "finally:\n",
    "    logger.info('Busca finalizada')"
   ]
  },
  {
   "cell_type": "markdown",
   "metadata": {},
   "source": [
    "Melhores parâmetros:"
   ]
  },
  {
   "cell_type": "markdown",
   "metadata": {},
   "source": [
    " {'n_neighbors': 2, 'algorithm': 'ball_tree'}"
   ]
  },
  {
   "cell_type": "markdown",
   "metadata": {},
   "source": [
    "----"
   ]
  },
  {
   "cell_type": "markdown",
   "metadata": {},
   "source": [
    "### Método do cotovelo\n",
    "\n",
    "Além de escolher os melhores parâmetros no KNN é necessário também escolher o melhor valor para a quantidade de k-vizinhos.\n",
    "Para isso será utilizado o método do cotovelo."
   ]
  },
  {
   "cell_type": "code",
   "execution_count": 29,
   "metadata": {},
   "outputs": [
    {
     "name": "stdout",
     "output_type": "stream",
     "text": [
      "CPU times: user 47min 7s, sys: 34.6 s, total: 47min 41s\n",
      "Wall time: 47min 41s\n"
     ]
    }
   ],
   "source": [
    "%%time\n",
    "\n",
    "error = []\n",
    "\n",
    "for i in range(1, 20):  \n",
    "    knn = KNeighborsClassifier(n_neighbors=i, algorithm= \"ball_tree\")\n",
    "    \n",
    "    knn.fit(x_treino, y_treino)\n",
    "    pred_i = knn.predict(x_teste)\n",
    "    error.append(np.mean(pred_i != y_teste))"
   ]
  },
  {
   "cell_type": "code",
   "execution_count": 30,
   "metadata": {},
   "outputs": [
    {
     "data": {
      "text/plain": [
       "Text(0, 0.5, 'Mean Error')"
      ]
     },
     "execution_count": 30,
     "metadata": {},
     "output_type": "execute_result"
    },
    {
     "data": {
      "image/png": "[encoded data removed]",
      "text/plain": [
       "<Figure size 864x432 with 1 Axes>"
      ]
     },
     "metadata": {
      "needs_background": "light"
     },
     "output_type": "display_data"
    }
   ],
   "source": [
    "plt.figure(figsize=(12, 6))  \n",
    "plt.plot(range(1, 20), error, color='red', linestyle='dashed', marker='o',  \n",
    "         markerfacecolor='blue', markersize=10)\n",
    "plt.title('Error Rate K Value')  \n",
    "plt.xlabel('K Value')  \n",
    "plt.ylabel('Mean Error')  "
   ]
  },
  {
   "cell_type": "markdown",
   "metadata": {},
   "source": [
    "Como podemos observar, aumentar a quantidade de vizinhos, aumenta também o erro da predição."
   ]
  },
  {
   "cell_type": "markdown",
   "metadata": {},
   "source": [
    "----"
   ]
  },
  {
   "cell_type": "markdown",
   "metadata": {},
   "source": [
    "### KNN"
   ]
  },
  {
   "cell_type": "code",
   "execution_count": 31,
   "metadata": {},
   "outputs": [],
   "source": [
    "def classificador(x_treino: np.array, y_treino: np.array, x_teste: np.array, y_teste: np.array) -> list:\n",
    "    '''\n",
    "        Treina um classificador com os melhores parametros possíveis.\n",
    "        \n",
    "        Params\n",
    "        ------\n",
    "        :x_treino: dados de treino\n",
    "        :x_teste: dados de teste\n",
    "        :y_treino: dados de treino -labels\n",
    "        :y_teste: dados de treino - labels\n",
    "    \n",
    "        Return\n",
    "        ------\n",
    "        :KNN: Modelo Random Forest treinado\n",
    "        :resultados: métricas\n",
    "    '''\n",
    "    \n",
    "    logger.info('Instanciando KNN')\n",
    "      \n",
    "    KNN = KNeighborsClassifier(n_neighbors=1, algorithm= \"ball_tree\")\n",
    "    \n",
    "    logger.info('Treinando KNN')\n",
    "    KNN.fit(x_treino, y_treino)\n",
    "    \n",
    "    logger.info('Predict')\n",
    "    p = KNN.predict_proba(x_teste)[:, 1]\n",
    "    categorias = KNN.predict(x_teste)\n",
    "    \n",
    "    logger.info('Métricas: \\n \\n')\n",
    "    \n",
    "    logger.info('Roc')\n",
    "    roc = roc_auc_score(y_teste, p)\n",
    "    print(OKBLUE, \"Roc \\n\" + str(roc) + \"\\n\")\n",
    "    \n",
    "    logger.info(\"F1\")\n",
    "    f1 = f1_score(y_teste, categorias, average=\"weighted\")\n",
    "    print(GREEN, \"F1 \\n\" + str(f1) + \"\\n\")\n",
    "    \n",
    "    logger.info('Acurácia')\n",
    "    acc = accuracy_score(y_teste, categorias)\n",
    "    print(OKCYAN, \"Acc \\n\" + str(acc) + \"\\n\")\n",
    "    \n",
    "    logger.info(\"Mcc\")\n",
    "    mcc = matthews_corrcoef(y_teste, categorias)\n",
    "    print(WARNING, \"Mcc \\n\" + str(mcc) + \"\\n\")\n",
    "    \n",
    "    logger.info('Class Report')\n",
    "    resultados = classification_report(y_teste, categorias)\n",
    "    print(ENDC, \"Class Report \\n\" + resultados + \"\\n\")\n",
    "    \n",
    "    mat = confusion_matrix(y_teste, categorias)\n",
    "    sns.heatmap(mat.T, square=True, annot=True, fmt='d', cbar=False)\n",
    "    plt.xlabel('true label')\n",
    "    plt.ylabel('predicted label');\n",
    "    \n",
    "    return KNN, resultados"
   ]
  },
  {
   "cell_type": "code",
   "execution_count": 32,
   "metadata": {
    "tags": []
   },
   "outputs": [
    {
     "name": "stderr",
     "output_type": "stream",
     "text": [
      "SVM - INFO - [+] ------- Instanciando KNN -------\n",
      "SVM - INFO - [+] ------- Treinando KNN -------\n",
      "SVM - INFO - [+] ------- Predict -------\n",
      "SVM - INFO - [+] ------- Roc -------\n",
      "SVM - INFO - [+] ------- F1 -------\n",
      "SVM - INFO - [+] ------- Acurácia -------\n",
      "SVM - INFO - [+] ------- Mcc -------\n",
      "SVM - INFO - [+] ------- Class Report -------\n",
      "SVM - INFO - [+] ------- Ok -------\n",
      "SVM - INFO - [+] ------- Treino finalizado -------\n"
     ]
    },
    {
     "name": "stdout",
     "output_type": "stream",
     "text": [
      "Métricas: \n",
      " \n",
      "\n",
      "\u001b[94m Roc \n",
      "0.7873046027365852\n",
      "\n",
      "\u001b[1;32m F1 \n",
      "0.7872989077783281\n",
      "\n",
      "\u001b[96m Acc \n",
      "0.7873015873015873\n",
      "\n",
      "\u001b[93m Mcc \n",
      "0.5746236834596783\n",
      "\n",
      "\u001b[0m Class Report \n",
      "              precision    recall  f1-score   support\n",
      "\n",
      "           0       0.78      0.79      0.79      2518\n",
      "           1       0.79      0.78      0.79      2522\n",
      "\n",
      "    accuracy                           0.79      5040\n",
      "   macro avg       0.79      0.79      0.79      5040\n",
      "weighted avg       0.79      0.79      0.79      5040\n",
      "\n",
      "\n",
      "CPU times: user 4min 34s, sys: 3.13 s, total: 4min 37s\n",
      "Wall time: 4min 37s\n"
     ]
    },
    {
     "data": {
      "image/png": "[encoded data removed]",
      "text/plain": [
       "<Figure size 432x288 with 1 Axes>"
      ]
     },
     "metadata": {
      "needs_background": "light"
     },
     "output_type": "display_data"
    }
   ],
   "source": [
    "%%time\n",
    "\n",
    "try:\n",
    "    KNN, resultados = classificador(\n",
    "                        x_treino,\n",
    "                        y_treino,\n",
    "                        x_teste,\n",
    "                        y_teste)\n",
    "\n",
    "except Exception as error:\n",
    "    logger.warning('Aconteceu algum problema...')\n",
    "    logger.critical(error)\n",
    "\n",
    "else:\n",
    "    logger.info('Ok')\n",
    "    \n",
    "finally:\n",
    "    logger.info('Treino finalizado')"
   ]
  },
  {
   "cell_type": "markdown",
   "metadata": {},
   "source": [
    "----"
   ]
  },
  {
   "cell_type": "markdown",
   "metadata": {},
   "source": [
    "#### Exportando modelo"
   ]
  },
  {
   "cell_type": "code",
   "execution_count": 35,
   "metadata": {},
   "outputs": [],
   "source": [
    "pkl.dump(KNN, open('modelos/knn_dados_FEM_MAS_10_voluntarios_s_semanas_15_sinais_noout.pkl', 'wb'))"
   ]
  },
  {
   "cell_type": "code",
   "execution_count": null,
   "metadata": {},
   "outputs": [],
   "source": []
  }
 ],
 "metadata": {
  "kernelspec": {
   "display_name": "Python 3 (ipykernel)",
   "language": "python",
   "name": "python3"
  },
  "language_info": {
   "codemirror_mode": {
    "name": "ipython",
    "version": 3
   },
   "file_extension": ".py",
   "mimetype": "text/x-python",
   "name": "python",
   "nbconvert_exporter": "python",
   "pygments_lexer": "ipython3",
   "version": "3.8.10"
  }
 },
 "nbformat": 4,
 "nbformat_minor": 4
}
