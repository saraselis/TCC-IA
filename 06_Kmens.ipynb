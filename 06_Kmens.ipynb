{
 "cells": [
  {
   "cell_type": "markdown",
   "id": "ebac7ddc-db66-4775-a324-dd3f39d4445d",
   "metadata": {},
   "source": [
    "# Kmeans\n",
    "\n",
    "* Este Jupyter tem como função treinar um `Kmeans` e verificar incialmente se é possível classificar a partir de uma abordagem não supervisionada.\n",
    "* Treina com uma busca otimizada de parâmetros"
   ]
  },
  {
   "cell_type": "markdown",
   "id": "3b11ca7a-5fdc-40cc-a59d-583be4a3e169",
   "metadata": {},
   "source": [
    "Importando as bibliotecas"
   ]
  },
  {
   "cell_type": "code",
   "execution_count": 1,
   "id": "325b042e-a98b-4e26-b55d-1895f909f7b9",
   "metadata": {},
   "outputs": [],
   "source": [
    "import logging\n",
    "import numpy as np\n",
    "import pandas as pd\n",
    "import matplotlib.pyplot as plt\n",
    "from sklearn.model_selection import RandomizedSearchCV\n",
    "\n",
    "from sklearn.cluster import KMeans\n",
    "\n",
    "from modules.best_params import best_params"
   ]
  },
  {
   "cell_type": "markdown",
   "id": "2b70a842-707f-4110-9d3a-b032738f13ef",
   "metadata": {},
   "source": [
    "----"
   ]
  },
  {
   "cell_type": "code",
   "execution_count": 2,
   "id": "ef4a2c6b-3b7a-443e-a86b-e384deb74103",
   "metadata": {},
   "outputs": [],
   "source": [
    "logger = logging.getLogger()\n",
    "logger.setLevel(logging.INFO)"
   ]
  },
  {
   "cell_type": "code",
   "execution_count": 3,
   "id": "61cc5c7b-7237-4f8a-9eac-7bd8b2dbc8ca",
   "metadata": {},
   "outputs": [],
   "source": [
    "dados = pd.read_csv('dados.csv')"
   ]
  },
  {
   "cell_type": "code",
   "execution_count": 4,
   "id": "0e2114f6-9af6-4f49-b94b-3678447dcd89",
   "metadata": {},
   "outputs": [
    {
     "data": {
      "text/html": [
       "<div>\n",
       "<style scoped>\n",
       "    .dataframe tbody tr th:only-of-type {\n",
       "        vertical-align: middle;\n",
       "    }\n",
       "\n",
       "    .dataframe tbody tr th {\n",
       "        vertical-align: top;\n",
       "    }\n",
       "\n",
       "    .dataframe thead th {\n",
       "        text-align: right;\n",
       "    }\n",
       "</style>\n",
       "<table border=\"1\" class=\"dataframe\">\n",
       "  <thead>\n",
       "    <tr style=\"text-align: right;\">\n",
       "      <th></th>\n",
       "      <th>0</th>\n",
       "      <th>1</th>\n",
       "      <th>2</th>\n",
       "      <th>3</th>\n",
       "      <th>4</th>\n",
       "      <th>5</th>\n",
       "      <th>6</th>\n",
       "      <th>7</th>\n",
       "      <th>8</th>\n",
       "      <th>9</th>\n",
       "      <th>...</th>\n",
       "      <th>1990</th>\n",
       "      <th>1991</th>\n",
       "      <th>1992</th>\n",
       "      <th>1993</th>\n",
       "      <th>1994</th>\n",
       "      <th>1995</th>\n",
       "      <th>1996</th>\n",
       "      <th>1997</th>\n",
       "      <th>1998</th>\n",
       "      <th>1999</th>\n",
       "    </tr>\n",
       "  </thead>\n",
       "  <tbody>\n",
       "    <tr>\n",
       "      <th>1285</th>\n",
       "      <td>26</td>\n",
       "      <td>20</td>\n",
       "      <td>110</td>\n",
       "      <td>45</td>\n",
       "      <td>6</td>\n",
       "      <td>-45</td>\n",
       "      <td>259</td>\n",
       "      <td>63</td>\n",
       "      <td>-214</td>\n",
       "      <td>-124</td>\n",
       "      <td>...</td>\n",
       "      <td>-59</td>\n",
       "      <td>51</td>\n",
       "      <td>8</td>\n",
       "      <td>-2</td>\n",
       "      <td>51</td>\n",
       "      <td>63</td>\n",
       "      <td>-199</td>\n",
       "      <td>-62</td>\n",
       "      <td>-101</td>\n",
       "      <td>98</td>\n",
       "    </tr>\n",
       "  </tbody>\n",
       "</table>\n",
       "<p>1 rows × 2000 columns</p>\n",
       "</div>"
      ],
      "text/plain": [
       "       0   1    2   3  4   5    6   7    8    9  ...  1990  1991  1992  1993  \\\n",
       "1285  26  20  110  45  6 -45  259  63 -214 -124  ...   -59    51     8    -2   \n",
       "\n",
       "      1994  1995  1996  1997  1998  1999  \n",
       "1285    51    63  -199   -62  -101    98  \n",
       "\n",
       "[1 rows x 2000 columns]"
      ]
     },
     "execution_count": 4,
     "metadata": {},
     "output_type": "execute_result"
    }
   ],
   "source": [
    "dados.sample()"
   ]
  },
  {
   "cell_type": "markdown",
   "id": "7e8e3693-c016-4ad4-bbf2-121698414f08",
   "metadata": {},
   "source": [
    "Transformando os dados para um array do numpy para conseguir gerar os gráficos (N rola em df). "
   ]
  },
  {
   "cell_type": "code",
   "execution_count": 10,
   "id": "5afca692-15cc-4ae3-9222-47cf68a78fdd",
   "metadata": {},
   "outputs": [],
   "source": [
    "np_df = dados.to_numpy()"
   ]
  },
  {
   "cell_type": "markdown",
   "id": "2211411c-2485-4ad9-860b-58d43826c9e1",
   "metadata": {},
   "source": [
    "Iniciando um modelo simples com apenas dois clusters que é o que queremos saber a princípio (se tem ou não tem fadiga muscular)."
   ]
  },
  {
   "cell_type": "code",
   "execution_count": 6,
   "id": "56ac43c1-3725-43ea-bfcb-bc4a390b483a",
   "metadata": {},
   "outputs": [],
   "source": [
    "kmeans = KMeans(init=\"random\",  n_clusters=2,  n_init=10, random_state=7)"
   ]
  },
  {
   "cell_type": "markdown",
   "id": "0df5b74e-6151-403f-88be-bd75a2c3ed15",
   "metadata": {},
   "source": [
    "Treinando o modelo"
   ]
  },
  {
   "cell_type": "code",
   "execution_count": 7,
   "id": "0bafe096-685d-4845-8600-297d82553cc7",
   "metadata": {},
   "outputs": [
    {
     "data": {
      "text/plain": [
       "KMeans(init='random', n_clusters=2, random_state=7)"
      ]
     },
     "execution_count": 7,
     "metadata": {},
     "output_type": "execute_result"
    }
   ],
   "source": [
    "kmeans.fit(dados)"
   ]
  },
  {
   "cell_type": "markdown",
   "id": "e155a154-0864-4379-8252-a2be4926bb26",
   "metadata": {},
   "source": [
    "Obtendo os centroides dos clusters"
   ]
  },
  {
   "cell_type": "code",
   "execution_count": 8,
   "id": "c6d4388e-e082-43cd-b374-e52c107bf9aa",
   "metadata": {},
   "outputs": [
    {
     "data": {
      "text/plain": [
       "array([[  2.82753623,   3.59710145,   6.37753623, ...,   7.30797101,\n",
       "          1.31666667,   4.35724638],\n",
       "       [170.        , 168.95652174, 171.2173913 , ..., 168.75      ,\n",
       "        168.08695652, 169.68478261]])"
      ]
     },
     "execution_count": 8,
     "metadata": {},
     "output_type": "execute_result"
    }
   ],
   "source": [
    "centers = kmeans.cluster_centers_\n",
    "centers"
   ]
  },
  {
   "cell_type": "markdown",
   "id": "af6390f1-95c9-4eb7-845b-ad7a851ef760",
   "metadata": {},
   "source": [
    "O gráfico abaixo mostra onde o modelo posicionou os centroides dos clusters do modelo com 2 clusters."
   ]
  },
  {
   "cell_type": "code",
   "execution_count": 11,
   "id": "e7dfaa23-62d6-4ada-902a-f8bb23e4d2b3",
   "metadata": {},
   "outputs": [
    {
     "data": {
      "image/png": "[encoded data removed]",
      "text/plain": [
       "<Figure size 432x288 with 1 Axes>"
      ]
     },
     "metadata": {
      "needs_background": "light"
     },
     "output_type": "display_data"
    }
   ],
   "source": [
    "plt.scatter(np_df[:, 0], np_df[:, 1],s=50, cmap='viridis')\n",
    "plt.scatter(centers[:, 0], centers[:, 1], c='black', s=200, alpha=0.5);"
   ]
  },
  {
   "cell_type": "markdown",
   "id": "7fb3a0f1-9f9e-4e55-9e26-d17c8cde3820",
   "metadata": {},
   "source": [
    "Descobrindo os melhores parâmetros para o modelo.\n",
    "Vamos usar o Random Search no lugar do Grid Search"
   ]
  },
  {
   "cell_type": "code",
   "execution_count": 47,
   "id": "7ba0447b-dc65-4d1e-808e-9444c60a1426",
   "metadata": {},
   "outputs": [],
   "source": [
    "values = {'init':['k-means++', 'random'], 'algorithm': ['elkan', 'auto', 'full']}"
   ]
  },
  {
   "cell_type": "code",
   "execution_count": 48,
   "id": "8cde558a-60fa-4ffe-873f-4d2f0943bac1",
   "metadata": {},
   "outputs": [],
   "source": [
    "clf = KMeans(n_clusters=2, random_state=7)"
   ]
  },
  {
   "cell_type": "code",
   "execution_count": 49,
   "id": "fed890fe-1817-4f78-b25c-2b06557e5bce",
   "metadata": {},
   "outputs": [
    {
     "name": "stderr",
     "output_type": "stream",
     "text": [
      "/home/saraselis/.local/lib/python3.8/site-packages/sklearn/model_selection/_search.py:292: UserWarning: The total space of parameters 6 is smaller than n_iter=300. Running 6 iterations. For exhaustive searches, use GridSearchCV.\n",
      "  warnings.warn(\n"
     ]
    },
    {
     "name": "stdout",
     "output_type": "stream",
     "text": [
      "Fitting 5 folds for each of 6 candidates, totalling 30 fits\n",
      "\u001b[1;31m {'cv': None, 'error_score': nan, 'estimator__algorithm': 'auto', 'estimator__copy_x': True, 'estimator__init': 'k-means++', 'estimator__max_iter': 300, 'estimator__n_clusters': 2, 'estimator__n_init': 10, 'estimator__random_state': 7, 'estimator__tol': 0.0001, 'estimator__verbose': 0, 'estimator': KMeans(n_clusters=2, random_state=7), 'n_iter': 300, 'n_jobs': None, 'param_distributions': {'init': ['k-means++', 'random'], 'algorithm': ['elkan', 'auto', 'full']}, 'pre_dispatch': '2*n_jobs', 'random_state': None, 'refit': True, 'return_train_score': False, 'scoring': None, 'verbose': 1}\n",
      "\u001b[1;34m {'init': 'random', 'algorithm': 'elkan'}\n",
      "CPU times: user 3min 37s, sys: 2min 20s, total: 5min 57s\n",
      "Wall time: 29.5 s\n"
     ]
    }
   ],
   "source": [
    "%%time\n",
    "\n",
    "try:\n",
    "    best, random_clf = best_params(values, clf, np_df, 300)\n",
    "\n",
    "except Exception as error:\n",
    "    logger.warning('Aconteceu algum problema...')\n",
    "    logger.critical(error)\n",
    "\n",
    "else:\n",
    "    logger.info('Ok')\n",
    "    \n",
    "finally:\n",
    "    logger.info('Busca finalizada')"
   ]
  },
  {
   "cell_type": "code",
   "execution_count": 50,
   "id": "baea8d7d-995f-443e-8e8e-8b8062a3ba4b",
   "metadata": {},
   "outputs": [
    {
     "data": {
      "text/plain": [
       "{'init': 'random', 'algorithm': 'elkan'}"
      ]
     },
     "execution_count": 50,
     "metadata": {},
     "output_type": "execute_result"
    }
   ],
   "source": [
    "best"
   ]
  },
  {
   "cell_type": "markdown",
   "id": "a03320f4-9141-4fb8-9f5b-306d43296755",
   "metadata": {},
   "source": [
    "{'init': 'random', 'algorithm': 'elkan'}"
   ]
  },
  {
   "cell_type": "markdown",
   "id": "eae111cd-0f69-42d6-8417-4eeb062c8dda",
   "metadata": {},
   "source": [
    "Utilizando o método do cotovelo para tentar descobrir qual a melhor quantidade de clusters para o modelo.\n",
    "\n",
    "-> minimizar a inércia"
   ]
  },
  {
   "cell_type": "code",
   "execution_count": 51,
   "id": "e51c9d28-27e3-422c-b941-defcf3d7b750",
   "metadata": {},
   "outputs": [
    {
     "name": "stderr",
     "output_type": "stream",
     "text": [
      "/home/saraselis/.local/lib/python3.8/site-packages/sklearn/cluster/_kmeans.py:965: RuntimeWarning: algorithm='elkan' doesn't make sense for a single cluster. Using 'full' instead.\n",
      "  warnings.warn(\n"
     ]
    }
   ],
   "source": [
    "wcss=[]\n",
    "\n",
    "for i in range(1,11):\n",
    "    kmeans = KMeans(n_clusters= i, init='random', algorithm='elkan', random_state=7)\n",
    "    kmeans.fit(np_df)\n",
    "    wcss.append(kmeans.inertia_)"
   ]
  },
  {
   "cell_type": "code",
   "execution_count": 52,
   "id": "c3b10d98-40a6-4444-9a8b-c424f9a487d5",
   "metadata": {},
   "outputs": [
    {
     "data": {
      "image/png": "[encoded data removed]",
      "text/plain": [
       "<Figure size 432x288 with 1 Axes>"
      ]
     },
     "metadata": {
      "needs_background": "light"
     },
     "output_type": "display_data"
    }
   ],
   "source": [
    "plt.plot(range(1,11), wcss)\n",
    "plt.title('The Elbow Method')\n",
    "plt.xlabel('no of clusters')\n",
    "plt.ylabel('wcss')\n",
    "plt.show()"
   ]
  },
  {
   "cell_type": "code",
   "execution_count": 53,
   "id": "5686ee46-cdf2-45e5-961c-d331353eeb0d",
   "metadata": {},
   "outputs": [
    {
     "data": {
      "text/plain": [
       "24850499665.086216"
      ]
     },
     "execution_count": 53,
     "metadata": {},
     "output_type": "execute_result"
    }
   ],
   "source": [
    "kmeans.inertia_"
   ]
  },
  {
   "cell_type": "markdown",
   "id": "b1df6f0e-61fb-477b-a109-7406a83f3c92",
   "metadata": {},
   "source": [
    "# 😩"
   ]
  },
  {
   "cell_type": "markdown",
   "id": "33efb37e-2c3b-4337-b933-0d12227d10b6",
   "metadata": {},
   "source": [
    "Teste com 5 clusters"
   ]
  },
  {
   "cell_type": "code",
   "execution_count": 54,
   "id": "1d97baac-0b03-4006-b070-c924c4b069b3",
   "metadata": {},
   "outputs": [],
   "source": [
    "kmeans = KMeans(init=\"random\",  n_clusters=5, algorithm='elkan', random_state=7)"
   ]
  },
  {
   "cell_type": "code",
   "execution_count": 55,
   "id": "d4c959cd-aa7a-4914-91bd-d833b3d81fc2",
   "metadata": {},
   "outputs": [],
   "source": [
    "y_kmeans = kmeans.fit_predict(dados)"
   ]
  },
  {
   "cell_type": "code",
   "execution_count": 56,
   "id": "250bea69-b322-425a-8eb8-e45767ab88ca",
   "metadata": {},
   "outputs": [
    {
     "data": {
      "image/png": "[encoded data removed]",
      "text/plain": [
       "<Figure size 432x288 with 1 Axes>"
      ]
     },
     "metadata": {
      "needs_background": "light"
     },
     "output_type": "display_data"
    }
   ],
   "source": [
    "plt.scatter(np_df[y_kmeans == 0, 0], np_df[y_kmeans == 0, 1], s = 100, c = 'red', label = 'Cluster 1')\n",
    "plt.scatter(np_df[y_kmeans == 1, 0], np_df[y_kmeans == 1, 1], s = 100, c = 'blue', label = 'Cluster 2')\n",
    "plt.scatter(np_df[y_kmeans == 2, 0], np_df[y_kmeans == 2, 1], s = 100, c = 'green', label = 'Cluster 3')\n",
    "plt.scatter(np_df[y_kmeans == 3, 0], np_df[y_kmeans == 3, 1], s = 100, c = 'cyan', label = 'Cluster 4')\n",
    "plt.scatter(np_df[y_kmeans == 4, 0], np_df[y_kmeans == 4, 1], s = 100, c = 'magenta', label = 'Cluster 5')\n",
    "plt.scatter(kmeans.cluster_centers_[:, 0], kmeans.cluster_centers_[:, 1], s = 300, c = 'yellow', label = 'Centroids')\n",
    "plt.title('Clusters of customers')\n",
    "plt.xlabbel('Annual Income (k$)')\n",
    "plt.ylabel('Spending Score (1-100)')\n",
    "plt.legend()\n",
    "plt.show()"
   ]
  },
  {
   "cell_type": "markdown",
   "id": "bea270e7-f49e-490e-9e95-35d5aa4943f5",
   "metadata": {},
   "source": [
    "Podemos observar que os clusters se sobrepoem bastante, o modelo não está conseguindo realizar a separação dos dados."
   ]
  }
 ],
 "metadata": {
  "kernelspec": {
   "display_name": "Python 3 (ipykernel)",
   "language": "python",
   "name": "python3"
  },
  "language_info": {
   "codemirror_mode": {
    "name": "ipython",
    "version": 3
   },
   "file_extension": ".py",
   "mimetype": "text/x-python",
   "name": "python",
   "nbconvert_exporter": "python",
   "pygments_lexer": "ipython3",
   "version": "3.8.10"
  }
 },
 "nbformat": 4,
 "nbformat_minor": 5
}
