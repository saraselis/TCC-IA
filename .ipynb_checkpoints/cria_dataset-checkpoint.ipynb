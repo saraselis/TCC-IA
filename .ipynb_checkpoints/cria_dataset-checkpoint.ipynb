{
 "cells": [
  {
   "cell_type": "markdown",
   "id": "ebac7ddc-db66-4775-a324-dd3f39d4445d",
   "metadata": {},
   "source": [
    "# Criação de dataset\n",
    "\n",
    "A função desse Jupyter é ler os arquivos txts e montar um Dataframe."
   ]
  },
  {
   "cell_type": "markdown",
   "id": "7ef7be8a-4bca-47ae-92e9-58b048dcb6ad",
   "metadata": {},
   "source": [
    "Os sinais foram exportados do Matlab e cada um dos arquivos txt é referente a um canal de um dos sinais (até o momento temos apenas um sianl)."
   ]
  },
  {
   "cell_type": "markdown",
   "id": "3b11ca7a-5fdc-40cc-a59d-583be4a3e169",
   "metadata": {},
   "source": [
    "* Importando as bibliotecas"
   ]
  },
  {
   "cell_type": "code",
   "execution_count": 1,
   "id": "325b042e-a98b-4e26-b55d-1895f909f7b9",
   "metadata": {},
   "outputs": [],
   "source": [
    "import glob\n",
    "import logging\n",
    "import numpy as np\n",
    "import pandas as pd"
   ]
  },
  {
   "cell_type": "code",
   "execution_count": 2,
   "id": "ef4a2c6b-3b7a-443e-a86b-e384deb74103",
   "metadata": {},
   "outputs": [],
   "source": [
    "logger = logging.getLogger()\n",
    "logger.setLevel(logging.INFO)"
   ]
  },
  {
   "cell_type": "code",
   "execution_count": 3,
   "id": "f3d5abfb-812c-4d25-9494-779b61983b93",
   "metadata": {},
   "outputs": [
    {
     "data": {
      "text/plain": [
       "['sinais/canal1.txt',\n",
       " 'sinais/canal10.txt',\n",
       " 'sinais/canal11.txt',\n",
       " 'sinais/canal12.txt',\n",
       " 'sinais/canal13.txt',\n",
       " 'sinais/canal14.txt',\n",
       " 'sinais/canal15.txt',\n",
       " 'sinais/canal16.txt',\n",
       " 'sinais/canal2.txt',\n",
       " 'sinais/canal3.txt',\n",
       " 'sinais/canal4.txt',\n",
       " 'sinais/canal5.txt',\n",
       " 'sinais/canal6.txt',\n",
       " 'sinais/canal7.txt',\n",
       " 'sinais/canal8.txt',\n",
       " 'sinais/canal9.txt']"
      ]
     },
     "execution_count": 3,
     "metadata": {},
     "output_type": "execute_result"
    }
   ],
   "source": [
    "arquivos = glob.glob(\"sinais/*.txt\")\n",
    "arquivos"
   ]
  },
  {
   "cell_type": "markdown",
   "id": "cea30be9-80d2-4f21-8fb7-11c405216dd2",
   "metadata": {},
   "source": [
    "* Lendo todos os sinais e criando o Dataframe"
   ]
  },
  {
   "cell_type": "code",
   "execution_count": null,
   "id": "d7ae901b-ef1c-4081-b1c9-44e3f2373fe0",
   "metadata": {},
   "outputs": [],
   "source": [
    "sinal = []\n",
    "\n",
    "dataframes = []\n",
    "\n",
    "for sinal in arquivos:\n",
    "    logging.info(f'Lendo o sinal: {sinal}')\n",
    "    lines = list(open(sinal, 'r'))\n",
    "    \n",
    "    logging.info(f'Removendo espaços')\n",
    "    lines = [line.rstrip() for line in lines]\n",
    "    \n",
    "    logging.info('Separando a amostra em 2000')\n",
    "    sinal = np.array_split(lines, 2000)\n",
    "    \n",
    "    logging.info('Passando para dataframe')\n",
    "    df = pd.DataFrame(sinal).T\n",
    "    dataframes.append(df)"
   ]
  },
  {
   "cell_type": "code",
   "execution_count": 4,
   "id": "eda5864d-7f45-4072-81ad-d54529306451",
   "metadata": {},
   "outputs": [],
   "source": [
    "arquivos = ['sinais/canal1.txt']"
   ]
  },
  {
   "cell_type": "code",
   "execution_count": 46,
   "id": "bbf8c117-c672-4035-b42d-d3a26b9998ac",
   "metadata": {},
   "outputs": [
    {
     "name": "stderr",
     "output_type": "stream",
     "text": [
      "INFO:root:Lendo o sinal: sinais/canal1.txt\n",
      "INFO:root:Removendo espaços\n",
      "INFO:root:Separando a amostra em 2000\n"
     ]
    }
   ],
   "source": [
    "sinal = []\n",
    "\n",
    "dataframes = []\n",
    "\n",
    "for sinal in arquivos:\n",
    "    logging.info(f'Lendo o sinal: {sinal}')\n",
    "    lines = list(open(sinal, 'r'))\n",
    "    \n",
    "    logging.info(f'Removendo espaços')\n",
    "    lines = [line.rstrip() for line in lines]\n",
    "    \n",
    "    logging.info('Separando a amostra em 2000')\n",
    "    sinal = np.array_split(lines, 92)\n",
    "    \n",
    "    # logging.info('Passando para dataframe')\n",
    "    # df = pd.DataFrame(sinal).T\n",
    "    # dataframes.append(df)"
   ]
  },
  {
   "cell_type": "code",
   "execution_count": 49,
   "id": "53f57119-eef6-4f8a-b59b-cc5b3821291c",
   "metadata": {
    "tags": []
   },
   "outputs": [],
   "source": [
    "for i in range(len(sinal)):\n",
    "    with open(f'txt_2000_{i}.txt', 'w') as f:\n",
    "        f.write(str(sinal[i]))"
   ]
  },
  {
   "cell_type": "markdown",
   "id": "2f92b05d-3bf7-45ab-9716-2b80efa21724",
   "metadata": {},
   "source": [
    "Conferindo se todos os sinais foram lidos"
   ]
  },
  {
   "cell_type": "markdown",
   "id": "d33da703-80d4-4384-8fb8-c4b5ca9b6d24",
   "metadata": {},
   "source": [
    "Concatenando dos os dataframes em um único Dataset"
   ]
  },
  {
   "cell_type": "code",
   "execution_count": 8,
   "id": "270f0212-ca00-4bf8-a1f4-fb42afe89d77",
   "metadata": {},
   "outputs": [],
   "source": [
    "dados = pd.concat(dataframes)"
   ]
  },
  {
   "cell_type": "code",
   "execution_count": 9,
   "id": "63a3ed9b-aecd-4c83-ba05-de22910ff344",
   "metadata": {},
   "outputs": [
    {
     "name": "stdout",
     "output_type": "stream",
     "text": [
      "<class 'pandas.core.frame.DataFrame'>\n",
      "Int64Index: 1488 entries, 0 to 92\n",
      "Columns: 2000 entries, 0 to 1999\n",
      "dtypes: object(2000)\n",
      "memory usage: 22.7+ MB\n"
     ]
    }
   ],
   "source": [
    "dados.info()"
   ]
  },
  {
   "cell_type": "markdown",
   "id": "839b7400-cf22-44e4-a6da-9893ea7525b8",
   "metadata": {},
   "source": [
    "Reiniciando o index do Dataset"
   ]
  },
  {
   "cell_type": "code",
   "execution_count": 10,
   "id": "401c40dc-9928-4b23-be48-38f323ad12f4",
   "metadata": {},
   "outputs": [],
   "source": [
    "dados.reset_index(inplace=True)"
   ]
  },
  {
   "cell_type": "code",
   "execution_count": 11,
   "id": "74aca6e3-4814-4dee-8317-e393edc9dc0c",
   "metadata": {},
   "outputs": [
    {
     "data": {
      "text/html": [
       "<div>\n",
       "<style scoped>\n",
       "    .dataframe tbody tr th:only-of-type {\n",
       "        vertical-align: middle;\n",
       "    }\n",
       "\n",
       "    .dataframe tbody tr th {\n",
       "        vertical-align: top;\n",
       "    }\n",
       "\n",
       "    .dataframe thead th {\n",
       "        text-align: right;\n",
       "    }\n",
       "</style>\n",
       "<table border=\"1\" class=\"dataframe\">\n",
       "  <thead>\n",
       "    <tr style=\"text-align: right;\">\n",
       "      <th></th>\n",
       "      <th>index</th>\n",
       "      <th>0</th>\n",
       "      <th>1</th>\n",
       "      <th>2</th>\n",
       "      <th>3</th>\n",
       "      <th>4</th>\n",
       "      <th>5</th>\n",
       "      <th>6</th>\n",
       "      <th>7</th>\n",
       "      <th>8</th>\n",
       "      <th>...</th>\n",
       "      <th>1990</th>\n",
       "      <th>1991</th>\n",
       "      <th>1992</th>\n",
       "      <th>1993</th>\n",
       "      <th>1994</th>\n",
       "      <th>1995</th>\n",
       "      <th>1996</th>\n",
       "      <th>1997</th>\n",
       "      <th>1998</th>\n",
       "      <th>1999</th>\n",
       "    </tr>\n",
       "  </thead>\n",
       "  <tbody>\n",
       "    <tr>\n",
       "      <th>1483</th>\n",
       "      <td>88</td>\n",
       "      <td>3</td>\n",
       "      <td>5</td>\n",
       "      <td>3</td>\n",
       "      <td>2</td>\n",
       "      <td>5</td>\n",
       "      <td>3</td>\n",
       "      <td>3</td>\n",
       "      <td>3</td>\n",
       "      <td>4</td>\n",
       "      <td>...</td>\n",
       "      <td>4</td>\n",
       "      <td>4</td>\n",
       "      <td>3</td>\n",
       "      <td>5</td>\n",
       "      <td>3</td>\n",
       "      <td>3</td>\n",
       "      <td>5</td>\n",
       "      <td>6</td>\n",
       "      <td>2</td>\n",
       "      <td>4</td>\n",
       "    </tr>\n",
       "    <tr>\n",
       "      <th>1484</th>\n",
       "      <td>89</td>\n",
       "      <td>4</td>\n",
       "      <td>5</td>\n",
       "      <td>4</td>\n",
       "      <td>5</td>\n",
       "      <td>6</td>\n",
       "      <td>2</td>\n",
       "      <td>3</td>\n",
       "      <td>3</td>\n",
       "      <td>3</td>\n",
       "      <td>...</td>\n",
       "      <td>4</td>\n",
       "      <td>3</td>\n",
       "      <td>2</td>\n",
       "      <td>4</td>\n",
       "      <td>2</td>\n",
       "      <td>4</td>\n",
       "      <td>5</td>\n",
       "      <td>4</td>\n",
       "      <td>2</td>\n",
       "      <td>2</td>\n",
       "    </tr>\n",
       "    <tr>\n",
       "      <th>1485</th>\n",
       "      <td>90</td>\n",
       "      <td>2</td>\n",
       "      <td>1</td>\n",
       "      <td>5</td>\n",
       "      <td>4</td>\n",
       "      <td>4</td>\n",
       "      <td>2</td>\n",
       "      <td>3</td>\n",
       "      <td>3</td>\n",
       "      <td>2</td>\n",
       "      <td>...</td>\n",
       "      <td>2</td>\n",
       "      <td>3</td>\n",
       "      <td>5</td>\n",
       "      <td>3</td>\n",
       "      <td>3</td>\n",
       "      <td>3</td>\n",
       "      <td>3</td>\n",
       "      <td>3</td>\n",
       "      <td>3</td>\n",
       "      <td>4</td>\n",
       "    </tr>\n",
       "    <tr>\n",
       "      <th>1486</th>\n",
       "      <td>91</td>\n",
       "      <td>2</td>\n",
       "      <td>4</td>\n",
       "      <td>4</td>\n",
       "      <td>2</td>\n",
       "      <td>4</td>\n",
       "      <td>2</td>\n",
       "      <td>2</td>\n",
       "      <td>6</td>\n",
       "      <td>2</td>\n",
       "      <td>...</td>\n",
       "      <td>2</td>\n",
       "      <td>4</td>\n",
       "      <td>3</td>\n",
       "      <td>4</td>\n",
       "      <td>3</td>\n",
       "      <td>3</td>\n",
       "      <td>5</td>\n",
       "      <td>3</td>\n",
       "      <td>3</td>\n",
       "      <td>4</td>\n",
       "    </tr>\n",
       "    <tr>\n",
       "      <th>1487</th>\n",
       "      <td>92</td>\n",
       "      <td>5</td>\n",
       "      <td>4</td>\n",
       "      <td>2</td>\n",
       "      <td>1</td>\n",
       "      <td>5</td>\n",
       "      <td>4</td>\n",
       "      <td>2</td>\n",
       "      <td>6</td>\n",
       "      <td>4</td>\n",
       "      <td>...</td>\n",
       "      <td>None</td>\n",
       "      <td>None</td>\n",
       "      <td>None</td>\n",
       "      <td>None</td>\n",
       "      <td>None</td>\n",
       "      <td>None</td>\n",
       "      <td>None</td>\n",
       "      <td>None</td>\n",
       "      <td>None</td>\n",
       "      <td>None</td>\n",
       "    </tr>\n",
       "  </tbody>\n",
       "</table>\n",
       "<p>5 rows × 2001 columns</p>\n",
       "</div>"
      ],
      "text/plain": [
       "      index  0  1  2  3  4  5  6  7  8  ...  1990  1991  1992  1993  1994  \\\n",
       "1483     88  3  5  3  2  5  3  3  3  4  ...     4     4     3     5     3   \n",
       "1484     89  4  5  4  5  6  2  3  3  3  ...     4     3     2     4     2   \n",
       "1485     90  2  1  5  4  4  2  3  3  2  ...     2     3     5     3     3   \n",
       "1486     91  2  4  4  2  4  2  2  6  2  ...     2     4     3     4     3   \n",
       "1487     92  5  4  2  1  5  4  2  6  4  ...  None  None  None  None  None   \n",
       "\n",
       "      1995  1996  1997  1998  1999  \n",
       "1483     3     5     6     2     4  \n",
       "1484     4     5     4     2     2  \n",
       "1485     3     3     3     3     4  \n",
       "1486     3     5     3     3     4  \n",
       "1487  None  None  None  None  None  \n",
       "\n",
       "[5 rows x 2001 columns]"
      ]
     },
     "execution_count": 11,
     "metadata": {},
     "output_type": "execute_result"
    }
   ],
   "source": [
    "dados.tail()"
   ]
  },
  {
   "cell_type": "markdown",
   "id": "1e687c24-9698-498c-93d8-27cea9695f49",
   "metadata": {},
   "source": [
    "Dropando a coluna Index que foi criada"
   ]
  },
  {
   "cell_type": "code",
   "execution_count": null,
   "id": "41ae35a9-9649-43a2-b927-92418e0c60cd",
   "metadata": {},
   "outputs": [],
   "source": [
    "dados.isnull().sum()"
   ]
  },
  {
   "cell_type": "code",
   "execution_count": 12,
   "id": "475c3481-cac5-4b65-b3db-cb390fe08e97",
   "metadata": {},
   "outputs": [],
   "source": [
    "dados.drop(['index'], inplace=True, axis=1)"
   ]
  },
  {
   "cell_type": "code",
   "execution_count": 13,
   "id": "b02c67c0-9e2b-439f-8bf1-dc0daa1dad35",
   "metadata": {
    "tags": []
   },
   "outputs": [
    {
     "data": {
      "text/html": [
       "<div>\n",
       "<style scoped>\n",
       "    .dataframe tbody tr th:only-of-type {\n",
       "        vertical-align: middle;\n",
       "    }\n",
       "\n",
       "    .dataframe tbody tr th {\n",
       "        vertical-align: top;\n",
       "    }\n",
       "\n",
       "    .dataframe thead th {\n",
       "        text-align: right;\n",
       "    }\n",
       "</style>\n",
       "<table border=\"1\" class=\"dataframe\">\n",
       "  <thead>\n",
       "    <tr style=\"text-align: right;\">\n",
       "      <th></th>\n",
       "      <th>0</th>\n",
       "      <th>1</th>\n",
       "      <th>2</th>\n",
       "      <th>3</th>\n",
       "      <th>4</th>\n",
       "      <th>5</th>\n",
       "      <th>6</th>\n",
       "      <th>7</th>\n",
       "      <th>8</th>\n",
       "      <th>9</th>\n",
       "      <th>...</th>\n",
       "      <th>1990</th>\n",
       "      <th>1991</th>\n",
       "      <th>1992</th>\n",
       "      <th>1993</th>\n",
       "      <th>1994</th>\n",
       "      <th>1995</th>\n",
       "      <th>1996</th>\n",
       "      <th>1997</th>\n",
       "      <th>1998</th>\n",
       "      <th>1999</th>\n",
       "    </tr>\n",
       "  </thead>\n",
       "  <tbody>\n",
       "    <tr>\n",
       "      <th>1143</th>\n",
       "      <td>-30</td>\n",
       "      <td>-121</td>\n",
       "      <td>139</td>\n",
       "      <td>-53</td>\n",
       "      <td>82</td>\n",
       "      <td>-245</td>\n",
       "      <td>-85</td>\n",
       "      <td>21</td>\n",
       "      <td>47</td>\n",
       "      <td>-29</td>\n",
       "      <td>...</td>\n",
       "      <td>-9</td>\n",
       "      <td>127</td>\n",
       "      <td>24</td>\n",
       "      <td>-169</td>\n",
       "      <td>-102</td>\n",
       "      <td>73</td>\n",
       "      <td>184</td>\n",
       "      <td>69</td>\n",
       "      <td>-64</td>\n",
       "      <td>143</td>\n",
       "    </tr>\n",
       "  </tbody>\n",
       "</table>\n",
       "<p>1 rows × 2000 columns</p>\n",
       "</div>"
      ],
      "text/plain": [
       "     0     1    2    3    4     5    6    7    8    9     ... 1990 1991 1992  \\\n",
       "1143  -30  -121  139  -53   82  -245  -85   21   47  -29  ...   -9  127   24   \n",
       "\n",
       "      1993  1994 1995 1996 1997 1998 1999  \n",
       "1143  -169  -102   73  184   69  -64  143  \n",
       "\n",
       "[1 rows x 2000 columns]"
      ]
     },
     "execution_count": 13,
     "metadata": {},
     "output_type": "execute_result"
    }
   ],
   "source": [
    "dados.sample()"
   ]
  },
  {
   "cell_type": "markdown",
   "id": "ca87edad-70af-46fd-a362-90303435d96f",
   "metadata": {},
   "source": [
    "Removendo as linhas com NaN, outra opção será substituir esses valores pela mediana dos dados"
   ]
  },
  {
   "cell_type": "code",
   "execution_count": 14,
   "id": "f09f3969-a832-43ef-ad55-83e4a93d7ba0",
   "metadata": {},
   "outputs": [],
   "source": [
    "dados.dropna(inplace=True)"
   ]
  },
  {
   "cell_type": "code",
   "execution_count": 15,
   "id": "a7963ede-0b12-4a07-b6fa-17b2e64768ee",
   "metadata": {},
   "outputs": [
    {
     "data": {
      "text/html": [
       "<div>\n",
       "<style scoped>\n",
       "    .dataframe tbody tr th:only-of-type {\n",
       "        vertical-align: middle;\n",
       "    }\n",
       "\n",
       "    .dataframe tbody tr th {\n",
       "        vertical-align: top;\n",
       "    }\n",
       "\n",
       "    .dataframe thead th {\n",
       "        text-align: right;\n",
       "    }\n",
       "</style>\n",
       "<table border=\"1\" class=\"dataframe\">\n",
       "  <thead>\n",
       "    <tr style=\"text-align: right;\">\n",
       "      <th></th>\n",
       "      <th>0</th>\n",
       "      <th>1</th>\n",
       "      <th>2</th>\n",
       "      <th>3</th>\n",
       "      <th>4</th>\n",
       "      <th>5</th>\n",
       "      <th>6</th>\n",
       "      <th>7</th>\n",
       "      <th>8</th>\n",
       "      <th>9</th>\n",
       "      <th>...</th>\n",
       "      <th>1990</th>\n",
       "      <th>1991</th>\n",
       "      <th>1992</th>\n",
       "      <th>1993</th>\n",
       "      <th>1994</th>\n",
       "      <th>1995</th>\n",
       "      <th>1996</th>\n",
       "      <th>1997</th>\n",
       "      <th>1998</th>\n",
       "      <th>1999</th>\n",
       "    </tr>\n",
       "  </thead>\n",
       "  <tbody>\n",
       "    <tr>\n",
       "      <th>1486</th>\n",
       "      <td>2</td>\n",
       "      <td>4</td>\n",
       "      <td>4</td>\n",
       "      <td>2</td>\n",
       "      <td>4</td>\n",
       "      <td>2</td>\n",
       "      <td>2</td>\n",
       "      <td>6</td>\n",
       "      <td>2</td>\n",
       "      <td>2</td>\n",
       "      <td>...</td>\n",
       "      <td>2</td>\n",
       "      <td>4</td>\n",
       "      <td>3</td>\n",
       "      <td>4</td>\n",
       "      <td>3</td>\n",
       "      <td>3</td>\n",
       "      <td>5</td>\n",
       "      <td>3</td>\n",
       "      <td>3</td>\n",
       "      <td>4</td>\n",
       "    </tr>\n",
       "  </tbody>\n",
       "</table>\n",
       "<p>1 rows × 2000 columns</p>\n",
       "</div>"
      ],
      "text/plain": [
       "     0    1    2    3    4    5    6    7    8    9     ... 1990 1991 1992  \\\n",
       "1486    2    4    4    2    4    2    2    6    2    2  ...    2    4    3   \n",
       "\n",
       "     1993 1994 1995 1996 1997 1998 1999  \n",
       "1486    4    3    3    5    3    3    4  \n",
       "\n",
       "[1 rows x 2000 columns]"
      ]
     },
     "execution_count": 15,
     "metadata": {},
     "output_type": "execute_result"
    }
   ],
   "source": [
    "dados.tail(1)"
   ]
  },
  {
   "cell_type": "markdown",
   "id": "77352e53-d6cb-4b3d-97f5-ef59f48e228b",
   "metadata": {},
   "source": [
    "```python\n",
    "dados['feat'] = dados['feat'].fillna(value=dados['feat'].median())\n",
    "```"
   ]
  },
  {
   "cell_type": "code",
   "execution_count": 18,
   "id": "e51c9d28-27e3-422c-b941-defcf3d7b750",
   "metadata": {},
   "outputs": [],
   "source": [
    "dados.to_csv('dados.csv', index=False)"
   ]
  },
  {
   "cell_type": "code",
   "execution_count": null,
   "id": "3ced8dae-d2d5-47c5-af45-c03eb606f66d",
   "metadata": {},
   "outputs": [],
   "source": []
  }
 ],
 "metadata": {
  "kernelspec": {
   "display_name": "Python 3 (ipykernel)",
   "language": "python",
   "name": "python3"
  },
  "language_info": {
   "codemirror_mode": {
    "name": "ipython",
    "version": 3
   },
   "file_extension": ".py",
   "mimetype": "text/x-python",
   "name": "python",
   "nbconvert_exporter": "python",
   "pygments_lexer": "ipython3",
   "version": "3.8.10"
  }
 },
 "nbformat": 4,
 "nbformat_minor": 5
}
