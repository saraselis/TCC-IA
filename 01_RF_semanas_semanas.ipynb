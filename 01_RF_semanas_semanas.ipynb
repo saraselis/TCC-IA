{
 "cells": [
  {
   "cell_type": "markdown",
   "metadata": {},
   "source": [
    "# <b style='color:blue;'> Random Forest </b>\n",
    "* Este Jupyter tem como função treinar um `Random Forest` com os melhores parametros determinados por um `RandomSearch`.\n",
    "\n",
    "-> Dataset completo com voluntários femininos, sem outliers para predizer a semana."
   ]
  },
  {
   "cell_type": "markdown",
   "metadata": {},
   "source": [
    "---"
   ]
  },
  {
   "cell_type": "markdown",
   "metadata": {},
   "source": [
    "Bibliotecas/Módulos"
   ]
  },
  {
   "cell_type": "code",
   "execution_count": 1,
   "metadata": {},
   "outputs": [],
   "source": [
    "import logging\n",
    "import matplotlib.pyplot as plt\n",
    "import numpy as np\n",
    "import pandas as pd\n",
    "import pickle as pkl\n",
    "import seaborn as sns\n",
    "import sys\n",
    "\n",
    "from sklearn.decomposition import PCA\n",
    "from sklearn.ensemble import RandomForestClassifier\n",
    "from sklearn.metrics import roc_auc_score, accuracy_score, matthews_corrcoef, classification_report, f1_score, confusion_matrix\n",
    "from sklearn.model_selection import RandomizedSearchCV, train_test_split\n",
    "from sklearn.multiclass import OneVsRestClassifier"
   ]
  },
  {
   "cell_type": "markdown",
   "metadata": {},
   "source": [
    "Configurações dos logs"
   ]
  },
  {
   "cell_type": "code",
   "execution_count": 2,
   "metadata": {},
   "outputs": [],
   "source": [
    "logger = logging.getLogger(\"SVM\")\n",
    "logger.setLevel(logging.DEBUG)\n",
    "handler = logging.StreamHandler(sys.stderr)\n",
    "formatter = logging.Formatter('%(name)s - %(levelname)s - [+] ------- %(message)s -------') \n",
    "handler.setFormatter(formatter)\n",
    "logger.handlers = [handler]"
   ]
  },
  {
   "cell_type": "markdown",
   "metadata": {},
   "source": [
    "Cores"
   ]
  },
  {
   "cell_type": "code",
   "execution_count": 3,
   "metadata": {},
   "outputs": [],
   "source": [
    "RED = \"\\033[1;31m\"\n",
    "BLUE = \"\\033[1;34m\"\n",
    "GREEN = \"\\033[1;32m\"\n",
    "PINK = \"\\033[1;45m\"\n",
    "HEADER = '\\033[95m'\n",
    "OKBLUE = '\\033[94m'\n",
    "OKCYAN = '\\033[96m'\n",
    "OKGREEN = '\\033[92m'\n",
    "WARNING = '\\033[93m'\n",
    "FAIL = '\\033[91m'\n",
    "ENDC = '\\033[0m'\n",
    "BOLD = '\\033[1m'\n",
    "UNDERLINE = '\\033[4m'\n",
    "MAG = \"\\033[1;45m\""
   ]
  },
  {
   "cell_type": "markdown",
   "metadata": {},
   "source": [
    "---"
   ]
  },
  {
   "cell_type": "markdown",
   "metadata": {},
   "source": [
    "## Preparando os dados"
   ]
  },
  {
   "cell_type": "code",
   "execution_count": 4,
   "metadata": {},
   "outputs": [],
   "source": [
    "df = pd.read_csv(\"dados_FEM_10_voluntarios_c_semanas_15_sinais_noout.csv\")"
   ]
  },
  {
   "cell_type": "code",
   "execution_count": 5,
   "metadata": {},
   "outputs": [
    {
     "data": {
      "text/html": [
       "<div>\n",
       "<style scoped>\n",
       "    .dataframe tbody tr th:only-of-type {\n",
       "        vertical-align: middle;\n",
       "    }\n",
       "\n",
       "    .dataframe tbody tr th {\n",
       "        vertical-align: top;\n",
       "    }\n",
       "\n",
       "    .dataframe thead th {\n",
       "        text-align: right;\n",
       "    }\n",
       "</style>\n",
       "<table border=\"1\" class=\"dataframe\">\n",
       "  <thead>\n",
       "    <tr style=\"text-align: right;\">\n",
       "      <th></th>\n",
       "      <th>0</th>\n",
       "      <th>1</th>\n",
       "      <th>2</th>\n",
       "      <th>3</th>\n",
       "      <th>4</th>\n",
       "      <th>5</th>\n",
       "      <th>6</th>\n",
       "      <th>7</th>\n",
       "      <th>8</th>\n",
       "      <th>9</th>\n",
       "      <th>...</th>\n",
       "      <th>1992</th>\n",
       "      <th>1993</th>\n",
       "      <th>1994</th>\n",
       "      <th>1995</th>\n",
       "      <th>1996</th>\n",
       "      <th>1997</th>\n",
       "      <th>1998</th>\n",
       "      <th>1999</th>\n",
       "      <th>label</th>\n",
       "      <th>semana</th>\n",
       "    </tr>\n",
       "  </thead>\n",
       "  <tbody>\n",
       "    <tr>\n",
       "      <th>16101</th>\n",
       "      <td>-15</td>\n",
       "      <td>64</td>\n",
       "      <td>-22</td>\n",
       "      <td>2</td>\n",
       "      <td>-12</td>\n",
       "      <td>-16</td>\n",
       "      <td>-6</td>\n",
       "      <td>-2</td>\n",
       "      <td>-29</td>\n",
       "      <td>-2</td>\n",
       "      <td>...</td>\n",
       "      <td>17</td>\n",
       "      <td>-18</td>\n",
       "      <td>32</td>\n",
       "      <td>-16</td>\n",
       "      <td>-26</td>\n",
       "      <td>-24</td>\n",
       "      <td>42</td>\n",
       "      <td>10</td>\n",
       "      <td>1</td>\n",
       "      <td>4</td>\n",
       "    </tr>\n",
       "  </tbody>\n",
       "</table>\n",
       "<p>1 rows × 2002 columns</p>\n",
       "</div>"
      ],
      "text/plain": [
       "        0   1   2  3   4   5  6  7   8  9  ...  1992  1993  1994  1995  1996  \\\n",
       "16101 -15  64 -22  2 -12 -16 -6 -2 -29 -2  ...    17   -18    32   -16   -26   \n",
       "\n",
       "       1997  1998  1999  label  semana  \n",
       "16101   -24    42    10      1       4  \n",
       "\n",
       "[1 rows x 2002 columns]"
      ]
     },
     "execution_count": 5,
     "metadata": {},
     "output_type": "execute_result"
    }
   ],
   "source": [
    "df.sample()"
   ]
  },
  {
   "cell_type": "markdown",
   "metadata": {},
   "source": [
    "Verificando tamanho do dataset"
   ]
  },
  {
   "cell_type": "code",
   "execution_count": 6,
   "metadata": {},
   "outputs": [
    {
     "data": {
      "text/plain": [
       "18000"
      ]
     },
     "execution_count": 6,
     "metadata": {},
     "output_type": "execute_result"
    }
   ],
   "source": [
    "len(df)"
   ]
  },
  {
   "cell_type": "markdown",
   "metadata": {},
   "source": [
    "* Seleção da variável target e das features"
   ]
  },
  {
   "cell_type": "code",
   "execution_count": 7,
   "metadata": {},
   "outputs": [],
   "source": [
    "y = df[\"semana\"]"
   ]
  },
  {
   "cell_type": "code",
   "execution_count": 8,
   "metadata": {},
   "outputs": [],
   "source": [
    "df = df.drop([\"semana\"], axis=1)"
   ]
  },
  {
   "cell_type": "markdown",
   "metadata": {},
   "source": [
    "#### PCA\n",
    "Aplicando o PCA para reduzir a dimensão dos dados."
   ]
  },
  {
   "cell_type": "code",
   "execution_count": 9,
   "metadata": {},
   "outputs": [],
   "source": [
    "pca = PCA(n_components=1000)"
   ]
  },
  {
   "cell_type": "code",
   "execution_count": 10,
   "metadata": {},
   "outputs": [
    {
     "data": {
      "text/html": [
       "<style>#sk-container-id-1 {color: black;background-color: white;}#sk-container-id-1 pre{padding: 0;}#sk-container-id-1 div.sk-toggleable {background-color: white;}#sk-container-id-1 label.sk-toggleable__label {cursor: pointer;display: block;width: 100%;margin-bottom: 0;padding: 0.3em;box-sizing: border-box;text-align: center;}#sk-container-id-1 label.sk-toggleable__label-arrow:before {content: \"▸\";float: left;margin-right: 0.25em;color: #696969;}#sk-container-id-1 label.sk-toggleable__label-arrow:hover:before {color: black;}#sk-container-id-1 div.sk-estimator:hover label.sk-toggleable__label-arrow:before {color: black;}#sk-container-id-1 div.sk-toggleable__content {max-height: 0;max-width: 0;overflow: hidden;text-align: left;background-color: #f0f8ff;}#sk-container-id-1 div.sk-toggleable__content pre {margin: 0.2em;color: black;border-radius: 0.25em;background-color: #f0f8ff;}#sk-container-id-1 input.sk-toggleable__control:checked~div.sk-toggleable__content {max-height: 200px;max-width: 100%;overflow: auto;}#sk-container-id-1 input.sk-toggleable__control:checked~label.sk-toggleable__label-arrow:before {content: \"▾\";}#sk-container-id-1 div.sk-estimator input.sk-toggleable__control:checked~label.sk-toggleable__label {background-color: #d4ebff;}#sk-container-id-1 div.sk-label input.sk-toggleable__control:checked~label.sk-toggleable__label {background-color: #d4ebff;}#sk-container-id-1 input.sk-hidden--visually {border: 0;clip: rect(1px 1px 1px 1px);clip: rect(1px, 1px, 1px, 1px);height: 1px;margin: -1px;overflow: hidden;padding: 0;position: absolute;width: 1px;}#sk-container-id-1 div.sk-estimator {font-family: monospace;background-color: #f0f8ff;border: 1px dotted black;border-radius: 0.25em;box-sizing: border-box;margin-bottom: 0.5em;}#sk-container-id-1 div.sk-estimator:hover {background-color: #d4ebff;}#sk-container-id-1 div.sk-parallel-item::after {content: \"\";width: 100%;border-bottom: 1px solid gray;flex-grow: 1;}#sk-container-id-1 div.sk-label:hover label.sk-toggleable__label {background-color: #d4ebff;}#sk-container-id-1 div.sk-serial::before {content: \"\";position: absolute;border-left: 1px solid gray;box-sizing: border-box;top: 0;bottom: 0;left: 50%;z-index: 0;}#sk-container-id-1 div.sk-serial {display: flex;flex-direction: column;align-items: center;background-color: white;padding-right: 0.2em;padding-left: 0.2em;position: relative;}#sk-container-id-1 div.sk-item {position: relative;z-index: 1;}#sk-container-id-1 div.sk-parallel {display: flex;align-items: stretch;justify-content: center;background-color: white;position: relative;}#sk-container-id-1 div.sk-item::before, #sk-container-id-1 div.sk-parallel-item::before {content: \"\";position: absolute;border-left: 1px solid gray;box-sizing: border-box;top: 0;bottom: 0;left: 50%;z-index: -1;}#sk-container-id-1 div.sk-parallel-item {display: flex;flex-direction: column;z-index: 1;position: relative;background-color: white;}#sk-container-id-1 div.sk-parallel-item:first-child::after {align-self: flex-end;width: 50%;}#sk-container-id-1 div.sk-parallel-item:last-child::after {align-self: flex-start;width: 50%;}#sk-container-id-1 div.sk-parallel-item:only-child::after {width: 0;}#sk-container-id-1 div.sk-dashed-wrapped {border: 1px dashed gray;margin: 0 0.4em 0.5em 0.4em;box-sizing: border-box;padding-bottom: 0.4em;background-color: white;}#sk-container-id-1 div.sk-label label {font-family: monospace;font-weight: bold;display: inline-block;line-height: 1.2em;}#sk-container-id-1 div.sk-label-container {text-align: center;}#sk-container-id-1 div.sk-container {/* jupyter's `normalize.less` sets `[hidden] { display: none; }` but bootstrap.min.css set `[hidden] { display: none !important; }` so we also need the `!important` here to be able to override the default hidden behavior on the sphinx rendered scikit-learn.org. See: https://github.com/scikit-learn/scikit-learn/issues/21755 */display: inline-block !important;position: relative;}#sk-container-id-1 div.sk-text-repr-fallback {display: none;}</style><div id=\"sk-container-id-1\" class=\"sk-top-container\"><div class=\"sk-text-repr-fallback\"><pre>PCA(n_components=1000)</pre><b>In a Jupyter environment, please rerun this cell to show the HTML representation or trust the notebook. <br />On GitHub, the HTML representation is unable to render, please try loading this page with nbviewer.org.</b></div><div class=\"sk-container\" hidden><div class=\"sk-item\"><div class=\"sk-estimator sk-toggleable\"><input class=\"sk-toggleable__control sk-hidden--visually\" id=\"sk-estimator-id-1\" type=\"checkbox\" checked><label for=\"sk-estimator-id-1\" class=\"sk-toggleable__label sk-toggleable__label-arrow\">PCA</label><div class=\"sk-toggleable__content\"><pre>PCA(n_components=1000)</pre></div></div></div></div></div>"
      ],
      "text/plain": [
       "PCA(n_components=1000)"
      ]
     },
     "execution_count": 10,
     "metadata": {},
     "output_type": "execute_result"
    }
   ],
   "source": [
    "pca.fit(df)"
   ]
  },
  {
   "cell_type": "code",
   "execution_count": 11,
   "metadata": {},
   "outputs": [
    {
     "name": "stdout",
     "output_type": "stream",
     "text": [
      "CPU times: user 16.1 s, sys: 5.01 s, total: 21.1 s\n",
      "Wall time: 1.6 s\n"
     ]
    }
   ],
   "source": [
    "%%time\n",
    "\n",
    "pca_samples = pca.transform(df)"
   ]
  },
  {
   "cell_type": "code",
   "execution_count": 12,
   "metadata": {},
   "outputs": [
    {
     "data": {
      "text/html": [
       "<div>\n",
       "<style scoped>\n",
       "    .dataframe tbody tr th:only-of-type {\n",
       "        vertical-align: middle;\n",
       "    }\n",
       "\n",
       "    .dataframe tbody tr th {\n",
       "        vertical-align: top;\n",
       "    }\n",
       "\n",
       "    .dataframe thead th {\n",
       "        text-align: right;\n",
       "    }\n",
       "</style>\n",
       "<table border=\"1\" class=\"dataframe\">\n",
       "  <thead>\n",
       "    <tr style=\"text-align: right;\">\n",
       "      <th></th>\n",
       "      <th>0</th>\n",
       "      <th>1</th>\n",
       "      <th>2</th>\n",
       "      <th>3</th>\n",
       "      <th>4</th>\n",
       "      <th>5</th>\n",
       "      <th>6</th>\n",
       "      <th>7</th>\n",
       "      <th>8</th>\n",
       "      <th>9</th>\n",
       "      <th>...</th>\n",
       "      <th>990</th>\n",
       "      <th>991</th>\n",
       "      <th>992</th>\n",
       "      <th>993</th>\n",
       "      <th>994</th>\n",
       "      <th>995</th>\n",
       "      <th>996</th>\n",
       "      <th>997</th>\n",
       "      <th>998</th>\n",
       "      <th>999</th>\n",
       "    </tr>\n",
       "  </thead>\n",
       "  <tbody>\n",
       "    <tr>\n",
       "      <th>0</th>\n",
       "      <td>-31.426972</td>\n",
       "      <td>19.593266</td>\n",
       "      <td>66.149497</td>\n",
       "      <td>5.087693</td>\n",
       "      <td>-145.755438</td>\n",
       "      <td>-60.110903</td>\n",
       "      <td>-95.581629</td>\n",
       "      <td>8.489667</td>\n",
       "      <td>-73.231320</td>\n",
       "      <td>-43.579136</td>\n",
       "      <td>...</td>\n",
       "      <td>-8.211093</td>\n",
       "      <td>9.166805</td>\n",
       "      <td>-1.582251</td>\n",
       "      <td>-9.737326</td>\n",
       "      <td>20.447125</td>\n",
       "      <td>1.387172</td>\n",
       "      <td>-25.677965</td>\n",
       "      <td>5.354503</td>\n",
       "      <td>11.283726</td>\n",
       "      <td>-15.186197</td>\n",
       "    </tr>\n",
       "    <tr>\n",
       "      <th>1</th>\n",
       "      <td>-67.161373</td>\n",
       "      <td>33.442037</td>\n",
       "      <td>43.310118</td>\n",
       "      <td>-14.236839</td>\n",
       "      <td>-144.593542</td>\n",
       "      <td>-12.403398</td>\n",
       "      <td>-98.242895</td>\n",
       "      <td>-2.547335</td>\n",
       "      <td>-69.538878</td>\n",
       "      <td>-37.210569</td>\n",
       "      <td>...</td>\n",
       "      <td>-0.013515</td>\n",
       "      <td>11.151926</td>\n",
       "      <td>-21.402216</td>\n",
       "      <td>-14.443621</td>\n",
       "      <td>12.160253</td>\n",
       "      <td>3.705141</td>\n",
       "      <td>-25.605870</td>\n",
       "      <td>2.332190</td>\n",
       "      <td>3.546148</td>\n",
       "      <td>-0.029490</td>\n",
       "    </tr>\n",
       "    <tr>\n",
       "      <th>2</th>\n",
       "      <td>-93.019930</td>\n",
       "      <td>35.557195</td>\n",
       "      <td>5.966039</td>\n",
       "      <td>-26.539077</td>\n",
       "      <td>-151.494378</td>\n",
       "      <td>32.550934</td>\n",
       "      <td>-112.608380</td>\n",
       "      <td>-15.639923</td>\n",
       "      <td>-59.108039</td>\n",
       "      <td>-28.130038</td>\n",
       "      <td>...</td>\n",
       "      <td>26.714494</td>\n",
       "      <td>14.877354</td>\n",
       "      <td>-21.795474</td>\n",
       "      <td>-18.334793</td>\n",
       "      <td>2.979366</td>\n",
       "      <td>-8.785094</td>\n",
       "      <td>-23.663926</td>\n",
       "      <td>-4.434815</td>\n",
       "      <td>-15.330769</td>\n",
       "      <td>4.074827</td>\n",
       "    </tr>\n",
       "    <tr>\n",
       "      <th>3</th>\n",
       "      <td>-114.755784</td>\n",
       "      <td>34.779378</td>\n",
       "      <td>-10.552657</td>\n",
       "      <td>-39.481854</td>\n",
       "      <td>-145.625364</td>\n",
       "      <td>72.526742</td>\n",
       "      <td>-111.402247</td>\n",
       "      <td>-35.211066</td>\n",
       "      <td>-48.914545</td>\n",
       "      <td>-12.286798</td>\n",
       "      <td>...</td>\n",
       "      <td>30.396661</td>\n",
       "      <td>14.444336</td>\n",
       "      <td>-25.446565</td>\n",
       "      <td>-17.119602</td>\n",
       "      <td>-1.435610</td>\n",
       "      <td>-3.385903</td>\n",
       "      <td>-32.703435</td>\n",
       "      <td>-8.487190</td>\n",
       "      <td>-27.367869</td>\n",
       "      <td>0.683482</td>\n",
       "    </tr>\n",
       "    <tr>\n",
       "      <th>4</th>\n",
       "      <td>-111.867249</td>\n",
       "      <td>44.544022</td>\n",
       "      <td>-26.877515</td>\n",
       "      <td>-47.197607</td>\n",
       "      <td>-135.394425</td>\n",
       "      <td>97.920772</td>\n",
       "      <td>-85.358632</td>\n",
       "      <td>-53.932529</td>\n",
       "      <td>-39.548346</td>\n",
       "      <td>-1.877483</td>\n",
       "      <td>...</td>\n",
       "      <td>37.173379</td>\n",
       "      <td>14.168641</td>\n",
       "      <td>-15.080305</td>\n",
       "      <td>-13.878028</td>\n",
       "      <td>-12.504133</td>\n",
       "      <td>4.964453</td>\n",
       "      <td>-13.820075</td>\n",
       "      <td>-1.006584</td>\n",
       "      <td>-39.968893</td>\n",
       "      <td>0.360752</td>\n",
       "    </tr>\n",
       "  </tbody>\n",
       "</table>\n",
       "<p>5 rows × 1000 columns</p>\n",
       "</div>"
      ],
      "text/plain": [
       "          0          1          2          3           4          5    \\\n",
       "0  -31.426972  19.593266  66.149497   5.087693 -145.755438 -60.110903   \n",
       "1  -67.161373  33.442037  43.310118 -14.236839 -144.593542 -12.403398   \n",
       "2  -93.019930  35.557195   5.966039 -26.539077 -151.494378  32.550934   \n",
       "3 -114.755784  34.779378 -10.552657 -39.481854 -145.625364  72.526742   \n",
       "4 -111.867249  44.544022 -26.877515 -47.197607 -135.394425  97.920772   \n",
       "\n",
       "          6          7          8          9    ...        990        991  \\\n",
       "0  -95.581629   8.489667 -73.231320 -43.579136  ...  -8.211093   9.166805   \n",
       "1  -98.242895  -2.547335 -69.538878 -37.210569  ...  -0.013515  11.151926   \n",
       "2 -112.608380 -15.639923 -59.108039 -28.130038  ...  26.714494  14.877354   \n",
       "3 -111.402247 -35.211066 -48.914545 -12.286798  ...  30.396661  14.444336   \n",
       "4  -85.358632 -53.932529 -39.548346  -1.877483  ...  37.173379  14.168641   \n",
       "\n",
       "         992        993        994       995        996       997        998  \\\n",
       "0  -1.582251  -9.737326  20.447125  1.387172 -25.677965  5.354503  11.283726   \n",
       "1 -21.402216 -14.443621  12.160253  3.705141 -25.605870  2.332190   3.546148   \n",
       "2 -21.795474 -18.334793   2.979366 -8.785094 -23.663926 -4.434815 -15.330769   \n",
       "3 -25.446565 -17.119602  -1.435610 -3.385903 -32.703435 -8.487190 -27.367869   \n",
       "4 -15.080305 -13.878028 -12.504133  4.964453 -13.820075 -1.006584 -39.968893   \n",
       "\n",
       "         999  \n",
       "0 -15.186197  \n",
       "1  -0.029490  \n",
       "2   4.074827  \n",
       "3   0.683482  \n",
       "4   0.360752  \n",
       "\n",
       "[5 rows x 1000 columns]"
      ]
     },
     "execution_count": 12,
     "metadata": {},
     "output_type": "execute_result"
    }
   ],
   "source": [
    "ps = pd.DataFrame(pca_samples)\n",
    "ps.head()"
   ]
  },
  {
   "cell_type": "code",
   "execution_count": 13,
   "metadata": {},
   "outputs": [
    {
     "data": {
      "text/plain": [
       "18000"
      ]
     },
     "execution_count": 13,
     "metadata": {},
     "output_type": "execute_result"
    }
   ],
   "source": [
    "len(ps)"
   ]
  },
  {
   "cell_type": "code",
   "execution_count": 14,
   "metadata": {},
   "outputs": [
    {
     "data": {
      "text/plain": [
       "1000"
      ]
     },
     "execution_count": 14,
     "metadata": {},
     "output_type": "execute_result"
    }
   ],
   "source": [
    "len(ps.columns)"
   ]
  },
  {
   "cell_type": "code",
   "execution_count": 15,
   "metadata": {},
   "outputs": [],
   "source": [
    "X = ps"
   ]
  },
  {
   "cell_type": "markdown",
   "metadata": {},
   "source": [
    "Separando os dados em dados de treino e teste"
   ]
  },
  {
   "cell_type": "code",
   "execution_count": 16,
   "metadata": {},
   "outputs": [],
   "source": [
    "x_treino, x_teste, y_treino, y_teste = train_test_split(X, y, test_size=0.2, random_state=7)"
   ]
  },
  {
   "cell_type": "markdown",
   "metadata": {},
   "source": [
    "---"
   ]
  },
  {
   "cell_type": "markdown",
   "metadata": {},
   "source": [
    "## Treinamento"
   ]
  },
  {
   "cell_type": "markdown",
   "metadata": {},
   "source": [
    "### Random Forest"
   ]
  },
  {
   "cell_type": "code",
   "execution_count": 17,
   "metadata": {},
   "outputs": [],
   "source": [
    "def classificador(x_treino: np.array, y_treino: np.array, x_teste: np.array, y_teste: np.array):\n",
    "    '''\n",
    "        Treina um classificador com os melhores parametros possíveis.\n",
    "        \n",
    "        Params\n",
    "        ------\n",
    "        :x_treino: dados de treino\n",
    "        :x_teste: dados de teste\n",
    "        :y_treino: dados de treino -labels\n",
    "        :y_teste: dados de treino - labels\n",
    "    \n",
    "        Return\n",
    "        ------\n",
    "        :RF: Modelo Random Forest treinado\n",
    "        :resultados (matrix): métricas\n",
    "    '''\n",
    "    \n",
    "    logger.info('Instanciando Random Forest')\n",
    "    \n",
    "    RF = OneVsRestClassifier(RandomForestClassifier(n_jobs= 1, n_estimators= 100, min_samples_leaf= 1))\n",
    "       \n",
    "    logger.info('Treinando Random Forest')\n",
    "    RF.fit(x_treino, y_treino)\n",
    "    \n",
    "    logger.info('Predict')\n",
    "    p = RF.predict_proba(x_teste)[:, 1]\n",
    "    categorias = RF.predict(x_teste)\n",
    "    \n",
    "    logger.info('Métricas: \\n \\n')\n",
    "    \n",
    "    logger.info('Acurácia')\n",
    "    acc = accuracy_score(y_teste, categorias)\n",
    "    print(OKCYAN, \"Acc \\n\" + str(acc) + \"\\n\")\n",
    "    \n",
    "    logger.info(\"Mcc\")\n",
    "    mcc = matthews_corrcoef(y_teste, categorias)\n",
    "    print(WARNING, \"Mcc \\n\" + str(mcc) + \"\\n\")\n",
    "    \n",
    "    logger.info(\"F1\")\n",
    "    f1 = f1_score(y_teste, categorias, average=\"weighted\")\n",
    "    print(GREEN, \"F1 \\n\" + str(f1) + \"\\n\")\n",
    "    \n",
    "    logger.info('Class Report')\n",
    "    resultados = classification_report(y_teste, categorias)\n",
    "    print(ENDC, \"Class Report \\n\" + resultados + \"\\n\")\n",
    "    \n",
    "    mat = confusion_matrix(y_teste, categorias)\n",
    "    sns.heatmap(mat.T, square=True, annot=True, fmt='d', cbar=False)\n",
    "    plt.xlabel('true label')\n",
    "    plt.ylabel('predicted label');\n",
    "       \n",
    "    return RF, resultados"
   ]
  },
  {
   "cell_type": "code",
   "execution_count": 18,
   "metadata": {},
   "outputs": [
    {
     "name": "stderr",
     "output_type": "stream",
     "text": [
      "SVM - INFO - [+] ------- Instanciando Random Forest -------\n",
      "SVM - INFO - [+] ------- Treinando Random Forest -------\n",
      "SVM - INFO - [+] ------- Predict -------\n",
      "SVM - INFO - [+] ------- Métricas: \n",
      " \n",
      " -------\n",
      "SVM - INFO - [+] ------- Acurácia -------\n",
      "SVM - INFO - [+] ------- Mcc -------\n",
      "SVM - INFO - [+] ------- F1 -------\n",
      "SVM - INFO - [+] ------- Class Report -------\n",
      "SVM - INFO - [+] ------- Ok -------\n",
      "SVM - INFO - [+] ------- Treino finalizado -------\n"
     ]
    },
    {
     "name": "stdout",
     "output_type": "stream",
     "text": [
      "\u001b[96m Acc \n",
      "0.6861111111111111\n",
      "\n",
      "\u001b[93m Mcc \n",
      "0.5830830897360848\n",
      "\n",
      "\u001b[1;32m F1 \n",
      "0.6873571813993828\n",
      "\n",
      "\u001b[0m Class Report \n",
      "              precision    recall  f1-score   support\n",
      "\n",
      "           1       0.67      0.67      0.67       865\n",
      "           2       0.60      0.73      0.66       890\n",
      "           3       0.75      0.69      0.72       945\n",
      "           4       0.74      0.66      0.70       900\n",
      "\n",
      "    accuracy                           0.69      3600\n",
      "   macro avg       0.69      0.69      0.69      3600\n",
      "weighted avg       0.69      0.69      0.69      3600\n",
      "\n",
      "\n",
      "CPU times: user 4min 1s, sys: 0 ns, total: 4min 1s\n",
      "Wall time: 4min 1s\n"
     ]
    },
    {
     "data": {
      "image/png": "[encoded data removed]",
      "text/plain": [
       "<Figure size 432x288 with 1 Axes>"
      ]
     },
     "metadata": {
      "needs_background": "light"
     },
     "output_type": "display_data"
    }
   ],
   "source": [
    "%%time\n",
    "\n",
    "try:\n",
    "    RF_cbow, resultados = classificador(\n",
    "                        x_treino,\n",
    "                        y_treino,\n",
    "                        x_teste,\n",
    "                        y_teste)\n",
    "\n",
    "except Exception as error:\n",
    "    logger.warning('Aconteceu algum problema...')\n",
    "    logger.critical(error)\n",
    "\n",
    "else:\n",
    "    logger.info('Ok')\n",
    "    \n",
    "finally:\n",
    "    logger.info('Treino finalizado')"
   ]
  },
  {
   "cell_type": "code",
   "execution_count": 19,
   "metadata": {},
   "outputs": [
    {
     "data": {
      "text/plain": [
       "'              precision    recall  f1-score   support\\n\\n           1       0.67      0.67      0.67       865\\n           2       0.60      0.73      0.66       890\\n           3       0.75      0.69      0.72       945\\n           4       0.74      0.66      0.70       900\\n\\n    accuracy                           0.69      3600\\n   macro avg       0.69      0.69      0.69      3600\\nweighted avg       0.69      0.69      0.69      3600\\n'"
      ]
     },
     "execution_count": 19,
     "metadata": {},
     "output_type": "execute_result"
    }
   ],
   "source": [
    "print(resultados)"
   ]
  },
  {
   "cell_type": "markdown",
   "metadata": {},
   "source": [
    "---"
   ]
  },
  {
   "cell_type": "markdown",
   "metadata": {},
   "source": [
    "#### Exportando modelo"
   ]
  },
  {
   "cell_type": "code",
   "execution_count": 21,
   "metadata": {},
   "outputs": [],
   "source": [
    "pkl.dump(RF_cbow, open('modelos/rf_dados_FEM_10_voluntarios_c_semanas_15_sinais_noout.pkl', 'wb'))"
   ]
  },
  {
   "cell_type": "code",
   "execution_count": null,
   "metadata": {},
   "outputs": [],
   "source": []
  }
 ],
 "metadata": {
  "kernelspec": {
   "display_name": "Python 3 (ipykernel)",
   "language": "python",
   "name": "python3"
  },
  "language_info": {
   "codemirror_mode": {
    "name": "ipython",
    "version": 3
   },
   "file_extension": ".py",
   "mimetype": "text/x-python",
   "name": "python",
   "nbconvert_exporter": "python",
   "pygments_lexer": "ipython3",
   "version": "3.8.10"
  }
 },
 "nbformat": 4,
 "nbformat_minor": 4
}
