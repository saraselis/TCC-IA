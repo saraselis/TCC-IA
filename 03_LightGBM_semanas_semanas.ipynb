{
 "cells": [
  {
   "cell_type": "markdown",
   "metadata": {},
   "source": [
    "# <b style='color:gold;'> LightLGBM </b>\n",
    "* Este Jupyter tem como função treinar um `LightLGBM` com os melhores parametros determinados por um `scikit-optimize`"
   ]
  },
  {
   "cell_type": "markdown",
   "metadata": {},
   "source": [
    "---"
   ]
  },
  {
   "cell_type": "markdown",
   "metadata": {},
   "source": [
    "Bibliotecas/Módulos"
   ]
  },
  {
   "cell_type": "markdown",
   "metadata": {},
   "source": [
    "<details>    \n",
    "<summary>\n",
    "    <font size=\"3\" color=\"magenta\"><b>Install</b></font>\n",
    "</summary>\n",
    "<p>\n",
    "<ul>\n",
    "    <li> !pip install lightgbm</li>\n",
    "    <li> !pip install scikit-optimize </li>\n",
    "\n",
    "</ul>\n",
    "</p>"
   ]
  },
  {
   "cell_type": "code",
   "execution_count": 2,
   "metadata": {},
   "outputs": [],
   "source": [
    "%%capture\n",
    "\n",
    "!pip install lightgbm scikit-optimize"
   ]
  },
  {
   "cell_type": "code",
   "execution_count": 1,
   "metadata": {},
   "outputs": [],
   "source": [
    "import logging\n",
    "import numpy as np\n",
    "import pandas as pd\n",
    "import sys\n",
    "from lightgbm import LGBMClassifier\n",
    "# from sklearn.externals import joblib\n",
    "from sklearn.metrics import roc_auc_score, average_precision_score, accuracy_score, matthews_corrcoef, classification_report, f1_score, confusion_matrix\n",
    "from skopt import forest_minimize\n",
    "from sklearn.model_selection import train_test_split\n",
    "from sklearn.multiclass import OneVsRestClassifier"
   ]
  },
  {
   "cell_type": "markdown",
   "metadata": {},
   "source": [
    "Configurações dos logs"
   ]
  },
  {
   "cell_type": "code",
   "execution_count": 2,
   "metadata": {},
   "outputs": [],
   "source": [
    "logger = logging.getLogger(\"SVM\")\n",
    "logger.setLevel(logging.DEBUG)\n",
    "handler = logging.StreamHandler(sys.stderr)\n",
    "formatter = logging.Formatter('%(name)s - %(levelname)s - [+] ------- %(message)s -------') \n",
    "handler.setFormatter(formatter)\n",
    "logger.handlers = [handler]"
   ]
  },
  {
   "cell_type": "markdown",
   "metadata": {},
   "source": [
    "Cores"
   ]
  },
  {
   "cell_type": "code",
   "execution_count": 3,
   "metadata": {},
   "outputs": [],
   "source": [
    "RED = \"\\033[1;31m\"\n",
    "BLUE = \"\\033[1;34m\"\n",
    "GREEN = \"\\033[1;32m\"\n",
    "PINK = \"\\033[1;45m\"\n",
    "HEADER = '\\033[95m'\n",
    "OKBLUE = '\\033[94m'\n",
    "OKCYAN = '\\033[96m'\n",
    "OKGREEN = '\\033[92m'\n",
    "WARNING = '\\033[93m'\n",
    "FAIL = '\\033[91m'\n",
    "ENDC = '\\033[0m'\n",
    "BOLD = '\\033[1m'\n",
    "UNDERLINE = '\\033[4m'\n",
    "MAG = \"\\033[1;45m\""
   ]
  },
  {
   "cell_type": "markdown",
   "metadata": {},
   "source": [
    "---"
   ]
  },
  {
   "cell_type": "code",
   "execution_count": 4,
   "metadata": {},
   "outputs": [],
   "source": [
    "df = pd.read_csv(\"dados_FEM_10_voluntarios_c_semanas.csv\")"
   ]
  },
  {
   "cell_type": "code",
   "execution_count": 5,
   "metadata": {},
   "outputs": [
    {
     "data": {
      "text/html": [
       "<div>\n",
       "<style scoped>\n",
       "    .dataframe tbody tr th:only-of-type {\n",
       "        vertical-align: middle;\n",
       "    }\n",
       "\n",
       "    .dataframe tbody tr th {\n",
       "        vertical-align: top;\n",
       "    }\n",
       "\n",
       "    .dataframe thead th {\n",
       "        text-align: right;\n",
       "    }\n",
       "</style>\n",
       "<table border=\"1\" class=\"dataframe\">\n",
       "  <thead>\n",
       "    <tr style=\"text-align: right;\">\n",
       "      <th></th>\n",
       "      <th>0</th>\n",
       "      <th>1</th>\n",
       "      <th>2</th>\n",
       "      <th>3</th>\n",
       "      <th>4</th>\n",
       "      <th>5</th>\n",
       "      <th>6</th>\n",
       "      <th>7</th>\n",
       "      <th>8</th>\n",
       "      <th>9</th>\n",
       "      <th>...</th>\n",
       "      <th>1992</th>\n",
       "      <th>1993</th>\n",
       "      <th>1994</th>\n",
       "      <th>1995</th>\n",
       "      <th>1996</th>\n",
       "      <th>1997</th>\n",
       "      <th>1998</th>\n",
       "      <th>1999</th>\n",
       "      <th>label</th>\n",
       "      <th>semana</th>\n",
       "    </tr>\n",
       "  </thead>\n",
       "  <tbody>\n",
       "    <tr>\n",
       "      <th>30647</th>\n",
       "      <td>0</td>\n",
       "      <td>1</td>\n",
       "      <td>0</td>\n",
       "      <td>-2</td>\n",
       "      <td>-3</td>\n",
       "      <td>-1</td>\n",
       "      <td>0</td>\n",
       "      <td>-1</td>\n",
       "      <td>-3</td>\n",
       "      <td>-2</td>\n",
       "      <td>...</td>\n",
       "      <td>0</td>\n",
       "      <td>-1</td>\n",
       "      <td>-2</td>\n",
       "      <td>-5</td>\n",
       "      <td>-4</td>\n",
       "      <td>-5</td>\n",
       "      <td>-5</td>\n",
       "      <td>-5</td>\n",
       "      <td>1</td>\n",
       "      <td>4</td>\n",
       "    </tr>\n",
       "  </tbody>\n",
       "</table>\n",
       "<p>1 rows × 2002 columns</p>\n",
       "</div>"
      ],
      "text/plain": [
       "       0  1  2  3  4  5  6  7  8  9  ...  1992  1993  1994  1995  1996  1997  \\\n",
       "30647  0  1  0 -2 -3 -1  0 -1 -3 -2  ...     0    -1    -2    -5    -4    -5   \n",
       "\n",
       "       1998  1999  label  semana  \n",
       "30647    -5    -5      1       4  \n",
       "\n",
       "[1 rows x 2002 columns]"
      ]
     },
     "execution_count": 5,
     "metadata": {},
     "output_type": "execute_result"
    }
   ],
   "source": [
    "df.sample()"
   ]
  },
  {
   "cell_type": "code",
   "execution_count": 6,
   "metadata": {},
   "outputs": [
    {
     "data": {
      "text/plain": [
       "38400"
      ]
     },
     "execution_count": 6,
     "metadata": {},
     "output_type": "execute_result"
    }
   ],
   "source": [
    "len(df)"
   ]
  },
  {
   "cell_type": "code",
   "execution_count": 7,
   "metadata": {},
   "outputs": [
    {
     "data": {
      "text/plain": [
       "2002"
      ]
     },
     "execution_count": 7,
     "metadata": {},
     "output_type": "execute_result"
    }
   ],
   "source": [
    "len(df.columns)"
   ]
  },
  {
   "cell_type": "markdown",
   "metadata": {},
   "source": [
    "---"
   ]
  },
  {
   "cell_type": "code",
   "execution_count": 8,
   "metadata": {},
   "outputs": [],
   "source": [
    "y = df[\"semana\"]"
   ]
  },
  {
   "cell_type": "code",
   "execution_count": 9,
   "metadata": {},
   "outputs": [],
   "source": [
    "df = df.drop([\"semana\"], axis=1)"
   ]
  },
  {
   "cell_type": "code",
   "execution_count": 10,
   "metadata": {},
   "outputs": [],
   "source": [
    "from sklearn.decomposition import PCA"
   ]
  },
  {
   "cell_type": "code",
   "execution_count": 11,
   "metadata": {},
   "outputs": [],
   "source": [
    "pca = PCA(n_components=1000)"
   ]
  },
  {
   "cell_type": "code",
   "execution_count": 12,
   "metadata": {},
   "outputs": [
    {
     "data": {
      "text/html": [
       "<style>#sk-container-id-1 {color: black;background-color: white;}#sk-container-id-1 pre{padding: 0;}#sk-container-id-1 div.sk-toggleable {background-color: white;}#sk-container-id-1 label.sk-toggleable__label {cursor: pointer;display: block;width: 100%;margin-bottom: 0;padding: 0.3em;box-sizing: border-box;text-align: center;}#sk-container-id-1 label.sk-toggleable__label-arrow:before {content: \"▸\";float: left;margin-right: 0.25em;color: #696969;}#sk-container-id-1 label.sk-toggleable__label-arrow:hover:before {color: black;}#sk-container-id-1 div.sk-estimator:hover label.sk-toggleable__label-arrow:before {color: black;}#sk-container-id-1 div.sk-toggleable__content {max-height: 0;max-width: 0;overflow: hidden;text-align: left;background-color: #f0f8ff;}#sk-container-id-1 div.sk-toggleable__content pre {margin: 0.2em;color: black;border-radius: 0.25em;background-color: #f0f8ff;}#sk-container-id-1 input.sk-toggleable__control:checked~div.sk-toggleable__content {max-height: 200px;max-width: 100%;overflow: auto;}#sk-container-id-1 input.sk-toggleable__control:checked~label.sk-toggleable__label-arrow:before {content: \"▾\";}#sk-container-id-1 div.sk-estimator input.sk-toggleable__control:checked~label.sk-toggleable__label {background-color: #d4ebff;}#sk-container-id-1 div.sk-label input.sk-toggleable__control:checked~label.sk-toggleable__label {background-color: #d4ebff;}#sk-container-id-1 input.sk-hidden--visually {border: 0;clip: rect(1px 1px 1px 1px);clip: rect(1px, 1px, 1px, 1px);height: 1px;margin: -1px;overflow: hidden;padding: 0;position: absolute;width: 1px;}#sk-container-id-1 div.sk-estimator {font-family: monospace;background-color: #f0f8ff;border: 1px dotted black;border-radius: 0.25em;box-sizing: border-box;margin-bottom: 0.5em;}#sk-container-id-1 div.sk-estimator:hover {background-color: #d4ebff;}#sk-container-id-1 div.sk-parallel-item::after {content: \"\";width: 100%;border-bottom: 1px solid gray;flex-grow: 1;}#sk-container-id-1 div.sk-label:hover label.sk-toggleable__label {background-color: #d4ebff;}#sk-container-id-1 div.sk-serial::before {content: \"\";position: absolute;border-left: 1px solid gray;box-sizing: border-box;top: 0;bottom: 0;left: 50%;z-index: 0;}#sk-container-id-1 div.sk-serial {display: flex;flex-direction: column;align-items: center;background-color: white;padding-right: 0.2em;padding-left: 0.2em;position: relative;}#sk-container-id-1 div.sk-item {position: relative;z-index: 1;}#sk-container-id-1 div.sk-parallel {display: flex;align-items: stretch;justify-content: center;background-color: white;position: relative;}#sk-container-id-1 div.sk-item::before, #sk-container-id-1 div.sk-parallel-item::before {content: \"\";position: absolute;border-left: 1px solid gray;box-sizing: border-box;top: 0;bottom: 0;left: 50%;z-index: -1;}#sk-container-id-1 div.sk-parallel-item {display: flex;flex-direction: column;z-index: 1;position: relative;background-color: white;}#sk-container-id-1 div.sk-parallel-item:first-child::after {align-self: flex-end;width: 50%;}#sk-container-id-1 div.sk-parallel-item:last-child::after {align-self: flex-start;width: 50%;}#sk-container-id-1 div.sk-parallel-item:only-child::after {width: 0;}#sk-container-id-1 div.sk-dashed-wrapped {border: 1px dashed gray;margin: 0 0.4em 0.5em 0.4em;box-sizing: border-box;padding-bottom: 0.4em;background-color: white;}#sk-container-id-1 div.sk-label label {font-family: monospace;font-weight: bold;display: inline-block;line-height: 1.2em;}#sk-container-id-1 div.sk-label-container {text-align: center;}#sk-container-id-1 div.sk-container {/* jupyter's `normalize.less` sets `[hidden] { display: none; }` but bootstrap.min.css set `[hidden] { display: none !important; }` so we also need the `!important` here to be able to override the default hidden behavior on the sphinx rendered scikit-learn.org. See: https://github.com/scikit-learn/scikit-learn/issues/21755 */display: inline-block !important;position: relative;}#sk-container-id-1 div.sk-text-repr-fallback {display: none;}</style><div id=\"sk-container-id-1\" class=\"sk-top-container\"><div class=\"sk-text-repr-fallback\"><pre>PCA(n_components=1000)</pre><b>In a Jupyter environment, please rerun this cell to show the HTML representation or trust the notebook. <br />On GitHub, the HTML representation is unable to render, please try loading this page with nbviewer.org.</b></div><div class=\"sk-container\" hidden><div class=\"sk-item\"><div class=\"sk-estimator sk-toggleable\"><input class=\"sk-toggleable__control sk-hidden--visually\" id=\"sk-estimator-id-1\" type=\"checkbox\" checked><label for=\"sk-estimator-id-1\" class=\"sk-toggleable__label sk-toggleable__label-arrow\">PCA</label><div class=\"sk-toggleable__content\"><pre>PCA(n_components=1000)</pre></div></div></div></div></div>"
      ],
      "text/plain": [
       "PCA(n_components=1000)"
      ]
     },
     "execution_count": 12,
     "metadata": {},
     "output_type": "execute_result"
    }
   ],
   "source": [
    "pca.fit(df)"
   ]
  },
  {
   "cell_type": "code",
   "execution_count": 13,
   "metadata": {},
   "outputs": [
    {
     "name": "stdout",
     "output_type": "stream",
     "text": [
      "CPU times: user 38.7 s, sys: 15.5 s, total: 54.2 s\n",
      "Wall time: 4.54 s\n"
     ]
    }
   ],
   "source": [
    "%%time\n",
    "\n",
    "pca_samples = pca.transform(df)"
   ]
  },
  {
   "cell_type": "code",
   "execution_count": 14,
   "metadata": {},
   "outputs": [
    {
     "data": {
      "text/html": [
       "<div>\n",
       "<style scoped>\n",
       "    .dataframe tbody tr th:only-of-type {\n",
       "        vertical-align: middle;\n",
       "    }\n",
       "\n",
       "    .dataframe tbody tr th {\n",
       "        vertical-align: top;\n",
       "    }\n",
       "\n",
       "    .dataframe thead th {\n",
       "        text-align: right;\n",
       "    }\n",
       "</style>\n",
       "<table border=\"1\" class=\"dataframe\">\n",
       "  <thead>\n",
       "    <tr style=\"text-align: right;\">\n",
       "      <th></th>\n",
       "      <th>0</th>\n",
       "      <th>1</th>\n",
       "      <th>2</th>\n",
       "      <th>3</th>\n",
       "      <th>4</th>\n",
       "      <th>5</th>\n",
       "      <th>6</th>\n",
       "      <th>7</th>\n",
       "      <th>8</th>\n",
       "      <th>9</th>\n",
       "      <th>...</th>\n",
       "      <th>990</th>\n",
       "      <th>991</th>\n",
       "      <th>992</th>\n",
       "      <th>993</th>\n",
       "      <th>994</th>\n",
       "      <th>995</th>\n",
       "      <th>996</th>\n",
       "      <th>997</th>\n",
       "      <th>998</th>\n",
       "      <th>999</th>\n",
       "    </tr>\n",
       "  </thead>\n",
       "  <tbody>\n",
       "    <tr>\n",
       "      <th>0</th>\n",
       "      <td>-627.251083</td>\n",
       "      <td>30.568203</td>\n",
       "      <td>16.833665</td>\n",
       "      <td>69.195151</td>\n",
       "      <td>12.280706</td>\n",
       "      <td>-94.428158</td>\n",
       "      <td>-123.645087</td>\n",
       "      <td>-20.408368</td>\n",
       "      <td>-42.381539</td>\n",
       "      <td>-5.982082</td>\n",
       "      <td>...</td>\n",
       "      <td>-35.306267</td>\n",
       "      <td>12.934203</td>\n",
       "      <td>-15.954227</td>\n",
       "      <td>27.322736</td>\n",
       "      <td>13.912132</td>\n",
       "      <td>-30.681279</td>\n",
       "      <td>-20.885300</td>\n",
       "      <td>-45.839703</td>\n",
       "      <td>-22.655295</td>\n",
       "      <td>31.701072</td>\n",
       "    </tr>\n",
       "    <tr>\n",
       "      <th>1</th>\n",
       "      <td>-629.120229</td>\n",
       "      <td>66.765675</td>\n",
       "      <td>30.657207</td>\n",
       "      <td>50.077044</td>\n",
       "      <td>-0.233826</td>\n",
       "      <td>-121.839505</td>\n",
       "      <td>-76.846392</td>\n",
       "      <td>-22.002857</td>\n",
       "      <td>-42.243671</td>\n",
       "      <td>-17.205990</td>\n",
       "      <td>...</td>\n",
       "      <td>-41.392834</td>\n",
       "      <td>7.395670</td>\n",
       "      <td>-3.973416</td>\n",
       "      <td>25.327145</td>\n",
       "      <td>14.767522</td>\n",
       "      <td>-38.536509</td>\n",
       "      <td>-21.293074</td>\n",
       "      <td>-40.867514</td>\n",
       "      <td>-25.117885</td>\n",
       "      <td>27.328072</td>\n",
       "    </tr>\n",
       "    <tr>\n",
       "      <th>2</th>\n",
       "      <td>-643.068394</td>\n",
       "      <td>92.164941</td>\n",
       "      <td>33.187273</td>\n",
       "      <td>16.964413</td>\n",
       "      <td>-0.983939</td>\n",
       "      <td>-154.585766</td>\n",
       "      <td>-34.821368</td>\n",
       "      <td>-23.286663</td>\n",
       "      <td>-36.066578</td>\n",
       "      <td>-37.748962</td>\n",
       "      <td>...</td>\n",
       "      <td>-46.023858</td>\n",
       "      <td>10.378500</td>\n",
       "      <td>10.937307</td>\n",
       "      <td>15.779199</td>\n",
       "      <td>22.172475</td>\n",
       "      <td>-26.632457</td>\n",
       "      <td>-1.585979</td>\n",
       "      <td>-37.204049</td>\n",
       "      <td>-15.152859</td>\n",
       "      <td>7.208884</td>\n",
       "    </tr>\n",
       "    <tr>\n",
       "      <th>3</th>\n",
       "      <td>-640.528456</td>\n",
       "      <td>112.703774</td>\n",
       "      <td>31.838080</td>\n",
       "      <td>2.859316</td>\n",
       "      <td>-7.447007</td>\n",
       "      <td>-173.481431</td>\n",
       "      <td>4.946170</td>\n",
       "      <td>-27.813234</td>\n",
       "      <td>-23.105233</td>\n",
       "      <td>-52.269841</td>\n",
       "      <td>...</td>\n",
       "      <td>-39.156055</td>\n",
       "      <td>9.666620</td>\n",
       "      <td>34.463056</td>\n",
       "      <td>11.133124</td>\n",
       "      <td>14.776412</td>\n",
       "      <td>-9.057023</td>\n",
       "      <td>8.878949</td>\n",
       "      <td>-31.782318</td>\n",
       "      <td>-4.172921</td>\n",
       "      <td>1.224581</td>\n",
       "    </tr>\n",
       "    <tr>\n",
       "      <th>4</th>\n",
       "      <td>-614.980940</td>\n",
       "      <td>109.588646</td>\n",
       "      <td>42.609763</td>\n",
       "      <td>-11.987130</td>\n",
       "      <td>-12.145190</td>\n",
       "      <td>-181.041460</td>\n",
       "      <td>30.963179</td>\n",
       "      <td>-33.286936</td>\n",
       "      <td>-12.361197</td>\n",
       "      <td>-72.572084</td>\n",
       "      <td>...</td>\n",
       "      <td>-22.934892</td>\n",
       "      <td>3.904587</td>\n",
       "      <td>44.722021</td>\n",
       "      <td>5.805603</td>\n",
       "      <td>3.629181</td>\n",
       "      <td>12.970280</td>\n",
       "      <td>11.071929</td>\n",
       "      <td>-22.326151</td>\n",
       "      <td>5.289277</td>\n",
       "      <td>-0.522228</td>\n",
       "    </tr>\n",
       "  </tbody>\n",
       "</table>\n",
       "<p>5 rows × 1000 columns</p>\n",
       "</div>"
      ],
      "text/plain": [
       "          0           1          2          3          4           5    \\\n",
       "0 -627.251083   30.568203  16.833665  69.195151  12.280706  -94.428158   \n",
       "1 -629.120229   66.765675  30.657207  50.077044  -0.233826 -121.839505   \n",
       "2 -643.068394   92.164941  33.187273  16.964413  -0.983939 -154.585766   \n",
       "3 -640.528456  112.703774  31.838080   2.859316  -7.447007 -173.481431   \n",
       "4 -614.980940  109.588646  42.609763 -11.987130 -12.145190 -181.041460   \n",
       "\n",
       "          6          7          8          9    ...        990        991  \\\n",
       "0 -123.645087 -20.408368 -42.381539  -5.982082  ... -35.306267  12.934203   \n",
       "1  -76.846392 -22.002857 -42.243671 -17.205990  ... -41.392834   7.395670   \n",
       "2  -34.821368 -23.286663 -36.066578 -37.748962  ... -46.023858  10.378500   \n",
       "3    4.946170 -27.813234 -23.105233 -52.269841  ... -39.156055   9.666620   \n",
       "4   30.963179 -33.286936 -12.361197 -72.572084  ... -22.934892   3.904587   \n",
       "\n",
       "         992        993        994        995        996        997  \\\n",
       "0 -15.954227  27.322736  13.912132 -30.681279 -20.885300 -45.839703   \n",
       "1  -3.973416  25.327145  14.767522 -38.536509 -21.293074 -40.867514   \n",
       "2  10.937307  15.779199  22.172475 -26.632457  -1.585979 -37.204049   \n",
       "3  34.463056  11.133124  14.776412  -9.057023   8.878949 -31.782318   \n",
       "4  44.722021   5.805603   3.629181  12.970280  11.071929 -22.326151   \n",
       "\n",
       "         998        999  \n",
       "0 -22.655295  31.701072  \n",
       "1 -25.117885  27.328072  \n",
       "2 -15.152859   7.208884  \n",
       "3  -4.172921   1.224581  \n",
       "4   5.289277  -0.522228  \n",
       "\n",
       "[5 rows x 1000 columns]"
      ]
     },
     "execution_count": 14,
     "metadata": {},
     "output_type": "execute_result"
    }
   ],
   "source": [
    "ps = pd.DataFrame(pca_samples)\n",
    "ps.head()"
   ]
  },
  {
   "cell_type": "code",
   "execution_count": 15,
   "metadata": {},
   "outputs": [
    {
     "data": {
      "text/plain": [
       "38400"
      ]
     },
     "execution_count": 15,
     "metadata": {},
     "output_type": "execute_result"
    }
   ],
   "source": [
    "len(ps)"
   ]
  },
  {
   "cell_type": "code",
   "execution_count": 16,
   "metadata": {},
   "outputs": [
    {
     "data": {
      "text/plain": [
       "1000"
      ]
     },
     "execution_count": 16,
     "metadata": {},
     "output_type": "execute_result"
    }
   ],
   "source": [
    "len(ps.columns)"
   ]
  },
  {
   "cell_type": "code",
   "execution_count": 17,
   "metadata": {},
   "outputs": [],
   "source": [
    "X = ps"
   ]
  },
  {
   "cell_type": "code",
   "execution_count": 18,
   "metadata": {},
   "outputs": [],
   "source": [
    "x_treino, x_teste, y_treino, y_teste = train_test_split(X, y, test_size=0.2, random_state=7)"
   ]
  },
  {
   "cell_type": "markdown",
   "metadata": {},
   "source": [
    "---"
   ]
  },
  {
   "cell_type": "markdown",
   "metadata": {},
   "source": [
    "### LGBM"
   ]
  },
  {
   "cell_type": "markdown",
   "metadata": {},
   "source": [
    "Instanciando"
   ]
  },
  {
   "cell_type": "code",
   "execution_count": null,
   "metadata": {},
   "outputs": [],
   "source": [
    "%%time\n",
    "\n",
    "mdl_lgbm = LGBMClassifier(random_state=0, class_weight=\"balanced\", n_jobs=2)\n",
    "mdl_lgbm.fit(x_treino, y_treino)"
   ]
  },
  {
   "cell_type": "markdown",
   "metadata": {},
   "source": [
    "Tuning do Lgbm"
   ]
  },
  {
   "cell_type": "code",
   "execution_count": null,
   "metadata": {},
   "outputs": [],
   "source": [
    "def tune_lgbm(params):\n",
    "    print(params)\n",
    "    lr = params[0]\n",
    "    max_depth = params[1]\n",
    "    min_child_samples = params[2]\n",
    "    subsample = params[3]\n",
    "    colsample_bytree = params[4]\n",
    "    n_estimators = params[5]\n",
    "    \n",
    "    min_df = params[6]\n",
    "    ngram_range = (1, params[7])\n",
    "    \n",
    "    logger.info('Instanciando')\n",
    "    mdl_tune = LGBMClassifier(learning_rate=lr, num_leaves=2 ** max_depth, max_depth=max_depth, \n",
    "                         min_child_samples=min_child_samples, subsample=subsample,\n",
    "                         colsample_bytree=colsample_bytree, bagging_freq=1,n_estimators=n_estimators, random_state=0, \n",
    "                         class_weight=\"balanced\", n_jobs=2)\n",
    "    \n",
    "    logger.info('Treinando')\n",
    "    mdl_tune.fit(x_treino, y_treino)\n",
    "    \n",
    "    logger.info('Predict')\n",
    "    p = mdl_tune.predict_proba(x_teste)[:, 1]\n",
    "    categorias = mdl_tune.predict(x_teste)\n",
    "    \n",
    "    print('Métricas: \\n \\n')\n",
    "    \n",
    "    logger.info('Acurácia')\n",
    "    acc = accuracy_score(y_teste, categorias)\n",
    "    print(OKCYAN, \"Acc \\n\" + str(acc) + \"\\n\")\n",
    "    \n",
    "    logger.info(\"Mcc\")\n",
    "    mcc = matthews_corrcoef(y_teste, categorias)\n",
    "    print(WARNING, \"Mcc \\n\" + str(mcc) + \"\\n\")\n",
    "    \n",
    "    logger.info(\"F1\")\n",
    "    f1 = f1_score(y_teste, categorias, average=\"weighted\")\n",
    "    print(GREEN, \"F1 \\n\" + str(f1) + \"\\n\")\n",
    "    \n",
    "    logger.info('Class Report')\n",
    "    resultados = classification_report(y_teste, categorias)\n",
    "    print(ENDC, \"Class Report \\n\" + resultados + \"\\n\")\n",
    "    \n",
    "    return -accuracy_score(y_teste, categorias)\n"
   ]
  },
  {
   "cell_type": "code",
   "execution_count": null,
   "metadata": {},
   "outputs": [],
   "source": [
    "space = [(1e-3, 1e-1, 'log-uniform'), # lr\n",
    "          (1, 10),                    # max_depth\n",
    "          (1, 20),                    # min_child_samples\n",
    "          (0.05, 1.),                 # subsample\n",
    "          (0.05, 1.),                 # colsample_bytree\n",
    "          (100,1000),                 # n_estimators\n",
    "          (1,5),                      # min_df\n",
    "          (1,5)]                      # ngram_range"
   ]
  },
  {
   "cell_type": "markdown",
   "metadata": {},
   "source": [
    "[0.009944912110647982, 5, 1, 0.4677107511929402, 0.49263223036174764, 272, 3, 1]"
   ]
  },
  {
   "cell_type": "code",
   "execution_count": null,
   "metadata": {
    "scrolled": true,
    "tags": []
   },
   "outputs": [],
   "source": [
    "%%time\n",
    "\n",
    "try:\n",
    "    res = forest_minimize(tune_lgbm, space, random_state=7, n_random_starts=20, n_calls=50, verbose=1)\n",
    "\n",
    "except Exception as error:\n",
    "    logger.warning('Aconteceu algum problema...')\n",
    "    logger.critical(error)\n",
    "\n",
    "else:\n",
    "    logger.info('Ok')\n",
    "    \n",
    "finally:\n",
    "    logger.info('Treino finalizado')"
   ]
  },
  {
   "cell_type": "code",
   "execution_count": null,
   "metadata": {
    "tags": []
   },
   "outputs": [],
   "source": [
    "res."
   ]
  },
  {
   "cell_type": "markdown",
   "metadata": {},
   "source": [
    " 2 voluntarias\n",
    " \n",
    " accuracy                           0.79      1536"
   ]
  },
  {
   "cell_type": "code",
   "execution_count": null,
   "metadata": {},
   "outputs": [],
   "source": [
    "res.x"
   ]
  },
  {
   "cell_type": "code",
   "execution_count": null,
   "metadata": {},
   "outputs": [],
   "source": []
  },
  {
   "cell_type": "code",
   "execution_count": 19,
   "metadata": {},
   "outputs": [
    {
     "name": "stderr",
     "output_type": "stream",
     "text": [
      "SVM - INFO - [+] ------- Instanciando -------\n",
      "SVM - INFO - [+] ------- Treinando -------\n",
      "SVM - INFO - [+] ------- Predict -------\n",
      "SVM - INFO - [+] ------- Acurácia -------\n",
      "SVM - INFO - [+] ------- Mcc -------\n",
      "SVM - INFO - [+] ------- F1 -------\n",
      "SVM - INFO - [+] ------- Class Report -------\n"
     ]
    },
    {
     "name": "stdout",
     "output_type": "stream",
     "text": [
      "Métricas: \n",
      " \n",
      "\n",
      "\u001b[96m Acc \n",
      "0.7046875\n",
      "\n",
      "\u001b[93m Mcc \n",
      "0.6068434191082591\n",
      "\n",
      "\u001b[1;32m F1 \n",
      "0.7050263696799471\n",
      "\n",
      "\u001b[0m Class Report \n",
      "              precision    recall  f1-score   support\n",
      "\n",
      "           1       0.71      0.70      0.71      1948\n",
      "           2       0.65      0.73      0.69      1932\n",
      "           3       0.74      0.71      0.72      1879\n",
      "           4       0.74      0.68      0.71      1921\n",
      "\n",
      "    accuracy                           0.70      7680\n",
      "   macro avg       0.71      0.70      0.71      7680\n",
      "weighted avg       0.71      0.70      0.71      7680\n",
      "\n",
      "\n"
     ]
    }
   ],
   "source": [
    "logger.info('Instanciando')\n",
    "mdl_tune = OneVsRestClassifier(LGBMClassifier(random_state=0, class_weight=\"balanced\", n_jobs=2))\n",
    "\n",
    "logger.info('Treinando')\n",
    "mdl_tune.fit(x_treino, y_treino)\n",
    "\n",
    "logger.info('Predict')\n",
    "p = mdl_tune.predict_proba(x_teste)[:, 1]\n",
    "categorias = mdl_tune.predict(x_teste)\n",
    "\n",
    "print('Métricas: \\n \\n')\n",
    "\n",
    "logger.info('Acurácia')\n",
    "acc = accuracy_score(y_teste, categorias)\n",
    "print(OKCYAN, \"Acc \\n\" + str(acc) + \"\\n\")\n",
    "\n",
    "logger.info(\"Mcc\")\n",
    "mcc = matthews_corrcoef(y_teste, categorias)\n",
    "print(WARNING, \"Mcc \\n\" + str(mcc) + \"\\n\")\n",
    "\n",
    "logger.info(\"F1\")\n",
    "f1 = f1_score(y_teste, categorias, average=\"weighted\")\n",
    "print(GREEN, \"F1 \\n\" + str(f1) + \"\\n\")\n",
    "\n",
    "logger.info('Class Report')\n",
    "resultados = classification_report(y_teste, categorias)\n",
    "print(ENDC, \"Class Report \\n\" + resultados + \"\\n\")"
   ]
  },
  {
   "cell_type": "code",
   "execution_count": null,
   "metadata": {},
   "outputs": [],
   "source": []
  }
 ],
 "metadata": {
  "kernelspec": {
   "display_name": "Python 3 (ipykernel)",
   "language": "python",
   "name": "python3"
  },
  "language_info": {
   "codemirror_mode": {
    "name": "ipython",
    "version": 3
   },
   "file_extension": ".py",
   "mimetype": "text/x-python",
   "name": "python",
   "nbconvert_exporter": "python",
   "pygments_lexer": "ipython3",
   "version": "3.8.10"
  }
 },
 "nbformat": 4,
 "nbformat_minor": 4
}
