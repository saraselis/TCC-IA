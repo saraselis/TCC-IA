{
 "cells": [
  {
   "cell_type": "markdown",
   "id": "ebac7ddc-db66-4775-a324-dd3f39d4445d",
   "metadata": {},
   "source": [
    "# Kmeans\n",
    "\n",
    "Implementação do Kmeans, abordagem não supervisionada."
   ]
  },
  {
   "cell_type": "markdown",
   "id": "3b11ca7a-5fdc-40cc-a59d-583be4a3e169",
   "metadata": {},
   "source": [
    "* Importando as bibliotecas"
   ]
  },
  {
   "cell_type": "code",
   "execution_count": 1,
   "id": "325b042e-a98b-4e26-b55d-1895f909f7b9",
   "metadata": {},
   "outputs": [],
   "source": [
    "import logging\n",
    "import numpy as np\n",
    "import pandas as pd\n",
    "import matplotlib.pyplot as plt\n",
    "\n",
    "from sklearn.cluster import KMeans\n",
    "from sklearn.decomposition import PCA\n",
    "\n",
    "from modules.best_params import best_params"
   ]
  },
  {
   "cell_type": "code",
   "execution_count": 2,
   "id": "ef4a2c6b-3b7a-443e-a86b-e384deb74103",
   "metadata": {},
   "outputs": [],
   "source": [
    "logger = logging.getLogger()\n",
    "logger.setLevel(logging.INFO)"
   ]
  },
  {
   "cell_type": "code",
   "execution_count": 3,
   "id": "61cc5c7b-7237-4f8a-9eac-7bd8b2dbc8ca",
   "metadata": {},
   "outputs": [],
   "source": [
    "dados = pd.read_csv('dados.csv')"
   ]
  },
  {
   "cell_type": "code",
   "execution_count": 4,
   "id": "0e2114f6-9af6-4f49-b94b-3678447dcd89",
   "metadata": {},
   "outputs": [
    {
     "data": {
      "text/html": [
       "<div>\n",
       "<style scoped>\n",
       "    .dataframe tbody tr th:only-of-type {\n",
       "        vertical-align: middle;\n",
       "    }\n",
       "\n",
       "    .dataframe tbody tr th {\n",
       "        vertical-align: top;\n",
       "    }\n",
       "\n",
       "    .dataframe thead th {\n",
       "        text-align: right;\n",
       "    }\n",
       "</style>\n",
       "<table border=\"1\" class=\"dataframe\">\n",
       "  <thead>\n",
       "    <tr style=\"text-align: right;\">\n",
       "      <th></th>\n",
       "      <th>0</th>\n",
       "      <th>1</th>\n",
       "      <th>2</th>\n",
       "      <th>3</th>\n",
       "      <th>4</th>\n",
       "      <th>5</th>\n",
       "      <th>6</th>\n",
       "      <th>7</th>\n",
       "      <th>8</th>\n",
       "      <th>9</th>\n",
       "      <th>...</th>\n",
       "      <th>1990</th>\n",
       "      <th>1991</th>\n",
       "      <th>1992</th>\n",
       "      <th>1993</th>\n",
       "      <th>1994</th>\n",
       "      <th>1995</th>\n",
       "      <th>1996</th>\n",
       "      <th>1997</th>\n",
       "      <th>1998</th>\n",
       "      <th>1999</th>\n",
       "    </tr>\n",
       "  </thead>\n",
       "  <tbody>\n",
       "    <tr>\n",
       "      <th>320</th>\n",
       "      <td>3</td>\n",
       "      <td>3</td>\n",
       "      <td>2</td>\n",
       "      <td>4</td>\n",
       "      <td>0</td>\n",
       "      <td>-3</td>\n",
       "      <td>2</td>\n",
       "      <td>7</td>\n",
       "      <td>-3</td>\n",
       "      <td>-1</td>\n",
       "      <td>...</td>\n",
       "      <td>6</td>\n",
       "      <td>-3</td>\n",
       "      <td>-3</td>\n",
       "      <td>1</td>\n",
       "      <td>0</td>\n",
       "      <td>4</td>\n",
       "      <td>12</td>\n",
       "      <td>-1</td>\n",
       "      <td>1</td>\n",
       "      <td>2</td>\n",
       "    </tr>\n",
       "  </tbody>\n",
       "</table>\n",
       "<p>1 rows × 2000 columns</p>\n",
       "</div>"
      ],
      "text/plain": [
       "     0  1  2  3  4  5  6  7  8  9  ...  1990  1991  1992  1993  1994  1995  \\\n",
       "320  3  3  2  4  0 -3  2  7 -3 -1  ...     6    -3    -3     1     0     4   \n",
       "\n",
       "     1996  1997  1998  1999  \n",
       "320    12    -1     1     2  \n",
       "\n",
       "[1 rows x 2000 columns]"
      ]
     },
     "execution_count": 4,
     "metadata": {},
     "output_type": "execute_result"
    }
   ],
   "source": [
    "dados.sample()"
   ]
  },
  {
   "cell_type": "markdown",
   "id": "ac62f471-0d7f-4400-9063-b3aae4e1b62a",
   "metadata": {},
   "source": [
    "* Aplicando PCA"
   ]
  },
  {
   "cell_type": "code",
   "execution_count": 6,
   "id": "735e4168-c217-45a2-8456-cdcfb93c357b",
   "metadata": {},
   "outputs": [],
   "source": [
    "pca = PCA(n_components=6)\n"
   ]
  },
  {
   "cell_type": "code",
   "execution_count": 7,
   "id": "2188475d-11d4-4c2f-960c-d8e4dad0494d",
   "metadata": {},
   "outputs": [
    {
     "data": {
      "text/plain": [
       "PCA(n_components=6)"
      ]
     },
     "execution_count": 7,
     "metadata": {},
     "output_type": "execute_result"
    }
   ],
   "source": [
    "pca.fit(dados)\n"
   ]
  },
  {
   "cell_type": "code",
   "execution_count": 8,
   "id": "75b76aa2-cd06-48f6-9fa5-6818046a9e83",
   "metadata": {},
   "outputs": [],
   "source": [
    "pca_samples = pca.transform(dados)"
   ]
  },
  {
   "cell_type": "code",
   "execution_count": 9,
   "id": "1dbc65ac-d7cb-468e-a722-61e448bb945c",
   "metadata": {},
   "outputs": [
    {
     "data": {
      "text/html": [
       "<div>\n",
       "<style scoped>\n",
       "    .dataframe tbody tr th:only-of-type {\n",
       "        vertical-align: middle;\n",
       "    }\n",
       "\n",
       "    .dataframe tbody tr th {\n",
       "        vertical-align: top;\n",
       "    }\n",
       "\n",
       "    .dataframe thead th {\n",
       "        text-align: right;\n",
       "    }\n",
       "</style>\n",
       "<table border=\"1\" class=\"dataframe\">\n",
       "  <thead>\n",
       "    <tr style=\"text-align: right;\">\n",
       "      <th></th>\n",
       "      <th>0</th>\n",
       "      <th>1</th>\n",
       "      <th>2</th>\n",
       "      <th>3</th>\n",
       "      <th>4</th>\n",
       "      <th>5</th>\n",
       "    </tr>\n",
       "  </thead>\n",
       "  <tbody>\n",
       "    <tr>\n",
       "      <th>0</th>\n",
       "      <td>179.304973</td>\n",
       "      <td>-1140.086125</td>\n",
       "      <td>-1580.416731</td>\n",
       "      <td>163.416696</td>\n",
       "      <td>-3249.128763</td>\n",
       "      <td>2560.345353</td>\n",
       "    </tr>\n",
       "    <tr>\n",
       "      <th>1</th>\n",
       "      <td>105.500318</td>\n",
       "      <td>-1331.125119</td>\n",
       "      <td>-1543.400834</td>\n",
       "      <td>455.576066</td>\n",
       "      <td>-3387.823401</td>\n",
       "      <td>3400.628900</td>\n",
       "    </tr>\n",
       "    <tr>\n",
       "      <th>2</th>\n",
       "      <td>18.098790</td>\n",
       "      <td>-1438.816977</td>\n",
       "      <td>-1335.367163</td>\n",
       "      <td>776.209083</td>\n",
       "      <td>-3394.520819</td>\n",
       "      <td>4063.394586</td>\n",
       "    </tr>\n",
       "    <tr>\n",
       "      <th>3</th>\n",
       "      <td>-95.883066</td>\n",
       "      <td>-1545.524907</td>\n",
       "      <td>-1088.593862</td>\n",
       "      <td>1149.213987</td>\n",
       "      <td>-3300.162426</td>\n",
       "      <td>4452.145180</td>\n",
       "    </tr>\n",
       "    <tr>\n",
       "      <th>4</th>\n",
       "      <td>-255.364475</td>\n",
       "      <td>-1701.601919</td>\n",
       "      <td>-855.514994</td>\n",
       "      <td>1587.611187</td>\n",
       "      <td>-3118.507584</td>\n",
       "      <td>4652.354468</td>\n",
       "    </tr>\n",
       "  </tbody>\n",
       "</table>\n",
       "</div>"
      ],
      "text/plain": [
       "            0            1            2            3            4            5\n",
       "0  179.304973 -1140.086125 -1580.416731   163.416696 -3249.128763  2560.345353\n",
       "1  105.500318 -1331.125119 -1543.400834   455.576066 -3387.823401  3400.628900\n",
       "2   18.098790 -1438.816977 -1335.367163   776.209083 -3394.520819  4063.394586\n",
       "3  -95.883066 -1545.524907 -1088.593862  1149.213987 -3300.162426  4452.145180\n",
       "4 -255.364475 -1701.601919  -855.514994  1587.611187 -3118.507584  4652.354468"
      ]
     },
     "execution_count": 9,
     "metadata": {},
     "output_type": "execute_result"
    }
   ],
   "source": [
    "ps = pd.DataFrame(pca_samples)\n",
    "ps.head()"
   ]
  },
  {
   "cell_type": "code",
   "execution_count": 10,
   "id": "ec14f314-6883-4d72-840e-35b08846c215",
   "metadata": {},
   "outputs": [],
   "source": [
    "np_df = ps.to_numpy()"
   ]
  },
  {
   "cell_type": "markdown",
   "id": "2211411c-2485-4ad9-860b-58d43826c9e1",
   "metadata": {},
   "source": [
    "Iniciando um modelo simples com apenas dois clusters que é o que queremos saber a princípio (se tem ou não tem fadiga muscular)."
   ]
  },
  {
   "cell_type": "code",
   "execution_count": 11,
   "id": "56ac43c1-3725-43ea-bfcb-bc4a390b483a",
   "metadata": {},
   "outputs": [],
   "source": [
    "kmeans = KMeans(init=\"random\",  n_clusters=2,  n_init=10, random_state=7)"
   ]
  },
  {
   "cell_type": "markdown",
   "id": "0df5b74e-6151-403f-88be-bd75a2c3ed15",
   "metadata": {},
   "source": [
    "Treinando o modelo"
   ]
  },
  {
   "cell_type": "code",
   "execution_count": 12,
   "id": "0bafe096-685d-4845-8600-297d82553cc7",
   "metadata": {},
   "outputs": [
    {
     "data": {
      "text/plain": [
       "KMeans(init='random', n_clusters=2, random_state=7)"
      ]
     },
     "execution_count": 12,
     "metadata": {},
     "output_type": "execute_result"
    }
   ],
   "source": [
    "kmeans.fit(np_df)"
   ]
  },
  {
   "cell_type": "markdown",
   "id": "e155a154-0864-4379-8252-a2be4926bb26",
   "metadata": {},
   "source": [
    "Obtendo os centroides dos clusters"
   ]
  },
  {
   "cell_type": "code",
   "execution_count": 13,
   "id": "c6d4388e-e082-43cd-b374-e52c107bf9aa",
   "metadata": {
    "tags": []
   },
   "outputs": [
    {
     "data": {
      "text/plain": [
       "array([[-4.62768570e+02,  3.65800289e+01, -5.35209255e+01,\n",
       "        -1.73045562e+01,  3.33737515e+00,  2.45955264e+01],\n",
       "       [ 6.94152855e+03, -5.48700434e+02,  8.02813883e+02,\n",
       "         2.59568343e+02, -5.00606272e+01, -3.68932896e+02]])"
      ]
     },
     "execution_count": 13,
     "metadata": {},
     "output_type": "execute_result"
    }
   ],
   "source": [
    "centers = kmeans.cluster_centers_\n",
    "centers"
   ]
  },
  {
   "cell_type": "markdown",
   "id": "af6390f1-95c9-4eb7-845b-ad7a851ef760",
   "metadata": {},
   "source": [
    "O gráfico abaixo mostra onde o modelo posicionou os centroides dos clusters do modelo com 2 clusters."
   ]
  },
  {
   "cell_type": "code",
   "execution_count": 14,
   "id": "e7dfaa23-62d6-4ada-902a-f8bb23e4d2b3",
   "metadata": {},
   "outputs": [
    {
     "data": {
      "image/png": "[encoded data removed]",
      "text/plain": [
       "<Figure size 432x288 with 1 Axes>"
      ]
     },
     "metadata": {
      "needs_background": "light"
     },
     "output_type": "display_data"
    }
   ],
   "source": [
    "plt.scatter(np_df[:, 0], np_df[:, 1],s=50, cmap='viridis')\n",
    "plt.scatter(centers[:, 0], centers[:, 1], c='black', s=200, alpha=0.5);"
   ]
  },
  {
   "cell_type": "markdown",
   "id": "7fb3a0f1-9f9e-4e55-9e26-d17c8cde3820",
   "metadata": {},
   "source": [
    "Descobrindo os melhores parâmetros para o modelo.\n",
    "Vamos usar o Random Search no lugar do Grid Search"
   ]
  },
  {
   "cell_type": "code",
   "execution_count": 15,
   "id": "7ba0447b-dc65-4d1e-808e-9444c60a1426",
   "metadata": {},
   "outputs": [],
   "source": [
    "values = {'init':['k-means++', 'random'], 'algorithm': ['elkan', 'auto', 'full']}"
   ]
  },
  {
   "cell_type": "code",
   "execution_count": 16,
   "id": "8cde558a-60fa-4ffe-873f-4d2f0943bac1",
   "metadata": {},
   "outputs": [],
   "source": [
    "clf = KMeans(n_clusters=2, random_state=7)"
   ]
  },
  {
   "cell_type": "code",
   "execution_count": 17,
   "id": "fed890fe-1817-4f78-b25c-2b06557e5bce",
   "metadata": {},
   "outputs": [
    {
     "name": "stderr",
     "output_type": "stream",
     "text": [
      "/home/saraselis/.local/lib/python3.8/site-packages/sklearn/model_selection/_search.py:292: UserWarning: The total space of parameters 6 is smaller than n_iter=300. Running 6 iterations. For exhaustive searches, use GridSearchCV.\n",
      "  warnings.warn(\n"
     ]
    },
    {
     "name": "stdout",
     "output_type": "stream",
     "text": [
      "Fitting 5 folds for each of 6 candidates, totalling 30 fits\n",
      "\u001b[1;31m {'cv': None, 'error_score': nan, 'estimator__algorithm': 'auto', 'estimator__copy_x': True, 'estimator__init': 'k-means++', 'estimator__max_iter': 300, 'estimator__n_clusters': 2, 'estimator__n_init': 10, 'estimator__random_state': 7, 'estimator__tol': 0.0001, 'estimator__verbose': 0, 'estimator': KMeans(n_clusters=2, random_state=7), 'n_iter': 300, 'n_jobs': None, 'param_distributions': {'init': ['k-means++', 'random'], 'algorithm': ['elkan', 'auto', 'full']}, 'pre_dispatch': '2*n_jobs', 'random_state': None, 'refit': True, 'return_train_score': False, 'scoring': None, 'verbose': 1}\n",
      "\u001b[1;34m {'init': 'random', 'algorithm': 'elkan'}\n",
      "CPU times: user 9.06 s, sys: 1.72 s, total: 10.8 s\n",
      "Wall time: 1.58 s\n"
     ]
    }
   ],
   "source": [
    "%%time\n",
    "\n",
    "try:\n",
    "    best, random_clf = best_params(values, clf, np_df, 300)\n",
    "\n",
    "except Exception as error:\n",
    "    logger.warning('Aconteceu algum problema...')\n",
    "    logger.critical(error)\n",
    "\n",
    "else:\n",
    "    logger.info('Ok')\n",
    "    \n",
    "finally:\n",
    "    logger.info('Busca finalizada')"
   ]
  },
  {
   "cell_type": "code",
   "execution_count": 18,
   "id": "baea8d7d-995f-443e-8e8e-8b8062a3ba4b",
   "metadata": {},
   "outputs": [
    {
     "data": {
      "text/plain": [
       "{'init': 'random', 'algorithm': 'elkan'}"
      ]
     },
     "execution_count": 18,
     "metadata": {},
     "output_type": "execute_result"
    }
   ],
   "source": [
    "best"
   ]
  },
  {
   "cell_type": "markdown",
   "id": "eae111cd-0f69-42d6-8417-4eeb062c8dda",
   "metadata": {},
   "source": [
    "Utilizando o método do cotovelo para tentar descobrir qual a melhor quantidade de clusters para o modelo.\n",
    "\n",
    "-> minimizar a inércia"
   ]
  },
  {
   "cell_type": "code",
   "execution_count": 86,
   "id": "e51c9d28-27e3-422c-b941-defcf3d7b750",
   "metadata": {},
   "outputs": [
    {
     "name": "stderr",
     "output_type": "stream",
     "text": [
      "/home/saraselis/.local/lib/python3.8/site-packages/sklearn/cluster/_kmeans.py:965: RuntimeWarning: algorithm='elkan' doesn't make sense for a single cluster. Using 'full' instead.\n",
      "  warnings.warn(\n"
     ]
    }
   ],
   "source": [
    "wcss=[]\n",
    "\n",
    "for i in range(1,11):\n",
    "    kmeans = KMeans(n_clusters= i, init='random', algorithm='elkan', random_state=7)\n",
    "    kmeans.fit(np_df)\n",
    "    wcss.append(kmeans.inertia_)"
   ]
  },
  {
   "cell_type": "code",
   "execution_count": 87,
   "id": "c3b10d98-40a6-4444-9a8b-c424f9a487d5",
   "metadata": {},
   "outputs": [
    {
     "data": {
      "image/png": "[encoded data removed]",
      "text/plain": [
       "<Figure size 432x288 with 1 Axes>"
      ]
     },
     "metadata": {
      "needs_background": "light"
     },
     "output_type": "display_data"
    }
   ],
   "source": [
    "plt.plot(range(1,11), wcss)\n",
    "plt.title('The Elbow Method')\n",
    "plt.xlabel('no of clusters')\n",
    "plt.ylabel('wcss')\n",
    "plt.show()"
   ]
  },
  {
   "cell_type": "code",
   "execution_count": 88,
   "id": "5686ee46-cdf2-45e5-961c-d331353eeb0d",
   "metadata": {},
   "outputs": [
    {
     "data": {
      "text/plain": [
       "6129322425.531116"
      ]
     },
     "execution_count": 88,
     "metadata": {},
     "output_type": "execute_result"
    }
   ],
   "source": [
    "kmeans.inertia_"
   ]
  },
  {
   "cell_type": "markdown",
   "id": "b1df6f0e-61fb-477b-a109-7406a83f3c92",
   "metadata": {},
   "source": [
    "# 😩"
   ]
  },
  {
   "cell_type": "markdown",
   "id": "33efb37e-2c3b-4337-b933-0d12227d10b6",
   "metadata": {},
   "source": [
    "Teste com 5 clusters"
   ]
  },
  {
   "cell_type": "code",
   "execution_count": 30,
   "id": "1d97baac-0b03-4006-b070-c924c4b069b3",
   "metadata": {},
   "outputs": [],
   "source": [
    "kmeans = KMeans(init=\"random\",  n_clusters=2, algorithm='elkan', random_state=7)"
   ]
  },
  {
   "cell_type": "code",
   "execution_count": 31,
   "id": "d4c959cd-aa7a-4914-91bd-d833b3d81fc2",
   "metadata": {},
   "outputs": [],
   "source": [
    "y_kmeans = kmeans.fit_predict(np_df)"
   ]
  },
  {
   "cell_type": "code",
   "execution_count": 32,
   "id": "250bea69-b322-425a-8eb8-e45767ab88ca",
   "metadata": {},
   "outputs": [
    {
     "data": {
      "image/png": "[encoded data removed]",
      "text/plain": [
       "<Figure size 432x288 with 1 Axes>"
      ]
     },
     "metadata": {
      "needs_background": "light"
     },
     "output_type": "display_data"
    }
   ],
   "source": [
    "plt.scatter(np_df[y_kmeans == 0, 0], np_df[y_kmeans == 0, 1], s = 100, c = 'red', label = 'Cluster 1')\n",
    "plt.scatter(np_df[y_kmeans == 1, 0], np_df[y_kmeans == 1, 1], s = 100, c = 'blue', label = 'Cluster 2')\n",
    "# plt.scatter(np_df[y_kmeans == 2, 0], np_df[y_kmeans == 2, 1], s = 100, c = 'green', label = 'Cluster 3')\n",
    "# plt.scatter(np_df[y_kmeans == 3, 0], np_df[y_kmeans == 3, 1], s = 100, c = 'cyan', label = 'Cluster 4')\n",
    "# plt.scatter(np_df[y_kmeans == 4, 0], np_df[y_kmeans == 4, 1], s = 100, c = 'magenta', label = 'Cluster 5')\n",
    "plt.scatter(kmeans.cluster_centers_[:, 0], kmeans.cluster_centers_[:, 1], s = 300, c = 'yellow', label = 'Centroids')\n",
    "# plt.title('Clusters of customers')\n",
    "# plt.xlabel('Annual Income (k$)')\n",
    "# plt.ylabel('Spending Score (1-100)')\n",
    "plt.legend()\n",
    "plt.show()"
   ]
  },
  {
   "cell_type": "markdown",
   "id": "bea270e7-f49e-490e-9e95-35d5aa4943f5",
   "metadata": {},
   "source": [
    "Podemos observar que os clusters se sobrepoem bastante, o modelo não está conseguindo realizar a separação dos dados."
   ]
  }
 ],
 "metadata": {
  "kernelspec": {
   "display_name": "Python 3 (ipykernel)",
   "language": "python",
   "name": "python3"
  },
  "language_info": {
   "codemirror_mode": {
    "name": "ipython",
    "version": 3
   },
   "file_extension": ".py",
   "mimetype": "text/x-python",
   "name": "python",
   "nbconvert_exporter": "python",
   "pygments_lexer": "ipython3",
   "version": "3.8.10"
  }
 },
 "nbformat": 4,
 "nbformat_minor": 5
}
